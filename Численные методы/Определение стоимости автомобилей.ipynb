{
 "cells": [
  {
   "cell_type": "markdown",
   "metadata": {},
   "source": [
    "# Определение стоимости автомобилей"
   ]
  },
  {
   "cell_type": "markdown",
   "metadata": {},
   "source": [
    "Сервис по продаже автомобилей с пробегом «Не бит, не крашен» разрабатывает приложение для привлечения новых клиентов. В нём можно быстро узнать рыночную стоимость своего автомобиля. В вашем распоряжении исторические данные: технические характеристики, комплектации и цены автомобилей. Вам нужно построить модель для определения стоимости. \n",
    "\n",
    "Заказчику важны:\n",
    "\n",
    "- качество предсказания;\n",
    "- скорость предсказания;\n",
    "- время обучения."
   ]
  },
  {
   "cell_type": "markdown",
   "metadata": {},
   "source": [
    "# Описание данных\n",
    "\n",
    "Данные находятся в файле /datasets/autos.csv.\n",
    "\n",
    "# Признаки\n",
    "\n",
    "DateCrawled — дата скачивания анкеты из базы\n",
    "\n",
    "VehicleType — тип автомобильного кузова\n",
    "\n",
    "RegistrationYear — год регистрации автомобиля\n",
    "\n",
    "Gearbox — тип коробки передач\n",
    "\n",
    "Power — мощность (л. с.)\n",
    "\n",
    "Model — модель автомобиля\n",
    "\n",
    "Kilometer — пробег (км)\n",
    "\n",
    "RegistrationMonth — месяц регистрации автомобиля\n",
    "\n",
    "FuelType — тип топлива\n",
    "\n",
    "Brand — марка автомобиля\n",
    "\n",
    "NotRepaired — была машина в ремонте или нет\n",
    "\n",
    "DateCreated — дата создания анкеты\n",
    "\n",
    "NumberOfPictures — количество фотографий автомобиля\n",
    "\n",
    "PostalCode — почтовый индекс владельца анкеты (пользователя)\n",
    "\n",
    "LastSeen — дата последней активности пользователя\n",
    "\n",
    "# Целевой признак:\n",
    "\n",
    "Price — цена (евро)"
   ]
  },
  {
   "cell_type": "markdown",
   "metadata": {},
   "source": [
    "## Подготовка данных"
   ]
  },
  {
   "cell_type": "code",
   "execution_count": 1,
   "metadata": {},
   "outputs": [
    {
     "name": "stdout",
     "output_type": "stream",
     "text": [
      "Информация о таблице:\n",
      "\n",
      "<class 'pandas.core.frame.DataFrame'>\n",
      "RangeIndex: 354369 entries, 0 to 354368\n",
      "Data columns (total 16 columns):\n",
      "DateCrawled          354369 non-null object\n",
      "Price                354369 non-null int64\n",
      "VehicleType          316879 non-null object\n",
      "RegistrationYear     354369 non-null int64\n",
      "Gearbox              334536 non-null object\n",
      "Power                354369 non-null int64\n",
      "Model                334664 non-null object\n",
      "Kilometer            354369 non-null int64\n",
      "RegistrationMonth    354369 non-null int64\n",
      "FuelType             321474 non-null object\n",
      "Brand                354369 non-null object\n",
      "NotRepaired          283215 non-null object\n",
      "DateCreated          354369 non-null object\n",
      "NumberOfPictures     354369 non-null int64\n",
      "PostalCode           354369 non-null int64\n",
      "LastSeen             354369 non-null object\n",
      "dtypes: int64(7), object(9)\n",
      "memory usage: 43.3+ MB\n",
      "\n",
      "Информация о таблице после замены Nan:\n",
      "\n",
      "<class 'pandas.core.frame.DataFrame'>\n",
      "RangeIndex: 354369 entries, 0 to 354368\n",
      "Data columns (total 16 columns):\n",
      "DateCrawled          354369 non-null object\n",
      "Price                354369 non-null int64\n",
      "VehicleType          354369 non-null object\n",
      "RegistrationYear     354369 non-null int64\n",
      "Gearbox              354369 non-null object\n",
      "Power                354369 non-null int64\n",
      "Model                354369 non-null object\n",
      "Kilometer            354369 non-null int64\n",
      "RegistrationMonth    354369 non-null int64\n",
      "FuelType             354369 non-null object\n",
      "Brand                354369 non-null object\n",
      "NotRepaired          354369 non-null object\n",
      "DateCreated          354369 non-null object\n",
      "NumberOfPictures     354369 non-null int64\n",
      "PostalCode           354369 non-null int64\n",
      "LastSeen             354369 non-null object\n",
      "dtypes: int64(7), object(9)\n",
      "memory usage: 43.3+ MB\n",
      "Среднее значение цены: 4416.656775846645\n",
      "\n",
      "Значения столбца Price:\n"
     ]
    },
    {
     "data": {
      "text/plain": [
       "0      480\n",
       "1    18300\n",
       "2     9800\n",
       "3     1500\n",
       "4     3600\n",
       "Name: Price, dtype: int64"
      ]
     },
     "metadata": {},
     "output_type": "display_data"
    }
   ],
   "source": [
    "#Загрузим библиотеки\n",
    "import pandas as pd\n",
    "import lightgbm as ltb\n",
    "import matplotlib.pyplot as plt\n",
    "from sklearn.model_selection import train_test_split\n",
    "from catboost import CatBoostClassifier\n",
    "from sklearn.metrics import roc_auc_score\n",
    "from sklearn.linear_model import LinearRegression\n",
    "from sklearn.preprocessing import OrdinalEncoder\n",
    "from sklearn.ensemble import RandomForestRegressor\n",
    "from sklearn.metrics import mean_squared_error\n",
    "from catboost import CatBoostRegressor\n",
    "from lightgbm import LGBMRegressor\n",
    "\n",
    "#Загрузим данные и посмотрим инофрмацию о таблице\n",
    "data = pd.read_csv('/datasets/autos.csv')\n",
    "print('Информация о таблице:\\n')\n",
    "data.info(5)\n",
    "\n",
    "#Заменим значения Nan на нули\n",
    "data = data.fillna(0)\n",
    "print('\\nИнформация о таблице после замены Nan:\\n')\n",
    "data.info(5)\n",
    "\n",
    "#Вычислим среднее значение цены:\n",
    "print('Среднее значение цены:', data['Price'].mean())\n",
    "\n",
    "#Отобразим первые 5 значений столбца Price\n",
    "print('\\nЗначения столбца Price:')\n",
    "display(data['Price'].head(5))"
   ]
  },
  {
   "cell_type": "markdown",
   "metadata": {},
   "source": [
    "# Удаление выбросов"
   ]
  },
  {
   "cell_type": "code",
   "execution_count": 2,
   "metadata": {},
   "outputs": [
    {
     "name": "stdout",
     "output_type": "stream",
     "text": [
      "Информация о столбце Price до удаления выбросов:\n"
     ]
    },
    {
     "data": {
      "text/plain": [
       "count    354369.000000\n",
       "mean       4416.656776\n",
       "std        4514.158514\n",
       "min           0.000000\n",
       "25%        1050.000000\n",
       "50%        2700.000000\n",
       "75%        6400.000000\n",
       "max       20000.000000\n",
       "Name: Price, dtype: float64"
      ]
     },
     "metadata": {},
     "output_type": "display_data"
    },
    {
     "name": "stdout",
     "output_type": "stream",
     "text": [
      "Информация о столбце Price после удаления выбросов:\n"
     ]
    },
    {
     "data": {
      "text/plain": [
       "count    335390.000000\n",
       "mean       3711.078154\n",
       "std        3474.706185\n",
       "min           0.000000\n",
       "25%        1000.000000\n",
       "50%        2500.000000\n",
       "75%        5500.000000\n",
       "max       14400.000000\n",
       "Name: Price, dtype: float64"
      ]
     },
     "metadata": {},
     "output_type": "display_data"
    },
    {
     "name": "stdout",
     "output_type": "stream",
     "text": [
      "Информация о столбце RegistrationYear до удаления выбросов:\n"
     ]
    },
    {
     "data": {
      "text/plain": [
       "count    335390.000000\n",
       "mean       2003.919097\n",
       "std          90.065007\n",
       "min        1000.000000\n",
       "25%        1999.000000\n",
       "50%        2003.000000\n",
       "75%        2007.000000\n",
       "max        9999.000000\n",
       "Name: RegistrationYear, dtype: float64"
      ]
     },
     "metadata": {},
     "output_type": "display_data"
    },
    {
     "name": "stdout",
     "output_type": "stream",
     "text": [
      "Информация о столбце RegistrationYear после удаления выбросов:\n"
     ]
    },
    {
     "data": {
      "text/plain": [
       "count    334432.000000\n",
       "mean       2002.897752\n",
       "std           6.925599\n",
       "min        1967.000000\n",
       "25%        1999.000000\n",
       "50%        2003.000000\n",
       "75%        2007.000000\n",
       "max        2019.000000\n",
       "Name: RegistrationYear, dtype: float64"
      ]
     },
     "metadata": {},
     "output_type": "display_data"
    },
    {
     "name": "stdout",
     "output_type": "stream",
     "text": [
      "Информация о столбце Power до удаления выбросов:\n"
     ]
    },
    {
     "data": {
      "text/plain": [
       "count    334432.000000\n",
       "mean        106.338855\n",
       "std         191.265824\n",
       "min           0.000000\n",
       "25%          66.000000\n",
       "50%         102.000000\n",
       "75%         140.000000\n",
       "max       20000.000000\n",
       "Name: Power, dtype: float64"
      ]
     },
     "metadata": {},
     "output_type": "display_data"
    },
    {
     "name": "stdout",
     "output_type": "stream",
     "text": [
      "Информация о столбце Power после удаления выбросов:\n"
     ]
    },
    {
     "data": {
      "text/plain": [
       "count    329261.000000\n",
       "mean         99.725510\n",
       "std          55.394515\n",
       "min           0.000000\n",
       "25%          65.000000\n",
       "50%         101.000000\n",
       "75%         140.000000\n",
       "max         250.000000\n",
       "Name: Power, dtype: float64"
      ]
     },
     "metadata": {},
     "output_type": "display_data"
    },
    {
     "name": "stdout",
     "output_type": "stream",
     "text": [
      "Информация о столбце Kilometer:\n"
     ]
    },
    {
     "data": {
      "text/plain": [
       "count    329261.000000\n",
       "mean     130273.643098\n",
       "std       36171.942825\n",
       "min        5000.000000\n",
       "25%      125000.000000\n",
       "50%      150000.000000\n",
       "75%      150000.000000\n",
       "max      150000.000000\n",
       "Name: Kilometer, dtype: float64"
      ]
     },
     "metadata": {},
     "output_type": "display_data"
    },
    {
     "name": "stdout",
     "output_type": "stream",
     "text": [
      "Информация о столбце RegistrationMonth:\n"
     ]
    },
    {
     "data": {
      "text/plain": [
       "count    329261.000000\n",
       "mean          5.685256\n",
       "std           3.739137\n",
       "min           0.000000\n",
       "25%           3.000000\n",
       "50%           6.000000\n",
       "75%           9.000000\n",
       "max          12.000000\n",
       "Name: RegistrationMonth, dtype: float64"
      ]
     },
     "metadata": {},
     "output_type": "display_data"
    },
    {
     "data": {
      "image/png": "[encoded data removed]",
      "text/plain": [
       "<Figure size 432x288 with 1 Axes>"
      ]
     },
     "metadata": {
      "needs_background": "light"
     },
     "output_type": "display_data"
    }
   ],
   "source": [
    "#Удалим выбросы в столбце Price\n",
    "print('Информация о столбце Price до удаления выбросов:')\n",
    "display(data['Price'].describe())\n",
    "Q1 =  data['Price'].quantile(0.25)\n",
    "Q3 = data['Price'].quantile(0.75)\n",
    "IQR = Q3 - Q1\n",
    "data = data[(data['Price'] > (Q1-1.5*IQR)) & (data['Price'] < (Q3+1.5*IQR))]\n",
    "print('Информация о столбце Price после удаления выбросов:')\n",
    "display(data['Price'].describe())\n",
    "\n",
    "#Удалим выбросы в столбце Price\n",
    "print('Информация о столбце RegistrationYear до удаления выбросов:')\n",
    "display(data['RegistrationYear'].describe())\n",
    "Q1 =  data['RegistrationYear'].quantile(0.25)\n",
    "Q3 = 2021\n",
    "IQR = Q3 - Q1\n",
    "data = data[(data['RegistrationYear'] > (Q1-1.5*IQR)) & (data['RegistrationYear'] < Q3)]\n",
    "print('Информация о столбце RegistrationYear после удаления выбросов:')\n",
    "display(data['RegistrationYear'].describe())\n",
    "\n",
    "#Удалим выбросы в столбце Power\n",
    "print('Информация о столбце Power до удаления выбросов:')\n",
    "display(data['Power'].describe())\n",
    "Q1 =  data['Power'].quantile(0.25)\n",
    "Q3 = data['Power'].quantile(0.75)\n",
    "IQR = Q3 - Q1\n",
    "data = data[(data['Power'] > (Q1-1.5*IQR)) & (data['Power'] < (Q3+1.5*IQR))]\n",
    "print('Информация о столбце Power после удаления выбросов:')\n",
    "display(data['Power'].describe())\n",
    "\n",
    "#Проверим выбросы в столбце Kilometer\n",
    "print('Информация о столбце Kilometer:')\n",
    "display(data['Kilometer'].describe())\n",
    "data['Kilometer'].hist(bins=100)\n",
    "\n",
    "#Проверим выбросы в столбце RegistrationMonth\n",
    "print('Информация о столбце RegistrationMonth:')\n",
    "display(data['RegistrationMonth'].describe())"
   ]
  },
  {
   "cell_type": "markdown",
   "metadata": {},
   "source": [
    "## Обучение моделей"
   ]
  },
  {
   "cell_type": "markdown",
   "metadata": {},
   "source": [
    "# Модель \"случайный лес\""
   ]
  },
  {
   "cell_type": "code",
   "execution_count": 3,
   "metadata": {},
   "outputs": [
    {
     "name": "stdout",
     "output_type": "stream",
     "text": [
      "Модели случайны лес на валидационной выборке:\n",
      "\n",
      "RMSE случайны лес (n_estimators=3, max_depth=5): 1997.9580509800253\n",
      "RMSE случайны лес( n_estimators=5, max_depth=10)): 1663.5624049501623\n",
      "\n",
      "Модели случайны лес на тестовой выборке:\n",
      "\n",
      "RMSE случайны лес(n_estimators=3, max_depth=5): 1984.3861827028175\n",
      "RMSE случайны лес( n_estimators=5, max_depth=10)): 1543.6556692933277\n"
     ]
    }
   ],
   "source": [
    "#Выделим признаки и целевой признак \n",
    "target_forest = data['Price']\n",
    "features_for = data.drop(['Price', 'DateCrawled','NumberOfPictures', 'LastSeen', 'PostalCode'], axis=1)\n",
    "\n",
    "#Применим метод OHE для признаков\n",
    "features_forest = pd.get_dummies(features_for, drop_first=True)\n",
    "\n",
    "#Выделим 20% тестовых данных из всего объема данных\n",
    "features_df1, features_test_forest, target_df1, target_test_forest = train_test_split(features_forest, target_forest, test_size=0.20, random_state=12345)\n",
    "\n",
    "#Разделим отавшиеся 80% данных на тренировочные и валидационные(проверечное). Данные делим в пропорции: 75% от общего числа\n",
    "#данных - это тренировочные, 25% от общего числа - это валидационные.\n",
    "features_train_forest, features_valid_forest, target_train_forest, target_valid_forest = train_test_split(features_df1, target_df1, test_size=0.25, random_state=12345)\n",
    "\n",
    "#Обучим модель \"случайный лес\"\n",
    "model = RandomForestRegressor(random_state=12345, n_estimators=3, max_depth=5)#создадим модель и установим гиперпараметры\n",
    "model.fit(features_train_forest, target_train_forest) #обучим модель на тренировочной выборке\n",
    "predicted_valid_forest = model.predict(features_valid_forest) #предскажем на валидационной выборке\n",
    "predicted_valid_forest = pd.Series(predicted_valid_forest)\n",
    "\n",
    "print(\"Модели случайны лес на валидационной выборке:\\n\")\n",
    "#Вычислим RMSE\n",
    "RMSE= mean_squared_error(target_valid_forest, predicted_valid_forest)**0.5\n",
    "print('RMSE случайны лес (n_estimators=3, max_depth=5):', RMSE)\n",
    "\n",
    "#Изменим гиперпараметры модели \"случайный лес\"\n",
    "model = RandomForestRegressor(random_state=12345, n_estimators=5, max_depth=10)#создадим модель и установим гиперпараметры\n",
    "model.fit(features_train_forest, target_train_forest) #обучим модель на тренировочной выборке\n",
    "predicted_valid_forest = model.predict(features_valid_forest) #предскажем на валидационной выборке\n",
    "predicted_valid_forest = pd.Series(predicted_valid_forest)\n",
    "#Вычислим RMSE\n",
    "RMSE= mean_squared_error(target_valid_forest, predicted_valid_forest)**0.5\n",
    "print('RMSE случайны лес( n_estimators=5, max_depth=10)):', RMSE)\n",
    "\n",
    "print(\"\\nМодели случайны лес на тестовой выборке:\\n\")\n",
    "#Проверим модель на тестовой выборке:\n",
    "#Модель № 1\n",
    "model = RandomForestRegressor(random_state=12345, n_estimators=3, max_depth=5)\n",
    "model.fit(features_test_forest, target_test_forest) \n",
    "predicted_test_forest = model.predict(features_test_forest) \n",
    "predicted_test_forest = pd.Series(predicted_test_forest)\n",
    "#Вычислим RMSE\n",
    "RMSE= mean_squared_error(target_test_forest, predicted_test_forest)**0.5\n",
    "print('RMSE случайны лес(n_estimators=3, max_depth=5):', RMSE)\n",
    "\n",
    "#Модель #2\n",
    "model = RandomForestRegressor(random_state=12345, n_estimators=5, max_depth=10)\n",
    "model.fit(features_test_forest, target_test_forest) \n",
    "predicted_test_forest = model.predict(features_test_forest) \n",
    "predicted_test_forest = pd.Series(predicted_test_forest)\n",
    "#Вычислим RMSE\n",
    "RMSE= mean_squared_error(target_test_forest, predicted_test_forest)**0.5\n",
    "print('RMSE случайны лес( n_estimators=5, max_depth=10)):', RMSE)"
   ]
  },
  {
   "cell_type": "markdown",
   "metadata": {},
   "source": [
    "# Модель CatBoostRegressor"
   ]
  },
  {
   "cell_type": "code",
   "execution_count": 4,
   "metadata": {},
   "outputs": [
    {
     "name": "stdout",
     "output_type": "stream",
     "text": [
      "Модели CatBoost на валидационной выборке:\n",
      "\n",
      "Модель CatBoost(iterations=150)\n",
      "\n",
      "0:\tlearn: 3363.5923717\ttotal: 444ms\tremaining: 1m 6s\n",
      "10:\tlearn: 2865.1911983\ttotal: 3.97s\tremaining: 50.1s\n",
      "20:\tlearn: 2514.5432230\ttotal: 7.44s\tremaining: 45.7s\n",
      "30:\tlearn: 2276.1307325\ttotal: 10.8s\tremaining: 41.6s\n",
      "40:\tlearn: 2102.0861594\ttotal: 14.2s\tremaining: 37.8s\n",
      "50:\tlearn: 1984.2268483\ttotal: 17.9s\tremaining: 34.7s\n",
      "60:\tlearn: 1900.5084130\ttotal: 21.2s\tremaining: 30.9s\n",
      "70:\tlearn: 1828.4257118\ttotal: 24.5s\tremaining: 27.2s\n",
      "80:\tlearn: 1778.2365644\ttotal: 27.9s\tremaining: 23.7s\n",
      "90:\tlearn: 1742.2191371\ttotal: 31.2s\tremaining: 20.2s\n",
      "100:\tlearn: 1715.1912753\ttotal: 34.4s\tremaining: 16.7s\n",
      "110:\tlearn: 1695.0513093\ttotal: 37.6s\tremaining: 13.2s\n",
      "120:\tlearn: 1677.6290697\ttotal: 40.8s\tremaining: 9.79s\n",
      "130:\tlearn: 1663.0649692\ttotal: 44s\tremaining: 6.38s\n",
      "140:\tlearn: 1651.5523694\ttotal: 47.2s\tremaining: 3.01s\n",
      "149:\tlearn: 1642.7392303\ttotal: 50.2s\tremaining: 0us\n",
      "RMSE CatBoost(iterations=150): 1644.930913724311\n",
      "\n",
      " Модель CatBoost(iterations=80, learning_rate = 0.1)\n",
      "\n",
      "0:\tlearn: 3224.5186848\ttotal: 327ms\tremaining: 25.9s\n",
      "10:\tlearn: 2152.1541516\ttotal: 3.81s\tremaining: 23.9s\n",
      "20:\tlearn: 1828.1311208\ttotal: 7s\tremaining: 19.7s\n",
      "30:\tlearn: 1706.0331789\ttotal: 10.2s\tremaining: 16.1s\n",
      "40:\tlearn: 1654.8554960\ttotal: 13.4s\tremaining: 12.7s\n",
      "50:\tlearn: 1627.0750790\ttotal: 16.7s\tremaining: 9.49s\n",
      "60:\tlearn: 1605.6167040\ttotal: 20s\tremaining: 6.22s\n",
      "70:\tlearn: 1588.2424991\ttotal: 23.3s\tremaining: 2.95s\n",
      "79:\tlearn: 1572.8595927\ttotal: 26.1s\tremaining: 0us\n",
      "RMSE CatBoost(iterations=80, learning_rate = 0.1): 1574.366668023254\n",
      "\n",
      "Модели CatBoost на тестовой выборке:\n",
      "\n",
      "Модель CatBoost(iterations=150)\n",
      "\n",
      "0:\tlearn: 3361.1301253\ttotal: 88ms\tremaining: 13.1s\n",
      "10:\tlearn: 2862.4726420\ttotal: 1.57s\tremaining: 19.8s\n",
      "20:\tlearn: 2519.5170320\ttotal: 2.87s\tremaining: 17.6s\n",
      "30:\tlearn: 2288.8294585\ttotal: 4.26s\tremaining: 16.3s\n",
      "40:\tlearn: 2116.1217370\ttotal: 5.57s\tremaining: 14.8s\n",
      "50:\tlearn: 1997.3869280\ttotal: 6.92s\tremaining: 13.4s\n",
      "60:\tlearn: 1916.7678472\ttotal: 8.23s\tremaining: 12s\n",
      "70:\tlearn: 1851.2986394\ttotal: 9.61s\tremaining: 10.7s\n",
      "80:\tlearn: 1796.0773791\ttotal: 10.8s\tremaining: 9.21s\n",
      "90:\tlearn: 1757.8844517\ttotal: 12.2s\tremaining: 7.92s\n",
      "100:\tlearn: 1730.5271499\ttotal: 13.6s\tremaining: 6.59s\n",
      "110:\tlearn: 1709.8307908\ttotal: 14.9s\tremaining: 5.23s\n",
      "120:\tlearn: 1693.0639502\ttotal: 16.3s\tremaining: 3.9s\n",
      "130:\tlearn: 1677.7459544\ttotal: 17.6s\tremaining: 2.55s\n",
      "140:\tlearn: 1665.5269208\ttotal: 19s\tremaining: 1.21s\n",
      "149:\tlearn: 1656.8663138\ttotal: 20.2s\tremaining: 0us\n",
      "RMSE CatBoost(iterations=150): 1648.6552561022386\n",
      "\n",
      " Модель CatBoost(iterations=80, learning_rate = 0.1)\n",
      "\n",
      "0:\tlearn: 3224.5650395\ttotal: 59.8ms\tremaining: 4.72s\n",
      "10:\tlearn: 2173.5261587\ttotal: 1.55s\tremaining: 9.75s\n",
      "20:\tlearn: 1855.6248287\ttotal: 2.94s\tremaining: 8.25s\n",
      "30:\tlearn: 1723.8755780\ttotal: 4.33s\tremaining: 6.85s\n",
      "40:\tlearn: 1670.5279619\ttotal: 5.73s\tremaining: 5.45s\n",
      "50:\tlearn: 1637.1359488\ttotal: 7.12s\tremaining: 4.05s\n",
      "60:\tlearn: 1615.9139496\ttotal: 8.42s\tremaining: 2.62s\n",
      "70:\tlearn: 1598.8489619\ttotal: 9.83s\tremaining: 1.25s\n",
      "79:\tlearn: 1584.3010383\ttotal: 11.1s\tremaining: 0us\n",
      "RMSE CatBoost(iterations=80, learning_rate = 0.1): 1576.9069234690216\n"
     ]
    }
   ],
   "source": [
    "#Выделим признаки и целевой признак \n",
    "target_cat = data['Price']\n",
    "features_cat = data.drop(['Price', 'DateCrawled','NumberOfPictures', 'LastSeen', 'PostalCode'], axis=1)\n",
    "\n",
    "#Выделим 20% тестовых данных из всего объема данных\n",
    "features_df1, features_test_cat, target_df1, target_test_cat = train_test_split(features_cat, target_cat, test_size=0.20, random_state=12345)\n",
    "\n",
    "#Разделим отавшиеся 80% данных на тренировочные и валидационные(проверечное). Данные делим в пропорции: 75% от общего числа\n",
    "#данных - это тренировочные, 25% от общего числа - это валидационные.\n",
    "features_train_cat, features_valid_cat, target_train_cat, target_valid_cat = train_test_split(features_df1, target_df1, test_size=0.25, random_state=12345)\n",
    "\n",
    "#Выделим категориальные признаки\n",
    "cat_features = ['VehicleType', 'Gearbox', 'Model', 'FuelType', 'Brand', 'NotRepaired', 'DateCreated']\n",
    "\n",
    "print(\"Модели CatBoost на валидационной выборке:\\n\")\n",
    "\n",
    "#Обучим модель \"CatBoost\"\n",
    "print('Модель CatBoost(iterations=150)\\n')\n",
    "model = CatBoostRegressor(loss_function='RMSE', random_seed = 12345, iterations=150)\n",
    "model.fit(features_train_cat, target_train_cat, cat_features=cat_features, verbose=10) #обучим модель\n",
    "probabilities_valid_cat = model.predict(features_valid_cat)\n",
    "#Вычислим RMSE\n",
    "RMSE= mean_squared_error(target_valid_cat, probabilities_valid_cat)**0.5\n",
    "print('RMSE CatBoost(iterations=150):', RMSE)\n",
    "\n",
    "#Изменим гиперараметры модели\n",
    "print('\\n Модель CatBoost(iterations=80, learning_rate = 0.1)\\n')\n",
    "model = CatBoostRegressor(loss_function='RMSE', random_seed = 12345, iterations=80, learning_rate = 0.1)\n",
    "model.fit(features_train_cat, target_train_cat, cat_features=cat_features, verbose=10) #обучим модель\n",
    "probabilities_valid_cat = model.predict(features_valid_cat)\n",
    "#Вычислим RMSE\n",
    "RMSE= mean_squared_error(target_valid_cat, probabilities_valid_cat)**0.5\n",
    "print('RMSE CatBoost(iterations=80, learning_rate = 0.1):', RMSE)\n",
    "\n",
    "print(\"\\nМодели CatBoost на тестовой выборке:\\n\")\n",
    "\n",
    "#Проверим модели на тестовой выборке:\n",
    "#Модель № 1\n",
    "print('Модель CatBoost(iterations=150)\\n')\n",
    "model = CatBoostRegressor(loss_function='RMSE', random_seed = 12345, iterations=150)\n",
    "model.fit(features_test_cat, target_test_cat, cat_features=cat_features, verbose=10) #обучим модель\n",
    "probabilities_test_cat = model.predict(features_test_cat)\n",
    "#Вычислим RMSE\n",
    "RMSE= mean_squared_error(target_test_cat, probabilities_test_cat)**0.5\n",
    "print('RMSE CatBoost(iterations=150):', RMSE)\n",
    "\n",
    "#Модель № 2\n",
    "print('\\n Модель CatBoost(iterations=80, learning_rate = 0.1)\\n')\n",
    "model = CatBoostRegressor(loss_function='RMSE', random_seed = 12345, iterations=80, learning_rate = 0.1)\n",
    "model.fit(features_test_cat, target_test_cat, cat_features=cat_features, verbose=10) #обучим модель\n",
    "probabilities_test_cat = model.predict(features_test_cat)\n",
    "#Вычислим RMSE\n",
    "RMSE= mean_squared_error(target_test_cat, probabilities_test_cat)**0.5\n",
    "print('RMSE CatBoost(iterations=80, learning_rate = 0.1):', RMSE)\n"
   ]
  },
  {
   "cell_type": "markdown",
   "metadata": {},
   "source": [
    "# Модель LightGBM"
   ]
  },
  {
   "cell_type": "code",
   "execution_count": 5,
   "metadata": {},
   "outputs": [
    {
     "name": "stdout",
     "output_type": "stream",
     "text": [
      "\n",
      "Модели LGBMRegressor на валидационной выборке:\n",
      "\n",
      "RMSE LGBMRegressor(num_leaves=20): 1524.0220829988211\n",
      "RMSE LGBMRegressor(num_leaves=40, learning_rate = 0.1): 1473.5565573257204\n",
      "\n",
      "Модели LGBMRegressor на тестовой выборке:\n",
      "\n",
      "RMSE LGBMRegressor(num_leaves=20): 1507.7171853842667\n",
      "RMSE LGBMRegressor(num_leaves=40, learning_rate = 0.1): 1435.213481503152\n"
     ]
    }
   ],
   "source": [
    "#Изменим названия столбцов с заглавных букв в строчные\n",
    "data.columns = map(str.lower, data.columns)\n",
    "\n",
    "#Выделим признаки и целевой признак \n",
    "target_lgbm = data['price']\n",
    "features_lgb = data.drop(['price', 'datecrawled','numberofpictures', 'lastseen', 'postalcode', 'datecreated'], axis=1)\n",
    "features_lgbm = pd.get_dummies(features_lgb, drop_first=True)\n",
    "\n",
    "#Выделим 20% тестовых данных из всего объема данных\n",
    "features_df1, features_test_lgbm, target_df1, target_test_lgbm = train_test_split(features_lgbm, target_lgbm, test_size=0.20, random_state=12345)\n",
    "\n",
    "#Разделим отавшиеся 80% данных на тренировочные и валидационные(проверечное). Данные делим в пропорции: 75% от общего числа\n",
    "#данных - это тренировочные, 25% от общего числа - это валидационные.\n",
    "features_train_lgbm, features_valid_lgbm, target_train_lgbm, target_valid_lgbm = train_test_split(features_df1, target_df1, test_size=0.25, random_state=12345)\n",
    "\n",
    "print(\"\\nМодели LGBMRegressor на валидационной выборке:\\n\")\n",
    "#Обучим модель LightGBM\n",
    "model = LGBMRegressor(num_leaves=20)\n",
    "model.fit(features_train_lgbm, target_train_lgbm) #обучим модель\n",
    "probabilities_valid_lgbm = model.predict(features_valid_lgbm)\n",
    "\n",
    "#Вычислим RMSE\n",
    "RMSE= mean_squared_error(target_valid_lgbm, probabilities_valid_lgbm)**0.5\n",
    "print('RMSE LGBMRegressor(num_leaves=20):', RMSE)\n",
    "\n",
    "#Изменим гиперпараметры\n",
    "#Обучим модель LightGBM\n",
    "model = LGBMRegressor(num_leaves=40, learning_rate = 0.1)\n",
    "model.fit(features_train_lgbm, target_train_lgbm) #обучим модель\n",
    "probabilities_valid_lgbm = model.predict(features_valid_lgbm)\n",
    "\n",
    "#Вычислим RMSE\n",
    "RMSE= mean_squared_error(target_valid_lgbm, probabilities_valid_lgbm)**0.5\n",
    "print('RMSE LGBMRegressor(num_leaves=40, learning_rate = 0.1):', RMSE)\n",
    "\n",
    "\n",
    "print(\"\\nМодели LGBMRegressor на тестовой выборке:\\n\")\n",
    "\n",
    "#Проверим модели на тестовой выборке:\n",
    "#Модель № 1\n",
    "model = LGBMRegressor(num_leaves=20)\n",
    "model.fit(features_test_lgbm, target_test_lgbm) #обучим модель\n",
    "probabilities_test_lgbm = model.predict(features_test_lgbm)\n",
    "#Вычислим RMSE\n",
    "RMSE= mean_squared_error(target_test_lgbm, probabilities_test_lgbm)**0.5\n",
    "print('RMSE LGBMRegressor(num_leaves=20):', RMSE)\n",
    "\n",
    "#Модель № 2\n",
    "model = LGBMRegressor(num_leaves=40, learning_rate = 0.1)\n",
    "model.fit(features_test_lgbm, target_test_lgbm) #обучим модель\n",
    "probabilities_test_lgbm = model.predict(features_test_lgbm)\n",
    "#Вычислим RMSE\n",
    "RMSE= mean_squared_error(target_test_lgbm, probabilities_test_lgbm)**0.5\n",
    "print('RMSE LGBMRegressor(num_leaves=40, learning_rate = 0.1):', RMSE)"
   ]
  },
  {
   "cell_type": "markdown",
   "metadata": {},
   "source": [
    "## Анализ моделей"
   ]
  },
  {
   "cell_type": "markdown",
   "metadata": {},
   "source": [
    "# Модель \"случайный лес\". Время обучения"
   ]
  },
  {
   "cell_type": "code",
   "execution_count": 6,
   "metadata": {},
   "outputs": [
    {
     "name": "stdout",
     "output_type": "stream",
     "text": [
      "CPU times: user 21.2 s, sys: 258 ms, total: 21.5 s\n",
      "Wall time: 21.6 s\n"
     ]
    },
    {
     "data": {
      "text/plain": [
       "RandomForestRegressor(bootstrap=True, criterion='mse', max_depth=10,\n",
       "                      max_features='auto', max_leaf_nodes=None,\n",
       "                      min_impurity_decrease=0.0, min_impurity_split=None,\n",
       "                      min_samples_leaf=1, min_samples_split=2,\n",
       "                      min_weight_fraction_leaf=0.0, n_estimators=5, n_jobs=None,\n",
       "                      oob_score=False, random_state=12345, verbose=0,\n",
       "                      warm_start=False)"
      ]
     },
     "execution_count": 6,
     "metadata": {},
     "output_type": "execute_result"
    }
   ],
   "source": [
    "%%time\n",
    "model = RandomForestRegressor(random_state=12345, n_estimators=5, max_depth=10)#создадим модель и установим гиперпараметры\n",
    "model.fit(features_train_forest, target_train_forest) #обучим модель на тренировочной выборке"
   ]
  },
  {
   "cell_type": "markdown",
   "metadata": {},
   "source": [
    "# Модель \"случайный лес\". Скорость предсказания"
   ]
  },
  {
   "cell_type": "code",
   "execution_count": 7,
   "metadata": {},
   "outputs": [
    {
     "name": "stdout",
     "output_type": "stream",
     "text": [
      "CPU times: user 132 ms, sys: 85.3 ms, total: 217 ms\n",
      "Wall time: 232 ms\n"
     ]
    }
   ],
   "source": [
    "%%time\n",
    "predicted_valid_forest = model.predict(features_valid_forest) #предскажем на валидационной выборке"
   ]
  },
  {
   "cell_type": "markdown",
   "metadata": {},
   "source": [
    "# Модель CatBoostRegressor. Время обучения"
   ]
  },
  {
   "cell_type": "code",
   "execution_count": 8,
   "metadata": {},
   "outputs": [
    {
     "name": "stdout",
     "output_type": "stream",
     "text": [
      "0:\tlearn: 3224.5186848\ttotal: 351ms\tremaining: 27.8s\n",
      "10:\tlearn: 2152.1541516\ttotal: 3.95s\tremaining: 24.8s\n",
      "20:\tlearn: 1828.1311208\ttotal: 7.61s\tremaining: 21.4s\n",
      "30:\tlearn: 1706.0331789\ttotal: 11s\tremaining: 17.4s\n",
      "40:\tlearn: 1654.8554960\ttotal: 14.5s\tremaining: 13.8s\n",
      "50:\tlearn: 1627.0750790\ttotal: 17.8s\tremaining: 10.1s\n",
      "60:\tlearn: 1605.6167040\ttotal: 21.2s\tremaining: 6.6s\n",
      "70:\tlearn: 1588.2424991\ttotal: 24.7s\tremaining: 3.13s\n",
      "79:\tlearn: 1572.8595927\ttotal: 27.8s\tremaining: 0us\n",
      "CPU times: user 24 s, sys: 5.06 s, total: 29 s\n",
      "Wall time: 30.5 s\n"
     ]
    },
    {
     "data": {
      "text/plain": [
       "<catboost.core.CatBoostRegressor at 0x7f4374782590>"
      ]
     },
     "execution_count": 8,
     "metadata": {},
     "output_type": "execute_result"
    }
   ],
   "source": [
    "%%time\n",
    "model = CatBoostRegressor(loss_function='RMSE', random_seed = 12345, iterations=80, learning_rate = 0.1)\n",
    "model.fit(features_train_cat, target_train_cat, cat_features=cat_features, verbose=10) #обучим модель"
   ]
  },
  {
   "cell_type": "markdown",
   "metadata": {},
   "source": [
    "# Модель CatBoostRegressor. Скорость предсказания"
   ]
  },
  {
   "cell_type": "code",
   "execution_count": 9,
   "metadata": {},
   "outputs": [
    {
     "name": "stdout",
     "output_type": "stream",
     "text": [
      "CPU times: user 243 ms, sys: 30.2 ms, total: 273 ms\n",
      "Wall time: 269 ms\n"
     ]
    }
   ],
   "source": [
    "%%time\n",
    "probabilities_valid_cat = model.predict(features_valid_cat)"
   ]
  },
  {
   "cell_type": "markdown",
   "metadata": {},
   "source": [
    "# Модель LightGBM. Время обучения"
   ]
  },
  {
   "cell_type": "code",
   "execution_count": 10,
   "metadata": {},
   "outputs": [
    {
     "name": "stdout",
     "output_type": "stream",
     "text": [
      "CPU times: user 8min 36s, sys: 3.48 s, total: 8min 40s\n",
      "Wall time: 8min 43s\n"
     ]
    },
    {
     "data": {
      "text/plain": [
       "LGBMRegressor(boosting_type='gbdt', class_weight=None, colsample_bytree=1.0,\n",
       "              importance_type='split', learning_rate=0.1, max_depth=-1,\n",
       "              min_child_samples=20, min_child_weight=0.001, min_split_gain=0.0,\n",
       "              n_estimators=100, n_jobs=-1, num_leaves=40, objective=None,\n",
       "              random_state=None, reg_alpha=0.0, reg_lambda=0.0, silent=True,\n",
       "              subsample=1.0, subsample_for_bin=200000, subsample_freq=0)"
      ]
     },
     "execution_count": 10,
     "metadata": {},
     "output_type": "execute_result"
    }
   ],
   "source": [
    "%%time\n",
    "model = LGBMRegressor(num_leaves=40, learning_rate = 0.1)\n",
    "model.fit(features_train_lgbm, target_train_lgbm)"
   ]
  },
  {
   "cell_type": "markdown",
   "metadata": {},
   "source": [
    "# Модель LightGBM. Скорость предсказания"
   ]
  },
  {
   "cell_type": "code",
   "execution_count": 11,
   "metadata": {},
   "outputs": [
    {
     "name": "stdout",
     "output_type": "stream",
     "text": [
      "CPU times: user 1.1 s, sys: 67.5 ms, total: 1.17 s\n",
      "Wall time: 1.19 s\n"
     ]
    }
   ],
   "source": [
    "%%time\n",
    "probabilities_valid_lgbm = model.predict(features_valid_lgbm)"
   ]
  },
  {
   "cell_type": "markdown",
   "metadata": {},
   "source": [
    "## Вывод:"
   ]
  },
  {
   "cell_type": "markdown",
   "metadata": {},
   "source": [
    "### По проекту было выполнено:\n",
    "\n",
    "- Загружены данные и выполнена их предоьработка \n",
    "\n",
    "- Обучены три разных модели (Случайный лес, CatBoostRegressor и LightGBM)\n",
    "\n",
    "- Проверена скорость обучения, предсказания и качество модели. \n",
    "\n",
    "### Лучшая модель по качеству:\n",
    "\n",
    "- это LGBMRegressor(num_leaves=40, learning_rate = 0.1): 1435.213481503152\n",
    "\n",
    "- на втором месте \"Случаный лес\" (RMSE случайны лес( n_estimators=3)): 1543.6556692933277\n",
    "\n",
    "- а на третьем CatBoost (RMSE CatBoost(iterations=80, learning_rate = 0.1):  1576.9069234690216\n",
    "\n",
    "### Лучшая модель по скорости обучения:\n",
    "\n",
    "- это CatBoost - Wall time: 27.5 s\n",
    "\n",
    "- на втором 'Случайный лес' - Wall time: 28.5 s\n",
    "\n",
    "- на третьем LGBMRegressor  - Wall time: 28.7 s\n",
    " \n",
    "### Лучшая модель по скорости предсказания:\n",
    "\n",
    "- на первом CatBoost - Wall time: 275 ms\n",
    "\n",
    "- на втором 'Случайный лес' - Wall time: 283 ms\n",
    "\n",
    "- на тертьем LGBMRegressor  - Wall time: 1.78 s\n",
    "\n",
    "Для быстрых решений с хорошей точностью подойдет DecisionTreeRegressor с подготовленными признаками.\n",
    "Если в деле важна точность и есть время регрессор LGBMRegressor поможет предсказать лучше всех.\n",
    "Для задач, не требующих сильной предобработки и заготовки данных CatBoostRegressor может показать себя очень хорошо."
   ]
  }
 ],
 "metadata": {
  "kernelspec": {
   "display_name": "Python 3",
   "language": "python",
   "name": "python3"
  },
  "language_info": {
   "codemirror_mode": {
    "name": "ipython",
    "version": 3
   },
   "file_extension": ".py",
   "mimetype": "text/x-python",
   "name": "python",
   "nbconvert_exporter": "python",
   "pygments_lexer": "ipython3",
   "version": "3.7.8"
  },
  "toc": {
   "base_numbering": 1,
   "nav_menu": {},
   "number_sections": true,
   "sideBar": true,
   "skip_h1_title": true,
   "title_cell": "Table of Contents",
   "title_sidebar": "Contents",
   "toc_cell": false,
   "toc_position": {},
   "toc_section_display": true,
   "toc_window_display": false
  }
 },
 "nbformat": 4,
 "nbformat_minor": 2
}
