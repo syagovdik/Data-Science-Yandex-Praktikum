{
 "cells": [
  {
   "cell_type": "markdown",
   "metadata": {},
   "source": [
    "# Определение перспективного тарифа для телеком компании"
   ]
  },
  {
   "cell_type": "markdown",
   "metadata": {},
   "source": [
    "Чтобы скорректировать рекламный бюджет, коммерческий департамент хочет понять, какой тариф приносит больше денег.\n",
    "Для этого сделаем предварительный анализ тарифов на небольшой выборке клиентов, а именно о 500 пользователей «Мегалайна»: кто они, откуда, каким тарифом пользуются, сколько звонков и сообщений каждый отправил за 2018 год. Проанализируем поведение клиентов и сделаем вывод — какой тариф лучше."
   ]
  },
  {
   "cell_type": "markdown",
   "metadata": {},
   "source": [
    "# Описание данных:"
   ]
  },
  {
   "cell_type": "markdown",
   "metadata": {},
   "source": [
    "# Таблица users (информация о пользователях):"
   ]
  },
  {
   "cell_type": "markdown",
   "metadata": {},
   "source": [
    "user_id — уникальный идентификатор пользователя\n",
    "\n",
    "first_name — имя пользователя\n",
    "\n",
    "last_name — фамилия пользователя\n",
    "\n",
    "age — возраст пользователя (годы)\n",
    "\n",
    "reg_date — дата подключения тарифа (день, месяц, год)\n",
    "\n",
    "churn_date — дата прекращения пользования тарифом (если значение пропущено, то тариф ещё действовал на момент выгрузки данных)\n",
    "\n",
    "city — город проживания пользователя\n",
    "\n",
    "tariff — название тарифного плана"
   ]
  },
  {
   "cell_type": "markdown",
   "metadata": {},
   "source": [
    "# Таблица messages (информация о сообщениях):"
   ]
  },
  {
   "cell_type": "markdown",
   "metadata": {},
   "source": [
    "id — уникальный номер сообщения\n",
    "\n",
    "message_date — дата сообщения\n",
    "\n",
    "user_id — идентификатор пользователя, отправившего сообщение"
   ]
  },
  {
   "cell_type": "markdown",
   "metadata": {},
   "source": [
    "# Таблица calls (информация о звонках):"
   ]
  },
  {
   "cell_type": "markdown",
   "metadata": {},
   "source": [
    "id — уникальный номер звонка\n",
    "\n",
    "call_date — дата звонка\n",
    "\n",
    "duration — длительность звонка в минутах\n",
    "\n",
    "user_id — идентификатор пользователя, сделавшего звонок"
   ]
  },
  {
   "cell_type": "markdown",
   "metadata": {},
   "source": [
    "# Таблица internet (информация об интернет-сессиях):"
   ]
  },
  {
   "cell_type": "markdown",
   "metadata": {},
   "source": [
    "id — уникальный номер сессии\n",
    "\n",
    "mb_used — объём потраченного за сессию интернет-трафика (в мегабайтах)\n",
    "\n",
    "session_date — дата интернет-сессии\n",
    "\n",
    "user_id — идентификатор пользователя"
   ]
  },
  {
   "cell_type": "markdown",
   "metadata": {},
   "source": [
    "# Таблица tariffs (информация о тарифах):"
   ]
  },
  {
   "cell_type": "markdown",
   "metadata": {},
   "source": [
    "tariff_name — название тарифа\n",
    "\n",
    "rub_monthly_fee — ежемесячная абонентская плата в рублях\n",
    "\n",
    "minutes_included — количество минут разговора в месяц, включённых в абонентскую плату\n",
    "\n",
    "messages_included — количество сообщений в месяц, включённых в абонентскую плату\n",
    "\n",
    "mb_per_month_included — объём интернет-трафика, включённого в абонентскую плату (в мегабайтах)\n",
    "\n",
    "rub_per_minute — стоимость минуты разговора сверх тарифного пакета (например, если в тарифе 100 минут разговора в месяц, то со \n",
    "\n",
    "101 минуты будет взиматься плата)\n",
    "\n",
    "rub_per_message — стоимость отправки сообщения сверх тарифного пакета\n",
    "\n",
    "rub_per_gb — стоимость дополнительного гигабайта интернет-трафика сверх тарифного пакета (1 гигабайт = 1024 мегабайта)"
   ]
  },
  {
   "cell_type": "markdown",
   "metadata": {},
   "source": [
    "# Шаг 1. Откройте файл с данными и изучите общую информацию"
   ]
  },
  {
   "cell_type": "code",
   "execution_count": 1,
   "metadata": {},
   "outputs": [
    {
     "name": "stdout",
     "output_type": "stream",
     "text": [
      "Таблица calls\n"
     ]
    },
    {
     "data": {
      "text/html": [
       "<div>\n",
       "<style scoped>\n",
       "    .dataframe tbody tr th:only-of-type {\n",
       "        vertical-align: middle;\n",
       "    }\n",
       "\n",
       "    .dataframe tbody tr th {\n",
       "        vertical-align: top;\n",
       "    }\n",
       "\n",
       "    .dataframe thead th {\n",
       "        text-align: right;\n",
       "    }\n",
       "</style>\n",
       "<table border=\"1\" class=\"dataframe\">\n",
       "  <thead>\n",
       "    <tr style=\"text-align: right;\">\n",
       "      <th></th>\n",
       "      <th>id</th>\n",
       "      <th>call_date</th>\n",
       "      <th>duration</th>\n",
       "      <th>user_id</th>\n",
       "    </tr>\n",
       "  </thead>\n",
       "  <tbody>\n",
       "    <tr>\n",
       "      <td>0</td>\n",
       "      <td>1000_0</td>\n",
       "      <td>2018-07-25</td>\n",
       "      <td>0.00</td>\n",
       "      <td>1000</td>\n",
       "    </tr>\n",
       "    <tr>\n",
       "      <td>1</td>\n",
       "      <td>1000_1</td>\n",
       "      <td>2018-08-17</td>\n",
       "      <td>0.00</td>\n",
       "      <td>1000</td>\n",
       "    </tr>\n",
       "    <tr>\n",
       "      <td>2</td>\n",
       "      <td>1000_2</td>\n",
       "      <td>2018-06-11</td>\n",
       "      <td>2.85</td>\n",
       "      <td>1000</td>\n",
       "    </tr>\n",
       "    <tr>\n",
       "      <td>3</td>\n",
       "      <td>1000_3</td>\n",
       "      <td>2018-09-21</td>\n",
       "      <td>13.80</td>\n",
       "      <td>1000</td>\n",
       "    </tr>\n",
       "    <tr>\n",
       "      <td>4</td>\n",
       "      <td>1000_4</td>\n",
       "      <td>2018-12-15</td>\n",
       "      <td>5.18</td>\n",
       "      <td>1000</td>\n",
       "    </tr>\n",
       "  </tbody>\n",
       "</table>\n",
       "</div>"
      ],
      "text/plain": [
       "       id   call_date  duration  user_id\n",
       "0  1000_0  2018-07-25      0.00     1000\n",
       "1  1000_1  2018-08-17      0.00     1000\n",
       "2  1000_2  2018-06-11      2.85     1000\n",
       "3  1000_3  2018-09-21     13.80     1000\n",
       "4  1000_4  2018-12-15      5.18     1000"
      ]
     },
     "metadata": {},
     "output_type": "display_data"
    },
    {
     "name": "stdout",
     "output_type": "stream",
     "text": [
      "\n",
      " Общая информация таблицы calls \n",
      "\n",
      "<class 'pandas.core.frame.DataFrame'>\n",
      "RangeIndex: 202607 entries, 0 to 202606\n",
      "Data columns (total 4 columns):\n",
      "id           202607 non-null object\n",
      "call_date    202607 non-null object\n",
      "duration     202607 non-null float64\n",
      "user_id      202607 non-null int64\n",
      "dtypes: float64(1), int64(1), object(2)\n",
      "memory usage: 6.2+ MB\n",
      "\n",
      " Таблица internet\n"
     ]
    },
    {
     "data": {
      "text/html": [
       "<div>\n",
       "<style scoped>\n",
       "    .dataframe tbody tr th:only-of-type {\n",
       "        vertical-align: middle;\n",
       "    }\n",
       "\n",
       "    .dataframe tbody tr th {\n",
       "        vertical-align: top;\n",
       "    }\n",
       "\n",
       "    .dataframe thead th {\n",
       "        text-align: right;\n",
       "    }\n",
       "</style>\n",
       "<table border=\"1\" class=\"dataframe\">\n",
       "  <thead>\n",
       "    <tr style=\"text-align: right;\">\n",
       "      <th></th>\n",
       "      <th>Unnamed: 0</th>\n",
       "      <th>id</th>\n",
       "      <th>mb_used</th>\n",
       "      <th>session_date</th>\n",
       "      <th>user_id</th>\n",
       "    </tr>\n",
       "  </thead>\n",
       "  <tbody>\n",
       "    <tr>\n",
       "      <td>0</td>\n",
       "      <td>0</td>\n",
       "      <td>1000_0</td>\n",
       "      <td>112.95</td>\n",
       "      <td>2018-11-25</td>\n",
       "      <td>1000</td>\n",
       "    </tr>\n",
       "    <tr>\n",
       "      <td>1</td>\n",
       "      <td>1</td>\n",
       "      <td>1000_1</td>\n",
       "      <td>1052.81</td>\n",
       "      <td>2018-09-07</td>\n",
       "      <td>1000</td>\n",
       "    </tr>\n",
       "    <tr>\n",
       "      <td>2</td>\n",
       "      <td>2</td>\n",
       "      <td>1000_2</td>\n",
       "      <td>1197.26</td>\n",
       "      <td>2018-06-25</td>\n",
       "      <td>1000</td>\n",
       "    </tr>\n",
       "    <tr>\n",
       "      <td>3</td>\n",
       "      <td>3</td>\n",
       "      <td>1000_3</td>\n",
       "      <td>550.27</td>\n",
       "      <td>2018-08-22</td>\n",
       "      <td>1000</td>\n",
       "    </tr>\n",
       "    <tr>\n",
       "      <td>4</td>\n",
       "      <td>4</td>\n",
       "      <td>1000_4</td>\n",
       "      <td>302.56</td>\n",
       "      <td>2018-09-24</td>\n",
       "      <td>1000</td>\n",
       "    </tr>\n",
       "  </tbody>\n",
       "</table>\n",
       "</div>"
      ],
      "text/plain": [
       "   Unnamed: 0      id  mb_used session_date  user_id\n",
       "0           0  1000_0   112.95   2018-11-25     1000\n",
       "1           1  1000_1  1052.81   2018-09-07     1000\n",
       "2           2  1000_2  1197.26   2018-06-25     1000\n",
       "3           3  1000_3   550.27   2018-08-22     1000\n",
       "4           4  1000_4   302.56   2018-09-24     1000"
      ]
     },
     "metadata": {},
     "output_type": "display_data"
    },
    {
     "name": "stdout",
     "output_type": "stream",
     "text": [
      "\n",
      " Общая информация таблицы internet \n",
      "\n",
      "<class 'pandas.core.frame.DataFrame'>\n",
      "RangeIndex: 149396 entries, 0 to 149395\n",
      "Data columns (total 5 columns):\n",
      "Unnamed: 0      149396 non-null int64\n",
      "id              149396 non-null object\n",
      "mb_used         149396 non-null float64\n",
      "session_date    149396 non-null object\n",
      "user_id         149396 non-null int64\n",
      "dtypes: float64(1), int64(2), object(2)\n",
      "memory usage: 5.7+ MB\n",
      "\n",
      " Таблица messages\n"
     ]
    },
    {
     "data": {
      "text/html": [
       "<div>\n",
       "<style scoped>\n",
       "    .dataframe tbody tr th:only-of-type {\n",
       "        vertical-align: middle;\n",
       "    }\n",
       "\n",
       "    .dataframe tbody tr th {\n",
       "        vertical-align: top;\n",
       "    }\n",
       "\n",
       "    .dataframe thead th {\n",
       "        text-align: right;\n",
       "    }\n",
       "</style>\n",
       "<table border=\"1\" class=\"dataframe\">\n",
       "  <thead>\n",
       "    <tr style=\"text-align: right;\">\n",
       "      <th></th>\n",
       "      <th>id</th>\n",
       "      <th>message_date</th>\n",
       "      <th>user_id</th>\n",
       "    </tr>\n",
       "  </thead>\n",
       "  <tbody>\n",
       "    <tr>\n",
       "      <td>0</td>\n",
       "      <td>1000_0</td>\n",
       "      <td>2018-06-27</td>\n",
       "      <td>1000</td>\n",
       "    </tr>\n",
       "    <tr>\n",
       "      <td>1</td>\n",
       "      <td>1000_1</td>\n",
       "      <td>2018-10-08</td>\n",
       "      <td>1000</td>\n",
       "    </tr>\n",
       "    <tr>\n",
       "      <td>2</td>\n",
       "      <td>1000_2</td>\n",
       "      <td>2018-08-04</td>\n",
       "      <td>1000</td>\n",
       "    </tr>\n",
       "    <tr>\n",
       "      <td>3</td>\n",
       "      <td>1000_3</td>\n",
       "      <td>2018-06-16</td>\n",
       "      <td>1000</td>\n",
       "    </tr>\n",
       "    <tr>\n",
       "      <td>4</td>\n",
       "      <td>1000_4</td>\n",
       "      <td>2018-12-05</td>\n",
       "      <td>1000</td>\n",
       "    </tr>\n",
       "  </tbody>\n",
       "</table>\n",
       "</div>"
      ],
      "text/plain": [
       "       id message_date  user_id\n",
       "0  1000_0   2018-06-27     1000\n",
       "1  1000_1   2018-10-08     1000\n",
       "2  1000_2   2018-08-04     1000\n",
       "3  1000_3   2018-06-16     1000\n",
       "4  1000_4   2018-12-05     1000"
      ]
     },
     "metadata": {},
     "output_type": "display_data"
    },
    {
     "name": "stdout",
     "output_type": "stream",
     "text": [
      "\n",
      " Общая информация таблицы messages \n",
      "\n",
      "<class 'pandas.core.frame.DataFrame'>\n",
      "RangeIndex: 123036 entries, 0 to 123035\n",
      "Data columns (total 3 columns):\n",
      "id              123036 non-null object\n",
      "message_date    123036 non-null object\n",
      "user_id         123036 non-null int64\n",
      "dtypes: int64(1), object(2)\n",
      "memory usage: 2.8+ MB\n",
      "\n",
      " Таблица tariffs\n"
     ]
    },
    {
     "data": {
      "text/html": [
       "<div>\n",
       "<style scoped>\n",
       "    .dataframe tbody tr th:only-of-type {\n",
       "        vertical-align: middle;\n",
       "    }\n",
       "\n",
       "    .dataframe tbody tr th {\n",
       "        vertical-align: top;\n",
       "    }\n",
       "\n",
       "    .dataframe thead th {\n",
       "        text-align: right;\n",
       "    }\n",
       "</style>\n",
       "<table border=\"1\" class=\"dataframe\">\n",
       "  <thead>\n",
       "    <tr style=\"text-align: right;\">\n",
       "      <th></th>\n",
       "      <th>messages_included</th>\n",
       "      <th>mb_per_month_included</th>\n",
       "      <th>minutes_included</th>\n",
       "      <th>rub_monthly_fee</th>\n",
       "      <th>rub_per_gb</th>\n",
       "      <th>rub_per_message</th>\n",
       "      <th>rub_per_minute</th>\n",
       "      <th>tariff_name</th>\n",
       "    </tr>\n",
       "  </thead>\n",
       "  <tbody>\n",
       "    <tr>\n",
       "      <td>0</td>\n",
       "      <td>50</td>\n",
       "      <td>15360</td>\n",
       "      <td>500</td>\n",
       "      <td>550</td>\n",
       "      <td>200</td>\n",
       "      <td>3</td>\n",
       "      <td>3</td>\n",
       "      <td>smart</td>\n",
       "    </tr>\n",
       "    <tr>\n",
       "      <td>1</td>\n",
       "      <td>1000</td>\n",
       "      <td>30720</td>\n",
       "      <td>3000</td>\n",
       "      <td>1950</td>\n",
       "      <td>150</td>\n",
       "      <td>1</td>\n",
       "      <td>1</td>\n",
       "      <td>ultra</td>\n",
       "    </tr>\n",
       "  </tbody>\n",
       "</table>\n",
       "</div>"
      ],
      "text/plain": [
       "   messages_included  mb_per_month_included  minutes_included  \\\n",
       "0                 50                  15360               500   \n",
       "1               1000                  30720              3000   \n",
       "\n",
       "   rub_monthly_fee  rub_per_gb  rub_per_message  rub_per_minute tariff_name  \n",
       "0              550         200                3               3       smart  \n",
       "1             1950         150                1               1       ultra  "
      ]
     },
     "metadata": {},
     "output_type": "display_data"
    },
    {
     "name": "stdout",
     "output_type": "stream",
     "text": [
      "\n",
      " Общая информация таблицы tariffs \n",
      "\n",
      "<class 'pandas.core.frame.DataFrame'>\n",
      "RangeIndex: 2 entries, 0 to 1\n",
      "Data columns (total 8 columns):\n",
      "messages_included        2 non-null int64\n",
      "mb_per_month_included    2 non-null int64\n",
      "minutes_included         2 non-null int64\n",
      "rub_monthly_fee          2 non-null int64\n",
      "rub_per_gb               2 non-null int64\n",
      "rub_per_message          2 non-null int64\n",
      "rub_per_minute           2 non-null int64\n",
      "tariff_name              2 non-null object\n",
      "dtypes: int64(7), object(1)\n",
      "memory usage: 256.0+ bytes\n",
      "\n",
      " Таблица users\n"
     ]
    },
    {
     "data": {
      "text/html": [
       "<div>\n",
       "<style scoped>\n",
       "    .dataframe tbody tr th:only-of-type {\n",
       "        vertical-align: middle;\n",
       "    }\n",
       "\n",
       "    .dataframe tbody tr th {\n",
       "        vertical-align: top;\n",
       "    }\n",
       "\n",
       "    .dataframe thead th {\n",
       "        text-align: right;\n",
       "    }\n",
       "</style>\n",
       "<table border=\"1\" class=\"dataframe\">\n",
       "  <thead>\n",
       "    <tr style=\"text-align: right;\">\n",
       "      <th></th>\n",
       "      <th>user_id</th>\n",
       "      <th>age</th>\n",
       "      <th>churn_date</th>\n",
       "      <th>city</th>\n",
       "      <th>first_name</th>\n",
       "      <th>last_name</th>\n",
       "      <th>reg_date</th>\n",
       "      <th>tariff</th>\n",
       "    </tr>\n",
       "  </thead>\n",
       "  <tbody>\n",
       "    <tr>\n",
       "      <td>0</td>\n",
       "      <td>1000</td>\n",
       "      <td>52</td>\n",
       "      <td>NaN</td>\n",
       "      <td>Краснодар</td>\n",
       "      <td>Рафаил</td>\n",
       "      <td>Верещагин</td>\n",
       "      <td>2018-05-25</td>\n",
       "      <td>ultra</td>\n",
       "    </tr>\n",
       "    <tr>\n",
       "      <td>1</td>\n",
       "      <td>1001</td>\n",
       "      <td>41</td>\n",
       "      <td>NaN</td>\n",
       "      <td>Москва</td>\n",
       "      <td>Иван</td>\n",
       "      <td>Ежов</td>\n",
       "      <td>2018-11-01</td>\n",
       "      <td>smart</td>\n",
       "    </tr>\n",
       "    <tr>\n",
       "      <td>2</td>\n",
       "      <td>1002</td>\n",
       "      <td>59</td>\n",
       "      <td>NaN</td>\n",
       "      <td>Стерлитамак</td>\n",
       "      <td>Евгений</td>\n",
       "      <td>Абрамович</td>\n",
       "      <td>2018-06-17</td>\n",
       "      <td>smart</td>\n",
       "    </tr>\n",
       "    <tr>\n",
       "      <td>3</td>\n",
       "      <td>1003</td>\n",
       "      <td>23</td>\n",
       "      <td>NaN</td>\n",
       "      <td>Москва</td>\n",
       "      <td>Белла</td>\n",
       "      <td>Белякова</td>\n",
       "      <td>2018-08-17</td>\n",
       "      <td>ultra</td>\n",
       "    </tr>\n",
       "    <tr>\n",
       "      <td>4</td>\n",
       "      <td>1004</td>\n",
       "      <td>68</td>\n",
       "      <td>NaN</td>\n",
       "      <td>Новокузнецк</td>\n",
       "      <td>Татьяна</td>\n",
       "      <td>Авдеенко</td>\n",
       "      <td>2018-05-14</td>\n",
       "      <td>ultra</td>\n",
       "    </tr>\n",
       "  </tbody>\n",
       "</table>\n",
       "</div>"
      ],
      "text/plain": [
       "   user_id  age churn_date         city first_name  last_name    reg_date  \\\n",
       "0     1000   52        NaN    Краснодар     Рафаил  Верещагин  2018-05-25   \n",
       "1     1001   41        NaN       Москва       Иван       Ежов  2018-11-01   \n",
       "2     1002   59        NaN  Стерлитамак    Евгений  Абрамович  2018-06-17   \n",
       "3     1003   23        NaN       Москва      Белла   Белякова  2018-08-17   \n",
       "4     1004   68        NaN  Новокузнецк    Татьяна   Авдеенко  2018-05-14   \n",
       "\n",
       "  tariff  \n",
       "0  ultra  \n",
       "1  smart  \n",
       "2  smart  \n",
       "3  ultra  \n",
       "4  ultra  "
      ]
     },
     "metadata": {},
     "output_type": "display_data"
    },
    {
     "name": "stdout",
     "output_type": "stream",
     "text": [
      "\n",
      " Общая информация таблицы users \n",
      "\n",
      "<class 'pandas.core.frame.DataFrame'>\n",
      "RangeIndex: 500 entries, 0 to 499\n",
      "Data columns (total 8 columns):\n",
      "user_id       500 non-null int64\n",
      "age           500 non-null int64\n",
      "churn_date    38 non-null object\n",
      "city          500 non-null object\n",
      "first_name    500 non-null object\n",
      "last_name     500 non-null object\n",
      "reg_date      500 non-null object\n",
      "tariff        500 non-null object\n",
      "dtypes: int64(2), object(6)\n",
      "memory usage: 31.4+ KB\n"
     ]
    }
   ],
   "source": [
    "import pandas as pd\n",
    "import matplotlib.pyplot as plt\n",
    "import numpy as np\n",
    "import scipy.stats as st\n",
    "#прочитаем 1-ый файл\n",
    "calls= pd.read_csv('/datasets/calls.csv')\n",
    "#посмотрим первые 5 строк таблицы\n",
    "print('Таблица calls')\n",
    "display(calls.head(5))\n",
    "#просмотрим общую информации о таблице\n",
    "print('\\n Общая информация таблицы calls \\n')\n",
    "calls.info()\n",
    "\n",
    "#Прочитаем остальные файлы и выведем из каждой \n",
    "internet = pd.read_csv('/datasets/internet.csv')\n",
    "messages = pd.read_csv('/datasets/messages.csv')\n",
    "tariffs = pd.read_csv('/datasets/tariffs.csv')\n",
    "users = pd.read_csv('/datasets/users.csv')\n",
    "\n",
    "#посмотрим первые 5 строк таблиц и общую информации о таблицах\n",
    "print('\\n Таблица internet')\n",
    "display(internet.head(5))\n",
    "print('\\n Общая информация таблицы internet \\n')\n",
    "internet.info()\n",
    "\n",
    "print('\\n Таблица messages') \n",
    "display(messages.head(5))\n",
    "print('\\n Общая информация таблицы messages \\n')\n",
    "messages.info()\n",
    "\n",
    "print('\\n Таблица tariffs')\n",
    "display(tariffs.head(5))\n",
    "print('\\n Общая информация таблицы tariffs \\n')\n",
    "tariffs.info()\n",
    "\n",
    "print('\\n Таблица users')\n",
    "display(users.head(5))\n",
    "print('\\n Общая информация таблицы users \\n')\n",
    "users.info()"
   ]
  },
  {
   "cell_type": "markdown",
   "metadata": {},
   "source": [
    "# Вывод"
   ]
  },
  {
   "cell_type": "markdown",
   "metadata": {},
   "source": [
    "Было представлено 5 датасетов, в них содержится информация о совершенных звонках, израсходованном интернете, отправленных сообщениях, тарифах и информация о пользователях. Все файлы за исключением тарифов, содержит столбец ID по которому можно соединить данные."
   ]
  },
  {
   "cell_type": "markdown",
   "metadata": {},
   "source": [
    "# Шаг 2. Подготовьте данные"
   ]
  },
  {
   "cell_type": "markdown",
   "metadata": {},
   "source": [
    "Приведем данные к нужным типам:"
   ]
  },
  {
   "cell_type": "code",
   "execution_count": 2,
   "metadata": {},
   "outputs": [
    {
     "name": "stdout",
     "output_type": "stream",
     "text": [
      "Дубликатов в таблице до удаления: 0\n",
      "Дубликатов в таблице восле удаления: 0\n"
     ]
    }
   ],
   "source": [
    "# Проверим дубликаты в таблице users\n",
    "print ('Дубликатов в таблице до удаления:', users.duplicated().sum())\n",
    "users  = users.drop_duplicates().reset_index(drop = True)\n",
    "print ('Дубликатов в таблице восле удаления:', users.duplicated().sum())"
   ]
  },
  {
   "cell_type": "code",
   "execution_count": 3,
   "metadata": {},
   "outputs": [
    {
     "name": "stdout",
     "output_type": "stream",
     "text": [
      "\n",
      " Таблица calls\n"
     ]
    },
    {
     "data": {
      "text/html": [
       "<div>\n",
       "<style scoped>\n",
       "    .dataframe tbody tr th:only-of-type {\n",
       "        vertical-align: middle;\n",
       "    }\n",
       "\n",
       "    .dataframe tbody tr th {\n",
       "        vertical-align: top;\n",
       "    }\n",
       "\n",
       "    .dataframe thead th {\n",
       "        text-align: right;\n",
       "    }\n",
       "</style>\n",
       "<table border=\"1\" class=\"dataframe\">\n",
       "  <thead>\n",
       "    <tr style=\"text-align: right;\">\n",
       "      <th></th>\n",
       "      <th>id</th>\n",
       "      <th>call_date</th>\n",
       "      <th>duration</th>\n",
       "      <th>user_id</th>\n",
       "    </tr>\n",
       "  </thead>\n",
       "  <tbody>\n",
       "    <tr>\n",
       "      <td>0</td>\n",
       "      <td>1000_0</td>\n",
       "      <td>2018-07-25</td>\n",
       "      <td>0</td>\n",
       "      <td>1000</td>\n",
       "    </tr>\n",
       "    <tr>\n",
       "      <td>1</td>\n",
       "      <td>1000_1</td>\n",
       "      <td>2018-08-17</td>\n",
       "      <td>0</td>\n",
       "      <td>1000</td>\n",
       "    </tr>\n",
       "    <tr>\n",
       "      <td>2</td>\n",
       "      <td>1000_2</td>\n",
       "      <td>2018-06-11</td>\n",
       "      <td>3</td>\n",
       "      <td>1000</td>\n",
       "    </tr>\n",
       "    <tr>\n",
       "      <td>3</td>\n",
       "      <td>1000_3</td>\n",
       "      <td>2018-09-21</td>\n",
       "      <td>14</td>\n",
       "      <td>1000</td>\n",
       "    </tr>\n",
       "    <tr>\n",
       "      <td>4</td>\n",
       "      <td>1000_4</td>\n",
       "      <td>2018-12-15</td>\n",
       "      <td>6</td>\n",
       "      <td>1000</td>\n",
       "    </tr>\n",
       "  </tbody>\n",
       "</table>\n",
       "</div>"
      ],
      "text/plain": [
       "       id   call_date  duration  user_id\n",
       "0  1000_0  2018-07-25         0     1000\n",
       "1  1000_1  2018-08-17         0     1000\n",
       "2  1000_2  2018-06-11         3     1000\n",
       "3  1000_3  2018-09-21        14     1000\n",
       "4  1000_4  2018-12-15         6     1000"
      ]
     },
     "metadata": {},
     "output_type": "display_data"
    },
    {
     "name": "stdout",
     "output_type": "stream",
     "text": [
      "\n",
      " Количество уникальных значений длительности звонков \n",
      "\n"
     ]
    },
    {
     "data": {
      "text/plain": [
       "0     39613\n",
       "7     11510\n",
       "6     11457\n",
       "5     11411\n",
       "8     11272\n",
       "9     10973\n",
       "4     10918\n",
       "3     10362\n",
       "10    10186\n",
       "11     9385\n",
       "2      9194\n",
       "12     8448\n",
       "1      8402\n",
       "13     7486\n",
       "14     6554\n",
       "15     5505\n",
       "16     4551\n",
       "17     3671\n",
       "18     2984\n",
       "19     2411\n",
       "20     1806\n",
       "21     1304\n",
       "22      975\n",
       "23      720\n",
       "24      468\n",
       "25      363\n",
       "26      257\n",
       "27      151\n",
       "28      104\n",
       "29       56\n",
       "30       39\n",
       "31       30\n",
       "32       17\n",
       "33       10\n",
       "35        5\n",
       "34        3\n",
       "36        2\n",
       "37        2\n",
       "38        2\n",
       "Name: duration, dtype: int64"
      ]
     },
     "metadata": {},
     "output_type": "display_data"
    },
    {
     "name": "stdout",
     "output_type": "stream",
     "text": [
      "\n",
      "Таблица после замены времени разговора 0 мин. на значение 1 мин.\n",
      "\n",
      "\n"
     ]
    },
    {
     "data": {
      "text/html": [
       "<div>\n",
       "<style scoped>\n",
       "    .dataframe tbody tr th:only-of-type {\n",
       "        vertical-align: middle;\n",
       "    }\n",
       "\n",
       "    .dataframe tbody tr th {\n",
       "        vertical-align: top;\n",
       "    }\n",
       "\n",
       "    .dataframe thead th {\n",
       "        text-align: right;\n",
       "    }\n",
       "</style>\n",
       "<table border=\"1\" class=\"dataframe\">\n",
       "  <thead>\n",
       "    <tr style=\"text-align: right;\">\n",
       "      <th></th>\n",
       "      <th>id</th>\n",
       "      <th>call_date</th>\n",
       "      <th>duration</th>\n",
       "      <th>user_id</th>\n",
       "    </tr>\n",
       "  </thead>\n",
       "  <tbody>\n",
       "    <tr>\n",
       "      <td>0</td>\n",
       "      <td>1000_0</td>\n",
       "      <td>2018-07-25</td>\n",
       "      <td>1</td>\n",
       "      <td>1000</td>\n",
       "    </tr>\n",
       "    <tr>\n",
       "      <td>1</td>\n",
       "      <td>1000_1</td>\n",
       "      <td>2018-08-17</td>\n",
       "      <td>1</td>\n",
       "      <td>1000</td>\n",
       "    </tr>\n",
       "    <tr>\n",
       "      <td>2</td>\n",
       "      <td>1000_2</td>\n",
       "      <td>2018-06-11</td>\n",
       "      <td>3</td>\n",
       "      <td>1000</td>\n",
       "    </tr>\n",
       "    <tr>\n",
       "      <td>3</td>\n",
       "      <td>1000_3</td>\n",
       "      <td>2018-09-21</td>\n",
       "      <td>14</td>\n",
       "      <td>1000</td>\n",
       "    </tr>\n",
       "    <tr>\n",
       "      <td>4</td>\n",
       "      <td>1000_4</td>\n",
       "      <td>2018-12-15</td>\n",
       "      <td>6</td>\n",
       "      <td>1000</td>\n",
       "    </tr>\n",
       "  </tbody>\n",
       "</table>\n",
       "</div>"
      ],
      "text/plain": [
       "       id   call_date  duration  user_id\n",
       "0  1000_0  2018-07-25         1     1000\n",
       "1  1000_1  2018-08-17         1     1000\n",
       "2  1000_2  2018-06-11         3     1000\n",
       "3  1000_3  2018-09-21        14     1000\n",
       "4  1000_4  2018-12-15         6     1000"
      ]
     },
     "metadata": {},
     "output_type": "display_data"
    },
    {
     "data": {
      "text/plain": [
       "Text(0.5, 1.0, '\\n Гистограмма длительности звонков после замены времени разговора 0 мин. на значение 1 мин \\n')"
      ]
     },
     "execution_count": 3,
     "metadata": {},
     "output_type": "execute_result"
    },
    {
     "data": {
      "image/png": "[encoded data removed]",
      "text/plain": [
       "<Figure size 432x288 with 1 Axes>"
      ]
     },
     "metadata": {
      "needs_background": "light"
     },
     "output_type": "display_data"
    },
    {
     "data": {
      "image/png": "[encoded data removed]",
      "text/plain": [
       "<Figure size 432x288 with 1 Axes>"
      ]
     },
     "metadata": {
      "needs_background": "light"
     },
     "output_type": "display_data"
    }
   ],
   "source": [
    "# Так как согласно тарифу если проговорили секунду, то время разговора округляется до минуты, поэтому округлим\n",
    "# столбец calls['duration'] в большую сторону и заменим тип данных с float64 на int64, так как секнды больше не учитываются\n",
    "calls['duration'] = calls['duration'].apply(np.ceil).astype(int)\n",
    "print('\\n Таблица calls')\n",
    "display(calls.head(5))\n",
    "\n",
    "#Оценим количество звонком по 0 минут. Посмотрим кол-во значений с длительностью 0 минут и построим гистограмму\n",
    "print('\\n Количество уникальных значений длительности звонков \\n')\n",
    "display(calls['duration'].sort_values(ascending = False).value_counts())\n",
    "calls.hist('duration', bins=40, range=(0, 40))\n",
    "plt.title('\\n Гистограмма длительности звонков \\n')\n",
    "\n",
    "#В связи с тем, что нулевых значений очень много, заменим длительность звонка 0 минут на минимально возможное - 1 минута.\n",
    "#Было сделано предположение что либо это очень коротнкие звонки и время не учлось, либо произошел сбой выгрузки.\n",
    "# Но таких значений очень много и исключать их не надо. \n",
    "calls['duration'] = calls['duration'].replace(0,1)\n",
    "print('\\nТаблица после замены времени разговора 0 мин. на значение 1 мин.\\n\\n')\n",
    "display(calls.head(5))\n",
    "\n",
    "calls.hist('duration', bins=40, range=(0, 40))\n",
    "plt.title('\\n Гистограмма длительности звонков после замены времени разговора 0 мин. на значение 1 мин \\n')"
   ]
  },
  {
   "cell_type": "code",
   "execution_count": 4,
   "metadata": {},
   "outputs": [
    {
     "name": "stdout",
     "output_type": "stream",
     "text": [
      "\n",
      " Информация о таблице calls \n",
      "\n",
      "<class 'pandas.core.frame.DataFrame'>\n",
      "RangeIndex: 202607 entries, 0 to 202606\n",
      "Data columns (total 4 columns):\n",
      "id           202607 non-null object\n",
      "call_date    202607 non-null datetime64[ns]\n",
      "duration     202607 non-null int64\n",
      "user_id      202607 non-null int64\n",
      "dtypes: datetime64[ns](1), int64(2), object(1)\n",
      "memory usage: 6.2+ MB\n",
      "\n",
      " Информация о таблице internet \n",
      "\n",
      "<class 'pandas.core.frame.DataFrame'>\n",
      "RangeIndex: 149396 entries, 0 to 149395\n",
      "Data columns (total 5 columns):\n",
      "Unnamed: 0      149396 non-null int64\n",
      "id              149396 non-null object\n",
      "mb_used         149396 non-null float64\n",
      "session_date    149396 non-null datetime64[ns]\n",
      "user_id         149396 non-null int64\n",
      "dtypes: datetime64[ns](1), float64(1), int64(2), object(1)\n",
      "memory usage: 5.7+ MB\n",
      "\n",
      " Информация о таблице messages \n",
      "\n",
      "<class 'pandas.core.frame.DataFrame'>\n",
      "RangeIndex: 123036 entries, 0 to 123035\n",
      "Data columns (total 3 columns):\n",
      "id              123036 non-null object\n",
      "message_date    123036 non-null datetime64[ns]\n",
      "user_id         123036 non-null int64\n",
      "dtypes: datetime64[ns](1), int64(1), object(1)\n",
      "memory usage: 2.8+ MB\n",
      "\n",
      " Информация о таблице users \n",
      "\n",
      "<class 'pandas.core.frame.DataFrame'>\n",
      "RangeIndex: 500 entries, 0 to 499\n",
      "Data columns (total 8 columns):\n",
      "user_id       500 non-null int64\n",
      "age           500 non-null int64\n",
      "churn_date    38 non-null datetime64[ns]\n",
      "city          500 non-null object\n",
      "first_name    500 non-null object\n",
      "last_name     500 non-null object\n",
      "reg_date      500 non-null datetime64[ns]\n",
      "tariff        500 non-null object\n",
      "dtypes: datetime64[ns](2), int64(2), object(4)\n",
      "memory usage: 31.4+ KB\n"
     ]
    }
   ],
   "source": [
    "#Преобразуем столбцы с датой из формата object в формат datetime64\n",
    "calls['call_date']= pd.to_datetime(calls['call_date'])\n",
    "internet['session_date']= pd.to_datetime(internet['session_date'])\n",
    "messages['message_date']= pd.to_datetime(messages['message_date'])\n",
    "users['churn_date']= pd.to_datetime(users['churn_date'])\n",
    "users['reg_date']= pd.to_datetime(users['reg_date'])\n",
    "print('\\n Информация о таблице calls \\n')\n",
    "calls.info()\n",
    "print('\\n Информация о таблице internet \\n')\n",
    "internet.info()\n",
    "print('\\n Информация о таблице messages \\n')\n",
    "messages.info()\n",
    "print('\\n Информация о таблице users \\n')\n",
    "users.info()"
   ]
  },
  {
   "cell_type": "code",
   "execution_count": 5,
   "metadata": {},
   "outputs": [
    {
     "name": "stdout",
     "output_type": "stream",
     "text": [
      "\n",
      " Таблица internet с новым столбцом, где использованные данные указаны в Гб\n"
     ]
    },
    {
     "data": {
      "text/html": [
       "<div>\n",
       "<style scoped>\n",
       "    .dataframe tbody tr th:only-of-type {\n",
       "        vertical-align: middle;\n",
       "    }\n",
       "\n",
       "    .dataframe tbody tr th {\n",
       "        vertical-align: top;\n",
       "    }\n",
       "\n",
       "    .dataframe thead th {\n",
       "        text-align: right;\n",
       "    }\n",
       "</style>\n",
       "<table border=\"1\" class=\"dataframe\">\n",
       "  <thead>\n",
       "    <tr style=\"text-align: right;\">\n",
       "      <th></th>\n",
       "      <th>Unnamed: 0</th>\n",
       "      <th>id</th>\n",
       "      <th>mb_used</th>\n",
       "      <th>session_date</th>\n",
       "      <th>user_id</th>\n",
       "      <th>gb_used</th>\n",
       "    </tr>\n",
       "  </thead>\n",
       "  <tbody>\n",
       "    <tr>\n",
       "      <td>0</td>\n",
       "      <td>0</td>\n",
       "      <td>1000_0</td>\n",
       "      <td>112.95</td>\n",
       "      <td>2018-11-25</td>\n",
       "      <td>1000</td>\n",
       "      <td>0.110303</td>\n",
       "    </tr>\n",
       "    <tr>\n",
       "      <td>1</td>\n",
       "      <td>1</td>\n",
       "      <td>1000_1</td>\n",
       "      <td>1052.81</td>\n",
       "      <td>2018-09-07</td>\n",
       "      <td>1000</td>\n",
       "      <td>1.028135</td>\n",
       "    </tr>\n",
       "    <tr>\n",
       "      <td>2</td>\n",
       "      <td>2</td>\n",
       "      <td>1000_2</td>\n",
       "      <td>1197.26</td>\n",
       "      <td>2018-06-25</td>\n",
       "      <td>1000</td>\n",
       "      <td>1.169199</td>\n",
       "    </tr>\n",
       "    <tr>\n",
       "      <td>3</td>\n",
       "      <td>3</td>\n",
       "      <td>1000_3</td>\n",
       "      <td>550.27</td>\n",
       "      <td>2018-08-22</td>\n",
       "      <td>1000</td>\n",
       "      <td>0.537373</td>\n",
       "    </tr>\n",
       "    <tr>\n",
       "      <td>4</td>\n",
       "      <td>4</td>\n",
       "      <td>1000_4</td>\n",
       "      <td>302.56</td>\n",
       "      <td>2018-09-24</td>\n",
       "      <td>1000</td>\n",
       "      <td>0.295469</td>\n",
       "    </tr>\n",
       "  </tbody>\n",
       "</table>\n",
       "</div>"
      ],
      "text/plain": [
       "   Unnamed: 0      id  mb_used session_date  user_id   gb_used\n",
       "0           0  1000_0   112.95   2018-11-25     1000  0.110303\n",
       "1           1  1000_1  1052.81   2018-09-07     1000  1.028135\n",
       "2           2  1000_2  1197.26   2018-06-25     1000  1.169199\n",
       "3           3  1000_3   550.27   2018-08-22     1000  0.537373\n",
       "4           4  1000_4   302.56   2018-09-24     1000  0.295469"
      ]
     },
     "metadata": {},
     "output_type": "display_data"
    },
    {
     "data": {
      "text/plain": [
       "'Таблица с уникальными значениями тарифка'"
      ]
     },
     "metadata": {},
     "output_type": "display_data"
    },
    {
     "data": {
      "text/plain": [
       "0.000000    19598\n",
       "0.328037        9\n",
       "0.436816        9\n",
       "0.192930        9\n",
       "0.466816        8\n",
       "            ...  \n",
       "0.592598        1\n",
       "0.224414        1\n",
       "0.469668        1\n",
       "0.049912        1\n",
       "0.323984        1\n",
       "Name: gb_used, Length: 70003, dtype: int64"
      ]
     },
     "metadata": {},
     "output_type": "display_data"
    },
    {
     "name": "stdout",
     "output_type": "stream",
     "text": [
      "Среднее значение использованного трафика: 0.3615160413771327 Гб\n"
     ]
    },
    {
     "data": {
      "text/plain": [
       "Text(0.5, 1.0, '\\n Гистограмма интернет-трафика после замены нулевых значений на средние \\n')"
      ]
     },
     "execution_count": 5,
     "metadata": {},
     "output_type": "execute_result"
    },
    {
     "data": {
      "image/png": "[encoded data removed]",
      "text/plain": [
       "<Figure size 432x288 with 1 Axes>"
      ]
     },
     "metadata": {
      "needs_background": "light"
     },
     "output_type": "display_data"
    },
    {
     "data": {
      "image/png": "[encoded data removed]",
      "text/plain": [
       "<Figure size 432x288 with 1 Axes>"
      ]
     },
     "metadata": {
      "needs_background": "light"
     },
     "output_type": "display_data"
    }
   ],
   "source": [
    "#Переведем Мегобайты в Гигобайты и запишем полученные данные в новый столбец таблицы internet\n",
    "internet['gb_used'] = (internet['mb_used']/1024)\n",
    "print('\\n Таблица internet с новым столбцом, где использованные данные указаны в Гб')\n",
    "display(internet.head(5))\n",
    "\n",
    "display('Таблица с уникальными значениями тарифка',internet['gb_used'].sort_values(ascending = False).value_counts())\n",
    "internet.hist('gb_used', bins=50, range=(0, 2))\n",
    "plt.title('\\n Гистограмма интернет-трафика\\n')\n",
    "# Очень много нулевых значений в интернет-трафике, возможно произошел сбой и данные не учлись, либо \n",
    "# ошибка при выгрузке. В связи с чем, сделаем замену нулевых значений на средние значение. \n",
    "internet_mean = internet['gb_used'].mean()\n",
    "print('Среднее значение использованного трафика:', internet_mean, 'Гб')\n",
    "internet['gb_used'] = internet['gb_used'].replace(0,internet_mean)\n",
    "# Построим гистограмму после замены нулевыхь значение на среднее\n",
    "internet.hist('gb_used', bins=50, range=(0, 2))\n",
    "plt.title('\\n Гистограмма интернет-трафика после замены нулевых значений на средние \\n')"
   ]
  },
  {
   "cell_type": "code",
   "execution_count": 6,
   "metadata": {},
   "outputs": [
    {
     "name": "stdout",
     "output_type": "stream",
     "text": [
      "\n",
      "Таблица users, где заменили пропуски даты отключения на дату выгрузки таблицы\n"
     ]
    },
    {
     "data": {
      "text/html": [
       "<div>\n",
       "<style scoped>\n",
       "    .dataframe tbody tr th:only-of-type {\n",
       "        vertical-align: middle;\n",
       "    }\n",
       "\n",
       "    .dataframe tbody tr th {\n",
       "        vertical-align: top;\n",
       "    }\n",
       "\n",
       "    .dataframe thead th {\n",
       "        text-align: right;\n",
       "    }\n",
       "</style>\n",
       "<table border=\"1\" class=\"dataframe\">\n",
       "  <thead>\n",
       "    <tr style=\"text-align: right;\">\n",
       "      <th></th>\n",
       "      <th>user_id</th>\n",
       "      <th>age</th>\n",
       "      <th>churn_date</th>\n",
       "      <th>city</th>\n",
       "      <th>first_name</th>\n",
       "      <th>last_name</th>\n",
       "      <th>reg_date</th>\n",
       "      <th>tariff</th>\n",
       "    </tr>\n",
       "  </thead>\n",
       "  <tbody>\n",
       "    <tr>\n",
       "      <td>0</td>\n",
       "      <td>1000</td>\n",
       "      <td>52</td>\n",
       "      <td>2019-01-01</td>\n",
       "      <td>Краснодар</td>\n",
       "      <td>Рафаил</td>\n",
       "      <td>Верещагин</td>\n",
       "      <td>2018-05-25</td>\n",
       "      <td>ultra</td>\n",
       "    </tr>\n",
       "    <tr>\n",
       "      <td>1</td>\n",
       "      <td>1001</td>\n",
       "      <td>41</td>\n",
       "      <td>2019-01-01</td>\n",
       "      <td>Москва</td>\n",
       "      <td>Иван</td>\n",
       "      <td>Ежов</td>\n",
       "      <td>2018-11-01</td>\n",
       "      <td>smart</td>\n",
       "    </tr>\n",
       "    <tr>\n",
       "      <td>2</td>\n",
       "      <td>1002</td>\n",
       "      <td>59</td>\n",
       "      <td>2019-01-01</td>\n",
       "      <td>Стерлитамак</td>\n",
       "      <td>Евгений</td>\n",
       "      <td>Абрамович</td>\n",
       "      <td>2018-06-17</td>\n",
       "      <td>smart</td>\n",
       "    </tr>\n",
       "    <tr>\n",
       "      <td>3</td>\n",
       "      <td>1003</td>\n",
       "      <td>23</td>\n",
       "      <td>2019-01-01</td>\n",
       "      <td>Москва</td>\n",
       "      <td>Белла</td>\n",
       "      <td>Белякова</td>\n",
       "      <td>2018-08-17</td>\n",
       "      <td>ultra</td>\n",
       "    </tr>\n",
       "    <tr>\n",
       "      <td>4</td>\n",
       "      <td>1004</td>\n",
       "      <td>68</td>\n",
       "      <td>2019-01-01</td>\n",
       "      <td>Новокузнецк</td>\n",
       "      <td>Татьяна</td>\n",
       "      <td>Авдеенко</td>\n",
       "      <td>2018-05-14</td>\n",
       "      <td>ultra</td>\n",
       "    </tr>\n",
       "  </tbody>\n",
       "</table>\n",
       "</div>"
      ],
      "text/plain": [
       "   user_id  age churn_date         city first_name  last_name   reg_date  \\\n",
       "0     1000   52 2019-01-01    Краснодар     Рафаил  Верещагин 2018-05-25   \n",
       "1     1001   41 2019-01-01       Москва       Иван       Ежов 2018-11-01   \n",
       "2     1002   59 2019-01-01  Стерлитамак    Евгений  Абрамович 2018-06-17   \n",
       "3     1003   23 2019-01-01       Москва      Белла   Белякова 2018-08-17   \n",
       "4     1004   68 2019-01-01  Новокузнецк    Татьяна   Авдеенко 2018-05-14   \n",
       "\n",
       "  tariff  \n",
       "0  ultra  \n",
       "1  smart  \n",
       "2  smart  \n",
       "3  ultra  \n",
       "4  ultra  "
      ]
     },
     "metadata": {},
     "output_type": "display_data"
    }
   ],
   "source": [
    "#Заменим в таблице users нулевые значения в столбце churn_date на дату выгрузки таблицы. Чтобы в далнейшем можно  \n",
    "# было посчитать кол-во не отключенных клиентов\n",
    "users = users.fillna('2019-01-01') #заменим нулевые значения на дату, Т.к. анализируем весь 2018 год, установим дату следующего дня\n",
    "users['churn_date'] = pd.to_datetime(users['churn_date'], format='%Y-%m-%d') # приведм формат даты в одинаковый вид\n",
    "print('\\nТаблица users, где заменили пропуски даты отключения на дату выгрузки таблицы')\n",
    "display(users.head(5))"
   ]
  },
  {
   "cell_type": "markdown",
   "metadata": {},
   "source": [
    "# Вывод"
   ]
  },
  {
   "cell_type": "markdown",
   "metadata": {},
   "source": [
    "Проверили таблицу users на дубликаты, в результате дубликаты не были обнаружены.\n",
    "Так как согласно тарифу если проговорили секунду, то время разговора округляется до минуты, поэтому округлим\n",
    "столбец duration в датасете calls в большую сторону и заменили тип данных с float64 на int64, так как секнды больше не учитываются.\n",
    "Оценили количество звонков с длительностью 0 минут и построили гистограмму. Получилось, что таких значений очень много и было сделано предаоложение, что это либо очень короткие звонки, либо абонент не принял звонок, поэтому нулевые значения заменили на 1 \n",
    "Преобразовали столбцы с датой из формата object в формат datetime64 во всех датасетах, в том числе и в датасете users, где присутствует ата регистрации и дата отключения.\n",
    "Перевели Мегобайты в Гигобайты в датасете internet и запиcали полученные данные в новый столбец. Замели данные с нулевым интернет-трафиком на вычесленное среднее значение.\n",
    "Заменили в таблице users нулевые значения в столбце churn_date на дату выгрузки таблицы, чтобы в далнейшем можно было посчитать количество не отключенных клиентов."
   ]
  },
  {
   "cell_type": "markdown",
   "metadata": {},
   "source": [
    "Посчитаем для каждого пользователя:\n",
    "1. Количество сделанных звонков и израсходованных минут разговора по месяцам;\n",
    "2. Количество отправленных сообщений по месяцам;\n",
    "3. Объем израсходованного интернет-трафика по месяцам;\n",
    "4. Помесячную выручку с каждого пользователя"
   ]
  },
  {
   "cell_type": "code",
   "execution_count": 7,
   "metadata": {},
   "outputs": [
    {
     "name": "stdout",
     "output_type": "stream",
     "text": [
      "\n",
      "Таблица calls с добавленым столбцом месяц\n"
     ]
    },
    {
     "data": {
      "text/html": [
       "<div>\n",
       "<style scoped>\n",
       "    .dataframe tbody tr th:only-of-type {\n",
       "        vertical-align: middle;\n",
       "    }\n",
       "\n",
       "    .dataframe tbody tr th {\n",
       "        vertical-align: top;\n",
       "    }\n",
       "\n",
       "    .dataframe thead th {\n",
       "        text-align: right;\n",
       "    }\n",
       "</style>\n",
       "<table border=\"1\" class=\"dataframe\">\n",
       "  <thead>\n",
       "    <tr style=\"text-align: right;\">\n",
       "      <th></th>\n",
       "      <th>id</th>\n",
       "      <th>call_date</th>\n",
       "      <th>duration</th>\n",
       "      <th>user_id</th>\n",
       "      <th>month</th>\n",
       "    </tr>\n",
       "  </thead>\n",
       "  <tbody>\n",
       "    <tr>\n",
       "      <td>0</td>\n",
       "      <td>1000_0</td>\n",
       "      <td>2018-07-25</td>\n",
       "      <td>1</td>\n",
       "      <td>1000</td>\n",
       "      <td>7</td>\n",
       "    </tr>\n",
       "    <tr>\n",
       "      <td>1</td>\n",
       "      <td>1000_1</td>\n",
       "      <td>2018-08-17</td>\n",
       "      <td>1</td>\n",
       "      <td>1000</td>\n",
       "      <td>8</td>\n",
       "    </tr>\n",
       "    <tr>\n",
       "      <td>2</td>\n",
       "      <td>1000_2</td>\n",
       "      <td>2018-06-11</td>\n",
       "      <td>3</td>\n",
       "      <td>1000</td>\n",
       "      <td>6</td>\n",
       "    </tr>\n",
       "  </tbody>\n",
       "</table>\n",
       "</div>"
      ],
      "text/plain": [
       "       id  call_date  duration  user_id  month\n",
       "0  1000_0 2018-07-25         1     1000      7\n",
       "1  1000_1 2018-08-17         1     1000      8\n",
       "2  1000_2 2018-06-11         3     1000      6"
      ]
     },
     "metadata": {},
     "output_type": "display_data"
    },
    {
     "name": "stdout",
     "output_type": "stream",
     "text": [
      "\n",
      "Таблица internet с добавленым столбцом месяц\n"
     ]
    },
    {
     "data": {
      "text/html": [
       "<div>\n",
       "<style scoped>\n",
       "    .dataframe tbody tr th:only-of-type {\n",
       "        vertical-align: middle;\n",
       "    }\n",
       "\n",
       "    .dataframe tbody tr th {\n",
       "        vertical-align: top;\n",
       "    }\n",
       "\n",
       "    .dataframe thead th {\n",
       "        text-align: right;\n",
       "    }\n",
       "</style>\n",
       "<table border=\"1\" class=\"dataframe\">\n",
       "  <thead>\n",
       "    <tr style=\"text-align: right;\">\n",
       "      <th></th>\n",
       "      <th>Unnamed: 0</th>\n",
       "      <th>id</th>\n",
       "      <th>mb_used</th>\n",
       "      <th>session_date</th>\n",
       "      <th>user_id</th>\n",
       "      <th>gb_used</th>\n",
       "      <th>month</th>\n",
       "    </tr>\n",
       "  </thead>\n",
       "  <tbody>\n",
       "    <tr>\n",
       "      <td>0</td>\n",
       "      <td>0</td>\n",
       "      <td>1000_0</td>\n",
       "      <td>112.95</td>\n",
       "      <td>2018-11-25</td>\n",
       "      <td>1000</td>\n",
       "      <td>0.110303</td>\n",
       "      <td>11</td>\n",
       "    </tr>\n",
       "    <tr>\n",
       "      <td>1</td>\n",
       "      <td>1</td>\n",
       "      <td>1000_1</td>\n",
       "      <td>1052.81</td>\n",
       "      <td>2018-09-07</td>\n",
       "      <td>1000</td>\n",
       "      <td>1.028135</td>\n",
       "      <td>9</td>\n",
       "    </tr>\n",
       "    <tr>\n",
       "      <td>2</td>\n",
       "      <td>2</td>\n",
       "      <td>1000_2</td>\n",
       "      <td>1197.26</td>\n",
       "      <td>2018-06-25</td>\n",
       "      <td>1000</td>\n",
       "      <td>1.169199</td>\n",
       "      <td>6</td>\n",
       "    </tr>\n",
       "  </tbody>\n",
       "</table>\n",
       "</div>"
      ],
      "text/plain": [
       "   Unnamed: 0      id  mb_used session_date  user_id   gb_used  month\n",
       "0           0  1000_0   112.95   2018-11-25     1000  0.110303     11\n",
       "1           1  1000_1  1052.81   2018-09-07     1000  1.028135      9\n",
       "2           2  1000_2  1197.26   2018-06-25     1000  1.169199      6"
      ]
     },
     "metadata": {},
     "output_type": "display_data"
    },
    {
     "name": "stdout",
     "output_type": "stream",
     "text": [
      "\n",
      "Таблица messages с добавленым столбцом месяц\n"
     ]
    },
    {
     "data": {
      "text/html": [
       "<div>\n",
       "<style scoped>\n",
       "    .dataframe tbody tr th:only-of-type {\n",
       "        vertical-align: middle;\n",
       "    }\n",
       "\n",
       "    .dataframe tbody tr th {\n",
       "        vertical-align: top;\n",
       "    }\n",
       "\n",
       "    .dataframe thead th {\n",
       "        text-align: right;\n",
       "    }\n",
       "</style>\n",
       "<table border=\"1\" class=\"dataframe\">\n",
       "  <thead>\n",
       "    <tr style=\"text-align: right;\">\n",
       "      <th></th>\n",
       "      <th>id</th>\n",
       "      <th>message_date</th>\n",
       "      <th>user_id</th>\n",
       "      <th>month</th>\n",
       "    </tr>\n",
       "  </thead>\n",
       "  <tbody>\n",
       "    <tr>\n",
       "      <td>0</td>\n",
       "      <td>1000_0</td>\n",
       "      <td>2018-06-27</td>\n",
       "      <td>1000</td>\n",
       "      <td>6</td>\n",
       "    </tr>\n",
       "    <tr>\n",
       "      <td>1</td>\n",
       "      <td>1000_1</td>\n",
       "      <td>2018-10-08</td>\n",
       "      <td>1000</td>\n",
       "      <td>10</td>\n",
       "    </tr>\n",
       "    <tr>\n",
       "      <td>2</td>\n",
       "      <td>1000_2</td>\n",
       "      <td>2018-08-04</td>\n",
       "      <td>1000</td>\n",
       "      <td>8</td>\n",
       "    </tr>\n",
       "  </tbody>\n",
       "</table>\n",
       "</div>"
      ],
      "text/plain": [
       "       id message_date  user_id  month\n",
       "0  1000_0   2018-06-27     1000      6\n",
       "1  1000_1   2018-10-08     1000     10\n",
       "2  1000_2   2018-08-04     1000      8"
      ]
     },
     "metadata": {},
     "output_type": "display_data"
    },
    {
     "name": "stdout",
     "output_type": "stream",
     "text": [
      "\n",
      " Таблица с кол-вом звонков и длительностью для каждого пользователя\n"
     ]
    },
    {
     "data": {
      "text/html": [
       "<div>\n",
       "<style scoped>\n",
       "    .dataframe tbody tr th:only-of-type {\n",
       "        vertical-align: middle;\n",
       "    }\n",
       "\n",
       "    .dataframe tbody tr th {\n",
       "        vertical-align: top;\n",
       "    }\n",
       "\n",
       "    .dataframe thead th {\n",
       "        text-align: right;\n",
       "    }\n",
       "</style>\n",
       "<table border=\"1\" class=\"dataframe\">\n",
       "  <thead>\n",
       "    <tr style=\"text-align: right;\">\n",
       "      <th></th>\n",
       "      <th></th>\n",
       "      <th>sum_duration</th>\n",
       "      <th>count_duration</th>\n",
       "    </tr>\n",
       "    <tr>\n",
       "      <th>user_id</th>\n",
       "      <th>month</th>\n",
       "      <th></th>\n",
       "      <th></th>\n",
       "    </tr>\n",
       "  </thead>\n",
       "  <tbody>\n",
       "    <tr>\n",
       "      <td rowspan=\"5\" valign=\"top\">1000</td>\n",
       "      <td>5</td>\n",
       "      <td>164</td>\n",
       "      <td>22</td>\n",
       "    </tr>\n",
       "    <tr>\n",
       "      <td>6</td>\n",
       "      <td>187</td>\n",
       "      <td>43</td>\n",
       "    </tr>\n",
       "    <tr>\n",
       "      <td>7</td>\n",
       "      <td>346</td>\n",
       "      <td>47</td>\n",
       "    </tr>\n",
       "    <tr>\n",
       "      <td>8</td>\n",
       "      <td>418</td>\n",
       "      <td>52</td>\n",
       "    </tr>\n",
       "    <tr>\n",
       "      <td>9</td>\n",
       "      <td>478</td>\n",
       "      <td>58</td>\n",
       "    </tr>\n",
       "  </tbody>\n",
       "</table>\n",
       "</div>"
      ],
      "text/plain": [
       "               sum_duration  count_duration\n",
       "user_id month                              \n",
       "1000    5               164              22\n",
       "        6               187              43\n",
       "        7               346              47\n",
       "        8               418              52\n",
       "        9               478              58"
      ]
     },
     "metadata": {},
     "output_type": "display_data"
    }
   ],
   "source": [
    "#Посчитаем количество сделанных звонков и израсходованных минут разговора по месяцам;\n",
    "\n",
    "#Добавим новый столбец с месяцем в 3 таблицы\n",
    "calls['month'] = calls['call_date'].dt.month\n",
    "internet['month'] = internet['session_date'].dt.month\n",
    "messages['month'] = messages['message_date'].dt.month\n",
    "print('\\nТаблица calls с добавленым столбцом месяц')\n",
    "display(calls.head(3))\n",
    "print('\\nТаблица internet с добавленым столбцом месяц')\n",
    "display(internet.head(3))\n",
    "print('\\nТаблица messages с добавленым столбцом месяц')\n",
    "display(messages.head(3))\n",
    "\n",
    "#Объеденим таблицу calls и messages\n",
    "calls_messages = calls.merge(messages, on=['user_id', 'month'])\n",
    "calls_messages.reset_index()\n",
    "#сделаем pivot для двух таблиц, сгруппируем по user_id и посчитаем кол-во и длительность звонков:\n",
    "calls_group = calls.pivot_table(index=['user_id', 'month'], values='duration',aggfunc=['sum','count'])\n",
    "calls_group.columns = ['sum_duration', 'count_duration']\n",
    "calls_group.reset_index()\n",
    "print('\\n Таблица с кол-вом звонков и длительностью для каждого пользователя')\n",
    "display(calls_group.head(5))"
   ]
  },
  {
   "cell_type": "code",
   "execution_count": 8,
   "metadata": {},
   "outputs": [
    {
     "name": "stdout",
     "output_type": "stream",
     "text": [
      "\n",
      " Таблица с кол-вом сообщений для каждого пользователя по месяцам\n"
     ]
    },
    {
     "data": {
      "text/html": [
       "<div>\n",
       "<style scoped>\n",
       "    .dataframe tbody tr th:only-of-type {\n",
       "        vertical-align: middle;\n",
       "    }\n",
       "\n",
       "    .dataframe tbody tr th {\n",
       "        vertical-align: top;\n",
       "    }\n",
       "\n",
       "    .dataframe thead th {\n",
       "        text-align: right;\n",
       "    }\n",
       "</style>\n",
       "<table border=\"1\" class=\"dataframe\">\n",
       "  <thead>\n",
       "    <tr style=\"text-align: right;\">\n",
       "      <th></th>\n",
       "      <th></th>\n",
       "      <th>count_message</th>\n",
       "    </tr>\n",
       "    <tr>\n",
       "      <th>user_id</th>\n",
       "      <th>month</th>\n",
       "      <th></th>\n",
       "    </tr>\n",
       "  </thead>\n",
       "  <tbody>\n",
       "    <tr>\n",
       "      <td rowspan=\"5\" valign=\"top\">1000</td>\n",
       "      <td>5</td>\n",
       "      <td>22</td>\n",
       "    </tr>\n",
       "    <tr>\n",
       "      <td>6</td>\n",
       "      <td>60</td>\n",
       "    </tr>\n",
       "    <tr>\n",
       "      <td>7</td>\n",
       "      <td>75</td>\n",
       "    </tr>\n",
       "    <tr>\n",
       "      <td>8</td>\n",
       "      <td>81</td>\n",
       "    </tr>\n",
       "    <tr>\n",
       "      <td>9</td>\n",
       "      <td>57</td>\n",
       "    </tr>\n",
       "  </tbody>\n",
       "</table>\n",
       "</div>"
      ],
      "text/plain": [
       "               count_message\n",
       "user_id month               \n",
       "1000    5                 22\n",
       "        6                 60\n",
       "        7                 75\n",
       "        8                 81\n",
       "        9                 57"
      ]
     },
     "metadata": {},
     "output_type": "display_data"
    }
   ],
   "source": [
    "#Рассчитаем количество отправленных сообщений по месяцам\n",
    "#Создадим сводную таблицу и рассчитаем количество сообщений для каждого абонента:\n",
    "messages_group = messages.pivot_table(index = ['user_id', 'month'],values = 'id', aggfunc = ['count'])\n",
    "messages_group.columns = ['count_message']\n",
    "messages_group.reset_index()\n",
    "print('\\n Таблица с кол-вом сообщений для каждого пользователя по месяцам')\n",
    "display(messages_group.head(5))"
   ]
  },
  {
   "cell_type": "code",
   "execution_count": 9,
   "metadata": {},
   "outputs": [
    {
     "name": "stdout",
     "output_type": "stream",
     "text": [
      "\n",
      " Таблица с кол-вом использованного трафика для каждого пользователя по месяцам\n"
     ]
    },
    {
     "data": {
      "text/html": [
       "<div>\n",
       "<style scoped>\n",
       "    .dataframe tbody tr th:only-of-type {\n",
       "        vertical-align: middle;\n",
       "    }\n",
       "\n",
       "    .dataframe tbody tr th {\n",
       "        vertical-align: top;\n",
       "    }\n",
       "\n",
       "    .dataframe thead th {\n",
       "        text-align: right;\n",
       "    }\n",
       "</style>\n",
       "<table border=\"1\" class=\"dataframe\">\n",
       "  <thead>\n",
       "    <tr style=\"text-align: right;\">\n",
       "      <th></th>\n",
       "      <th></th>\n",
       "      <th>gb_sum</th>\n",
       "    </tr>\n",
       "    <tr>\n",
       "      <th>user_id</th>\n",
       "      <th>month</th>\n",
       "      <th></th>\n",
       "    </tr>\n",
       "  </thead>\n",
       "  <tbody>\n",
       "    <tr>\n",
       "      <td rowspan=\"5\" valign=\"top\">1000</td>\n",
       "      <td>5</td>\n",
       "      <td>2.562190</td>\n",
       "    </tr>\n",
       "    <tr>\n",
       "      <td>6</td>\n",
       "      <td>24.496809</td>\n",
       "    </tr>\n",
       "    <tr>\n",
       "      <td>7</td>\n",
       "      <td>14.036946</td>\n",
       "    </tr>\n",
       "    <tr>\n",
       "      <td>8</td>\n",
       "      <td>14.449526</td>\n",
       "    </tr>\n",
       "    <tr>\n",
       "      <td>9</td>\n",
       "      <td>14.950483</td>\n",
       "    </tr>\n",
       "  </tbody>\n",
       "</table>\n",
       "</div>"
      ],
      "text/plain": [
       "                  gb_sum\n",
       "user_id month           \n",
       "1000    5       2.562190\n",
       "        6      24.496809\n",
       "        7      14.036946\n",
       "        8      14.449526\n",
       "        9      14.950483"
      ]
     },
     "metadata": {},
     "output_type": "display_data"
    }
   ],
   "source": [
    "#Рассчитаем объем израсходованного интернет-трафика по месяцам\n",
    "\n",
    "internet_group = internet.pivot_table(index = ['user_id', 'month'],values = 'gb_used', aggfunc = ['sum'])\n",
    "internet_group.columns = ['gb_sum']\n",
    "internet_group.reset_index()\n",
    "print('\\n Таблица с кол-вом использованного трафика для каждого пользователя по месяцам')\n",
    "display(internet_group.head(5))"
   ]
  },
  {
   "cell_type": "code",
   "execution_count": 10,
   "metadata": {},
   "outputs": [
    {
     "name": "stdout",
     "output_type": "stream",
     "text": [
      "\n",
      "Объединенная таблица звонков и сообщений\n"
     ]
    },
    {
     "data": {
      "text/html": [
       "<div>\n",
       "<style scoped>\n",
       "    .dataframe tbody tr th:only-of-type {\n",
       "        vertical-align: middle;\n",
       "    }\n",
       "\n",
       "    .dataframe tbody tr th {\n",
       "        vertical-align: top;\n",
       "    }\n",
       "\n",
       "    .dataframe thead th {\n",
       "        text-align: right;\n",
       "    }\n",
       "</style>\n",
       "<table border=\"1\" class=\"dataframe\">\n",
       "  <thead>\n",
       "    <tr style=\"text-align: right;\">\n",
       "      <th></th>\n",
       "      <th></th>\n",
       "      <th>sum_duration</th>\n",
       "      <th>count_duration</th>\n",
       "      <th>count_message</th>\n",
       "    </tr>\n",
       "    <tr>\n",
       "      <th>user_id</th>\n",
       "      <th>month</th>\n",
       "      <th></th>\n",
       "      <th></th>\n",
       "      <th></th>\n",
       "    </tr>\n",
       "  </thead>\n",
       "  <tbody>\n",
       "    <tr>\n",
       "      <td rowspan=\"3\" valign=\"top\">1000</td>\n",
       "      <td>5</td>\n",
       "      <td>164.0</td>\n",
       "      <td>22.0</td>\n",
       "      <td>22.0</td>\n",
       "    </tr>\n",
       "    <tr>\n",
       "      <td>6</td>\n",
       "      <td>187.0</td>\n",
       "      <td>43.0</td>\n",
       "      <td>60.0</td>\n",
       "    </tr>\n",
       "    <tr>\n",
       "      <td>7</td>\n",
       "      <td>346.0</td>\n",
       "      <td>47.0</td>\n",
       "      <td>75.0</td>\n",
       "    </tr>\n",
       "  </tbody>\n",
       "</table>\n",
       "</div>"
      ],
      "text/plain": [
       "               sum_duration  count_duration  count_message\n",
       "user_id month                                             \n",
       "1000    5             164.0            22.0           22.0\n",
       "        6             187.0            43.0           60.0\n",
       "        7             346.0            47.0           75.0"
      ]
     },
     "metadata": {},
     "output_type": "display_data"
    },
    {
     "name": "stdout",
     "output_type": "stream",
     "text": [
      "\n",
      "Объединенная таблица звонков и сообщений c таблицей интернет\n"
     ]
    },
    {
     "data": {
      "text/html": [
       "<div>\n",
       "<style scoped>\n",
       "    .dataframe tbody tr th:only-of-type {\n",
       "        vertical-align: middle;\n",
       "    }\n",
       "\n",
       "    .dataframe tbody tr th {\n",
       "        vertical-align: top;\n",
       "    }\n",
       "\n",
       "    .dataframe thead th {\n",
       "        text-align: right;\n",
       "    }\n",
       "</style>\n",
       "<table border=\"1\" class=\"dataframe\">\n",
       "  <thead>\n",
       "    <tr style=\"text-align: right;\">\n",
       "      <th></th>\n",
       "      <th></th>\n",
       "      <th>sum_duration</th>\n",
       "      <th>count_duration</th>\n",
       "      <th>count_message</th>\n",
       "      <th>gb_sum</th>\n",
       "    </tr>\n",
       "    <tr>\n",
       "      <th>user_id</th>\n",
       "      <th>month</th>\n",
       "      <th></th>\n",
       "      <th></th>\n",
       "      <th></th>\n",
       "      <th></th>\n",
       "    </tr>\n",
       "  </thead>\n",
       "  <tbody>\n",
       "    <tr>\n",
       "      <td rowspan=\"3\" valign=\"top\">1000</td>\n",
       "      <td>5</td>\n",
       "      <td>164.0</td>\n",
       "      <td>22.0</td>\n",
       "      <td>22.0</td>\n",
       "      <td>2.562190</td>\n",
       "    </tr>\n",
       "    <tr>\n",
       "      <td>6</td>\n",
       "      <td>187.0</td>\n",
       "      <td>43.0</td>\n",
       "      <td>60.0</td>\n",
       "      <td>24.496809</td>\n",
       "    </tr>\n",
       "    <tr>\n",
       "      <td>7</td>\n",
       "      <td>346.0</td>\n",
       "      <td>47.0</td>\n",
       "      <td>75.0</td>\n",
       "      <td>14.036946</td>\n",
       "    </tr>\n",
       "  </tbody>\n",
       "</table>\n",
       "</div>"
      ],
      "text/plain": [
       "               sum_duration  count_duration  count_message     gb_sum\n",
       "user_id month                                                        \n",
       "1000    5             164.0            22.0           22.0   2.562190\n",
       "        6             187.0            43.0           60.0  24.496809\n",
       "        7             346.0            47.0           75.0  14.036946"
      ]
     },
     "metadata": {},
     "output_type": "display_data"
    },
    {
     "name": "stdout",
     "output_type": "stream",
     "text": [
      "\n",
      "Объединенная таблица c таблицей users\n"
     ]
    },
    {
     "data": {
      "text/html": [
       "<div>\n",
       "<style scoped>\n",
       "    .dataframe tbody tr th:only-of-type {\n",
       "        vertical-align: middle;\n",
       "    }\n",
       "\n",
       "    .dataframe tbody tr th {\n",
       "        vertical-align: top;\n",
       "    }\n",
       "\n",
       "    .dataframe thead th {\n",
       "        text-align: right;\n",
       "    }\n",
       "</style>\n",
       "<table border=\"1\" class=\"dataframe\">\n",
       "  <thead>\n",
       "    <tr style=\"text-align: right;\">\n",
       "      <th></th>\n",
       "      <th>user_id</th>\n",
       "      <th>sum_duration</th>\n",
       "      <th>count_duration</th>\n",
       "      <th>count_message</th>\n",
       "      <th>gb_sum</th>\n",
       "      <th>age</th>\n",
       "      <th>churn_date</th>\n",
       "      <th>city</th>\n",
       "      <th>first_name</th>\n",
       "      <th>last_name</th>\n",
       "      <th>reg_date</th>\n",
       "      <th>tariff</th>\n",
       "    </tr>\n",
       "  </thead>\n",
       "  <tbody>\n",
       "    <tr>\n",
       "      <td>0</td>\n",
       "      <td>1000</td>\n",
       "      <td>164.0</td>\n",
       "      <td>22.0</td>\n",
       "      <td>22.0</td>\n",
       "      <td>2.562190</td>\n",
       "      <td>52</td>\n",
       "      <td>2019-01-01</td>\n",
       "      <td>Краснодар</td>\n",
       "      <td>Рафаил</td>\n",
       "      <td>Верещагин</td>\n",
       "      <td>2018-05-25</td>\n",
       "      <td>ultra</td>\n",
       "    </tr>\n",
       "    <tr>\n",
       "      <td>1</td>\n",
       "      <td>1000</td>\n",
       "      <td>187.0</td>\n",
       "      <td>43.0</td>\n",
       "      <td>60.0</td>\n",
       "      <td>24.496809</td>\n",
       "      <td>52</td>\n",
       "      <td>2019-01-01</td>\n",
       "      <td>Краснодар</td>\n",
       "      <td>Рафаил</td>\n",
       "      <td>Верещагин</td>\n",
       "      <td>2018-05-25</td>\n",
       "      <td>ultra</td>\n",
       "    </tr>\n",
       "    <tr>\n",
       "      <td>2</td>\n",
       "      <td>1000</td>\n",
       "      <td>346.0</td>\n",
       "      <td>47.0</td>\n",
       "      <td>75.0</td>\n",
       "      <td>14.036946</td>\n",
       "      <td>52</td>\n",
       "      <td>2019-01-01</td>\n",
       "      <td>Краснодар</td>\n",
       "      <td>Рафаил</td>\n",
       "      <td>Верещагин</td>\n",
       "      <td>2018-05-25</td>\n",
       "      <td>ultra</td>\n",
       "    </tr>\n",
       "  </tbody>\n",
       "</table>\n",
       "</div>"
      ],
      "text/plain": [
       "   user_id  sum_duration  count_duration  count_message     gb_sum  age  \\\n",
       "0     1000         164.0            22.0           22.0   2.562190   52   \n",
       "1     1000         187.0            43.0           60.0  24.496809   52   \n",
       "2     1000         346.0            47.0           75.0  14.036946   52   \n",
       "\n",
       "  churn_date       city first_name  last_name   reg_date tariff  \n",
       "0 2019-01-01  Краснодар     Рафаил  Верещагин 2018-05-25  ultra  \n",
       "1 2019-01-01  Краснодар     Рафаил  Верещагин 2018-05-25  ultra  \n",
       "2 2019-01-01  Краснодар     Рафаил  Верещагин 2018-05-25  ultra  "
      ]
     },
     "metadata": {},
     "output_type": "display_data"
    },
    {
     "name": "stdout",
     "output_type": "stream",
     "text": [
      "\n",
      "Таблица с данными по выручки на каждого абонента\n"
     ]
    },
    {
     "data": {
      "text/html": [
       "<div>\n",
       "<style scoped>\n",
       "    .dataframe tbody tr th:only-of-type {\n",
       "        vertical-align: middle;\n",
       "    }\n",
       "\n",
       "    .dataframe tbody tr th {\n",
       "        vertical-align: top;\n",
       "    }\n",
       "\n",
       "    .dataframe thead th {\n",
       "        text-align: right;\n",
       "    }\n",
       "</style>\n",
       "<table border=\"1\" class=\"dataframe\">\n",
       "  <thead>\n",
       "    <tr style=\"text-align: right;\">\n",
       "      <th></th>\n",
       "      <th>user_id</th>\n",
       "      <th>sum_duration</th>\n",
       "      <th>count_duration</th>\n",
       "      <th>count_message</th>\n",
       "      <th>gb_sum</th>\n",
       "      <th>age</th>\n",
       "      <th>churn_date</th>\n",
       "      <th>city</th>\n",
       "      <th>first_name</th>\n",
       "      <th>last_name</th>\n",
       "      <th>reg_date</th>\n",
       "      <th>tariff</th>\n",
       "      <th>final_pay</th>\n",
       "    </tr>\n",
       "  </thead>\n",
       "  <tbody>\n",
       "    <tr>\n",
       "      <td>0</td>\n",
       "      <td>1000</td>\n",
       "      <td>164.0</td>\n",
       "      <td>22.0</td>\n",
       "      <td>22.0</td>\n",
       "      <td>3.0</td>\n",
       "      <td>52</td>\n",
       "      <td>2019-01-01</td>\n",
       "      <td>Краснодар</td>\n",
       "      <td>Рафаил</td>\n",
       "      <td>Верещагин</td>\n",
       "      <td>2018-05-25</td>\n",
       "      <td>ultra</td>\n",
       "      <td>1950.0</td>\n",
       "    </tr>\n",
       "    <tr>\n",
       "      <td>1</td>\n",
       "      <td>1000</td>\n",
       "      <td>187.0</td>\n",
       "      <td>43.0</td>\n",
       "      <td>60.0</td>\n",
       "      <td>25.0</td>\n",
       "      <td>52</td>\n",
       "      <td>2019-01-01</td>\n",
       "      <td>Краснодар</td>\n",
       "      <td>Рафаил</td>\n",
       "      <td>Верещагин</td>\n",
       "      <td>2018-05-25</td>\n",
       "      <td>ultra</td>\n",
       "      <td>1950.0</td>\n",
       "    </tr>\n",
       "    <tr>\n",
       "      <td>2</td>\n",
       "      <td>1000</td>\n",
       "      <td>346.0</td>\n",
       "      <td>47.0</td>\n",
       "      <td>75.0</td>\n",
       "      <td>15.0</td>\n",
       "      <td>52</td>\n",
       "      <td>2019-01-01</td>\n",
       "      <td>Краснодар</td>\n",
       "      <td>Рафаил</td>\n",
       "      <td>Верещагин</td>\n",
       "      <td>2018-05-25</td>\n",
       "      <td>ultra</td>\n",
       "      <td>1950.0</td>\n",
       "    </tr>\n",
       "  </tbody>\n",
       "</table>\n",
       "</div>"
      ],
      "text/plain": [
       "   user_id  sum_duration  count_duration  count_message  gb_sum  age  \\\n",
       "0     1000         164.0            22.0           22.0     3.0   52   \n",
       "1     1000         187.0            43.0           60.0    25.0   52   \n",
       "2     1000         346.0            47.0           75.0    15.0   52   \n",
       "\n",
       "  churn_date       city first_name  last_name   reg_date tariff  final_pay  \n",
       "0 2019-01-01  Краснодар     Рафаил  Верещагин 2018-05-25  ultra     1950.0  \n",
       "1 2019-01-01  Краснодар     Рафаил  Верещагин 2018-05-25  ultra     1950.0  \n",
       "2 2019-01-01  Краснодар     Рафаил  Верещагин 2018-05-25  ultra     1950.0  "
      ]
     },
     "metadata": {},
     "output_type": "display_data"
    }
   ],
   "source": [
    "#Рассчитаем помесячную выручку с каждого пользователя\n",
    "# Объединим таблицу со звонками и таблицу с сообщениями\n",
    "calls_messages_merge = calls_group.merge(messages_group, on=['user_id', 'month'], how='outer')\n",
    "calls_messages_merge.reset_index()\n",
    "print('\\nОбъединенная таблица звонков и сообщений')\n",
    "display(calls_messages_merge.head(3))\n",
    "\n",
    "# Объединим таблицу со звонками и сообщениями с таблицей интернет\n",
    "total_date = calls_messages_merge.merge(internet_group, on=['user_id', 'month'],how='outer')\n",
    "total_date.reset_index()\n",
    "print('\\nОбъединенная таблица звонков и сообщений c таблицей интернет')\n",
    "display(total_date.head(3))\n",
    "\n",
    "# Объединим таблицу таблицу total date с таблицей users\n",
    "total_date_users = total_date.merge(users, on=['user_id'], how='outer')\n",
    "total_date_users.reset_index()\n",
    "print('\\nОбъединенная таблица c таблицей users')\n",
    "display(total_date_users.head(3))\n",
    "\n",
    "# Округлим интернет трафик в большую сторону до кратных Гигобайту\n",
    "total_date_users['gb_sum'] = total_date_users['gb_sum'].apply(np.ceil)\n",
    "\n",
    "pay_smart = 550 #абонентская плата тарифа smart\n",
    "pay_ultra = 1950 #абонентская плата тарифа smart\n",
    "\n",
    "def limit(row):\n",
    "    if row['tariff'] == 'smart':\n",
    "        if row['count_message'] > 50:\n",
    "            messages_pay_extra = (row['count_message'] - 50)*3\n",
    "        else:\n",
    "            messages_pay_extra = 0\n",
    "        if row['sum_duration'] > 500:\n",
    "            calls_pay_extra = (row['sum_duration'] - 500)*3\n",
    "        else:\n",
    "            calls_pay_extra = 0\n",
    "        if row['gb_sum'] > 15:\n",
    "            gb_pay_extra = (row['gb_sum'] - 15)*200\n",
    "        else:\n",
    "            gb_pay_extra = 0\n",
    "        final_pay =  messages_pay_extra + calls_pay_extra + gb_pay_extra + pay_smart\n",
    "    if row['tariff'] == 'ultra':\n",
    "        if row['count_message'] > 1000:\n",
    "            messages_pay_extra = (row['count_message'] - 1000)*1\n",
    "        else:\n",
    "            messages_pay_extra = 0\n",
    "        if row['sum_duration'] > 3000:\n",
    "            calls_pay_extra = (row['sum_duration'] - 3000)*1\n",
    "        else:\n",
    "            calls_pay_extra = 0\n",
    "        if row['gb_sum'] > 30:\n",
    "            gb_pay_extra = (row['gb_sum'] - 30)*150\n",
    "        else:\n",
    "            gb_pay_extra = 0\n",
    "        final_pay =  messages_pay_extra + calls_pay_extra + gb_pay_extra + pay_ultra\n",
    "    return final_pay\n",
    "            \n",
    "\n",
    "total_date_users['final_pay'] = total_date_users.apply(limit, axis=1)\n",
    "print('\\nТаблица с данными по выручки на каждого абонента')\n",
    "display(total_date_users.head(3))"
   ]
  },
  {
   "cell_type": "code",
   "execution_count": 11,
   "metadata": {},
   "outputs": [
    {
     "name": "stdout",
     "output_type": "stream",
     "text": [
      "Информация о таблице total_date_users до обработки\n",
      "\n",
      "<class 'pandas.core.frame.DataFrame'>\n",
      "Int64Index: 3216 entries, 0 to 3215\n",
      "Data columns (total 13 columns):\n",
      "user_id           3216 non-null int64\n",
      "sum_duration      3174 non-null float64\n",
      "count_duration    3174 non-null float64\n",
      "count_message     2717 non-null float64\n",
      "gb_sum            3203 non-null float64\n",
      "age               3216 non-null int64\n",
      "churn_date        3216 non-null datetime64[ns]\n",
      "city              3216 non-null object\n",
      "first_name        3216 non-null object\n",
      "last_name         3216 non-null object\n",
      "reg_date          3216 non-null datetime64[ns]\n",
      "tariff            3216 non-null object\n",
      "final_pay         3216 non-null float64\n",
      "dtypes: datetime64[ns](2), float64(5), int64(2), object(4)\n",
      "memory usage: 351.8+ KB\n"
     ]
    },
    {
     "data": {
      "text/plain": [
       "463.281716     42\n",
       "516.000000     14\n",
       "428.000000     12\n",
       "455.000000     12\n",
       "470.000000     12\n",
       "               ..\n",
       "965.000000      1\n",
       "935.000000      1\n",
       "867.000000      1\n",
       "765.000000      1\n",
       "1352.000000     1\n",
       "Name: sum_duration, Length: 951, dtype: int64"
      ]
     },
     "metadata": {},
     "output_type": "display_data"
    },
    {
     "name": "stdout",
     "output_type": "stream",
     "text": [
      "Информация о таблице total_date_users после обработки\n",
      "\n",
      "<class 'pandas.core.frame.DataFrame'>\n",
      "Int64Index: 3216 entries, 0 to 3215\n",
      "Data columns (total 13 columns):\n",
      "user_id           3216 non-null int64\n",
      "sum_duration      3216 non-null float64\n",
      "count_duration    3216 non-null float64\n",
      "count_message     3216 non-null float64\n",
      "gb_sum            3216 non-null float64\n",
      "age               3216 non-null int64\n",
      "churn_date        3216 non-null datetime64[ns]\n",
      "city              3216 non-null object\n",
      "first_name        3216 non-null object\n",
      "last_name         3216 non-null object\n",
      "reg_date          3216 non-null datetime64[ns]\n",
      "tariff            3216 non-null object\n",
      "final_pay         3216 non-null float64\n",
      "dtypes: datetime64[ns](2), float64(5), int64(2), object(4)\n",
      "memory usage: 351.8+ KB\n"
     ]
    }
   ],
   "source": [
    "print('Информация о таблице total_date_users до обработки\\n')\n",
    "total_date_users.info()\n",
    "\n",
    "#При использовании внешнего соединения таблиц, появились пропуски и  к нулевые значения. Возможно это абоненнты не учтенные \n",
    "# в соседнем датасете, т.е. в одном датасете они есть,а в другом датасете нет. Поэтому заполним пустые значения медианами.\n",
    "total_date_users = total_date_users.fillna(0)\n",
    "sum_duration_mean = total_date_users['sum_duration'].mean()\n",
    "count_duration_mean = total_date_users['count_duration'].mean()\n",
    "count_message_mean = total_date_users['count_message'].mean()\n",
    "gb_sum_mean = total_date_users['gb_sum'].mean()\n",
    "\n",
    "total_date_users['sum_duration'] = total_date_users['sum_duration'].replace(0,sum_duration_mean)\n",
    "total_date_users['count_duration'] = total_date_users['count_duration'].replace(0,count_duration_mean)\n",
    "total_date_users['count_message'] = total_date_users['count_message'].replace(0,count_message_mean)\n",
    "total_date_users['gb_sum'] = total_date_users['gb_sum'].replace(0,gb_sum_mean)\n",
    "display(total_date_users['sum_duration'].sort_values(ascending = False).value_counts())\n",
    "print('Информация о таблице total_date_users после обработки\\n')\n",
    "total_date_users.info()"
   ]
  },
  {
   "cell_type": "markdown",
   "metadata": {},
   "source": [
    "# Вывод"
   ]
  },
  {
   "cell_type": "markdown",
   "metadata": {},
   "source": [
    "Посчитали количество сделанных звонков и израсходованных минут разговора, количество отправленных сообщений и израсходованный интернет-трафик для каждого пользователя по месяцам. Для корректного расчета выручки, округлили интернет-трафик в большую сторону кратно ггигобайтом, т.к. дополнительный трафик предоставлется в размере не меньше 1 ГБ. Все данные совместили в одной таблице и рассчитали выручку для каждого пользователя по месяцам."
   ]
  },
  {
   "cell_type": "markdown",
   "metadata": {},
   "source": [
    "#  Шаг 3. Проанализируйте данные"
   ]
  },
  {
   "cell_type": "markdown",
   "metadata": {},
   "source": [
    "Опишим поведение клиентов оператора, исходя из выборки. Посчитаем сколько минут разговора, сколько сообщений и какой объём интернет-трафика требуется пользователям каждого тарифа в месяц. Посчитем среднее количество, дисперсию и стандартное отклонение. Построим гистограммы и опишим распределение."
   ]
  },
  {
   "cell_type": "code",
   "execution_count": 12,
   "metadata": {},
   "outputs": [
    {
     "name": "stdout",
     "output_type": "stream",
     "text": [
      "Тариф SMART\n",
      "Количество минут разговора в тарифе smart: 960488.9720149254 мин.\n",
      "Количество сообщений в тарифе smart: 86196.29850746269 шт.\n",
      "Объем интернет трафика в тарифе smart: 42868.980099502485 Гб.\n",
      "\n",
      "\n",
      "Тариф ULTRA\n",
      "Количество минут разговора в тарифе ultra: 548882.8600746269 мин.\n",
      "Количество сообщений в тарифе ultra: 55930.17537313432 шт.\n",
      "Объем интернет трафика в тарифе ultra: 20064.390547263683 Гб.\n"
     ]
    }
   ],
   "source": [
    "#Посчитаем кол-во минут разговора, кол-во сообщений и объем интернет трафика в тарифе smart\n",
    "smart = total_date_users.query('tariff == \"smart\"')\n",
    "print('Тариф SMART')\n",
    "print('Количество минут разговора в тарифе smart:', smart['sum_duration'].sum(),'мин.')\n",
    "print('Количество сообщений в тарифе smart:', smart['count_message'].sum(),'шт.')\n",
    "print('Объем интернет трафика в тарифе smart:', smart['gb_sum'].sum(),'Гб.\\n\\n')\n",
    "\n",
    "#Посчитаем кол-во минут разговора, кол-во сообщений и объем интернет трафика в тарифе ultra\n",
    "ultra = total_date_users.query('tariff == \"ultra\"')\n",
    "print('Тариф ULTRA')\n",
    "print('Количество минут разговора в тарифе ultra:', ultra['sum_duration'].sum(),'мин.')\n",
    "print('Количество сообщений в тарифе ultra:', ultra['count_message'].sum(),'шт.')\n",
    "print('Объем интернет трафика в тарифе ultra:', ultra['gb_sum'].sum(),'Гб.')\n",
    "\n"
   ]
  },
  {
   "cell_type": "code",
   "execution_count": 13,
   "metadata": {},
   "outputs": [
    {
     "name": "stdout",
     "output_type": "stream",
     "text": [
      "Тариф SMART\n",
      "\n"
     ]
    },
    {
     "data": {
      "text/plain": [
       "count    2230.000000\n",
       "mean     1773.605381\n",
       "std      1078.863090\n",
       "min       550.000000\n",
       "25%       762.750000\n",
       "50%      1619.000000\n",
       "75%      2436.750000\n",
       "max      8024.000000\n",
       "Name: final_pay, dtype: float64"
      ]
     },
     "metadata": {},
     "output_type": "display_data"
    },
    {
     "name": "stdout",
     "output_type": "stream",
     "text": [
      "\n",
      "Cреднее значение выручки: 1773.6053811659192 руб.\n",
      "Стандартное отклонение выручки: 1078.8630895783187 руб.\n",
      "Дисперсия выручки: 1163945.5660544755 руб.\n",
      "\n",
      "\n",
      "Тариф ULTRA\n",
      "\n"
     ]
    },
    {
     "data": {
      "text/plain": [
       "count     986.000000\n",
       "mean     2097.109533\n",
       "std       424.119586\n",
       "min      1950.000000\n",
       "25%      1950.000000\n",
       "50%      1950.000000\n",
       "75%      1950.000000\n",
       "max      5100.000000\n",
       "Name: final_pay, dtype: float64"
      ]
     },
     "metadata": {},
     "output_type": "display_data"
    },
    {
     "name": "stdout",
     "output_type": "stream",
     "text": [
      "\n",
      "Cреднее значение выручки: 2097.1095334685597 руб.\n",
      "Стандартное отклонение выручки: 424.1195863470985 руб.\n",
      "Дисперсия выручки: 179877.42352323394 руб.\n"
     ]
    }
   ],
   "source": [
    "#Посчитем среднее количество, дисперсию и стандартное отклонение.\n",
    "print('Тариф SMART\\n')\n",
    "display(smart['final_pay'].describe())\n",
    "print('\\nCреднее значение выручки:', smart['final_pay'].mean(),'руб.')\n",
    "print('Стандартное отклонение выручки:', smart['final_pay'].std(),'руб.')\n",
    "variance =  np.var(smart['final_pay'], ddof=1)\n",
    "print('Дисперсия выручки:', variance, 'руб.')\n",
    "\n",
    "print('\\n\\nТариф ULTRA\\n')\n",
    "display(ultra['final_pay'].describe())\n",
    "print('\\nCреднее значение выручки:', ultra['final_pay'].mean(),'руб.')\n",
    "print('Стандартное отклонение выручки:', ultra['final_pay'].std(),'руб.')\n",
    "variance =  np.var(ultra['final_pay'], ddof=1)\n",
    "print('Дисперсия выручки:', variance, 'руб.')\n"
   ]
  },
  {
   "cell_type": "code",
   "execution_count": 14,
   "metadata": {},
   "outputs": [
    {
     "data": {
      "text/plain": [
       "Text(0.5, 1.0, 'Гистограмма выручки для тарифа Ultra\\n')"
      ]
     },
     "execution_count": 14,
     "metadata": {},
     "output_type": "execute_result"
    },
    {
     "data": {
      "image/png": "[encoded data removed]",
      "text/plain": [
       "<Figure size 432x288 with 1 Axes>"
      ]
     },
     "metadata": {
      "needs_background": "light"
     },
     "output_type": "display_data"
    },
    {
     "data": {
      "image/png": "[encoded data removed]",
      "text/plain": [
       "<Figure size 432x288 with 1 Axes>"
      ]
     },
     "metadata": {
      "needs_background": "light"
     },
     "output_type": "display_data"
    }
   ],
   "source": [
    "#Построим гистограммы опишим распределения.\n",
    "\n",
    "#Построим гистограмму выручки дляя тарифа Smart\n",
    "smart.hist('final_pay', bins=50, range=(500, 6700))\n",
    "plt.title('Гистограмма выручки для тарифа Smart\\n')\n",
    "\n",
    "#Построим гистограмму выручки дляя тарифа Ultra\n",
    "ultra.hist('final_pay', bins=50, range=(1900, 4900))\n",
    "plt.title('Гистограмма выручки для тарифа Ultra\\n')\n"
   ]
  },
  {
   "cell_type": "code",
   "execution_count": 15,
   "metadata": {},
   "outputs": [
    {
     "name": "stdout",
     "output_type": "stream",
     "text": [
      "Максимальное значение нормального распределения Тарифа Smart: 4947.75 (все что превышает значение максимального значения нормального распределения считаем выбросами)\n"
     ]
    },
    {
     "data": {
      "image/png": "[encoded data removed]",
      "text/plain": [
       "<Figure size 432x288 with 1 Axes>"
      ]
     },
     "metadata": {
      "needs_background": "light"
     },
     "output_type": "display_data"
    }
   ],
   "source": [
    "#Построим диаграмму размаха для двух тарифов\n",
    "#Диаграмма размаха выручки для тарифа Smart\n",
    "smart[['final_pay']].boxplot(vert=False)\n",
    "plt.title('Диаграмма размаха выручки для тарифа Smart\\n')\n",
    "parameters_smart = smart[['final_pay']].describe().T\n",
    "Q1, Q3 = parameters_smart['25%'][0], parameters_smart['75%'][0]\n",
    "norm_quartus_smart = Q3-Q1\n",
    "max_norm_quartus_smart = Q3 + 1.5*norm_quartus_smart\n",
    "print('Максимальное значение нормального распределения Тарифа Smart:',max_norm_quartus_smart, '(все что превышает значение максимального значения нормального распределения считаем выбросами)')\n",
    "#все что превышает значение максимального значения нормального распределения считаем выбросами.\n",
    "\n"
   ]
  },
  {
   "cell_type": "code",
   "execution_count": 16,
   "metadata": {
    "scrolled": false
   },
   "outputs": [
    {
     "name": "stdout",
     "output_type": "stream",
     "text": [
      "Максимальное значение нормального распределения Тарифа Ultra: 1950.0 (все что превышает значение максимального значения нормального распределения считаем выбросами)\n"
     ]
    },
    {
     "data": {
      "image/png": "[encoded data removed]",
      "text/plain": [
       "<Figure size 432x288 with 1 Axes>"
      ]
     },
     "metadata": {
      "needs_background": "light"
     },
     "output_type": "display_data"
    }
   ],
   "source": [
    "#Диаграмма размаха выручки для тарифа Ultra\n",
    "ultra.boxplot('final_pay', vert=False)\n",
    "plt.xlim(0, 4900) \n",
    "plt.title('Диаграмма размаха выручки для тарифа Ultra\\n')\n",
    "parameters_ultra = ultra[['final_pay']].describe().T\n",
    "Q1, Q3 = parameters_ultra['25%'][0], parameters_ultra['75%'][0]\n",
    "norm_quartus_ultra = Q3-Q1\n",
    "max_norm_quartus_ultra = Q3 + 1.5*norm_quartus_ultra\n",
    "print('Максимальное значение нормального распределения Тарифа Ultra:',max_norm_quartus_ultra, '(все что превышает значение максимального значения нормального распределения считаем выбросами)')\n",
    "#все что превышает значение максимального значения нормального распределения считаем выбросами."
   ]
  },
  {
   "cell_type": "code",
   "execution_count": 17,
   "metadata": {
    "scrolled": false
   },
   "outputs": [
    {
     "name": "stderr",
     "output_type": "stream",
     "text": [
      "/opt/conda/lib/python3.7/site-packages/pandas/plotting/_matplotlib/hist.py:62: MatplotlibDeprecationWarning: \n",
      "The 'normed' kwarg was deprecated in Matplotlib 2.1 and will be removed in 3.1. Use 'density' instead.\n",
      "  n, bins, patches = ax.hist(y, bins=bins, bottom=bottom, **kwds)\n"
     ]
    },
    {
     "data": {
      "text/plain": [
       "Text(0.5, 1.0, 'Гистограмма сравнения интернет-трафика в тарифе Smart и Ultra \\n')"
      ]
     },
     "execution_count": 17,
     "metadata": {},
     "output_type": "execute_result"
    },
    {
     "data": {
      "image/png": "[encoded data removed]",
      "text/plain": [
       "<Figure size 432x288 with 1 Axes>"
      ]
     },
     "metadata": {
      "needs_background": "light"
     },
     "output_type": "display_data"
    },
    {
     "data": {
      "image/png": "[encoded data removed]",
      "text/plain": [
       "<Figure size 432x288 with 1 Axes>"
      ]
     },
     "metadata": {
      "needs_background": "light"
     },
     "output_type": "display_data"
    },
    {
     "data": {
      "image/png": "[encoded data removed]",
      "text/plain": [
       "<Figure size 432x288 with 1 Axes>"
      ]
     },
     "metadata": {
      "needs_background": "light"
     },
     "output_type": "display_data"
    },
    {
     "data": {
      "image/png": "[encoded data removed]",
      "text/plain": [
       "<Figure size 432x288 with 1 Axes>"
      ]
     },
     "metadata": {
      "needs_background": "light"
     },
     "output_type": "display_data"
    }
   ],
   "source": [
    "# Построим гисторграммы для отсальных параметров. Будем строит на одном графике сразу 2 гистограммы для сравнения. \n",
    "#Гистограмма сравнения длительности звонков в тарифе Smart и Ultra\n",
    "ax = ultra.plot(kind='hist', y='sum_duration', histtype='step', range=(0, 4000), bins=100, normed=True, linewidth=5, alpha=0.4, label='Ultra')\n",
    "smart.plot(kind='hist', y='sum_duration', histtype='step', range=(0, 4000), bins=100, normed=True, linewidth=5, alpha=0.4, label='Smart', ax=ax, grid=True, legend=True) \n",
    "plt.title('Гистограмма сравнения длительности звонков в тарифе Smart и Ultra \\n')\n",
    "\n",
    "#Гистограмма сравнения количества звонков в тарифе Smart и Ultra\n",
    "ax = ultra.plot(kind='hist', y='count_duration', histtype='step', range=(0, 400), bins=100, normed=True, linewidth=5, alpha=0.4, label='Ultra')\n",
    "smart.plot(kind='hist', y='count_duration', histtype='step', range=(0, 400), bins=100, normed=True, linewidth=5, alpha=0.4, label='Smart', ax=ax, grid=True, legend=True) \n",
    "plt.title('Гистограмма сравнения количества звонков в тарифе Smart и Ultra \\n')\n",
    "\n",
    "#Гистограмма сравнения количества сообщений в тарифе Smart и Ultra\n",
    "ax = ultra.plot(kind='hist', y='count_message', histtype='step', range=(0, 300), bins=100, normed=True, linewidth=5, alpha=0.4, label='Ultra')\n",
    "smart.plot(kind='hist', y='count_message', histtype='step', range=(0, 300), bins=100, normed=True, linewidth=5, alpha=0.4, label='Smart', ax=ax, grid=True, legend=True) \n",
    "plt.title('Гистограмма сравнения количества сообщений в тарифе Smart и Ultra \\n')\n",
    "\n",
    "#Гистограмма сравнения интернет-трафика в тарифе Smart и Ultra\n",
    "ax = ultra.plot(kind='hist', y='gb_sum', histtype='step', range=(0, 80), bins=80, normed=True, linewidth=5, alpha=0.4, label='Ultra')\n",
    "smart.plot(kind='hist', y='gb_sum', histtype='step', range=(0, 80), bins=80, normed=True, linewidth=5, alpha=0.4, label='Smart', ax=ax, grid=True, legend=True) \n",
    "plt.title('Гистограмма сравнения интернет-трафика в тарифе Smart и Ultra \\n')\n"
   ]
  },
  {
   "cell_type": "markdown",
   "metadata": {},
   "source": [
    "# Вывод"
   ]
  },
  {
   "cell_type": "markdown",
   "metadata": {},
   "source": [
    "В тарифе Smart используется больше минут разговора, сообщений и интернет-данных в отличие от тарифа Ultra.\n",
    "В тарифе Smart среднее значение выручки составляет 1773 руб., что гораздо больше, чем абонентская плата в размере 550 рублей. В тарифе Ultra среднее значение выручки 2097 руб., что очень рядом с абонентской платой в размере 1950 рублей. \n",
    "На гистограмме тарифа Smart видно, что не всем хватает этого тарифа и клиенты перерсаходуют миниту, сообщения и интернет-трафик. На гистограмме тарифа Ultra видно, что почти все клиенты укладываются в тариф.\n",
    "На диаграмме размаха тарифа Smart максимальное значение нормального распределения 3550 руб., все что больше считаем выбросами.\n",
    "На диаграмме размаха тарифа Ultra максимальное значение нормального распределения 1950 руб., все что больше считаем выбросами. И здесь среднее значение нормального распределения равна стоимости тарифа, что еще раз потдверждает, что клиентам Тарифа Ultra укладываются ы тариф. "
   ]
  },
  {
   "cell_type": "markdown",
   "metadata": {},
   "source": [
    "# Шаг 4. Проверьте гипотезы"
   ]
  },
  {
   "cell_type": "markdown",
   "metadata": {},
   "source": [
    "Проверим две гипотизы:\n",
    "1. Средняя выручка пользователей тарифов «Ультра» и «Смарт» различается;\n",
    "2. Средняя выручка пользователей из Москвы отличается от выручки пользователей из других регионов;"
   ]
  },
  {
   "cell_type": "code",
   "execution_count": 18,
   "metadata": {},
   "outputs": [
    {
     "name": "stdout",
     "output_type": "stream",
     "text": [
      "Тариф SMART\n",
      "\n",
      "Cреднее значение выручки: 1773.6053811659192 руб.\n",
      "Стандартное отклонение выручки: 1078.8630895783187 руб.\n",
      "Дисперсия выручки: 1163945.5660544755 руб.\n",
      "\n",
      "\n",
      "Тариф ULTRA\n",
      "\n",
      "Cреднее значение выручки: 2097.1095334685597 руб.\n",
      "Стандартное отклонение выручки: 424.1195863470985 руб.\n",
      "Дисперсия выручки: 179877.42352323394 руб.\n",
      "\n",
      "Проверка гипотизы:\n",
      "\n",
      "p-значение: 1.9533091964130522e-33\n",
      "Отвергаем нулевую гипотезу\n"
     ]
    }
   ],
   "source": [
    "#Проверим гипотизу средняя выручка пользователей тарифов «Ультра» и «Смарт» различается\n",
    "\n",
    "# Сначал найдем дисперсию и среднее для двух срезов данных:\n",
    "print('Тариф SMART')\n",
    "print('\\nCреднее значение выручки:', smart['final_pay'].mean(),'руб.')\n",
    "print('Стандартное отклонение выручки:', smart['final_pay'].std(),'руб.')\n",
    "variance =  np.var(smart['final_pay'], ddof=1)\n",
    "print('Дисперсия выручки:', variance, 'руб.')\n",
    "\n",
    "print('\\n\\nТариф ULTRA')\n",
    "print('\\nCреднее значение выручки:', ultra['final_pay'].mean(),'руб.')\n",
    "print('Стандартное отклонение выручки:', ultra['final_pay'].std(),'руб.')\n",
    "variance =  np.var(ultra['final_pay'], ddof=1)\n",
    "print('Дисперсия выручки:', variance, 'руб.')\n",
    "\n",
    "# В связи с тем, что дисперсии сильно отличаются, поэтому при проверки гипотезы параметр equal_var установим как False,\n",
    "# так как по умолчанию он задан как equal_var = True\n",
    "\n",
    "print('\\nПроверка гипотизы:\\n')\n",
    "smart_true_pay = smart['final_pay']\n",
    "ultra_true_pay = ultra['final_pay']\n",
    "\n",
    "alpha = .05# зададим критический уровень статистической значимости\n",
    "\n",
    "results = st.ttest_ind(smart_true_pay, ultra_true_pay, equal_var = False)# проверим гипотезу о равенстве средних двух независимых совокупностей\n",
    "\n",
    "print('p-значение:',  results.pvalue)\n",
    "\n",
    "if (results.pvalue < alpha):\n",
    "    print(\"Отвергаем нулевую гипотезу\")\n",
    "else:\n",
    "    print(\"Не получилось отвергнуть нулевую гипотезу\")\n",
    "\n"
   ]
  },
  {
   "cell_type": "markdown",
   "metadata": {},
   "source": [
    "# Вывод"
   ]
  },
  {
   "cell_type": "markdown",
   "metadata": {},
   "source": [
    "Сформулиуем нулевую гипотезу (Н0), как что средняя выручка пользователей тарифов «Ультра» и «Смарт» равна. Тогда альтернативная гипотиза (Н1) будет сформулирована, что средняя выручка пользователей тарифов «Ультра» и «Смарт» не равна.\n",
    "Для проверки сгипотиз выберим гипотезу о равенстве средних двух генеральных совокупностей. Выберим эту гипотезу, так как у нас две генеральные совокупности, одна совокупность - это тариф Smart, вторая - это тариф Ultra. В результате получаем, что нулевая гипотеза отвергается, что означает, что средняя выручка у тарифов разная. Если пологаться на данные полученные раньше, средняя вручка тарифа Смарт была 1775 руб., а для тарифа Ультра - 2047 руб."
   ]
  },
  {
   "cell_type": "code",
   "execution_count": 19,
   "metadata": {},
   "outputs": [
    {
     "name": "stdout",
     "output_type": "stream",
     "text": [
      "Сравнение выручки Москвы с другими регионами в тарифе Smart\n",
      "\n",
      "Тариф SMART г.Москва\n",
      "\n",
      "Cреднее значение выручки: 1722.6839378238342 руб.\n",
      "Стандартное отклонение выручки: 1022.4153696795255 руб.\n",
      "Дисперсия выручки: 1045333.1881569207 руб.\n",
      "\n",
      "Тариф SMART другие регионы:\n",
      "\n",
      "Cреднее значение выручки: 1784.2646420824294 руб.\n",
      "Стандартное отклонение выручки: 1090.2744179730735 руб.\n",
      "Дисперсия выручки: 1188698.3064865242 руб.\n",
      "\n",
      "Проверка гипотизы:\n",
      "\n",
      "p-значение: 0.28798793556358787\n",
      "Не получилось отвергнуть нулевую гипотезу\n"
     ]
    }
   ],
   "source": [
    "#Проверим гипотезу, что средняя выручка пользователей из Москвы отличается от выручки пользователей из других \n",
    "# регионов для тарифа Smart\n",
    "\n",
    "#Сделаем два среза для тарифа Smart, где пользователи из Москвы и где пользователи из других регионов\n",
    "print('Сравнение выручки Москвы с другими регионами в тарифе Smart')\n",
    "moscow_smart = smart.query('city == \"Москва\"')\n",
    "moscow_city = moscow_smart ['final_pay']\n",
    "\n",
    "other = smart.query('city != \"Москва\"')\n",
    "other_city = other['final_pay']\n",
    "\n",
    "# Найдем дисперсию и среднее для двух срезов данных:\n",
    "print('\\nТариф SMART г.Москва\\n')\n",
    "print('Cреднее значение выручки:', moscow_smart['final_pay'].mean(),'руб.')\n",
    "print('Стандартное отклонение выручки:', moscow_smart['final_pay'].std(),'руб.')\n",
    "variance =  np.var(moscow_smart['final_pay'], ddof=1)\n",
    "print('Дисперсия выручки:', variance, 'руб.')\n",
    "\n",
    "print('\\nТариф SMART другие регионы:\\n')\n",
    "print('Cреднее значение выручки:', other['final_pay'].mean(),'руб.')\n",
    "print('Стандартное отклонение выручки:', other['final_pay'].std(),'руб.')\n",
    "variance =  np.var(other['final_pay'], ddof=1)\n",
    "print('Дисперсия выручки:', variance, 'руб.')\n",
    "\n",
    "\n",
    "# В связи с тем, что дисперсии отличаются, поэтому при проверки гипотезы параметр equal_var установим как False,\n",
    "# так как по умолчанию он задан как equal_var = True\n",
    "\n",
    "print('\\nПроверка гипотизы:\\n')\n",
    "\n",
    "alpha = .05 # зададим критический уровень статистической значимости\n",
    "\n",
    "results = st.ttest_ind(moscow_city, other_city, equal_var = False)# проверим гипотезу о равенстве средних двух независимых совокупностей\n",
    "\n",
    "print('p-значение:',  results.pvalue)\n",
    "\n",
    "if (results.pvalue < alpha):\n",
    "    print(\"Отвергаем нулевую гипотезу\")\n",
    "else:\n",
    "    print(\"Не получилось отвергнуть нулевую гипотезу\")"
   ]
  },
  {
   "cell_type": "markdown",
   "metadata": {},
   "source": [
    "# Вывод"
   ]
  },
  {
   "cell_type": "markdown",
   "metadata": {},
   "source": [
    "Для проверки гипотизы, что средняя выручка пользователей из Москвы отличается от выручки пользователей из других \n",
    "регионов для тарифа Smart выберим гипотезу о равенстве средних двух генеральных совокупностей.\n",
    "Выберим эту гипотезу, так как у нас две генеральные совокупности, одна совокупность - это пользователи из города Москва, вторая - это пользователи с других регионов. \n",
    "Сформулиуем нулевую гипотезу (Н0), так что средняя выручка пользователей из Москвы равна средней выручка пользователей из других регионов в тарифе Smart. Тогда альтернативная гипотиза (Н1) будет сформулирована, что средняя выручка пользователей из Москвы не равна средней выручка пользователей из других регионов в тарифе Smart.\n",
    "В результате получаем, что нулевая гипотеза не отвергается, что означает, что средняя выручка у Москвы и у регионов в тарифе Smart равны. "
   ]
  },
  {
   "cell_type": "code",
   "execution_count": 20,
   "metadata": {},
   "outputs": [
    {
     "name": "stdout",
     "output_type": "stream",
     "text": [
      "Сравнение выручки Москвы с другими регионами в тарифе Ultra\n",
      "\n",
      "Тариф ULTRA г.Москва\n",
      "\n",
      "Cреднее значение выручки: 2109.3333333333335 руб.\n",
      "Стандартное отклонение выручки: 403.0320352386041 руб.\n",
      "Дисперсия выручки: 162434.82142857142 руб.\n",
      "\n",
      "Тариф ULTRA другие регионы:\n",
      "\n",
      "Cреднее значение выручки: 2093.495400788436 руб.\n",
      "Стандартное отклонение выручки: 430.34610036253434 руб.\n",
      "Дисперсия выручки: 185197.76609724047 руб.\n",
      "\n",
      "Проверка гипотизы:\n",
      "\n",
      "p-значение: 0.6228907118761158\n",
      "Не получилось отвергнуть нулевую гипотезу\n"
     ]
    }
   ],
   "source": [
    "#Проверим гипотезу, что средняя выручка пользователей из Москвы отличается от выручки пользователей из других \n",
    "# регионов для тарифа Ultra\n",
    "\n",
    "#Сделаем два среза для тарифа Ultra, где пользователи из Москвы и где пользователи из других регионов\n",
    "print('Сравнение выручки Москвы с другими регионами в тарифе Ultra')\n",
    "moscow_ultra = ultra.query('city == \"Москва\"')\n",
    "moscow_city_ultra = moscow_ultra['final_pay']\n",
    "\n",
    "other_ultra = ultra.query('city != \"Москва\"')\n",
    "other_city_ultra = other_ultra['final_pay']\n",
    "\n",
    "\n",
    "# Найдем дисперсию и среднее для двух срезов данных:\n",
    "print('\\nТариф ULTRA г.Москва\\n')\n",
    "print('Cреднее значение выручки:', moscow_ultra['final_pay'].mean(),'руб.')\n",
    "print('Стандартное отклонение выручки:', moscow_ultra['final_pay'].std(),'руб.')\n",
    "variance =  np.var(moscow_ultra['final_pay'], ddof=1)\n",
    "print('Дисперсия выручки:', variance, 'руб.')\n",
    "\n",
    "print('\\nТариф ULTRA другие регионы:\\n')\n",
    "print('Cреднее значение выручки:', other_ultra['final_pay'].mean(),'руб.')\n",
    "print('Стандартное отклонение выручки:', other_ultra['final_pay'].std(),'руб.')\n",
    "variance =  np.var(other_ultra['final_pay'], ddof=1)\n",
    "print('Дисперсия выручки:', variance, 'руб.')\n",
    "\n",
    "\n",
    "# В связи с тем, что дисперсии отличаются, поэтому при проверки гипотезы параметр equal_var установим как False,\n",
    "# так как по умолчанию он задан как equal_var = True\n",
    "\n",
    "print('\\nПроверка гипотизы:\\n')\n",
    "\n",
    "alpha = .05 # зададим критический уровень статистической значимости\n",
    "\n",
    "results = st.ttest_ind(moscow_city_ultra, other_city_ultra)# проверим гипотезу о равенстве средних двух независимых совокупностей\n",
    "\n",
    "print('p-значение:',  results.pvalue)\n",
    "\n",
    "if (results.pvalue < alpha):\n",
    "    print(\"Отвергаем нулевую гипотезу\")\n",
    "else:\n",
    "    print(\"Не получилось отвергнуть нулевую гипотезу\")"
   ]
  },
  {
   "cell_type": "markdown",
   "metadata": {},
   "source": [
    "# Вывод:"
   ]
  },
  {
   "cell_type": "markdown",
   "metadata": {},
   "source": [
    "Для проверки гипотизы, что средняя выручка пользователей из Москвы отличается от выручки пользователей из других \n",
    "регионов для тарифа Ultra, выберим гипотезу о равенстве средних двух генеральных совокупностей.\n",
    "Выберим эту гипотезу, так как у нас две генеральные совокупности, одна совокупность - это пользователи из города Москва, \n",
    "вторая - это пользователи с других регионов. \n",
    "Сформулиуем нулевую гипотезу (Н0), так что средняя выручка пользователей из Москвы равна средней выручка пользователей\n",
    "из других регионов в тарифе Ultra. Тогда альтернативная гипотиза (Н1) будет сформулирована, что средняя выручка \n",
    "пользователей из Москвы не равна средней выручка пользователей из других регионов в тарифе Smart.\n",
    "В результате получаем, что нулевая гипотеза не отвергается, что означает, что средняя выручка у Москвы и у регионов \n",
    "в тарифе Ultra равны. "
   ]
  },
  {
   "cell_type": "code",
   "execution_count": 21,
   "metadata": {},
   "outputs": [
    {
     "name": "stdout",
     "output_type": "stream",
     "text": [
      "Сравнение выручки Москвы с другими регионами независимо от тарифа\n",
      "\n",
      "Абоненты г.Москва\n",
      "\n",
      "Cреднее значение выручки: 1865.0671031096563 руб.\n",
      "Стандартное отклонение выручки: 868.4722692032469 руб.\n",
      "Дисперсия выручки: 754244.0823750369 руб.\n",
      "\n",
      "Абоненты другие регионы:\n",
      "\n",
      "Cреднее значение выручки: 1874.6003838771594 руб.\n",
      "Стандартное отклонение выручки: 956.6311266726866 руб.\n",
      "Дисперсия выручки: 915143.1125190539 руб.\n",
      "p-значение: 0.8108443980239145\n",
      "Не получилось отвергнуть нулевую гипотезу\n"
     ]
    }
   ],
   "source": [
    "#Проверим гипотезу, что средняя выручка пользователей из Москвы отличается от выручки пользователей из других \n",
    "# регионов вне зависимоти от тарифа\n",
    "\n",
    "#Сделаем два среза для тарифа Ultra, где пользователи из Москвы и где пользователи из других регионов\n",
    "print('Сравнение выручки Москвы с другими регионами независимо от тарифа')\n",
    "moscow_all = total_date_users.query('city == \"Москва\"')\n",
    "moscow_city_all = moscow_all['final_pay']\n",
    "\n",
    "other_all = total_date_users.query('city != \"Москва\"')\n",
    "other_city_all = other_all['final_pay']\n",
    "\n",
    "# Найдем дисперсию и среднее для двух срезов данных:\n",
    "print('\\nАбоненты г.Москва\\n')\n",
    "print('Cреднее значение выручки:', moscow_all['final_pay'].mean(),'руб.')\n",
    "print('Стандартное отклонение выручки:', moscow_all['final_pay'].std(),'руб.')\n",
    "variance =  np.var(moscow_all['final_pay'], ddof=1)\n",
    "print('Дисперсия выручки:', variance, 'руб.')\n",
    "\n",
    "print('\\nАбоненты другие регионы:\\n')\n",
    "print('Cреднее значение выручки:', other_all['final_pay'].mean(),'руб.')\n",
    "print('Стандартное отклонение выручки:', other_all['final_pay'].std(),'руб.')\n",
    "variance =  np.var(other_all['final_pay'], ddof=1)\n",
    "print('Дисперсия выручки:', variance, 'руб.')\n",
    "\n",
    "# В связи с тем, что дисперсии отличаются, поэтому при проверки гипотезы параметр equal_var установим как False,\n",
    "# так как по умолчанию он задан как equal_var = True\n",
    "\n",
    "\n",
    "alpha = .05 # зададим критический уровень статистической значимости\n",
    "\n",
    "results = st.ttest_ind(moscow_city_all, other_city_all, equal_var = False)# проверим гипотезу о равенстве средних двух независимых совокупностей\n",
    "\n",
    "print('p-значение:',  results.pvalue)\n",
    "\n",
    "if (results.pvalue < alpha):\n",
    "    print(\"Отвергаем нулевую гипотезу\")\n",
    "else:\n",
    "    print(\"Не получилось отвергнуть нулевую гипотезу\")\n"
   ]
  },
  {
   "cell_type": "markdown",
   "metadata": {},
   "source": [
    "Для проверки гипотизы, что средняя выручка пользователей из Москвы отличается от выручки пользователей из других \n",
    "регионов независимо от тарифа, выберим гипотезу о равенстве средних двух генеральных совокупностей.\n",
    "Выберим эту гипотезу, так как у нас две генеральные совокупности, одна совокупность - это пользователи из города Москва, \n",
    "вторая - это пользователи с других регионов. \n",
    "Сформулиуем нулевую гипотезу (Н0), так что средняя выручка пользователей из Москвы равна средней выручка пользователей\n",
    "из других регионов независимо от тарифа. Тогда альтернативная гипотиза (Н1) будет сформулирована, что средняя выручка \n",
    "пользователей из Москвы не равна средней выручка пользователей из других регионов независимо от тарифа.\n",
    "В результате получаем, что нулевая гипотеза не отвергается, что означает, что средняя выручка у Москвы не отличается от средней выручки у регионов, если не принимать во внимание тариф. "
   ]
  },
  {
   "cell_type": "markdown",
   "metadata": {},
   "source": [
    "# Общий вывод"
   ]
  },
  {
   "cell_type": "markdown",
   "metadata": {},
   "source": [
    "Проанализировав полученные датасеты на входе, было найдены ошибки в данных. В датасете internet, было много нулевых значений, которые были заменены на найденное среднее значение. В датасете calls присутствовали нулевые значения по длительности звонков. Было выдвинуты предположение, что это либо не отмеченные звонки, либо какой-то сбой при выгрузке данных. В результате нулевые значения заменили на минимально возможное время разговора - 1 минуту. Также сделан перевод интернет-трафика из Мб в Гб. Во всех датасетах столбцы содержащие данные о дате преобразованы из формата object в формат datetime64.\n",
    "Произведен подсчёт длительности и количества звонков, количества отправленных сообщений и израсходованного трафика по  месяцам для каждого абонента. На основании полученных данных произведено объединение таблицы в один общий датасет, на основании которого посчитана средняя выручка по двум тарифам. Средняя выручка тарифа Ultra выше чем у тарифа Smart и составляет 2097 руб., а в тарифе Smart - выручка составляет -  1773 руб. Пользователи тарифа Ultra практически не выходят за рамки тарифа, чего нельзя сказать про пользователей тарифа Smart. \n",
    "На основании полученных данных построены гистограммы для сравнения двух тарифов. В тарифе Smart длительность разговор более короткая, количество звонков и отправляемых сообщений меньше, а также используется меньшее количество трафика. \n",
    "При проверки гипотезы \"средняя выручка пользователей тарифов «Ультра» и «Смарт» была посчитана дисперсия двух срезов и она отличалась, поэтому чтобы увеличить точность сравнения был введен параметр equal_var и ему присвоено значение False, так как по умолчанию его значение True.  Гипотезу проверяли гипотезой о равенстве средних двух генеральных совокупностей. В результате получаем, что нулевая гипотеза отвергается, что означает, что средняя выручка у тарифов разная. Согласно полученным данным средняя выручка тарифа Смарт - 1775 руб., а для тарифа Ультра - 2097 руб.\n",
    "Для проверки гипотезы, что средняя выручка пользователей из Москвы отличается от выручки пользователей из других регионов независимо от тарифа была посчитана дисперсия двух срезов и она отличалась, поэтому чтобы увеличить точность сравнения был введен параметр equal_var и ему присвоено значение False, так как по умолчанию его значение True.  Для проверки гипотезы была выбрана гипотеза о равенстве средних двух генеральных совокупностей. Выбрана эта гипотеза, так как у нас две генеральные совокупности, одна совокупность - это пользователи из города Москва, вторая - это пользователи с других регионов. Была сформулирована нулевая гипотеза (Н0), так что средняя выручка пользователей из Москвы равна средней выручка пользователей из других регионов независимо от тарифа. Тогда альтернативная гипотеза (Н1) будет сформулирована, что средняя выручка пользователей из Москвы не равна средней выручка пользователей из других регионов независимо от тарифа. В результате получаем, что нулевая гипотеза не отвергается, что означает, что средняя выручка у Москвы не отличается от средней выручки у регионов.\n",
    "Подводя итоги, делаем вывод, что средняя выручка тарифа Ultra выше, чем у тарифа Smart и составляет 2097 руб., а в тарифе Smart - выручка составляет - 1773 руб., в связи с чем можно утверждать, что тариф Ultra приносит больше прибыли, поэтому коммерческий департамент должен скорректировать рекламный бюджет в строну тарифа Ultra."
   ]
  }
 ],
 "metadata": {
  "kernelspec": {
   "display_name": "Python 3",
   "language": "python",
   "name": "python3"
  },
  "language_info": {
   "codemirror_mode": {
    "name": "ipython",
    "version": 3
   },
   "file_extension": ".py",
   "mimetype": "text/x-python",
   "name": "python",
   "nbconvert_exporter": "python",
   "pygments_lexer": "ipython3",
   "version": "3.7.8"
  },
  "toc": {
   "base_numbering": 1,
   "nav_menu": {},
   "number_sections": true,
   "sideBar": true,
   "skip_h1_title": true,
   "title_cell": "Table of Contents",
   "title_sidebar": "Contents",
   "toc_cell": false,
   "toc_position": {},
   "toc_section_display": true,
   "toc_window_display": false
  }
 },
 "nbformat": 4,
 "nbformat_minor": 2
}
