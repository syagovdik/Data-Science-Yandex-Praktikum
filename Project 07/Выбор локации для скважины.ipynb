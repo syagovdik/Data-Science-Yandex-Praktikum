{
 "cells": [
  {
   "cell_type": "markdown",
   "metadata": {},
   "source": [
    "# Выбор локации для скважины"
   ]
  },
  {
   "cell_type": "markdown",
   "metadata": {},
   "source": [
    "Допустим, вы работаете в добывающей компании «ГлавРосГосНефть». Нужно решить, где бурить новую скважину.\n",
    "\n",
    "Вам предоставлены пробы нефти в трёх регионах: в каждом 10 000 месторождений, где измерили качество нефти и объём её запасов. Постройте модель машинного обучения, которая поможет определить регион, где добыча принесёт наибольшую прибыль. Проанализируйте возможную прибыль и риски техникой *Bootstrap.*\n",
    "\n",
    "Шаги для выбора локации:\n",
    "\n",
    "- В избранном регионе ищут месторождения, для каждого определяют значения признаков;\n",
    "- Строят модель и оценивают объём запасов;\n",
    "- Выбирают месторождения с самым высокими оценками значений. Количество месторождений зависит от бюджета компании и стоимости разработки одной скважины;\n",
    "- Прибыль равна суммарной прибыли отобранных месторождений."
   ]
  },
  {
   "cell_type": "markdown",
   "metadata": {},
   "source": [
    "# Описание данных:"
   ]
  },
  {
   "cell_type": "markdown",
   "metadata": {},
   "source": [
    "Данные геологоразведки трёх регионов находятся в файлах:\n",
    "\n",
    "/datasets/geo_data_0.csv. \n",
    "\n",
    "/datasets/geo_data_1.csv.\n",
    "\n",
    "/datasets/geo_data_2.csv. \n",
    "\n",
    "id — уникальный идентификатор скважины;\n",
    "\n",
    "f0, f1, f2 — три признака точек (неважно, что они означают, но сами признаки значимы);\n",
    "\n",
    "product — объём запасов в скважине (тыс. баррелей)."
   ]
  },
  {
   "cell_type": "markdown",
   "metadata": {},
   "source": [
    "# Условия задачи:"
   ]
  },
  {
   "cell_type": "markdown",
   "metadata": {},
   "source": [
    "Для обучения модели подходит только линейная регрессия (остальные — недостаточно предсказуемые).\n",
    "\n",
    "При разведке региона исследуют 500 точек, из которых с помощью машинного обучения выбирают 200 лучших для разработки.\n",
    "\n",
    "Бюджет на разработку скважин в регионе — 10 млрд рублей.\n",
    "\n",
    "При нынешних ценах один баррель сырья приносит 450 рублей дохода. Доход с каждой единицы продукта составляет 450 тыс. рублей, поскольку объём указан в тысячах баррелей.\n",
    "\n",
    "После оценки рисков нужно оставить лишь те регионы, в которых вероятность убытков меньше 2.5%. Среди них выбирают регион с наибольшей средней прибылью."
   ]
  },
  {
   "cell_type": "markdown",
   "metadata": {},
   "source": [
    "# 1. Загрузка и подготовка данных"
   ]
  },
  {
   "cell_type": "code",
   "execution_count": 1,
   "metadata": {},
   "outputs": [
    {
     "data": {
      "text/plain": [
       "'Датасет_0:'"
      ]
     },
     "metadata": {},
     "output_type": "display_data"
    },
    {
     "data": {
      "text/html": [
       "<div>\n",
       "<style scoped>\n",
       "    .dataframe tbody tr th:only-of-type {\n",
       "        vertical-align: middle;\n",
       "    }\n",
       "\n",
       "    .dataframe tbody tr th {\n",
       "        vertical-align: top;\n",
       "    }\n",
       "\n",
       "    .dataframe thead th {\n",
       "        text-align: right;\n",
       "    }\n",
       "</style>\n",
       "<table border=\"1\" class=\"dataframe\">\n",
       "  <thead>\n",
       "    <tr style=\"text-align: right;\">\n",
       "      <th></th>\n",
       "      <th>id</th>\n",
       "      <th>f0</th>\n",
       "      <th>f1</th>\n",
       "      <th>f2</th>\n",
       "      <th>product</th>\n",
       "    </tr>\n",
       "  </thead>\n",
       "  <tbody>\n",
       "    <tr>\n",
       "      <td>0</td>\n",
       "      <td>txEyH</td>\n",
       "      <td>0.705745</td>\n",
       "      <td>-0.497823</td>\n",
       "      <td>1.221170</td>\n",
       "      <td>105.280062</td>\n",
       "    </tr>\n",
       "    <tr>\n",
       "      <td>1</td>\n",
       "      <td>2acmU</td>\n",
       "      <td>1.334711</td>\n",
       "      <td>-0.340164</td>\n",
       "      <td>4.365080</td>\n",
       "      <td>73.037750</td>\n",
       "    </tr>\n",
       "    <tr>\n",
       "      <td>2</td>\n",
       "      <td>409Wp</td>\n",
       "      <td>1.022732</td>\n",
       "      <td>0.151990</td>\n",
       "      <td>1.419926</td>\n",
       "      <td>85.265647</td>\n",
       "    </tr>\n",
       "    <tr>\n",
       "      <td>3</td>\n",
       "      <td>iJLyR</td>\n",
       "      <td>-0.032172</td>\n",
       "      <td>0.139033</td>\n",
       "      <td>2.978566</td>\n",
       "      <td>168.620776</td>\n",
       "    </tr>\n",
       "    <tr>\n",
       "      <td>4</td>\n",
       "      <td>Xdl7t</td>\n",
       "      <td>1.988431</td>\n",
       "      <td>0.155413</td>\n",
       "      <td>4.751769</td>\n",
       "      <td>154.036647</td>\n",
       "    </tr>\n",
       "  </tbody>\n",
       "</table>\n",
       "</div>"
      ],
      "text/plain": [
       "      id        f0        f1        f2     product\n",
       "0  txEyH  0.705745 -0.497823  1.221170  105.280062\n",
       "1  2acmU  1.334711 -0.340164  4.365080   73.037750\n",
       "2  409Wp  1.022732  0.151990  1.419926   85.265647\n",
       "3  iJLyR -0.032172  0.139033  2.978566  168.620776\n",
       "4  Xdl7t  1.988431  0.155413  4.751769  154.036647"
      ]
     },
     "metadata": {},
     "output_type": "display_data"
    },
    {
     "data": {
      "text/plain": [
       "'Датасет_1:'"
      ]
     },
     "metadata": {},
     "output_type": "display_data"
    },
    {
     "data": {
      "text/html": [
       "<div>\n",
       "<style scoped>\n",
       "    .dataframe tbody tr th:only-of-type {\n",
       "        vertical-align: middle;\n",
       "    }\n",
       "\n",
       "    .dataframe tbody tr th {\n",
       "        vertical-align: top;\n",
       "    }\n",
       "\n",
       "    .dataframe thead th {\n",
       "        text-align: right;\n",
       "    }\n",
       "</style>\n",
       "<table border=\"1\" class=\"dataframe\">\n",
       "  <thead>\n",
       "    <tr style=\"text-align: right;\">\n",
       "      <th></th>\n",
       "      <th>id</th>\n",
       "      <th>f0</th>\n",
       "      <th>f1</th>\n",
       "      <th>f2</th>\n",
       "      <th>product</th>\n",
       "    </tr>\n",
       "  </thead>\n",
       "  <tbody>\n",
       "    <tr>\n",
       "      <td>0</td>\n",
       "      <td>kBEdx</td>\n",
       "      <td>-15.001348</td>\n",
       "      <td>-8.276000</td>\n",
       "      <td>-0.005876</td>\n",
       "      <td>3.179103</td>\n",
       "    </tr>\n",
       "    <tr>\n",
       "      <td>1</td>\n",
       "      <td>62mP7</td>\n",
       "      <td>14.272088</td>\n",
       "      <td>-3.475083</td>\n",
       "      <td>0.999183</td>\n",
       "      <td>26.953261</td>\n",
       "    </tr>\n",
       "    <tr>\n",
       "      <td>2</td>\n",
       "      <td>vyE1P</td>\n",
       "      <td>6.263187</td>\n",
       "      <td>-5.948386</td>\n",
       "      <td>5.001160</td>\n",
       "      <td>134.766305</td>\n",
       "    </tr>\n",
       "    <tr>\n",
       "      <td>3</td>\n",
       "      <td>KcrkZ</td>\n",
       "      <td>-13.081196</td>\n",
       "      <td>-11.506057</td>\n",
       "      <td>4.999415</td>\n",
       "      <td>137.945408</td>\n",
       "    </tr>\n",
       "    <tr>\n",
       "      <td>4</td>\n",
       "      <td>AHL4O</td>\n",
       "      <td>12.702195</td>\n",
       "      <td>-8.147433</td>\n",
       "      <td>5.004363</td>\n",
       "      <td>134.766305</td>\n",
       "    </tr>\n",
       "  </tbody>\n",
       "</table>\n",
       "</div>"
      ],
      "text/plain": [
       "      id         f0         f1        f2     product\n",
       "0  kBEdx -15.001348  -8.276000 -0.005876    3.179103\n",
       "1  62mP7  14.272088  -3.475083  0.999183   26.953261\n",
       "2  vyE1P   6.263187  -5.948386  5.001160  134.766305\n",
       "3  KcrkZ -13.081196 -11.506057  4.999415  137.945408\n",
       "4  AHL4O  12.702195  -8.147433  5.004363  134.766305"
      ]
     },
     "metadata": {},
     "output_type": "display_data"
    },
    {
     "data": {
      "text/plain": [
       "'Датасет_2:'"
      ]
     },
     "metadata": {},
     "output_type": "display_data"
    },
    {
     "data": {
      "text/html": [
       "<div>\n",
       "<style scoped>\n",
       "    .dataframe tbody tr th:only-of-type {\n",
       "        vertical-align: middle;\n",
       "    }\n",
       "\n",
       "    .dataframe tbody tr th {\n",
       "        vertical-align: top;\n",
       "    }\n",
       "\n",
       "    .dataframe thead th {\n",
       "        text-align: right;\n",
       "    }\n",
       "</style>\n",
       "<table border=\"1\" class=\"dataframe\">\n",
       "  <thead>\n",
       "    <tr style=\"text-align: right;\">\n",
       "      <th></th>\n",
       "      <th>id</th>\n",
       "      <th>f0</th>\n",
       "      <th>f1</th>\n",
       "      <th>f2</th>\n",
       "      <th>product</th>\n",
       "    </tr>\n",
       "  </thead>\n",
       "  <tbody>\n",
       "    <tr>\n",
       "      <td>0</td>\n",
       "      <td>fwXo0</td>\n",
       "      <td>-1.146987</td>\n",
       "      <td>0.963328</td>\n",
       "      <td>-0.828965</td>\n",
       "      <td>27.758673</td>\n",
       "    </tr>\n",
       "    <tr>\n",
       "      <td>1</td>\n",
       "      <td>WJtFt</td>\n",
       "      <td>0.262778</td>\n",
       "      <td>0.269839</td>\n",
       "      <td>-2.530187</td>\n",
       "      <td>56.069697</td>\n",
       "    </tr>\n",
       "    <tr>\n",
       "      <td>2</td>\n",
       "      <td>ovLUW</td>\n",
       "      <td>0.194587</td>\n",
       "      <td>0.289035</td>\n",
       "      <td>-5.586433</td>\n",
       "      <td>62.871910</td>\n",
       "    </tr>\n",
       "    <tr>\n",
       "      <td>3</td>\n",
       "      <td>q6cA6</td>\n",
       "      <td>2.236060</td>\n",
       "      <td>-0.553760</td>\n",
       "      <td>0.930038</td>\n",
       "      <td>114.572842</td>\n",
       "    </tr>\n",
       "    <tr>\n",
       "      <td>4</td>\n",
       "      <td>WPMUX</td>\n",
       "      <td>-0.515993</td>\n",
       "      <td>1.716266</td>\n",
       "      <td>5.899011</td>\n",
       "      <td>149.600746</td>\n",
       "    </tr>\n",
       "  </tbody>\n",
       "</table>\n",
       "</div>"
      ],
      "text/plain": [
       "      id        f0        f1        f2     product\n",
       "0  fwXo0 -1.146987  0.963328 -0.828965   27.758673\n",
       "1  WJtFt  0.262778  0.269839 -2.530187   56.069697\n",
       "2  ovLUW  0.194587  0.289035 -5.586433   62.871910\n",
       "3  q6cA6  2.236060 -0.553760  0.930038  114.572842\n",
       "4  WPMUX -0.515993  1.716266  5.899011  149.600746"
      ]
     },
     "metadata": {},
     "output_type": "display_data"
    },
    {
     "name": "stdout",
     "output_type": "stream",
     "text": [
      "Общая информация о Датасете_0:\n",
      "\n",
      "<class 'pandas.core.frame.DataFrame'>\n",
      "RangeIndex: 100000 entries, 0 to 99999\n",
      "Data columns (total 5 columns):\n",
      "id         100000 non-null object\n",
      "f0         100000 non-null float64\n",
      "f1         100000 non-null float64\n",
      "f2         100000 non-null float64\n",
      "product    100000 non-null float64\n",
      "dtypes: float64(4), object(1)\n",
      "memory usage: 3.8+ MB\n",
      "\n",
      "Общая информация о Датасете_1:\n",
      "\n",
      "<class 'pandas.core.frame.DataFrame'>\n",
      "RangeIndex: 100000 entries, 0 to 99999\n",
      "Data columns (total 5 columns):\n",
      "id         100000 non-null object\n",
      "f0         100000 non-null float64\n",
      "f1         100000 non-null float64\n",
      "f2         100000 non-null float64\n",
      "product    100000 non-null float64\n",
      "dtypes: float64(4), object(1)\n",
      "memory usage: 3.8+ MB\n",
      "\n",
      "Общая информация о Датасете_2:\n",
      "\n",
      "<class 'pandas.core.frame.DataFrame'>\n",
      "RangeIndex: 100000 entries, 0 to 99999\n",
      "Data columns (total 5 columns):\n",
      "id         100000 non-null object\n",
      "f0         100000 non-null float64\n",
      "f1         100000 non-null float64\n",
      "f2         100000 non-null float64\n",
      "product    100000 non-null float64\n",
      "dtypes: float64(4), object(1)\n",
      "memory usage: 3.8+ MB\n"
     ]
    }
   ],
   "source": [
    "#Подключим библиотеки\n",
    "import pandas as pd\n",
    "import numpy as np\n",
    "from sklearn.linear_model import LinearRegression\n",
    "from sklearn.model_selection import train_test_split\n",
    "from sklearn.metrics import mean_squared_error\n",
    "\n",
    "#Откроем 3 датасета\n",
    "geo_data_0 = pd.read_csv('/datasets/geo_data_0.csv')\n",
    "geo_data_1 = pd.read_csv('/datasets/geo_data_1.csv')\n",
    "geo_data_2 = pd.read_csv('/datasets/geo_data_2.csv')\n",
    "\n",
    "##Отобразим первые 5 строк каждого датасета\n",
    "display('Датасет_0:', geo_data_0.head(5))\n",
    "display('Датасет_1:', geo_data_1.head(5))\n",
    "display('Датасет_2:', geo_data_2.head(5))\n",
    "\n",
    "#Просмотрим общую информации о каждом датасете\n",
    "print('Общая информация о Датасете_0:\\n')\n",
    "geo_data_0.info()\n",
    "\n",
    "print('\\nОбщая информация о Датасете_1:\\n')\n",
    "geo_data_1.info()\n",
    "\n",
    "print('\\nОбщая информация о Датасете_2:\\n')\n",
    "geo_data_2.info()\n"
   ]
  },
  {
   "cell_type": "markdown",
   "metadata": {},
   "source": [
    "# 1.1 Вывод:"
   ]
  },
  {
   "cell_type": "markdown",
   "metadata": {},
   "source": [
    "Загружено 3 датасета с данными. В каждом датасете 10000 строк и 5 столбцов. Все строки без нулевых значений. Столбец ID - это уникальны номер мтроки и для дальнейшей работы не нужен. Столбцы f0, f1, f2 - это признаки, они представлены как отрицательными значениями, так и положительными. Столцец product - это целевой признак и отображает объём запасов в скважине (тыс. баррелей)."
   ]
  },
  {
   "cell_type": "markdown",
   "metadata": {},
   "source": [
    "# 2. Обучение и проверка модели"
   ]
  },
  {
   "cell_type": "markdown",
   "metadata": {},
   "source": [
    "# 2.1 Обучение и проверка модели линейная регрессия для Датасета 0. "
   ]
  },
  {
   "cell_type": "code",
   "execution_count": 2,
   "metadata": {},
   "outputs": [
    {
     "name": "stdout",
     "output_type": "stream",
     "text": [
      "RMSE Датасета_0: 37.5794217150813\n",
      "Cредний запаc сырья Датасета_0: 92.59256778438038 тыс. баррелей\n"
     ]
    }
   ],
   "source": [
    "#Определим признаки и целевой признак для модели линейная регрессия\n",
    "target_0 = geo_data_0['product']\n",
    "features_0 = geo_data_0.drop(['id', 'product'], axis=1)\n",
    "\n",
    "#Выделим 25% тестовых данных из всего объема данных\n",
    "features_train_0, features_valid_0, target_train_0, target_valid_0  = train_test_split(features_0, target_0, test_size=0.25, random_state=12345)\n",
    "\n",
    "#Проверим модель линейной регрессии\n",
    "model = LinearRegression()#создадим модель и установим гиперпараметры\n",
    "model.fit(features_train_0, target_train_0) #обучим модель на тренировочной выборке\n",
    "predicted_valid_0 = model.predict(features_valid_0) #предскажем на валидационной выборке\n",
    "predicted_valid_0 = pd.Series(predicted_valid_0)\n",
    "\n",
    "#вычислим RMSE\n",
    "RMSE_0 = mean_squared_error(target_valid_0, predicted_valid_0)**0.5\n",
    "print('RMSE Датасета_0:', RMSE_0)\n",
    "\n",
    "#Вычислим средний запас предсказанного сырья\n",
    "product_mean_0 = predicted_valid_0.mean()\n",
    "print('Cредний запаc сырья Датасета_0:', product_mean_0, 'тыс. баррелей')"
   ]
  },
  {
   "cell_type": "markdown",
   "metadata": {},
   "source": [
    "# 2.2 Обучение и проверка модели линейная регрессия для Датасета 1. "
   ]
  },
  {
   "cell_type": "code",
   "execution_count": 3,
   "metadata": {},
   "outputs": [
    {
     "name": "stdout",
     "output_type": "stream",
     "text": [
      "RMSE Датасета_1: 0.893099286775616\n",
      "Cредний запаc сырья Датасета_1: 68.728546895446 тыс. баррелей\n"
     ]
    }
   ],
   "source": [
    "#Определим признаки и целевой признак для модели линейная регрессия\n",
    "target_1 = geo_data_1['product']\n",
    "features_1 = geo_data_1.drop(['id', 'product'], axis=1)\n",
    "\n",
    "#Выделим 25% тестовых данных из всего объема данных\n",
    "features_train_1, features_valid_1, target_train_1, target_valid_1  = train_test_split(features_1, target_1, test_size=0.25, random_state=12345)\n",
    "\n",
    "#Проверим модель линейной регрессии\n",
    "model = LinearRegression()#создадим модель и установим гиперпараметры\n",
    "model.fit(features_train_1, target_train_1) #обучим модель на тренировочной выборке\n",
    "predicted_valid_1 = model.predict(features_valid_1) #предскажем на валидационной выборке\n",
    "predicted_valid_1 = pd.Series(predicted_valid_1)\n",
    "\n",
    "#вычислим RMSE\n",
    "RMSE_1 = mean_squared_error(target_valid_1, predicted_valid_1)**0.5\n",
    "print('RMSE Датасета_1:', RMSE_1)\n",
    "\n",
    "#Вычислим средний запас предсказанного сырья\n",
    "product_mean_1 = predicted_valid_1.mean()\n",
    "print('Cредний запаc сырья Датасета_1:', product_mean_1, 'тыс. баррелей')"
   ]
  },
  {
   "cell_type": "markdown",
   "metadata": {},
   "source": [
    "# 2.3 Обучение и проверка модели линейная регрессия для Датасета 2. "
   ]
  },
  {
   "cell_type": "code",
   "execution_count": 4,
   "metadata": {},
   "outputs": [
    {
     "name": "stdout",
     "output_type": "stream",
     "text": [
      "RMSE Датасета_2: 40.02970873393434\n",
      "Cредний запаc сырья Датасета_2: 94.96504596800489 тыс. баррелей\n"
     ]
    }
   ],
   "source": [
    "#Определим признаки и целевой признак для модели линейная регрессия\n",
    "target_2 = geo_data_2['product']\n",
    "features_2 = geo_data_2.drop(['id', 'product'], axis=1)\n",
    "\n",
    "#Выделим 25% тестовых данных из всего объема данных\n",
    "features_train_2, features_valid_2, target_train_2, target_valid_2  = train_test_split(features_2, target_2, test_size=0.25, random_state=12345)\n",
    "\n",
    "#Проверим модель линейной регрессии\n",
    "model = LinearRegression()#создадим модель и установим гиперпараметры\n",
    "model.fit(features_train_2, target_train_2) #обучим модель на тренировочной выборке\n",
    "predicted_valid_2 = model.predict(features_valid_2) #предскажем на валидационной выборке\n",
    "predicted_valid_2 = pd.Series(predicted_valid_2)\n",
    "\n",
    "#вычислим RMSE\n",
    "RMSE_2 = mean_squared_error(target_valid_2, predicted_valid_2)**0.5 \n",
    "print('RMSE Датасета_2:', RMSE_2)\n",
    "\n",
    "#Вычислим средний запас предсказанного сырья\n",
    "product_mean_2 = predicted_valid_2.mean()\n",
    "print('Cредний запаc сырья Датасета_2:', product_mean_2, 'тыс. баррелей')"
   ]
  },
  {
   "cell_type": "markdown",
   "metadata": {},
   "source": [
    "# 2.4 Вывод:"
   ]
  },
  {
   "cell_type": "markdown",
   "metadata": {},
   "source": [
    "Запасы сырья и их RMSE распределились мледующим образом:\n",
    "- Датасет_0: RMSE: 37.5794217150813, средний запаc сырья: 92.59256778438038 тыс. баррелей\n",
    "- Датасет_1: RMSE: 0.893099286775616, средний запаc сырья: 68.728546895446 тыс. баррелей\n",
    "- Датасет_2: RMSE: 40.02970873393434, средний запаc сырья: 94.96504596800489 тыс. баррелей\n",
    "\n",
    "Из полученных данных видно, что самый большой запас нефти находится в Датасете 2, потом Датасете 0 и самый маленький запас нефти в Датасете 1. Относительно RMSE самая низкая квадратичная ошибка в Датасете 1 и составляет 0.893, тогда как в Датасете 0 и Датасете 2 она гораздо выше и сотавляет 37.579 и 40.029. "
   ]
  },
  {
   "cell_type": "markdown",
   "metadata": {},
   "source": [
    "# 3. Подготовка к расчёту прибыли"
   ]
  },
  {
   "cell_type": "markdown",
   "metadata": {},
   "source": [
    "# 3.1 Подготовим  ключевые значения для расчётов "
   ]
  },
  {
   "cell_type": "code",
   "execution_count": 5,
   "metadata": {},
   "outputs": [],
   "source": [
    "#Все ключевые значения для расчётов сохраним в отдельных переменных.\n",
    "dots = 500 #При разведке региона исследуют 500 точек\n",
    "best_dots = 200 #с помощью машинного обучения выбирают 200 лучших для разработки.\n",
    "budget = 10000000000 #Бюджет на разработку скважин в регионе\n",
    "profit = 450000 #Доход с каждой единицы продукта составляет 450 тыс. рублей, поскольку объём указан в тысячах баррелей.\n",
    "probability_loss = 2.5 #вероятность убытков"
   ]
  },
  {
   "cell_type": "markdown",
   "metadata": {},
   "source": [
    "# 3.2 Рассчитаем достаточный объём сырья для безубыточной разработки новой скважины"
   ]
  },
  {
   "cell_type": "code",
   "execution_count": 6,
   "metadata": {},
   "outputs": [
    {
     "name": "stdout",
     "output_type": "stream",
     "text": [
      "Количество нефти для безубыточной разработки 1 точки: 111.11111111111111 тыс. баррелей\n"
     ]
    }
   ],
   "source": [
    "#Рассчитаем достаточный объём сырья для безубыточной разработки новой скважины\n",
    "#Исследуем 500 точек на них выделяется бюджет 10 млрд. и выбирается 200 лучших\n",
    "#Поэтому вычислим сколько тратиться бюджета на 1 успешную скважину\n",
    "budget_1_dot = budget/best_dots \n",
    "\n",
    "#Вычислим сколько нужно тысяч баррелей нефти, чтобы разработка была безубыточной для 1 точки:\n",
    "count_barrel_1_dot = budget_1_dot / profit\n",
    "\n",
    "print('Количество нефти для безубыточной разработки 1 точки:', count_barrel_1_dot, 'тыс. баррелей')"
   ]
  },
  {
   "cell_type": "markdown",
   "metadata": {},
   "source": [
    "# 3.3 Вывод:"
   ]
  },
  {
   "cell_type": "markdown",
   "metadata": {},
   "source": [
    "Для безубыточной разработки 1 точки потребуется 111.1 тыс. баррелей нефти. Это значение больше, чем средний запас нефти в каждом из датасетов. На 13-15 % больше, чем средний запас в Датасете 0 и Датасете 2 и на 38% больше, чем в Датасете 1. "
   ]
  },
  {
   "cell_type": "markdown",
   "metadata": {},
   "source": [
    "# 4. Расчет прибыли"
   ]
  },
  {
   "cell_type": "code",
   "execution_count": 7,
   "metadata": {
    "scrolled": true
   },
   "outputs": [
    {
     "name": "stdout",
     "output_type": "stream",
     "text": [
      "Прибыль для предсказаний Датасета_0: -1.922 млрд. руб.\n",
      "Прибыль для предсказаний Датасета_1: -4.016 млрд. руб.\n",
      "Прибыль для предсказаний Датасета_2: -1.259 млрд. руб.\n"
     ]
    }
   ],
   "source": [
    "#Напишем функцию revenue(), которая подсчитывает и возвращает выручку\n",
    "def revenue(target, predicted_valid, best_dots):\n",
    "    probs_sorted = predicted_valid.sort_values(ascending=False)\n",
    "    selected = target[probs_sorted.index][:best_dots]\n",
    "    return profit * selected.sum() - budget\n",
    "\n",
    "#Рассчитаем прибыль для 3-х Датасетов\n",
    "profit_0 = revenue(target_0, predicted_valid_0, best_dots)\n",
    "profit_1 = revenue(target_1, predicted_valid_1, best_dots)\n",
    "profit_2 = revenue(target_2, predicted_valid_2, best_dots)\n",
    "print('Прибыль для предсказаний Датасета_0:','{:.3f}'.format(profit_0/1000000000), 'млрд. руб.')\n",
    "print('Прибыль для предсказаний Датасета_1:','{:.3f}'.format(profit_1/1000000000), 'млрд. руб.')\n",
    "print('Прибыль для предсказаний Датасета_2:','{:.3f}'.format(profit_2/1000000000), 'млрд. руб.')\n"
   ]
  },
  {
   "cell_type": "markdown",
   "metadata": {},
   "source": [
    "# 4.1 Вывод:"
   ]
  },
  {
   "cell_type": "markdown",
   "metadata": {},
   "source": [
    "Самый большой объем нефти содержится в предсказаных значениях Датасета 2, на втором месте Датасет 0 и на третьем месте Датасет 1. В таком же порядке расположена и прибыль, так как она прямо пропорциональна объемам сырья. Вся прибыль оказалась отрцательная. \n",
    "\n",
    "1. Прибыль для предсказаний Датасета_2: -1.259 млрд. руб.\n",
    "2. Прибыль для предсказаний Датасета_0: -1.922 млрд. руб.\n",
    "3. Прибыль для предсказаний Датасета_1: -4.016 млрд. руб."
   ]
  },
  {
   "cell_type": "markdown",
   "metadata": {},
   "source": [
    "# 5. Расчёт прибыли и рисков "
   ]
  },
  {
   "cell_type": "markdown",
   "metadata": {},
   "source": [
    "# 5.1 Расчёт прибыли и рисков для Датесета 0"
   ]
  },
  {
   "cell_type": "code",
   "execution_count": 8,
   "metadata": {},
   "outputs": [
    {
     "name": "stderr",
     "output_type": "stream",
     "text": [
      "/opt/conda/lib/python3.7/site-packages/pandas/core/series.py:1143: FutureWarning: \n",
      "Passing list-likes to .loc or [] with any missing label will raise\n",
      "KeyError in the future, you can use .reindex() as an alternative.\n",
      "\n",
      "See the documentation here:\n",
      "https://pandas.pydata.org/pandas-docs/stable/user_guide/indexing.html#deprecate-loc-reindex-listlike\n",
      "  return self.loc[key]\n"
     ]
    },
    {
     "name": "stdout",
     "output_type": "stream",
     "text": [
      "Средняя выручка: -1.647 млрд. руб.\n",
      "Доверительный интервал Датасета_0: -2.216 млрд. руб. - -1.097 млрд. руб.\n",
      "Риск убытка Датасета_0: 0.1 %\n"
     ]
    }
   ],
   "source": [
    "#Напишем функцию bootstrap\n",
    "state = np.random.RandomState(12345)  \n",
    "values = []\n",
    "for i in range(1000):\n",
    "    target_subsample = target_0.sample(n=500, replace=True, random_state=state)\n",
    "    probs_subsample = predicted_valid_0[target_subsample.index]\n",
    "    values.append(revenue(target_subsample, probs_subsample, best_dots))\n",
    "\n",
    "#Рассчитаем риск убытка\n",
    "loss = 0\n",
    "for value in predicted_valid_0:\n",
    "    if value < 0:\n",
    "        loss +=1\n",
    "loss_predict = (loss / len(values)) * 100\n",
    "        \n",
    "#Определим границы доверительного интервала:\n",
    "values = pd.Series(values)\n",
    "lower = values.quantile(0.025)\n",
    "upper = values.quantile(0.975)\n",
    "\n",
    "#Определим среднюю выручку\n",
    "mean = values.mean()\n",
    "\n",
    "#Отобразим данные\n",
    "print('Средняя выручка:','{:.3f}'.format(mean/1000000000), 'млрд. руб.')\n",
    "print('Доверительный интервал Датасета_0:','{:.3f}'.format(lower/1000000000),'млрд. руб.', '-', '{:.3f}'.format(upper/1000000000), 'млрд. руб.')\n",
    "print('Риск убытка Датасета_0:', loss_predict, '%' )"
   ]
  },
  {
   "cell_type": "markdown",
   "metadata": {},
   "source": [
    "# 5.2 Расчёт прибыли и рисков для Датесета 1"
   ]
  },
  {
   "cell_type": "code",
   "execution_count": 9,
   "metadata": {},
   "outputs": [
    {
     "name": "stdout",
     "output_type": "stream",
     "text": [
      "Средняя выручка: -3.827 млрд. руб.\n",
      "Доверительный интервал Датасета_1: -4.393 млрд. руб. - -3.283 млрд. руб.\n",
      "Риск убытка Датасета_1: 53.900000000000006 %\n"
     ]
    }
   ],
   "source": [
    "#Напишем функцию bootstrap\n",
    "state = np.random.RandomState(12345)  \n",
    "values = []\n",
    "for i in range(1000):\n",
    "    target_subsample = target_1.sample(n=500, replace=True, random_state=state)\n",
    "    probs_subsample = predicted_valid_1[target_subsample.index] \n",
    "    values.append(revenue(target_subsample, probs_subsample, best_dots))\n",
    "\n",
    "#Рассчитаем риск убытка\n",
    "loss = 0\n",
    "for value in predicted_valid_1:\n",
    "    if value < 0:\n",
    "        loss +=1\n",
    "loss_predict = (loss / len(values)) * 100\n",
    "        \n",
    "#Определим границы доверительного интервала:\n",
    "values = pd.Series(values)\n",
    "lower = values.quantile(0.025)\n",
    "upper = values.quantile(0.975)\n",
    "\n",
    "#Определим среднюю выручку\n",
    "mean = values.mean()\n",
    "\n",
    "#Отобразим данные\n",
    "print('Средняя выручка:','{:.3f}'.format(mean/1000000000), 'млрд. руб.')\n",
    "print('Доверительный интервал Датасета_1:','{:.3f}'.format(lower/1000000000),'млрд. руб.', '-', '{:.3f}'.format(upper/1000000000), 'млрд. руб.')\n",
    "print('Риск убытка Датасета_1:', loss_predict, '%' )"
   ]
  },
  {
   "cell_type": "markdown",
   "metadata": {},
   "source": [
    "# 5.3 Расчёт прибыли и рисков для Датесета 2"
   ]
  },
  {
   "cell_type": "code",
   "execution_count": 10,
   "metadata": {},
   "outputs": [
    {
     "name": "stdout",
     "output_type": "stream",
     "text": [
      "Средняя выручка: -1.439 млрд. руб.\n",
      "Доверительный интервал Датасета_2: -2.006 млрд. руб. - -0.874 млрд. руб.\n",
      "Риск убытка Датасета_2: 0.0 %\n"
     ]
    }
   ],
   "source": [
    "#Напишем функцию bootstrap\n",
    "state = np.random.RandomState(12345)  \n",
    "values = []\n",
    "for i in range(1000):\n",
    "    target_subsample = target_2.sample(n=500, replace=True, random_state=state)\n",
    "    probs_subsample = predicted_valid_2[target_subsample.index] \n",
    "    values.append(revenue(target_subsample, probs_subsample, best_dots))\n",
    "\n",
    "#Рассчитаем риск убытка\n",
    "loss = 0\n",
    "for value in predicted_valid_2:\n",
    "    if value < 0:\n",
    "        loss +=1\n",
    "loss_predict = (loss / len(values)) * 100\n",
    "        \n",
    "#Определим границы доверительного интервала:\n",
    "values = pd.Series(values)\n",
    "lower = values.quantile(0.025)\n",
    "upper = values.quantile(0.975)\n",
    "\n",
    "#Определим среднюю выручку\n",
    "mean = values.mean()\n",
    "\n",
    "#Отобразим данные\n",
    "print('Средняя выручка:','{:.3f}'.format(mean/1000000000), 'млрд. руб.')\n",
    "print('Доверительный интервал Датасета_2:','{:.3f}'.format(lower/1000000000),'млрд. руб.', '-', '{:.3f}'.format(upper/1000000000), 'млрд. руб.')\n",
    "print('Риск убытка Датасета_2:', loss_predict, '%' )"
   ]
  },
  {
   "cell_type": "markdown",
   "metadata": {},
   "source": [
    "# 5.4 Вывод:"
   ]
  },
  {
   "cell_type": "markdown",
   "metadata": {},
   "source": [
    "Датасет 0:\n",
    "- Средняя выручка: -1.647 млрд. руб.\n",
    "- Доверительный интервал Датасета_0: -2.216 млрд. руб. - -1.097 млрд. руб.\n",
    "- Риск убытка Датасета_0: 0.1 %\n",
    "\n",
    "\n",
    "Датасет 1:\n",
    "- Средняя выручка: -3.827 млрд. руб.\n",
    "- Доверительный интервал Датасета_1: -4.393 млрд. руб. - -3.283 млрд. руб.\n",
    "- Риск убытка Датасета_1: 53.900000000000006 %\n",
    "\n",
    "Датасет 2:\n",
    "- Средняя выручка: -1.439 млрд. руб.\n",
    "- Доверительный интервал Датасета_2: -2.006 млрд. руб. - -0.874 млрд. руб.\n",
    "- Риск убытка Датасета_2: 0.0 %\n",
    "\n",
    "\n",
    "Согласно полученным данным, видим, что выручка во всех 3-х датасетах отрицательная, в связи с чем невозможно выбрать ни один из регионов для дальнейшей разработки. "
   ]
  },
  {
   "cell_type": "markdown",
   "metadata": {},
   "source": [
    "# Чек-лист готовности проекта"
   ]
  },
  {
   "cell_type": "markdown",
   "metadata": {},
   "source": [
    "Поставьте 'x' в выполненных пунктах. Далее нажмите Shift+Enter."
   ]
  },
  {
   "cell_type": "markdown",
   "metadata": {},
   "source": [
    "- [x]  Jupyter Notebook открыт\n",
    "- [x]  Весь код выполняется без ошибок\n",
    "- [x]  Ячейки с кодом расположены в порядке исполнения\n",
    "- [x]  Выполнен шаг 1: данные подготовлены\n",
    "- [x]  Выполнен шаг 2: модели обучены и проверены\n",
    "    - [x]  Данные корректно разбиты на обучающую и валидационную выборки\n",
    "    - [x]  Модели обучены, предсказания сделаны\n",
    "    - [x]  Предсказания и правильные ответы на валидационной выборке сохранены\n",
    "    - [x]  На экране напечатаны результаты\n",
    "    - [x]  Сделаны выводы\n",
    "- [x]  Выполнен шаг 3: проведена подготовка к расчёту прибыли\n",
    "    - [x]  Для всех ключевых значений созданы константы Python\n",
    "    - [x]  Посчитано минимальное среднее количество продукта в месторождениях региона, достаточное для разработки\n",
    "    - [x]  По предыдущему пункту сделаны выводы\n",
    "    - [x]  Написана функция расчёта прибыли\n",
    "- [x]  Выполнен шаг 4: посчитаны риски и прибыль\n",
    "    - [x]  Проведена процедура *Bootstrap*\n",
    "    - [x]  Все параметры бутстрепа соответствуют условию\n",
    "    - [x]  Найдены все нужные величины\n",
    "    - [x]  Предложен регион для разработки месторождения\n",
    "    - [x]  Выбор региона обоснован"
   ]
  },
  {
   "cell_type": "code",
   "execution_count": null,
   "metadata": {},
   "outputs": [],
   "source": []
  }
 ],
 "metadata": {
  "kernelspec": {
   "display_name": "Python 3",
   "language": "python",
   "name": "python3"
  },
  "language_info": {
   "codemirror_mode": {
    "name": "ipython",
    "version": 3
   },
   "file_extension": ".py",
   "mimetype": "text/x-python",
   "name": "python",
   "nbconvert_exporter": "python",
   "pygments_lexer": "ipython3",
   "version": "3.7.8"
  },
  "toc": {
   "base_numbering": 1,
   "nav_menu": {},
   "number_sections": true,
   "sideBar": true,
   "skip_h1_title": true,
   "title_cell": "Table of Contents",
   "title_sidebar": "Contents",
   "toc_cell": false,
   "toc_position": {},
   "toc_section_display": true,
   "toc_window_display": false
  }
 },
 "nbformat": 4,
 "nbformat_minor": 2
}
