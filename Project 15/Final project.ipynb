{
 "cells": [
  {
   "cell_type": "markdown",
   "metadata": {},
   "source": [
    "# Телеком — задача проекта"
   ]
  },
  {
   "cell_type": "markdown",
   "metadata": {},
   "source": [
    "Оператор связи «Ниединогоразрыва.ком» хочет научиться прогнозировать отток клиентов. Если выяснится, что пользователь планирует уйти, ему будут предложены промокоды и специальные условия. Команда оператора собрала персональные данные о некоторых клиентах, информацию об их тарифах и договорах."
   ]
  },
  {
   "cell_type": "markdown",
   "metadata": {},
   "source": [
    "# Описание услуг"
   ]
  },
  {
   "cell_type": "markdown",
   "metadata": {},
   "source": [
    "Оператор предоставляет два основных типа услуг: \n",
    "\n",
    "1. Стационарную телефонную связь. Возможно подключение телефонного аппарата к нескольким линиям одновременно.\n",
    "2. Интернет. Подключение может быть двух типов: через телефонную линию (DSL*,* от англ. *digital subscriber line*, «цифровая абонентская линия») или оптоволоконный кабель (*Fiber optic*).\n",
    "\n",
    "Также доступны такие услуги:\n",
    "\n",
    "- Интернет-безопасность: антивирус (*DeviceProtection*) и блокировка небезопасных сайтов (*OnlineSecurity*);\n",
    "- Выделенная линия технической поддержки (*TechSupport*);\n",
    "- Облачное хранилище файлов для резервного копирования данных (*OnlineBackup*);\n",
    "- Стриминговое телевидение (*StreamingTV*) и каталог фильмов (*StreamingMovies*).\n",
    "\n",
    "За услуги клиенты могут платить каждый месяц или заключить договор на 1–2 года. Доступны различные способы расчёта и возможность получения электронного чека."
   ]
  },
  {
   "cell_type": "markdown",
   "metadata": {},
   "source": [
    "# Описание данных"
   ]
  },
  {
   "cell_type": "markdown",
   "metadata": {},
   "source": [
    "Данные состоят из файлов, полученных из разных источников:\n",
    "\n",
    "- `contract.csv` — информация о договоре;\n",
    "- `personal.csv` — персональные данные клиента;\n",
    "- `internet.csv` — информация об интернет-услугах;\n",
    "- `phone.csv` — информация об услугах телефонии."
   ]
  },
  {
   "cell_type": "markdown",
   "metadata": {},
   "source": [
    "# План"
   ]
  },
  {
   "cell_type": "markdown",
   "metadata": {},
   "source": [
    "1. Загрузить 4 датасета и проанализировать содержащиеся в них данные\n",
    "\n",
    "2. Выполнить предобработку данных\n",
    "\n",
    "3. Объединить таблицы по ID - клиента\n",
    "\n",
    "4. Категорильные признаки преобразовать в числовые\n",
    "\n",
    "8. Выбирать признаки и целевой признак\n",
    "\n",
    "9. Выделим 20% тестовых данных из всего объема данных\n",
    "\n",
    "10. Обучить модель и проверить на тестовых данных\n",
    "\n",
    "11. Проверим модель на тестовых данных. \n",
    "\n",
    "12. Вычислить AUC-ROC"
   ]
  },
  {
   "cell_type": "markdown",
   "metadata": {},
   "source": [
    "# Загрузим и проанализируем датасеты"
   ]
  },
  {
   "cell_type": "markdown",
   "metadata": {},
   "source": [
    "### Датасет  'contract'"
   ]
  },
  {
   "cell_type": "code",
   "execution_count": 1,
   "metadata": {},
   "outputs": [
    {
     "data": {
      "text/html": [
       "<div>\n",
       "<style scoped>\n",
       "    .dataframe tbody tr th:only-of-type {\n",
       "        vertical-align: middle;\n",
       "    }\n",
       "\n",
       "    .dataframe tbody tr th {\n",
       "        vertical-align: top;\n",
       "    }\n",
       "\n",
       "    .dataframe thead th {\n",
       "        text-align: right;\n",
       "    }\n",
       "</style>\n",
       "<table border=\"1\" class=\"dataframe\">\n",
       "  <thead>\n",
       "    <tr style=\"text-align: right;\">\n",
       "      <th></th>\n",
       "      <th>customerID</th>\n",
       "      <th>BeginDate</th>\n",
       "      <th>EndDate</th>\n",
       "      <th>Type</th>\n",
       "      <th>PaperlessBilling</th>\n",
       "      <th>PaymentMethod</th>\n",
       "      <th>MonthlyCharges</th>\n",
       "      <th>TotalCharges</th>\n",
       "    </tr>\n",
       "  </thead>\n",
       "  <tbody>\n",
       "    <tr>\n",
       "      <td>0</td>\n",
       "      <td>7590-VHVEG</td>\n",
       "      <td>2020-01-01</td>\n",
       "      <td>No</td>\n",
       "      <td>Month-to-month</td>\n",
       "      <td>Yes</td>\n",
       "      <td>Electronic check</td>\n",
       "      <td>29.85</td>\n",
       "      <td>29.85</td>\n",
       "    </tr>\n",
       "    <tr>\n",
       "      <td>1</td>\n",
       "      <td>5575-GNVDE</td>\n",
       "      <td>2017-04-01</td>\n",
       "      <td>No</td>\n",
       "      <td>One year</td>\n",
       "      <td>No</td>\n",
       "      <td>Mailed check</td>\n",
       "      <td>56.95</td>\n",
       "      <td>1889.5</td>\n",
       "    </tr>\n",
       "    <tr>\n",
       "      <td>2</td>\n",
       "      <td>3668-QPYBK</td>\n",
       "      <td>2019-10-01</td>\n",
       "      <td>2019-12-01 00:00:00</td>\n",
       "      <td>Month-to-month</td>\n",
       "      <td>Yes</td>\n",
       "      <td>Mailed check</td>\n",
       "      <td>53.85</td>\n",
       "      <td>108.15</td>\n",
       "    </tr>\n",
       "    <tr>\n",
       "      <td>3</td>\n",
       "      <td>7795-CFOCW</td>\n",
       "      <td>2016-05-01</td>\n",
       "      <td>No</td>\n",
       "      <td>One year</td>\n",
       "      <td>No</td>\n",
       "      <td>Bank transfer (automatic)</td>\n",
       "      <td>42.30</td>\n",
       "      <td>1840.75</td>\n",
       "    </tr>\n",
       "    <tr>\n",
       "      <td>4</td>\n",
       "      <td>9237-HQITU</td>\n",
       "      <td>2019-09-01</td>\n",
       "      <td>2019-11-01 00:00:00</td>\n",
       "      <td>Month-to-month</td>\n",
       "      <td>Yes</td>\n",
       "      <td>Electronic check</td>\n",
       "      <td>70.70</td>\n",
       "      <td>151.65</td>\n",
       "    </tr>\n",
       "  </tbody>\n",
       "</table>\n",
       "</div>"
      ],
      "text/plain": [
       "   customerID   BeginDate              EndDate            Type  \\\n",
       "0  7590-VHVEG  2020-01-01                   No  Month-to-month   \n",
       "1  5575-GNVDE  2017-04-01                   No        One year   \n",
       "2  3668-QPYBK  2019-10-01  2019-12-01 00:00:00  Month-to-month   \n",
       "3  7795-CFOCW  2016-05-01                   No        One year   \n",
       "4  9237-HQITU  2019-09-01  2019-11-01 00:00:00  Month-to-month   \n",
       "\n",
       "  PaperlessBilling              PaymentMethod  MonthlyCharges TotalCharges  \n",
       "0              Yes           Electronic check           29.85        29.85  \n",
       "1               No               Mailed check           56.95       1889.5  \n",
       "2              Yes               Mailed check           53.85       108.15  \n",
       "3               No  Bank transfer (automatic)           42.30      1840.75  \n",
       "4              Yes           Electronic check           70.70       151.65  "
      ]
     },
     "metadata": {},
     "output_type": "display_data"
    },
    {
     "name": "stdout",
     "output_type": "stream",
     "text": [
      "Размер таблицы:\n"
     ]
    },
    {
     "data": {
      "text/plain": [
       "(7043, 8)"
      ]
     },
     "metadata": {},
     "output_type": "display_data"
    },
    {
     "name": "stdout",
     "output_type": "stream",
     "text": [
      "Общая информация о таблице:\n",
      "<class 'pandas.core.frame.DataFrame'>\n",
      "RangeIndex: 7043 entries, 0 to 7042\n",
      "Data columns (total 8 columns):\n",
      "customerID          7043 non-null object\n",
      "BeginDate           7043 non-null object\n",
      "EndDate             7043 non-null object\n",
      "Type                7043 non-null object\n",
      "PaperlessBilling    7043 non-null object\n",
      "PaymentMethod       7043 non-null object\n",
      "MonthlyCharges      7043 non-null float64\n",
      "TotalCharges        7043 non-null object\n",
      "dtypes: float64(1), object(7)\n",
      "memory usage: 440.3+ KB\n"
     ]
    }
   ],
   "source": [
    "import pandas as pd\n",
    "import numpy as np\n",
    "import matplotlib.pyplot as plt\n",
    "import scipy.stats as st\n",
    "import time\n",
    "from sklearn.model_selection import train_test_split\n",
    "from sklearn.linear_model import LogisticRegression\n",
    "from sklearn.preprocessing import OrdinalEncoder \n",
    "from sklearn.tree import DecisionTreeClassifier\n",
    "from sklearn.preprocessing import StandardScaler \n",
    "from sklearn.metrics import accuracy_score\n",
    "from sklearn.ensemble import RandomForestClassifier\n",
    "from sklearn.metrics import f1_score\n",
    "from sklearn.utils import shuffle\n",
    "from sklearn.metrics import roc_auc_score\n",
    "from sklearn.metrics import roc_curve \n",
    "from sklearn.model_selection import RandomizedSearchCV\n",
    "from statsmodels.stats.outliers_influence import variance_inflation_factor    \n",
    "from joblib import Parallel, delayed\n",
    "from sklearn.datasets import make_classification\n",
    "\n",
    "\n",
    "#Откроем файл\n",
    "contract = pd.read_csv('/datasets/final_provider/contract.csv')\n",
    "\n",
    "#Отобразим первые 5 строк таблицы\n",
    "display(contract.head(5))\n",
    "\n",
    "#Отобразим размер таблицы\n",
    "print('Размер таблицы:')\n",
    "display(contract.shape)\n",
    "\n",
    "\n",
    "#Просмотрим общую информации о таблице\n",
    "print('Общая информация о таблице:')\n",
    "contract.info()"
   ]
  },
  {
   "cell_type": "markdown",
   "metadata": {},
   "source": [
    "### Датасет  'personal'"
   ]
  },
  {
   "cell_type": "code",
   "execution_count": 2,
   "metadata": {},
   "outputs": [
    {
     "data": {
      "text/html": [
       "<div>\n",
       "<style scoped>\n",
       "    .dataframe tbody tr th:only-of-type {\n",
       "        vertical-align: middle;\n",
       "    }\n",
       "\n",
       "    .dataframe tbody tr th {\n",
       "        vertical-align: top;\n",
       "    }\n",
       "\n",
       "    .dataframe thead th {\n",
       "        text-align: right;\n",
       "    }\n",
       "</style>\n",
       "<table border=\"1\" class=\"dataframe\">\n",
       "  <thead>\n",
       "    <tr style=\"text-align: right;\">\n",
       "      <th></th>\n",
       "      <th>customerID</th>\n",
       "      <th>gender</th>\n",
       "      <th>SeniorCitizen</th>\n",
       "      <th>Partner</th>\n",
       "      <th>Dependents</th>\n",
       "    </tr>\n",
       "  </thead>\n",
       "  <tbody>\n",
       "    <tr>\n",
       "      <td>0</td>\n",
       "      <td>7590-VHVEG</td>\n",
       "      <td>Female</td>\n",
       "      <td>0</td>\n",
       "      <td>Yes</td>\n",
       "      <td>No</td>\n",
       "    </tr>\n",
       "    <tr>\n",
       "      <td>1</td>\n",
       "      <td>5575-GNVDE</td>\n",
       "      <td>Male</td>\n",
       "      <td>0</td>\n",
       "      <td>No</td>\n",
       "      <td>No</td>\n",
       "    </tr>\n",
       "    <tr>\n",
       "      <td>2</td>\n",
       "      <td>3668-QPYBK</td>\n",
       "      <td>Male</td>\n",
       "      <td>0</td>\n",
       "      <td>No</td>\n",
       "      <td>No</td>\n",
       "    </tr>\n",
       "    <tr>\n",
       "      <td>3</td>\n",
       "      <td>7795-CFOCW</td>\n",
       "      <td>Male</td>\n",
       "      <td>0</td>\n",
       "      <td>No</td>\n",
       "      <td>No</td>\n",
       "    </tr>\n",
       "    <tr>\n",
       "      <td>4</td>\n",
       "      <td>9237-HQITU</td>\n",
       "      <td>Female</td>\n",
       "      <td>0</td>\n",
       "      <td>No</td>\n",
       "      <td>No</td>\n",
       "    </tr>\n",
       "  </tbody>\n",
       "</table>\n",
       "</div>"
      ],
      "text/plain": [
       "   customerID  gender  SeniorCitizen Partner Dependents\n",
       "0  7590-VHVEG  Female              0     Yes         No\n",
       "1  5575-GNVDE    Male              0      No         No\n",
       "2  3668-QPYBK    Male              0      No         No\n",
       "3  7795-CFOCW    Male              0      No         No\n",
       "4  9237-HQITU  Female              0      No         No"
      ]
     },
     "metadata": {},
     "output_type": "display_data"
    },
    {
     "name": "stdout",
     "output_type": "stream",
     "text": [
      "Размер таблицы:\n"
     ]
    },
    {
     "data": {
      "text/plain": [
       "(7043, 5)"
      ]
     },
     "metadata": {},
     "output_type": "display_data"
    },
    {
     "name": "stdout",
     "output_type": "stream",
     "text": [
      "Общая информация о таблице:\n",
      "<class 'pandas.core.frame.DataFrame'>\n",
      "RangeIndex: 7043 entries, 0 to 7042\n",
      "Data columns (total 5 columns):\n",
      "customerID       7043 non-null object\n",
      "gender           7043 non-null object\n",
      "SeniorCitizen    7043 non-null int64\n",
      "Partner          7043 non-null object\n",
      "Dependents       7043 non-null object\n",
      "dtypes: int64(1), object(4)\n",
      "memory usage: 275.2+ KB\n"
     ]
    }
   ],
   "source": [
    "#Откроем файл\n",
    "personal = pd.read_csv('/datasets/final_provider/personal.csv')\n",
    "\n",
    "#Отобразим первые 5 строк таблицы\n",
    "display(personal.head(5))\n",
    "\n",
    "#Отобразим размер таблицы\n",
    "print('Размер таблицы:')\n",
    "display(personal.shape)\n",
    "\n",
    "#Просмотрим общую информации о таблице\n",
    "print('Общая информация о таблице:')\n",
    "personal.info()"
   ]
  },
  {
   "cell_type": "markdown",
   "metadata": {},
   "source": [
    "### Датасет  'internet'"
   ]
  },
  {
   "cell_type": "code",
   "execution_count": 3,
   "metadata": {},
   "outputs": [
    {
     "data": {
      "text/html": [
       "<div>\n",
       "<style scoped>\n",
       "    .dataframe tbody tr th:only-of-type {\n",
       "        vertical-align: middle;\n",
       "    }\n",
       "\n",
       "    .dataframe tbody tr th {\n",
       "        vertical-align: top;\n",
       "    }\n",
       "\n",
       "    .dataframe thead th {\n",
       "        text-align: right;\n",
       "    }\n",
       "</style>\n",
       "<table border=\"1\" class=\"dataframe\">\n",
       "  <thead>\n",
       "    <tr style=\"text-align: right;\">\n",
       "      <th></th>\n",
       "      <th>customerID</th>\n",
       "      <th>InternetService</th>\n",
       "      <th>OnlineSecurity</th>\n",
       "      <th>OnlineBackup</th>\n",
       "      <th>DeviceProtection</th>\n",
       "      <th>TechSupport</th>\n",
       "      <th>StreamingTV</th>\n",
       "      <th>StreamingMovies</th>\n",
       "    </tr>\n",
       "  </thead>\n",
       "  <tbody>\n",
       "    <tr>\n",
       "      <td>0</td>\n",
       "      <td>7590-VHVEG</td>\n",
       "      <td>DSL</td>\n",
       "      <td>No</td>\n",
       "      <td>Yes</td>\n",
       "      <td>No</td>\n",
       "      <td>No</td>\n",
       "      <td>No</td>\n",
       "      <td>No</td>\n",
       "    </tr>\n",
       "    <tr>\n",
       "      <td>1</td>\n",
       "      <td>5575-GNVDE</td>\n",
       "      <td>DSL</td>\n",
       "      <td>Yes</td>\n",
       "      <td>No</td>\n",
       "      <td>Yes</td>\n",
       "      <td>No</td>\n",
       "      <td>No</td>\n",
       "      <td>No</td>\n",
       "    </tr>\n",
       "    <tr>\n",
       "      <td>2</td>\n",
       "      <td>3668-QPYBK</td>\n",
       "      <td>DSL</td>\n",
       "      <td>Yes</td>\n",
       "      <td>Yes</td>\n",
       "      <td>No</td>\n",
       "      <td>No</td>\n",
       "      <td>No</td>\n",
       "      <td>No</td>\n",
       "    </tr>\n",
       "    <tr>\n",
       "      <td>3</td>\n",
       "      <td>7795-CFOCW</td>\n",
       "      <td>DSL</td>\n",
       "      <td>Yes</td>\n",
       "      <td>No</td>\n",
       "      <td>Yes</td>\n",
       "      <td>Yes</td>\n",
       "      <td>No</td>\n",
       "      <td>No</td>\n",
       "    </tr>\n",
       "    <tr>\n",
       "      <td>4</td>\n",
       "      <td>9237-HQITU</td>\n",
       "      <td>Fiber optic</td>\n",
       "      <td>No</td>\n",
       "      <td>No</td>\n",
       "      <td>No</td>\n",
       "      <td>No</td>\n",
       "      <td>No</td>\n",
       "      <td>No</td>\n",
       "    </tr>\n",
       "  </tbody>\n",
       "</table>\n",
       "</div>"
      ],
      "text/plain": [
       "   customerID InternetService OnlineSecurity OnlineBackup DeviceProtection  \\\n",
       "0  7590-VHVEG             DSL             No          Yes               No   \n",
       "1  5575-GNVDE             DSL            Yes           No              Yes   \n",
       "2  3668-QPYBK             DSL            Yes          Yes               No   \n",
       "3  7795-CFOCW             DSL            Yes           No              Yes   \n",
       "4  9237-HQITU     Fiber optic             No           No               No   \n",
       "\n",
       "  TechSupport StreamingTV StreamingMovies  \n",
       "0          No          No              No  \n",
       "1          No          No              No  \n",
       "2          No          No              No  \n",
       "3         Yes          No              No  \n",
       "4          No          No              No  "
      ]
     },
     "metadata": {},
     "output_type": "display_data"
    },
    {
     "name": "stdout",
     "output_type": "stream",
     "text": [
      "Размер таблицы:\n"
     ]
    },
    {
     "data": {
      "text/plain": [
       "(5517, 8)"
      ]
     },
     "metadata": {},
     "output_type": "display_data"
    },
    {
     "name": "stdout",
     "output_type": "stream",
     "text": [
      "Общая информация о таблице:\n",
      "<class 'pandas.core.frame.DataFrame'>\n",
      "RangeIndex: 5517 entries, 0 to 5516\n",
      "Data columns (total 8 columns):\n",
      "customerID          5517 non-null object\n",
      "InternetService     5517 non-null object\n",
      "OnlineSecurity      5517 non-null object\n",
      "OnlineBackup        5517 non-null object\n",
      "DeviceProtection    5517 non-null object\n",
      "TechSupport         5517 non-null object\n",
      "StreamingTV         5517 non-null object\n",
      "StreamingMovies     5517 non-null object\n",
      "dtypes: object(8)\n",
      "memory usage: 344.9+ KB\n"
     ]
    }
   ],
   "source": [
    "#Откроем файл\n",
    "internet = pd.read_csv('/datasets/final_provider/internet.csv')\n",
    "\n",
    "#Отобразим первые 5 строк таблицы\n",
    "display(internet.head(5))\n",
    "\n",
    "#Отобразим размер таблицы\n",
    "print('Размер таблицы:')\n",
    "display(internet.shape)\n",
    "\n",
    "#Просмотрим общую информации о таблице\n",
    "print('Общая информация о таблице:')\n",
    "internet.info()"
   ]
  },
  {
   "cell_type": "markdown",
   "metadata": {},
   "source": [
    "### Датасет  'phone'"
   ]
  },
  {
   "cell_type": "code",
   "execution_count": 4,
   "metadata": {},
   "outputs": [
    {
     "data": {
      "text/html": [
       "<div>\n",
       "<style scoped>\n",
       "    .dataframe tbody tr th:only-of-type {\n",
       "        vertical-align: middle;\n",
       "    }\n",
       "\n",
       "    .dataframe tbody tr th {\n",
       "        vertical-align: top;\n",
       "    }\n",
       "\n",
       "    .dataframe thead th {\n",
       "        text-align: right;\n",
       "    }\n",
       "</style>\n",
       "<table border=\"1\" class=\"dataframe\">\n",
       "  <thead>\n",
       "    <tr style=\"text-align: right;\">\n",
       "      <th></th>\n",
       "      <th>customerID</th>\n",
       "      <th>MultipleLines</th>\n",
       "    </tr>\n",
       "  </thead>\n",
       "  <tbody>\n",
       "    <tr>\n",
       "      <td>0</td>\n",
       "      <td>5575-GNVDE</td>\n",
       "      <td>No</td>\n",
       "    </tr>\n",
       "    <tr>\n",
       "      <td>1</td>\n",
       "      <td>3668-QPYBK</td>\n",
       "      <td>No</td>\n",
       "    </tr>\n",
       "    <tr>\n",
       "      <td>2</td>\n",
       "      <td>9237-HQITU</td>\n",
       "      <td>No</td>\n",
       "    </tr>\n",
       "    <tr>\n",
       "      <td>3</td>\n",
       "      <td>9305-CDSKC</td>\n",
       "      <td>Yes</td>\n",
       "    </tr>\n",
       "    <tr>\n",
       "      <td>4</td>\n",
       "      <td>1452-KIOVK</td>\n",
       "      <td>Yes</td>\n",
       "    </tr>\n",
       "  </tbody>\n",
       "</table>\n",
       "</div>"
      ],
      "text/plain": [
       "   customerID MultipleLines\n",
       "0  5575-GNVDE            No\n",
       "1  3668-QPYBK            No\n",
       "2  9237-HQITU            No\n",
       "3  9305-CDSKC           Yes\n",
       "4  1452-KIOVK           Yes"
      ]
     },
     "metadata": {},
     "output_type": "display_data"
    },
    {
     "name": "stdout",
     "output_type": "stream",
     "text": [
      "Размер таблицы:\n"
     ]
    },
    {
     "data": {
      "text/plain": [
       "(6361, 2)"
      ]
     },
     "metadata": {},
     "output_type": "display_data"
    },
    {
     "name": "stdout",
     "output_type": "stream",
     "text": [
      "Общая информация о таблице:\n",
      "<class 'pandas.core.frame.DataFrame'>\n",
      "RangeIndex: 6361 entries, 0 to 6360\n",
      "Data columns (total 2 columns):\n",
      "customerID       6361 non-null object\n",
      "MultipleLines    6361 non-null object\n",
      "dtypes: object(2)\n",
      "memory usage: 99.5+ KB\n"
     ]
    }
   ],
   "source": [
    "#Откроем файл\n",
    "phone = pd.read_csv('/datasets/final_provider/phone.csv')\n",
    "\n",
    "#Отобразим первые 5 строк таблицы\n",
    "display(phone.head(5))\n",
    "\n",
    "#Отобразим размер таблицы\n",
    "print('Размер таблицы:')\n",
    "display(phone.shape)\n",
    "\n",
    "#Просмотрим общую информации о таблице\n",
    "print('Общая информация о таблице:')\n",
    "phone.info()"
   ]
  },
  {
   "cell_type": "markdown",
   "metadata": {},
   "source": [
    "### Выполним слиение датасета \"contract\" и 'personal' и потом выполним слияние с датасетом \"phone\""
   ]
  },
  {
   "cell_type": "code",
   "execution_count": 5,
   "metadata": {
    "scrolled": true
   },
   "outputs": [
    {
     "data": {
      "text/html": [
       "<div>\n",
       "<style scoped>\n",
       "    .dataframe tbody tr th:only-of-type {\n",
       "        vertical-align: middle;\n",
       "    }\n",
       "\n",
       "    .dataframe tbody tr th {\n",
       "        vertical-align: top;\n",
       "    }\n",
       "\n",
       "    .dataframe thead th {\n",
       "        text-align: right;\n",
       "    }\n",
       "</style>\n",
       "<table border=\"1\" class=\"dataframe\">\n",
       "  <thead>\n",
       "    <tr style=\"text-align: right;\">\n",
       "      <th></th>\n",
       "      <th>customerID</th>\n",
       "      <th>BeginDate</th>\n",
       "      <th>EndDate</th>\n",
       "      <th>Type</th>\n",
       "      <th>PaperlessBilling</th>\n",
       "      <th>PaymentMethod</th>\n",
       "      <th>MonthlyCharges</th>\n",
       "      <th>TotalCharges</th>\n",
       "      <th>gender</th>\n",
       "      <th>SeniorCitizen</th>\n",
       "      <th>Partner</th>\n",
       "      <th>Dependents</th>\n",
       "      <th>InternetService</th>\n",
       "      <th>OnlineSecurity</th>\n",
       "      <th>OnlineBackup</th>\n",
       "      <th>DeviceProtection</th>\n",
       "      <th>TechSupport</th>\n",
       "      <th>StreamingTV</th>\n",
       "      <th>StreamingMovies</th>\n",
       "      <th>MultipleLines</th>\n",
       "    </tr>\n",
       "  </thead>\n",
       "  <tbody>\n",
       "    <tr>\n",
       "      <td>0</td>\n",
       "      <td>7590-VHVEG</td>\n",
       "      <td>2020-01-01</td>\n",
       "      <td>No</td>\n",
       "      <td>Month-to-month</td>\n",
       "      <td>Yes</td>\n",
       "      <td>Electronic check</td>\n",
       "      <td>29.85</td>\n",
       "      <td>29.85</td>\n",
       "      <td>Female</td>\n",
       "      <td>0</td>\n",
       "      <td>Yes</td>\n",
       "      <td>No</td>\n",
       "      <td>DSL</td>\n",
       "      <td>No</td>\n",
       "      <td>Yes</td>\n",
       "      <td>No</td>\n",
       "      <td>No</td>\n",
       "      <td>No</td>\n",
       "      <td>No</td>\n",
       "      <td>NaN</td>\n",
       "    </tr>\n",
       "    <tr>\n",
       "      <td>1</td>\n",
       "      <td>5575-GNVDE</td>\n",
       "      <td>2017-04-01</td>\n",
       "      <td>No</td>\n",
       "      <td>One year</td>\n",
       "      <td>No</td>\n",
       "      <td>Mailed check</td>\n",
       "      <td>56.95</td>\n",
       "      <td>1889.5</td>\n",
       "      <td>Male</td>\n",
       "      <td>0</td>\n",
       "      <td>No</td>\n",
       "      <td>No</td>\n",
       "      <td>DSL</td>\n",
       "      <td>Yes</td>\n",
       "      <td>No</td>\n",
       "      <td>Yes</td>\n",
       "      <td>No</td>\n",
       "      <td>No</td>\n",
       "      <td>No</td>\n",
       "      <td>No</td>\n",
       "    </tr>\n",
       "    <tr>\n",
       "      <td>2</td>\n",
       "      <td>3668-QPYBK</td>\n",
       "      <td>2019-10-01</td>\n",
       "      <td>2019-12-01 00:00:00</td>\n",
       "      <td>Month-to-month</td>\n",
       "      <td>Yes</td>\n",
       "      <td>Mailed check</td>\n",
       "      <td>53.85</td>\n",
       "      <td>108.15</td>\n",
       "      <td>Male</td>\n",
       "      <td>0</td>\n",
       "      <td>No</td>\n",
       "      <td>No</td>\n",
       "      <td>DSL</td>\n",
       "      <td>Yes</td>\n",
       "      <td>Yes</td>\n",
       "      <td>No</td>\n",
       "      <td>No</td>\n",
       "      <td>No</td>\n",
       "      <td>No</td>\n",
       "      <td>No</td>\n",
       "    </tr>\n",
       "    <tr>\n",
       "      <td>3</td>\n",
       "      <td>7795-CFOCW</td>\n",
       "      <td>2016-05-01</td>\n",
       "      <td>No</td>\n",
       "      <td>One year</td>\n",
       "      <td>No</td>\n",
       "      <td>Bank transfer (automatic)</td>\n",
       "      <td>42.30</td>\n",
       "      <td>1840.75</td>\n",
       "      <td>Male</td>\n",
       "      <td>0</td>\n",
       "      <td>No</td>\n",
       "      <td>No</td>\n",
       "      <td>DSL</td>\n",
       "      <td>Yes</td>\n",
       "      <td>No</td>\n",
       "      <td>Yes</td>\n",
       "      <td>Yes</td>\n",
       "      <td>No</td>\n",
       "      <td>No</td>\n",
       "      <td>NaN</td>\n",
       "    </tr>\n",
       "    <tr>\n",
       "      <td>4</td>\n",
       "      <td>9237-HQITU</td>\n",
       "      <td>2019-09-01</td>\n",
       "      <td>2019-11-01 00:00:00</td>\n",
       "      <td>Month-to-month</td>\n",
       "      <td>Yes</td>\n",
       "      <td>Electronic check</td>\n",
       "      <td>70.70</td>\n",
       "      <td>151.65</td>\n",
       "      <td>Female</td>\n",
       "      <td>0</td>\n",
       "      <td>No</td>\n",
       "      <td>No</td>\n",
       "      <td>Fiber optic</td>\n",
       "      <td>No</td>\n",
       "      <td>No</td>\n",
       "      <td>No</td>\n",
       "      <td>No</td>\n",
       "      <td>No</td>\n",
       "      <td>No</td>\n",
       "      <td>No</td>\n",
       "    </tr>\n",
       "  </tbody>\n",
       "</table>\n",
       "</div>"
      ],
      "text/plain": [
       "   customerID   BeginDate              EndDate            Type  \\\n",
       "0  7590-VHVEG  2020-01-01                   No  Month-to-month   \n",
       "1  5575-GNVDE  2017-04-01                   No        One year   \n",
       "2  3668-QPYBK  2019-10-01  2019-12-01 00:00:00  Month-to-month   \n",
       "3  7795-CFOCW  2016-05-01                   No        One year   \n",
       "4  9237-HQITU  2019-09-01  2019-11-01 00:00:00  Month-to-month   \n",
       "\n",
       "  PaperlessBilling              PaymentMethod  MonthlyCharges TotalCharges  \\\n",
       "0              Yes           Electronic check           29.85        29.85   \n",
       "1               No               Mailed check           56.95       1889.5   \n",
       "2              Yes               Mailed check           53.85       108.15   \n",
       "3               No  Bank transfer (automatic)           42.30      1840.75   \n",
       "4              Yes           Electronic check           70.70       151.65   \n",
       "\n",
       "   gender  SeniorCitizen Partner Dependents InternetService OnlineSecurity  \\\n",
       "0  Female              0     Yes         No             DSL             No   \n",
       "1    Male              0      No         No             DSL            Yes   \n",
       "2    Male              0      No         No             DSL            Yes   \n",
       "3    Male              0      No         No             DSL            Yes   \n",
       "4  Female              0      No         No     Fiber optic             No   \n",
       "\n",
       "  OnlineBackup DeviceProtection TechSupport StreamingTV StreamingMovies  \\\n",
       "0          Yes               No          No          No              No   \n",
       "1           No              Yes          No          No              No   \n",
       "2          Yes               No          No          No              No   \n",
       "3           No              Yes         Yes          No              No   \n",
       "4           No               No          No          No              No   \n",
       "\n",
       "  MultipleLines  \n",
       "0           NaN  \n",
       "1            No  \n",
       "2            No  \n",
       "3           NaN  \n",
       "4            No  "
      ]
     },
     "metadata": {},
     "output_type": "display_data"
    },
    {
     "name": "stdout",
     "output_type": "stream",
     "text": [
      "<class 'pandas.core.frame.DataFrame'>\n",
      "Int64Index: 7043 entries, 0 to 7042\n",
      "Data columns (total 20 columns):\n",
      "customerID          7043 non-null object\n",
      "BeginDate           7043 non-null object\n",
      "EndDate             7043 non-null object\n",
      "Type                7043 non-null object\n",
      "PaperlessBilling    7043 non-null object\n",
      "PaymentMethod       7043 non-null object\n",
      "MonthlyCharges      7043 non-null float64\n",
      "TotalCharges        7043 non-null object\n",
      "gender              7043 non-null object\n",
      "SeniorCitizen       7043 non-null int64\n",
      "Partner             7043 non-null object\n",
      "Dependents          7043 non-null object\n",
      "InternetService     5517 non-null object\n",
      "OnlineSecurity      5517 non-null object\n",
      "OnlineBackup        5517 non-null object\n",
      "DeviceProtection    5517 non-null object\n",
      "TechSupport         5517 non-null object\n",
      "StreamingTV         5517 non-null object\n",
      "StreamingMovies     5517 non-null object\n",
      "MultipleLines       6361 non-null object\n",
      "dtypes: float64(1), int64(1), object(18)\n",
      "memory usage: 1.1+ MB\n"
     ]
    }
   ],
   "source": [
    "#Выполним слиение датасета \"contract\" и 'personal'\n",
    "data_1 = contract.merge(personal, on='customerID', how='left')\n",
    "data_2 = data_1.merge(internet, on='customerID', how='left')\n",
    "data_full = data_2.merge(phone, on='customerID', how='left')\n",
    "display(data_full.head(5))\n",
    "data_full.info()"
   ]
  },
  {
   "cell_type": "markdown",
   "metadata": {},
   "source": [
    "### Заменим в датасете значения 'Nan'  на 'No'"
   ]
  },
  {
   "cell_type": "code",
   "execution_count": 6,
   "metadata": {
    "scrolled": true
   },
   "outputs": [
    {
     "name": "stdout",
     "output_type": "stream",
     "text": [
      "\n",
      " До замены Nan но \"No\"\n",
      "\n",
      "[nan 'No' 'Yes']\n",
      "['DSL' 'Fiber optic' nan]\n",
      "['No' 'Yes' nan]\n",
      "['Yes' 'No' nan]\n",
      "['No' 'Yes' nan]\n",
      "['No' 'Yes' nan]\n",
      "['No' 'Yes' nan]\n",
      "['No' 'Yes' nan]\n",
      "[nan 'No' 'Yes']\n",
      "\n",
      "После замены Nan но \"No\"\n",
      "\n",
      "['No' 'Yes']\n",
      "['DSL' 'Fiber optic' 'No']\n",
      "['No' 'Yes']\n",
      "['Yes' 'No']\n",
      "['No' 'Yes']\n",
      "['No' 'Yes']\n",
      "['No' 'Yes']\n",
      "['No' 'Yes']\n",
      "['No' 'Yes']\n"
     ]
    }
   ],
   "source": [
    "print('\\n До замены Nan но \"No\"\\n')\n",
    "print(data_full['MultipleLines'].unique())\n",
    "print(data_full['InternetService'].unique())\n",
    "print(data_full['OnlineSecurity'].unique())\n",
    "print(data_full['OnlineBackup'].unique())\n",
    "print(data_full['DeviceProtection'].unique())\n",
    "print(data_full['TechSupport'].unique())\n",
    "print(data_full['StreamingTV'].unique())\n",
    "print(data_full['StreamingMovies'].unique())\n",
    "print(data_full['MultipleLines'].unique())\n",
    "\n",
    "data_full = data_full.fillna('No')\n",
    "\n",
    "print('\\nПосле замены Nan но \"No\"\\n')\n",
    "print(data_full['MultipleLines'].unique())\n",
    "print(data_full['InternetService'].unique())\n",
    "print(data_full['OnlineSecurity'].unique())\n",
    "print(data_full['OnlineBackup'].unique())\n",
    "print(data_full['DeviceProtection'].unique())\n",
    "print(data_full['TechSupport'].unique())\n",
    "print(data_full['StreamingTV'].unique())\n",
    "print(data_full['StreamingMovies'].unique())\n",
    "print(data_full['MultipleLines'].unique())\n",
    "#display(data_full['MultipleLines'].sort_values(ascending=True).value_counts())"
   ]
  },
  {
   "cell_type": "markdown",
   "metadata": {},
   "source": [
    "### Выполним one hot encoding для категориальных признаков"
   ]
  },
  {
   "cell_type": "code",
   "execution_count": 7,
   "metadata": {},
   "outputs": [
    {
     "data": {
      "text/html": [
       "<div>\n",
       "<style scoped>\n",
       "    .dataframe tbody tr th:only-of-type {\n",
       "        vertical-align: middle;\n",
       "    }\n",
       "\n",
       "    .dataframe tbody tr th {\n",
       "        vertical-align: top;\n",
       "    }\n",
       "\n",
       "    .dataframe thead th {\n",
       "        text-align: right;\n",
       "    }\n",
       "</style>\n",
       "<table border=\"1\" class=\"dataframe\">\n",
       "  <thead>\n",
       "    <tr style=\"text-align: right;\">\n",
       "      <th></th>\n",
       "      <th>customerID</th>\n",
       "      <th>BeginDate</th>\n",
       "      <th>EndDate</th>\n",
       "      <th>MonthlyCharges</th>\n",
       "      <th>TotalCharges</th>\n",
       "      <th>SeniorCitizen</th>\n",
       "      <th>Type_One year</th>\n",
       "      <th>Type_Two year</th>\n",
       "      <th>PaperlessBilling_Yes</th>\n",
       "      <th>PaymentMethod_Credit card (automatic)</th>\n",
       "      <th>...</th>\n",
       "      <th>Dependents_Yes</th>\n",
       "      <th>InternetService_Fiber optic</th>\n",
       "      <th>InternetService_No</th>\n",
       "      <th>OnlineSecurity_Yes</th>\n",
       "      <th>OnlineBackup_Yes</th>\n",
       "      <th>DeviceProtection_Yes</th>\n",
       "      <th>TechSupport_Yes</th>\n",
       "      <th>StreamingTV_Yes</th>\n",
       "      <th>StreamingMovies_Yes</th>\n",
       "      <th>MultipleLines_Yes</th>\n",
       "    </tr>\n",
       "  </thead>\n",
       "  <tbody>\n",
       "    <tr>\n",
       "      <td>0</td>\n",
       "      <td>7590-VHVEG</td>\n",
       "      <td>2020-01-01</td>\n",
       "      <td>No</td>\n",
       "      <td>29.85</td>\n",
       "      <td>29.85</td>\n",
       "      <td>0</td>\n",
       "      <td>0</td>\n",
       "      <td>0</td>\n",
       "      <td>1</td>\n",
       "      <td>0</td>\n",
       "      <td>...</td>\n",
       "      <td>0</td>\n",
       "      <td>0</td>\n",
       "      <td>0</td>\n",
       "      <td>0</td>\n",
       "      <td>1</td>\n",
       "      <td>0</td>\n",
       "      <td>0</td>\n",
       "      <td>0</td>\n",
       "      <td>0</td>\n",
       "      <td>0</td>\n",
       "    </tr>\n",
       "    <tr>\n",
       "      <td>1</td>\n",
       "      <td>5575-GNVDE</td>\n",
       "      <td>2017-04-01</td>\n",
       "      <td>No</td>\n",
       "      <td>56.95</td>\n",
       "      <td>1889.5</td>\n",
       "      <td>0</td>\n",
       "      <td>1</td>\n",
       "      <td>0</td>\n",
       "      <td>0</td>\n",
       "      <td>0</td>\n",
       "      <td>...</td>\n",
       "      <td>0</td>\n",
       "      <td>0</td>\n",
       "      <td>0</td>\n",
       "      <td>1</td>\n",
       "      <td>0</td>\n",
       "      <td>1</td>\n",
       "      <td>0</td>\n",
       "      <td>0</td>\n",
       "      <td>0</td>\n",
       "      <td>0</td>\n",
       "    </tr>\n",
       "    <tr>\n",
       "      <td>2</td>\n",
       "      <td>3668-QPYBK</td>\n",
       "      <td>2019-10-01</td>\n",
       "      <td>2019-12-01 00:00:00</td>\n",
       "      <td>53.85</td>\n",
       "      <td>108.15</td>\n",
       "      <td>0</td>\n",
       "      <td>0</td>\n",
       "      <td>0</td>\n",
       "      <td>1</td>\n",
       "      <td>0</td>\n",
       "      <td>...</td>\n",
       "      <td>0</td>\n",
       "      <td>0</td>\n",
       "      <td>0</td>\n",
       "      <td>1</td>\n",
       "      <td>1</td>\n",
       "      <td>0</td>\n",
       "      <td>0</td>\n",
       "      <td>0</td>\n",
       "      <td>0</td>\n",
       "      <td>0</td>\n",
       "    </tr>\n",
       "  </tbody>\n",
       "</table>\n",
       "<p>3 rows × 24 columns</p>\n",
       "</div>"
      ],
      "text/plain": [
       "   customerID   BeginDate              EndDate  MonthlyCharges TotalCharges  \\\n",
       "0  7590-VHVEG  2020-01-01                   No           29.85        29.85   \n",
       "1  5575-GNVDE  2017-04-01                   No           56.95       1889.5   \n",
       "2  3668-QPYBK  2019-10-01  2019-12-01 00:00:00           53.85       108.15   \n",
       "\n",
       "   SeniorCitizen  Type_One year  Type_Two year  PaperlessBilling_Yes  \\\n",
       "0              0              0              0                     1   \n",
       "1              0              1              0                     0   \n",
       "2              0              0              0                     1   \n",
       "\n",
       "   PaymentMethod_Credit card (automatic)  ...  Dependents_Yes  \\\n",
       "0                                      0  ...               0   \n",
       "1                                      0  ...               0   \n",
       "2                                      0  ...               0   \n",
       "\n",
       "   InternetService_Fiber optic  InternetService_No  OnlineSecurity_Yes  \\\n",
       "0                            0                   0                   0   \n",
       "1                            0                   0                   1   \n",
       "2                            0                   0                   1   \n",
       "\n",
       "   OnlineBackup_Yes  DeviceProtection_Yes  TechSupport_Yes  StreamingTV_Yes  \\\n",
       "0                 1                     0                0                0   \n",
       "1                 0                     1                0                0   \n",
       "2                 1                     0                0                0   \n",
       "\n",
       "   StreamingMovies_Yes  MultipleLines_Yes  \n",
       "0                    0                  0  \n",
       "1                    0                  0  \n",
       "2                    0                  0  \n",
       "\n",
       "[3 rows x 24 columns]"
      ]
     },
     "metadata": {},
     "output_type": "display_data"
    }
   ],
   "source": [
    "data_full_ohe = pd.get_dummies(data_full, columns=[\"Type\", \"PaperlessBilling\",'PaymentMethod','gender','Partner','Dependents','InternetService','OnlineSecurity','OnlineBackup','DeviceProtection','TechSupport','StreamingTV','StreamingMovies','MultipleLines'], drop_first=True)\n",
    "display(data_full_ohe.head(3))"
   ]
  },
  {
   "cell_type": "markdown",
   "metadata": {},
   "source": [
    "### Заменим значение \"No\" на актуальную дату базы "
   ]
  },
  {
   "cell_type": "code",
   "execution_count": 8,
   "metadata": {
    "scrolled": true
   },
   "outputs": [
    {
     "data": {
      "text/html": [
       "<div>\n",
       "<style scoped>\n",
       "    .dataframe tbody tr th:only-of-type {\n",
       "        vertical-align: middle;\n",
       "    }\n",
       "\n",
       "    .dataframe tbody tr th {\n",
       "        vertical-align: top;\n",
       "    }\n",
       "\n",
       "    .dataframe thead th {\n",
       "        text-align: right;\n",
       "    }\n",
       "</style>\n",
       "<table border=\"1\" class=\"dataframe\">\n",
       "  <thead>\n",
       "    <tr style=\"text-align: right;\">\n",
       "      <th></th>\n",
       "      <th>customerID</th>\n",
       "      <th>BeginDate</th>\n",
       "      <th>EndDate</th>\n",
       "      <th>MonthlyCharges</th>\n",
       "      <th>TotalCharges</th>\n",
       "      <th>SeniorCitizen</th>\n",
       "      <th>Type_One year</th>\n",
       "      <th>Type_Two year</th>\n",
       "      <th>PaperlessBilling_Yes</th>\n",
       "      <th>PaymentMethod_Credit card (automatic)</th>\n",
       "      <th>...</th>\n",
       "      <th>InternetService_Fiber optic</th>\n",
       "      <th>InternetService_No</th>\n",
       "      <th>OnlineSecurity_Yes</th>\n",
       "      <th>OnlineBackup_Yes</th>\n",
       "      <th>DeviceProtection_Yes</th>\n",
       "      <th>TechSupport_Yes</th>\n",
       "      <th>StreamingTV_Yes</th>\n",
       "      <th>StreamingMovies_Yes</th>\n",
       "      <th>MultipleLines_Yes</th>\n",
       "      <th>EndDate_new</th>\n",
       "    </tr>\n",
       "  </thead>\n",
       "  <tbody>\n",
       "    <tr>\n",
       "      <td>0</td>\n",
       "      <td>7590-VHVEG</td>\n",
       "      <td>2020-01-01</td>\n",
       "      <td>No</td>\n",
       "      <td>29.85</td>\n",
       "      <td>29.85</td>\n",
       "      <td>0</td>\n",
       "      <td>0</td>\n",
       "      <td>0</td>\n",
       "      <td>1</td>\n",
       "      <td>0</td>\n",
       "      <td>...</td>\n",
       "      <td>0</td>\n",
       "      <td>0</td>\n",
       "      <td>0</td>\n",
       "      <td>1</td>\n",
       "      <td>0</td>\n",
       "      <td>0</td>\n",
       "      <td>0</td>\n",
       "      <td>0</td>\n",
       "      <td>0</td>\n",
       "      <td>2020-02-01 00:00:00</td>\n",
       "    </tr>\n",
       "    <tr>\n",
       "      <td>1</td>\n",
       "      <td>5575-GNVDE</td>\n",
       "      <td>2017-04-01</td>\n",
       "      <td>No</td>\n",
       "      <td>56.95</td>\n",
       "      <td>1889.5</td>\n",
       "      <td>0</td>\n",
       "      <td>1</td>\n",
       "      <td>0</td>\n",
       "      <td>0</td>\n",
       "      <td>0</td>\n",
       "      <td>...</td>\n",
       "      <td>0</td>\n",
       "      <td>0</td>\n",
       "      <td>1</td>\n",
       "      <td>0</td>\n",
       "      <td>1</td>\n",
       "      <td>0</td>\n",
       "      <td>0</td>\n",
       "      <td>0</td>\n",
       "      <td>0</td>\n",
       "      <td>2020-02-01 00:00:00</td>\n",
       "    </tr>\n",
       "    <tr>\n",
       "      <td>2</td>\n",
       "      <td>3668-QPYBK</td>\n",
       "      <td>2019-10-01</td>\n",
       "      <td>2019-12-01 00:00:00</td>\n",
       "      <td>53.85</td>\n",
       "      <td>108.15</td>\n",
       "      <td>0</td>\n",
       "      <td>0</td>\n",
       "      <td>0</td>\n",
       "      <td>1</td>\n",
       "      <td>0</td>\n",
       "      <td>...</td>\n",
       "      <td>0</td>\n",
       "      <td>0</td>\n",
       "      <td>1</td>\n",
       "      <td>1</td>\n",
       "      <td>0</td>\n",
       "      <td>0</td>\n",
       "      <td>0</td>\n",
       "      <td>0</td>\n",
       "      <td>0</td>\n",
       "      <td>2019-12-01 00:00:00</td>\n",
       "    </tr>\n",
       "  </tbody>\n",
       "</table>\n",
       "<p>3 rows × 25 columns</p>\n",
       "</div>"
      ],
      "text/plain": [
       "   customerID   BeginDate              EndDate  MonthlyCharges TotalCharges  \\\n",
       "0  7590-VHVEG  2020-01-01                   No           29.85        29.85   \n",
       "1  5575-GNVDE  2017-04-01                   No           56.95       1889.5   \n",
       "2  3668-QPYBK  2019-10-01  2019-12-01 00:00:00           53.85       108.15   \n",
       "\n",
       "   SeniorCitizen  Type_One year  Type_Two year  PaperlessBilling_Yes  \\\n",
       "0              0              0              0                     1   \n",
       "1              0              1              0                     0   \n",
       "2              0              0              0                     1   \n",
       "\n",
       "   PaymentMethod_Credit card (automatic)  ...  InternetService_Fiber optic  \\\n",
       "0                                      0  ...                            0   \n",
       "1                                      0  ...                            0   \n",
       "2                                      0  ...                            0   \n",
       "\n",
       "   InternetService_No  OnlineSecurity_Yes  OnlineBackup_Yes  \\\n",
       "0                   0                   0                 1   \n",
       "1                   0                   1                 0   \n",
       "2                   0                   1                 1   \n",
       "\n",
       "   DeviceProtection_Yes  TechSupport_Yes  StreamingTV_Yes  \\\n",
       "0                     0                0                0   \n",
       "1                     1                0                0   \n",
       "2                     0                0                0   \n",
       "\n",
       "   StreamingMovies_Yes  MultipleLines_Yes          EndDate_new  \n",
       "0                    0                  0  2020-02-01 00:00:00  \n",
       "1                    0                  0  2020-02-01 00:00:00  \n",
       "2                    0                  0  2019-12-01 00:00:00  \n",
       "\n",
       "[3 rows x 25 columns]"
      ]
     },
     "metadata": {},
     "output_type": "display_data"
    }
   ],
   "source": [
    "data_full_ohe['EndDate_new'] = data_full_ohe['EndDate'].replace('No', '2020-02-01 00:00:00')\n",
    "display(data_full_ohe.head(3))"
   ]
  },
  {
   "cell_type": "markdown",
   "metadata": {},
   "source": [
    "### Приведем формат столбцов с датами к datetime64."
   ]
  },
  {
   "cell_type": "code",
   "execution_count": 9,
   "metadata": {},
   "outputs": [
    {
     "name": "stdout",
     "output_type": "stream",
     "text": [
      "<class 'pandas.core.frame.DataFrame'>\n",
      "Int64Index: 7043 entries, 0 to 7042\n",
      "Data columns (total 25 columns):\n",
      "customerID                               7043 non-null object\n",
      "BeginDate                                7043 non-null datetime64[ns]\n",
      "EndDate                                  7043 non-null object\n",
      "MonthlyCharges                           7043 non-null float64\n",
      "TotalCharges                             7043 non-null object\n",
      "SeniorCitizen                            7043 non-null int64\n",
      "Type_One year                            7043 non-null uint8\n",
      "Type_Two year                            7043 non-null uint8\n",
      "PaperlessBilling_Yes                     7043 non-null uint8\n",
      "PaymentMethod_Credit card (automatic)    7043 non-null uint8\n",
      "PaymentMethod_Electronic check           7043 non-null uint8\n",
      "PaymentMethod_Mailed check               7043 non-null uint8\n",
      "gender_Male                              7043 non-null uint8\n",
      "Partner_Yes                              7043 non-null uint8\n",
      "Dependents_Yes                           7043 non-null uint8\n",
      "InternetService_Fiber optic              7043 non-null uint8\n",
      "InternetService_No                       7043 non-null uint8\n",
      "OnlineSecurity_Yes                       7043 non-null uint8\n",
      "OnlineBackup_Yes                         7043 non-null uint8\n",
      "DeviceProtection_Yes                     7043 non-null uint8\n",
      "TechSupport_Yes                          7043 non-null uint8\n",
      "StreamingTV_Yes                          7043 non-null uint8\n",
      "StreamingMovies_Yes                      7043 non-null uint8\n",
      "MultipleLines_Yes                        7043 non-null uint8\n",
      "EndDate_new                              7043 non-null datetime64[ns]\n",
      "dtypes: datetime64[ns](2), float64(1), int64(1), object(3), uint8(18)\n",
      "memory usage: 564.0+ KB\n"
     ]
    },
    {
     "data": {
      "text/html": [
       "<div>\n",
       "<style scoped>\n",
       "    .dataframe tbody tr th:only-of-type {\n",
       "        vertical-align: middle;\n",
       "    }\n",
       "\n",
       "    .dataframe tbody tr th {\n",
       "        vertical-align: top;\n",
       "    }\n",
       "\n",
       "    .dataframe thead th {\n",
       "        text-align: right;\n",
       "    }\n",
       "</style>\n",
       "<table border=\"1\" class=\"dataframe\">\n",
       "  <thead>\n",
       "    <tr style=\"text-align: right;\">\n",
       "      <th></th>\n",
       "      <th>customerID</th>\n",
       "      <th>BeginDate</th>\n",
       "      <th>EndDate</th>\n",
       "      <th>MonthlyCharges</th>\n",
       "      <th>TotalCharges</th>\n",
       "      <th>SeniorCitizen</th>\n",
       "      <th>Type_One year</th>\n",
       "      <th>Type_Two year</th>\n",
       "      <th>PaperlessBilling_Yes</th>\n",
       "      <th>PaymentMethod_Credit card (automatic)</th>\n",
       "      <th>...</th>\n",
       "      <th>InternetService_No</th>\n",
       "      <th>OnlineSecurity_Yes</th>\n",
       "      <th>OnlineBackup_Yes</th>\n",
       "      <th>DeviceProtection_Yes</th>\n",
       "      <th>TechSupport_Yes</th>\n",
       "      <th>StreamingTV_Yes</th>\n",
       "      <th>StreamingMovies_Yes</th>\n",
       "      <th>MultipleLines_Yes</th>\n",
       "      <th>EndDate_new</th>\n",
       "      <th>months_end</th>\n",
       "    </tr>\n",
       "  </thead>\n",
       "  <tbody>\n",
       "    <tr>\n",
       "      <td>0</td>\n",
       "      <td>7590-VHVEG</td>\n",
       "      <td>2020-01-01</td>\n",
       "      <td>No</td>\n",
       "      <td>29.85</td>\n",
       "      <td>29.85</td>\n",
       "      <td>0</td>\n",
       "      <td>0</td>\n",
       "      <td>0</td>\n",
       "      <td>1</td>\n",
       "      <td>0</td>\n",
       "      <td>...</td>\n",
       "      <td>0</td>\n",
       "      <td>0</td>\n",
       "      <td>1</td>\n",
       "      <td>0</td>\n",
       "      <td>0</td>\n",
       "      <td>0</td>\n",
       "      <td>0</td>\n",
       "      <td>0</td>\n",
       "      <td>2020-02-01</td>\n",
       "      <td>2</td>\n",
       "    </tr>\n",
       "    <tr>\n",
       "      <td>1</td>\n",
       "      <td>5575-GNVDE</td>\n",
       "      <td>2017-04-01</td>\n",
       "      <td>No</td>\n",
       "      <td>56.95</td>\n",
       "      <td>1889.5</td>\n",
       "      <td>0</td>\n",
       "      <td>1</td>\n",
       "      <td>0</td>\n",
       "      <td>0</td>\n",
       "      <td>0</td>\n",
       "      <td>...</td>\n",
       "      <td>0</td>\n",
       "      <td>1</td>\n",
       "      <td>0</td>\n",
       "      <td>1</td>\n",
       "      <td>0</td>\n",
       "      <td>0</td>\n",
       "      <td>0</td>\n",
       "      <td>0</td>\n",
       "      <td>2020-02-01</td>\n",
       "      <td>2</td>\n",
       "    </tr>\n",
       "    <tr>\n",
       "      <td>2</td>\n",
       "      <td>3668-QPYBK</td>\n",
       "      <td>2019-10-01</td>\n",
       "      <td>2019-12-01 00:00:00</td>\n",
       "      <td>53.85</td>\n",
       "      <td>108.15</td>\n",
       "      <td>0</td>\n",
       "      <td>0</td>\n",
       "      <td>0</td>\n",
       "      <td>1</td>\n",
       "      <td>0</td>\n",
       "      <td>...</td>\n",
       "      <td>0</td>\n",
       "      <td>1</td>\n",
       "      <td>1</td>\n",
       "      <td>0</td>\n",
       "      <td>0</td>\n",
       "      <td>0</td>\n",
       "      <td>0</td>\n",
       "      <td>0</td>\n",
       "      <td>2019-12-01</td>\n",
       "      <td>12</td>\n",
       "    </tr>\n",
       "  </tbody>\n",
       "</table>\n",
       "<p>3 rows × 26 columns</p>\n",
       "</div>"
      ],
      "text/plain": [
       "   customerID  BeginDate              EndDate  MonthlyCharges TotalCharges  \\\n",
       "0  7590-VHVEG 2020-01-01                   No           29.85        29.85   \n",
       "1  5575-GNVDE 2017-04-01                   No           56.95       1889.5   \n",
       "2  3668-QPYBK 2019-10-01  2019-12-01 00:00:00           53.85       108.15   \n",
       "\n",
       "   SeniorCitizen  Type_One year  Type_Two year  PaperlessBilling_Yes  \\\n",
       "0              0              0              0                     1   \n",
       "1              0              1              0                     0   \n",
       "2              0              0              0                     1   \n",
       "\n",
       "   PaymentMethod_Credit card (automatic)  ...  InternetService_No  \\\n",
       "0                                      0  ...                   0   \n",
       "1                                      0  ...                   0   \n",
       "2                                      0  ...                   0   \n",
       "\n",
       "   OnlineSecurity_Yes  OnlineBackup_Yes  DeviceProtection_Yes  \\\n",
       "0                   0                 1                     0   \n",
       "1                   1                 0                     1   \n",
       "2                   1                 1                     0   \n",
       "\n",
       "   TechSupport_Yes  StreamingTV_Yes  StreamingMovies_Yes  MultipleLines_Yes  \\\n",
       "0                0                0                    0                  0   \n",
       "1                0                0                    0                  0   \n",
       "2                0                0                    0                  0   \n",
       "\n",
       "   EndDate_new  months_end  \n",
       "0   2020-02-01           2  \n",
       "1   2020-02-01           2  \n",
       "2   2019-12-01          12  \n",
       "\n",
       "[3 rows x 26 columns]"
      ]
     },
     "metadata": {},
     "output_type": "display_data"
    }
   ],
   "source": [
    "data_full_ohe[\"BeginDate\"] = pd.to_datetime(data_full_ohe[\"BeginDate\"])\n",
    "data_full_ohe[\"EndDate_new\"] = pd.to_datetime(data_full_ohe[\"EndDate_new\"])\n",
    "data_full_ohe.info()\n",
    "#data_full_ohe['months'] = (data_full_ohe.EndDate - data_full_ohe.BeginDate)/ np.timedelta64(1, 'M')\n",
    "data_full_ohe['months_end'] = data_full_ohe['EndDate_new'].dt.month \n",
    "display(data_full_ohe.head(3))"
   ]
  },
  {
   "cell_type": "markdown",
   "metadata": {},
   "source": [
    "### Заменим пустые значения в столбце 'TotalCharges' из удалим нулевые значения из 'TotalCharges'"
   ]
  },
  {
   "cell_type": "code",
   "execution_count": 10,
   "metadata": {},
   "outputs": [
    {
     "name": "stdout",
     "output_type": "stream",
     "text": [
      "<class 'pandas.core.frame.DataFrame'>\n",
      "Int64Index: 7032 entries, 0 to 7042\n",
      "Data columns (total 26 columns):\n",
      "customerID                               7032 non-null object\n",
      "BeginDate                                7032 non-null datetime64[ns]\n",
      "EndDate                                  7032 non-null object\n",
      "MonthlyCharges                           7032 non-null float64\n",
      "TotalCharges                             7032 non-null float64\n",
      "SeniorCitizen                            7032 non-null int64\n",
      "Type_One year                            7032 non-null uint8\n",
      "Type_Two year                            7032 non-null uint8\n",
      "PaperlessBilling_Yes                     7032 non-null uint8\n",
      "PaymentMethod_Credit card (automatic)    7032 non-null uint8\n",
      "PaymentMethod_Electronic check           7032 non-null uint8\n",
      "PaymentMethod_Mailed check               7032 non-null uint8\n",
      "gender_Male                              7032 non-null uint8\n",
      "Partner_Yes                              7032 non-null uint8\n",
      "Dependents_Yes                           7032 non-null uint8\n",
      "InternetService_Fiber optic              7032 non-null uint8\n",
      "InternetService_No                       7032 non-null uint8\n",
      "OnlineSecurity_Yes                       7032 non-null uint8\n",
      "OnlineBackup_Yes                         7032 non-null uint8\n",
      "DeviceProtection_Yes                     7032 non-null uint8\n",
      "TechSupport_Yes                          7032 non-null uint8\n",
      "StreamingTV_Yes                          7032 non-null uint8\n",
      "StreamingMovies_Yes                      7032 non-null uint8\n",
      "MultipleLines_Yes                        7032 non-null uint8\n",
      "EndDate_new                              7032 non-null datetime64[ns]\n",
      "months_end                               7032 non-null int64\n",
      "dtypes: datetime64[ns](2), float64(2), int64(2), object(2), uint8(18)\n",
      "memory usage: 618.0+ KB\n"
     ]
    }
   ],
   "source": [
    "data_full_ohe['TotalCharges'] = data_full_ohe['TotalCharges'].replace(' ', '0')\n",
    "data_full_ohe['TotalCharges'] = data_full_ohe['TotalCharges'].astype(float)\n",
    "data_full_ohe = data_full_ohe.query(\"TotalCharges != 0\")\n",
    "data_full_ohe.info()"
   ]
  },
  {
   "cell_type": "markdown",
   "metadata": {},
   "source": [
    "### Напишем функцию, которая заменит значения 'No' на 0, а значения с датой на '1' в столбце 'EndDate'"
   ]
  },
  {
   "cell_type": "code",
   "execution_count": 11,
   "metadata": {},
   "outputs": [
    {
     "data": {
      "text/html": [
       "<div>\n",
       "<style scoped>\n",
       "    .dataframe tbody tr th:only-of-type {\n",
       "        vertical-align: middle;\n",
       "    }\n",
       "\n",
       "    .dataframe tbody tr th {\n",
       "        vertical-align: top;\n",
       "    }\n",
       "\n",
       "    .dataframe thead th {\n",
       "        text-align: right;\n",
       "    }\n",
       "</style>\n",
       "<table border=\"1\" class=\"dataframe\">\n",
       "  <thead>\n",
       "    <tr style=\"text-align: right;\">\n",
       "      <th></th>\n",
       "      <th>customerID</th>\n",
       "      <th>BeginDate</th>\n",
       "      <th>EndDate</th>\n",
       "      <th>MonthlyCharges</th>\n",
       "      <th>TotalCharges</th>\n",
       "      <th>SeniorCitizen</th>\n",
       "      <th>Type_One year</th>\n",
       "      <th>Type_Two year</th>\n",
       "      <th>PaperlessBilling_Yes</th>\n",
       "      <th>PaymentMethod_Credit card (automatic)</th>\n",
       "      <th>...</th>\n",
       "      <th>InternetService_No</th>\n",
       "      <th>OnlineSecurity_Yes</th>\n",
       "      <th>OnlineBackup_Yes</th>\n",
       "      <th>DeviceProtection_Yes</th>\n",
       "      <th>TechSupport_Yes</th>\n",
       "      <th>StreamingTV_Yes</th>\n",
       "      <th>StreamingMovies_Yes</th>\n",
       "      <th>MultipleLines_Yes</th>\n",
       "      <th>EndDate_new</th>\n",
       "      <th>months_end</th>\n",
       "    </tr>\n",
       "  </thead>\n",
       "  <tbody>\n",
       "    <tr>\n",
       "      <td>0</td>\n",
       "      <td>7590-VHVEG</td>\n",
       "      <td>2020-01-01</td>\n",
       "      <td>0</td>\n",
       "      <td>29.85</td>\n",
       "      <td>29.85</td>\n",
       "      <td>0</td>\n",
       "      <td>0</td>\n",
       "      <td>0</td>\n",
       "      <td>1</td>\n",
       "      <td>0</td>\n",
       "      <td>...</td>\n",
       "      <td>0</td>\n",
       "      <td>0</td>\n",
       "      <td>1</td>\n",
       "      <td>0</td>\n",
       "      <td>0</td>\n",
       "      <td>0</td>\n",
       "      <td>0</td>\n",
       "      <td>0</td>\n",
       "      <td>2020-02-01</td>\n",
       "      <td>2</td>\n",
       "    </tr>\n",
       "    <tr>\n",
       "      <td>1</td>\n",
       "      <td>5575-GNVDE</td>\n",
       "      <td>2017-04-01</td>\n",
       "      <td>0</td>\n",
       "      <td>56.95</td>\n",
       "      <td>1889.50</td>\n",
       "      <td>0</td>\n",
       "      <td>1</td>\n",
       "      <td>0</td>\n",
       "      <td>0</td>\n",
       "      <td>0</td>\n",
       "      <td>...</td>\n",
       "      <td>0</td>\n",
       "      <td>1</td>\n",
       "      <td>0</td>\n",
       "      <td>1</td>\n",
       "      <td>0</td>\n",
       "      <td>0</td>\n",
       "      <td>0</td>\n",
       "      <td>0</td>\n",
       "      <td>2020-02-01</td>\n",
       "      <td>2</td>\n",
       "    </tr>\n",
       "    <tr>\n",
       "      <td>2</td>\n",
       "      <td>3668-QPYBK</td>\n",
       "      <td>2019-10-01</td>\n",
       "      <td>1</td>\n",
       "      <td>53.85</td>\n",
       "      <td>108.15</td>\n",
       "      <td>0</td>\n",
       "      <td>0</td>\n",
       "      <td>0</td>\n",
       "      <td>1</td>\n",
       "      <td>0</td>\n",
       "      <td>...</td>\n",
       "      <td>0</td>\n",
       "      <td>1</td>\n",
       "      <td>1</td>\n",
       "      <td>0</td>\n",
       "      <td>0</td>\n",
       "      <td>0</td>\n",
       "      <td>0</td>\n",
       "      <td>0</td>\n",
       "      <td>2019-12-01</td>\n",
       "      <td>12</td>\n",
       "    </tr>\n",
       "  </tbody>\n",
       "</table>\n",
       "<p>3 rows × 26 columns</p>\n",
       "</div>"
      ],
      "text/plain": [
       "   customerID  BeginDate EndDate  MonthlyCharges  TotalCharges  SeniorCitizen  \\\n",
       "0  7590-VHVEG 2020-01-01       0           29.85         29.85              0   \n",
       "1  5575-GNVDE 2017-04-01       0           56.95       1889.50              0   \n",
       "2  3668-QPYBK 2019-10-01       1           53.85        108.15              0   \n",
       "\n",
       "   Type_One year  Type_Two year  PaperlessBilling_Yes  \\\n",
       "0              0              0                     1   \n",
       "1              1              0                     0   \n",
       "2              0              0                     1   \n",
       "\n",
       "   PaymentMethod_Credit card (automatic)  ...  InternetService_No  \\\n",
       "0                                      0  ...                   0   \n",
       "1                                      0  ...                   0   \n",
       "2                                      0  ...                   0   \n",
       "\n",
       "   OnlineSecurity_Yes  OnlineBackup_Yes  DeviceProtection_Yes  \\\n",
       "0                   0                 1                     0   \n",
       "1                   1                 0                     1   \n",
       "2                   1                 1                     0   \n",
       "\n",
       "   TechSupport_Yes  StreamingTV_Yes  StreamingMovies_Yes  MultipleLines_Yes  \\\n",
       "0                0                0                    0                  0   \n",
       "1                0                0                    0                  0   \n",
       "2                0                0                    0                  0   \n",
       "\n",
       "   EndDate_new  months_end  \n",
       "0   2020-02-01           2  \n",
       "1   2020-02-01           2  \n",
       "2   2019-12-01          12  \n",
       "\n",
       "[3 rows x 26 columns]"
      ]
     },
     "metadata": {},
     "output_type": "display_data"
    },
    {
     "name": "stdout",
     "output_type": "stream",
     "text": [
      "<class 'pandas.core.frame.DataFrame'>\n",
      "Int64Index: 7032 entries, 0 to 7042\n",
      "Data columns (total 26 columns):\n",
      "customerID                               7032 non-null object\n",
      "BeginDate                                7032 non-null datetime64[ns]\n",
      "EndDate                                  7032 non-null int64\n",
      "MonthlyCharges                           7032 non-null float64\n",
      "TotalCharges                             7032 non-null float64\n",
      "SeniorCitizen                            7032 non-null int64\n",
      "Type_One year                            7032 non-null uint8\n",
      "Type_Two year                            7032 non-null uint8\n",
      "PaperlessBilling_Yes                     7032 non-null uint8\n",
      "PaymentMethod_Credit card (automatic)    7032 non-null uint8\n",
      "PaymentMethod_Electronic check           7032 non-null uint8\n",
      "PaymentMethod_Mailed check               7032 non-null uint8\n",
      "gender_Male                              7032 non-null uint8\n",
      "Partner_Yes                              7032 non-null uint8\n",
      "Dependents_Yes                           7032 non-null uint8\n",
      "InternetService_Fiber optic              7032 non-null uint8\n",
      "InternetService_No                       7032 non-null uint8\n",
      "OnlineSecurity_Yes                       7032 non-null uint8\n",
      "OnlineBackup_Yes                         7032 non-null uint8\n",
      "DeviceProtection_Yes                     7032 non-null uint8\n",
      "TechSupport_Yes                          7032 non-null uint8\n",
      "StreamingTV_Yes                          7032 non-null uint8\n",
      "StreamingMovies_Yes                      7032 non-null uint8\n",
      "MultipleLines_Yes                        7032 non-null uint8\n",
      "EndDate_new                              7032 non-null datetime64[ns]\n",
      "months_end                               7032 non-null int64\n",
      "dtypes: datetime64[ns](2), float64(2), int64(3), object(1), uint8(18)\n",
      "memory usage: 618.0+ KB\n"
     ]
    }
   ],
   "source": [
    "status_1 = '1'\n",
    "status_0 = '0'\n",
    "def status(row):\n",
    "    enddate = row['EndDate']\n",
    "    if enddate == 'No':\n",
    "            return status_0    \n",
    "    return status_1\n",
    "\n",
    "#Применим функцию к столбцу user_score\n",
    "data_full_ohe['EndDate']  = data_full_ohe.apply(status, axis=1)\n",
    "display(data_full_ohe.head(3))\n",
    "data_full_ohe['EndDate'] = data_full_ohe['EndDate'].astype(int)\n",
    "data_full_ohe.info()"
   ]
  },
  {
   "cell_type": "markdown",
   "metadata": {},
   "source": [
    "### Выделим признаки и проверим на мультиколлинеарность"
   ]
  },
  {
   "cell_type": "code",
   "execution_count": 12,
   "metadata": {},
   "outputs": [
    {
     "name": "stdout",
     "output_type": "stream",
     "text": [
      "21\n"
     ]
    },
    {
     "name": "stderr",
     "output_type": "stream",
     "text": [
      "[Parallel(n_jobs=-1)]: Using backend SequentialBackend with 1 concurrent workers.\n",
      "[Parallel(n_jobs=-1)]: Done   1 out of   1 | elapsed:    0.0s remaining:    0.0s\n",
      "[Parallel(n_jobs=-1)]: Done   2 out of   2 | elapsed:    0.1s remaining:    0.0s\n",
      "[Parallel(n_jobs=-1)]: Done   3 out of   3 | elapsed:    0.3s remaining:    0.0s\n",
      "[Parallel(n_jobs=-1)]: Done   4 out of   4 | elapsed:    0.4s remaining:    0.0s\n",
      "[Parallel(n_jobs=-1)]: Done  21 out of  21 | elapsed:    2.7s finished\n",
      "[Parallel(n_jobs=-1)]: Using backend SequentialBackend with 1 concurrent workers.\n",
      "[Parallel(n_jobs=-1)]: Done   1 out of   1 | elapsed:    0.2s remaining:    0.0s\n"
     ]
    },
    {
     "name": "stdout",
     "output_type": "stream",
     "text": [
      "Thu Jul  8 14:18:13 2021 dropping 'MonthlyCharges' at index: 0\n",
      "20\n"
     ]
    },
    {
     "name": "stderr",
     "output_type": "stream",
     "text": [
      "[Parallel(n_jobs=-1)]: Done   2 out of   2 | elapsed:    0.3s remaining:    0.0s\n",
      "[Parallel(n_jobs=-1)]: Done   3 out of   3 | elapsed:    0.4s remaining:    0.0s\n",
      "[Parallel(n_jobs=-1)]: Done   4 out of   4 | elapsed:    0.6s remaining:    0.0s\n",
      "[Parallel(n_jobs=-1)]: Done  20 out of  20 | elapsed:    2.8s finished\n",
      "[Parallel(n_jobs=-1)]: Using backend SequentialBackend with 1 concurrent workers.\n",
      "[Parallel(n_jobs=-1)]: Done   1 out of   1 | elapsed:    0.2s remaining:    0.0s\n"
     ]
    },
    {
     "name": "stdout",
     "output_type": "stream",
     "text": [
      "Thu Jul  8 14:18:16 2021 dropping 'TotalCharges' at index: 0\n",
      "19\n"
     ]
    },
    {
     "name": "stderr",
     "output_type": "stream",
     "text": [
      "[Parallel(n_jobs=-1)]: Done   2 out of   2 | elapsed:    0.3s remaining:    0.0s\n",
      "[Parallel(n_jobs=-1)]: Done   3 out of   3 | elapsed:    0.5s remaining:    0.0s\n",
      "[Parallel(n_jobs=-1)]: Done   4 out of   4 | elapsed:    0.6s remaining:    0.0s\n"
     ]
    },
    {
     "name": "stdout",
     "output_type": "stream",
     "text": [
      "Remaining variables:\n",
      "[['SeniorCitizen', 'Type_One year', 'Type_Two year', 'PaperlessBilling_Yes', 'PaymentMethod_Credit card (automatic)', 'PaymentMethod_Electronic check', 'PaymentMethod_Mailed check', 'gender_Male', 'Partner_Yes', 'Dependents_Yes', 'InternetService_Fiber optic', 'InternetService_No', 'OnlineSecurity_Yes', 'OnlineBackup_Yes', 'DeviceProtection_Yes', 'TechSupport_Yes', 'StreamingTV_Yes', 'StreamingMovies_Yes', 'MultipleLines_Yes']]\n"
     ]
    },
    {
     "name": "stderr",
     "output_type": "stream",
     "text": [
      "[Parallel(n_jobs=-1)]: Done  19 out of  19 | elapsed:    2.8s finished\n"
     ]
    }
   ],
   "source": [
    "features= data_full_ohe.drop(['customerID', 'BeginDate', 'EndDate', 'EndDate_new','months_end'], axis=1)\n",
    "\n",
    "def calculate_vif_(X, thresh=5.0):\n",
    "    variables = [X.columns[i] for i in range(X.shape[1])]\n",
    "    dropped=True\n",
    "    while dropped:\n",
    "        dropped=False\n",
    "        print(len(variables))\n",
    "        vif = Parallel(n_jobs=-1,verbose=5)(delayed(variance_inflation_factor)(X[variables].values, ix) for ix in range(len(variables)))\n",
    "\n",
    "        maxloc = vif.index(max(vif))\n",
    "        if max(vif) > thresh:\n",
    "            print(time.ctime() + ' dropping \\'' + X[variables].columns[maxloc] + '\\' at index: ' + str(maxloc))\n",
    "            variables.pop(maxloc)\n",
    "            dropped=True\n",
    "\n",
    "    print('Remaining variables:')\n",
    "    print([variables])\n",
    "    return X[[i for i in variables]]\n",
    "\n",
    "X = features\n",
    "\n",
    "X2 = calculate_vif_(X,5)"
   ]
  },
  {
   "cell_type": "markdown",
   "metadata": {},
   "source": [
    "### Выделим признаки и целевой признак для модели. Удалим из признаков 'TotalCharges' в связи с мультиколлинеарностью с 'MonthlyCharges'.  Разделим данные на тренировочные, валидационные и тестовые. "
   ]
  },
  {
   "cell_type": "code",
   "execution_count": 13,
   "metadata": {},
   "outputs": [],
   "source": [
    "target_forest= data_full_ohe['EndDate']\n",
    "features_forest= data_full_ohe.drop(['customerID', 'TotalCharges','BeginDate', 'EndDate', 'EndDate_new','months_end'], axis=1)\n",
    "\n",
    "#Выделим 20% тестовых данных из всего объема данных\n",
    "features_df1, features_test_forest, target_df1, target_test_forest = train_test_split(features_forest, target_forest, test_size=0.20, random_state=12345)\n",
    "\n",
    "#Разделим отавшиеся 80% данных на тренировочные и валидационные(проверечное). Данные делим в пропорции: 75% от общего числа\n",
    "#данных - это тренировочные, 25% от общего числа - это валидационные.\n",
    "features_train_forest, features_valid_forest, target_train_forest, target_valid_forest = train_test_split(features_df1, target_df1, test_size=0.25, random_state=12345)"
   ]
  },
  {
   "cell_type": "code",
   "execution_count": 14,
   "metadata": {},
   "outputs": [
    {
     "data": {
      "text/html": [
       "<div>\n",
       "<style scoped>\n",
       "    .dataframe tbody tr th:only-of-type {\n",
       "        vertical-align: middle;\n",
       "    }\n",
       "\n",
       "    .dataframe tbody tr th {\n",
       "        vertical-align: top;\n",
       "    }\n",
       "\n",
       "    .dataframe thead th {\n",
       "        text-align: right;\n",
       "    }\n",
       "</style>\n",
       "<table border=\"1\" class=\"dataframe\">\n",
       "  <thead>\n",
       "    <tr style=\"text-align: right;\">\n",
       "      <th></th>\n",
       "      <th>MonthlyCharges</th>\n",
       "      <th>SeniorCitizen</th>\n",
       "      <th>Type_One year</th>\n",
       "      <th>Type_Two year</th>\n",
       "      <th>PaperlessBilling_Yes</th>\n",
       "      <th>PaymentMethod_Credit card (automatic)</th>\n",
       "      <th>PaymentMethod_Electronic check</th>\n",
       "      <th>PaymentMethod_Mailed check</th>\n",
       "      <th>gender_Male</th>\n",
       "      <th>Partner_Yes</th>\n",
       "      <th>Dependents_Yes</th>\n",
       "      <th>InternetService_Fiber optic</th>\n",
       "      <th>InternetService_No</th>\n",
       "      <th>OnlineSecurity_Yes</th>\n",
       "      <th>OnlineBackup_Yes</th>\n",
       "      <th>DeviceProtection_Yes</th>\n",
       "      <th>TechSupport_Yes</th>\n",
       "      <th>StreamingTV_Yes</th>\n",
       "      <th>StreamingMovies_Yes</th>\n",
       "      <th>MultipleLines_Yes</th>\n",
       "    </tr>\n",
       "  </thead>\n",
       "  <tbody>\n",
       "    <tr>\n",
       "      <td>0</td>\n",
       "      <td>29.85</td>\n",
       "      <td>0</td>\n",
       "      <td>0</td>\n",
       "      <td>0</td>\n",
       "      <td>1</td>\n",
       "      <td>0</td>\n",
       "      <td>1</td>\n",
       "      <td>0</td>\n",
       "      <td>0</td>\n",
       "      <td>1</td>\n",
       "      <td>0</td>\n",
       "      <td>0</td>\n",
       "      <td>0</td>\n",
       "      <td>0</td>\n",
       "      <td>1</td>\n",
       "      <td>0</td>\n",
       "      <td>0</td>\n",
       "      <td>0</td>\n",
       "      <td>0</td>\n",
       "      <td>0</td>\n",
       "    </tr>\n",
       "    <tr>\n",
       "      <td>1</td>\n",
       "      <td>56.95</td>\n",
       "      <td>0</td>\n",
       "      <td>1</td>\n",
       "      <td>0</td>\n",
       "      <td>0</td>\n",
       "      <td>0</td>\n",
       "      <td>0</td>\n",
       "      <td>1</td>\n",
       "      <td>1</td>\n",
       "      <td>0</td>\n",
       "      <td>0</td>\n",
       "      <td>0</td>\n",
       "      <td>0</td>\n",
       "      <td>1</td>\n",
       "      <td>0</td>\n",
       "      <td>1</td>\n",
       "      <td>0</td>\n",
       "      <td>0</td>\n",
       "      <td>0</td>\n",
       "      <td>0</td>\n",
       "    </tr>\n",
       "    <tr>\n",
       "      <td>2</td>\n",
       "      <td>53.85</td>\n",
       "      <td>0</td>\n",
       "      <td>0</td>\n",
       "      <td>0</td>\n",
       "      <td>1</td>\n",
       "      <td>0</td>\n",
       "      <td>0</td>\n",
       "      <td>1</td>\n",
       "      <td>1</td>\n",
       "      <td>0</td>\n",
       "      <td>0</td>\n",
       "      <td>0</td>\n",
       "      <td>0</td>\n",
       "      <td>1</td>\n",
       "      <td>1</td>\n",
       "      <td>0</td>\n",
       "      <td>0</td>\n",
       "      <td>0</td>\n",
       "      <td>0</td>\n",
       "      <td>0</td>\n",
       "    </tr>\n",
       "    <tr>\n",
       "      <td>3</td>\n",
       "      <td>42.30</td>\n",
       "      <td>0</td>\n",
       "      <td>1</td>\n",
       "      <td>0</td>\n",
       "      <td>0</td>\n",
       "      <td>0</td>\n",
       "      <td>0</td>\n",
       "      <td>0</td>\n",
       "      <td>1</td>\n",
       "      <td>0</td>\n",
       "      <td>0</td>\n",
       "      <td>0</td>\n",
       "      <td>0</td>\n",
       "      <td>1</td>\n",
       "      <td>0</td>\n",
       "      <td>1</td>\n",
       "      <td>1</td>\n",
       "      <td>0</td>\n",
       "      <td>0</td>\n",
       "      <td>0</td>\n",
       "    </tr>\n",
       "    <tr>\n",
       "      <td>4</td>\n",
       "      <td>70.70</td>\n",
       "      <td>0</td>\n",
       "      <td>0</td>\n",
       "      <td>0</td>\n",
       "      <td>1</td>\n",
       "      <td>0</td>\n",
       "      <td>1</td>\n",
       "      <td>0</td>\n",
       "      <td>0</td>\n",
       "      <td>0</td>\n",
       "      <td>0</td>\n",
       "      <td>1</td>\n",
       "      <td>0</td>\n",
       "      <td>0</td>\n",
       "      <td>0</td>\n",
       "      <td>0</td>\n",
       "      <td>0</td>\n",
       "      <td>0</td>\n",
       "      <td>0</td>\n",
       "      <td>0</td>\n",
       "    </tr>\n",
       "    <tr>\n",
       "      <td>...</td>\n",
       "      <td>...</td>\n",
       "      <td>...</td>\n",
       "      <td>...</td>\n",
       "      <td>...</td>\n",
       "      <td>...</td>\n",
       "      <td>...</td>\n",
       "      <td>...</td>\n",
       "      <td>...</td>\n",
       "      <td>...</td>\n",
       "      <td>...</td>\n",
       "      <td>...</td>\n",
       "      <td>...</td>\n",
       "      <td>...</td>\n",
       "      <td>...</td>\n",
       "      <td>...</td>\n",
       "      <td>...</td>\n",
       "      <td>...</td>\n",
       "      <td>...</td>\n",
       "      <td>...</td>\n",
       "      <td>...</td>\n",
       "    </tr>\n",
       "    <tr>\n",
       "      <td>7038</td>\n",
       "      <td>84.80</td>\n",
       "      <td>0</td>\n",
       "      <td>1</td>\n",
       "      <td>0</td>\n",
       "      <td>1</td>\n",
       "      <td>0</td>\n",
       "      <td>0</td>\n",
       "      <td>1</td>\n",
       "      <td>1</td>\n",
       "      <td>1</td>\n",
       "      <td>1</td>\n",
       "      <td>0</td>\n",
       "      <td>0</td>\n",
       "      <td>1</td>\n",
       "      <td>0</td>\n",
       "      <td>1</td>\n",
       "      <td>1</td>\n",
       "      <td>1</td>\n",
       "      <td>1</td>\n",
       "      <td>1</td>\n",
       "    </tr>\n",
       "    <tr>\n",
       "      <td>7039</td>\n",
       "      <td>103.20</td>\n",
       "      <td>0</td>\n",
       "      <td>1</td>\n",
       "      <td>0</td>\n",
       "      <td>1</td>\n",
       "      <td>1</td>\n",
       "      <td>0</td>\n",
       "      <td>0</td>\n",
       "      <td>0</td>\n",
       "      <td>1</td>\n",
       "      <td>1</td>\n",
       "      <td>1</td>\n",
       "      <td>0</td>\n",
       "      <td>0</td>\n",
       "      <td>1</td>\n",
       "      <td>1</td>\n",
       "      <td>0</td>\n",
       "      <td>1</td>\n",
       "      <td>1</td>\n",
       "      <td>1</td>\n",
       "    </tr>\n",
       "    <tr>\n",
       "      <td>7040</td>\n",
       "      <td>29.60</td>\n",
       "      <td>0</td>\n",
       "      <td>0</td>\n",
       "      <td>0</td>\n",
       "      <td>1</td>\n",
       "      <td>0</td>\n",
       "      <td>1</td>\n",
       "      <td>0</td>\n",
       "      <td>0</td>\n",
       "      <td>1</td>\n",
       "      <td>1</td>\n",
       "      <td>0</td>\n",
       "      <td>0</td>\n",
       "      <td>1</td>\n",
       "      <td>0</td>\n",
       "      <td>0</td>\n",
       "      <td>0</td>\n",
       "      <td>0</td>\n",
       "      <td>0</td>\n",
       "      <td>0</td>\n",
       "    </tr>\n",
       "    <tr>\n",
       "      <td>7041</td>\n",
       "      <td>74.40</td>\n",
       "      <td>1</td>\n",
       "      <td>0</td>\n",
       "      <td>0</td>\n",
       "      <td>1</td>\n",
       "      <td>0</td>\n",
       "      <td>0</td>\n",
       "      <td>1</td>\n",
       "      <td>1</td>\n",
       "      <td>1</td>\n",
       "      <td>0</td>\n",
       "      <td>1</td>\n",
       "      <td>0</td>\n",
       "      <td>0</td>\n",
       "      <td>0</td>\n",
       "      <td>0</td>\n",
       "      <td>0</td>\n",
       "      <td>0</td>\n",
       "      <td>0</td>\n",
       "      <td>1</td>\n",
       "    </tr>\n",
       "    <tr>\n",
       "      <td>7042</td>\n",
       "      <td>105.65</td>\n",
       "      <td>0</td>\n",
       "      <td>0</td>\n",
       "      <td>1</td>\n",
       "      <td>1</td>\n",
       "      <td>0</td>\n",
       "      <td>0</td>\n",
       "      <td>0</td>\n",
       "      <td>1</td>\n",
       "      <td>0</td>\n",
       "      <td>0</td>\n",
       "      <td>1</td>\n",
       "      <td>0</td>\n",
       "      <td>1</td>\n",
       "      <td>0</td>\n",
       "      <td>1</td>\n",
       "      <td>1</td>\n",
       "      <td>1</td>\n",
       "      <td>1</td>\n",
       "      <td>0</td>\n",
       "    </tr>\n",
       "  </tbody>\n",
       "</table>\n",
       "<p>7032 rows × 20 columns</p>\n",
       "</div>"
      ],
      "text/plain": [
       "      MonthlyCharges  SeniorCitizen  Type_One year  Type_Two year  \\\n",
       "0              29.85              0              0              0   \n",
       "1              56.95              0              1              0   \n",
       "2              53.85              0              0              0   \n",
       "3              42.30              0              1              0   \n",
       "4              70.70              0              0              0   \n",
       "...              ...            ...            ...            ...   \n",
       "7038           84.80              0              1              0   \n",
       "7039          103.20              0              1              0   \n",
       "7040           29.60              0              0              0   \n",
       "7041           74.40              1              0              0   \n",
       "7042          105.65              0              0              1   \n",
       "\n",
       "      PaperlessBilling_Yes  PaymentMethod_Credit card (automatic)  \\\n",
       "0                        1                                      0   \n",
       "1                        0                                      0   \n",
       "2                        1                                      0   \n",
       "3                        0                                      0   \n",
       "4                        1                                      0   \n",
       "...                    ...                                    ...   \n",
       "7038                     1                                      0   \n",
       "7039                     1                                      1   \n",
       "7040                     1                                      0   \n",
       "7041                     1                                      0   \n",
       "7042                     1                                      0   \n",
       "\n",
       "      PaymentMethod_Electronic check  PaymentMethod_Mailed check  gender_Male  \\\n",
       "0                                  1                           0            0   \n",
       "1                                  0                           1            1   \n",
       "2                                  0                           1            1   \n",
       "3                                  0                           0            1   \n",
       "4                                  1                           0            0   \n",
       "...                              ...                         ...          ...   \n",
       "7038                               0                           1            1   \n",
       "7039                               0                           0            0   \n",
       "7040                               1                           0            0   \n",
       "7041                               0                           1            1   \n",
       "7042                               0                           0            1   \n",
       "\n",
       "      Partner_Yes  Dependents_Yes  InternetService_Fiber optic  \\\n",
       "0               1               0                            0   \n",
       "1               0               0                            0   \n",
       "2               0               0                            0   \n",
       "3               0               0                            0   \n",
       "4               0               0                            1   \n",
       "...           ...             ...                          ...   \n",
       "7038            1               1                            0   \n",
       "7039            1               1                            1   \n",
       "7040            1               1                            0   \n",
       "7041            1               0                            1   \n",
       "7042            0               0                            1   \n",
       "\n",
       "      InternetService_No  OnlineSecurity_Yes  OnlineBackup_Yes  \\\n",
       "0                      0                   0                 1   \n",
       "1                      0                   1                 0   \n",
       "2                      0                   1                 1   \n",
       "3                      0                   1                 0   \n",
       "4                      0                   0                 0   \n",
       "...                  ...                 ...               ...   \n",
       "7038                   0                   1                 0   \n",
       "7039                   0                   0                 1   \n",
       "7040                   0                   1                 0   \n",
       "7041                   0                   0                 0   \n",
       "7042                   0                   1                 0   \n",
       "\n",
       "      DeviceProtection_Yes  TechSupport_Yes  StreamingTV_Yes  \\\n",
       "0                        0                0                0   \n",
       "1                        1                0                0   \n",
       "2                        0                0                0   \n",
       "3                        1                1                0   \n",
       "4                        0                0                0   \n",
       "...                    ...              ...              ...   \n",
       "7038                     1                1                1   \n",
       "7039                     1                0                1   \n",
       "7040                     0                0                0   \n",
       "7041                     0                0                0   \n",
       "7042                     1                1                1   \n",
       "\n",
       "      StreamingMovies_Yes  MultipleLines_Yes  \n",
       "0                       0                  0  \n",
       "1                       0                  0  \n",
       "2                       0                  0  \n",
       "3                       0                  0  \n",
       "4                       0                  0  \n",
       "...                   ...                ...  \n",
       "7038                    1                  1  \n",
       "7039                    1                  1  \n",
       "7040                    0                  0  \n",
       "7041                    0                  1  \n",
       "7042                    1                  0  \n",
       "\n",
       "[7032 rows x 20 columns]"
      ]
     },
     "execution_count": 14,
     "metadata": {},
     "output_type": "execute_result"
    }
   ],
   "source": [
    "features_forest"
   ]
  },
  {
   "cell_type": "markdown",
   "metadata": {},
   "source": [
    "### Построим график важности признаков"
   ]
  },
  {
   "cell_type": "code",
   "execution_count": 15,
   "metadata": {},
   "outputs": [
    {
     "name": "stdout",
     "output_type": "stream",
     "text": [
      "Automatically created module for IPython interactive environment\n",
      "Elapsed time to compute the importances: 0.002 seconds\n"
     ]
    },
    {
     "name": "stderr",
     "output_type": "stream",
     "text": [
      "/opt/conda/lib/python3.7/site-packages/sklearn/ensemble/forest.py:245: FutureWarning: The default value of n_estimators will change from 10 in version 0.20 to 100 in 0.22.\n",
      "  \"10 in version 0.20 to 100 in 0.22.\", FutureWarning)\n"
     ]
    },
    {
     "data": {
      "image/png": "[encoded data removed]",
      "text/plain": [
       "<Figure size 864x576 with 1 Axes>"
      ]
     },
     "metadata": {
      "needs_background": "light"
     },
     "output_type": "display_data"
    }
   ],
   "source": [
    "%matplotlib inline\n",
    "print(__doc__)\n",
    "X, y = make_classification(\n",
    "    n_samples=1000, n_features=20, n_informative=3, n_redundant=0,\n",
    "    n_repeated=0, n_classes=2, random_state=0, shuffle=False)\n",
    "X_train, X_test, y_train, y_test = train_test_split(\n",
    "    features_forest, target_forest, stratify=target_forest, random_state=42)\n",
    "\n",
    "feature_names = [f'feature {i}' for i in range(X.shape[1])]\n",
    "forest = RandomForestClassifier(random_state=0)\n",
    "forest.fit(X_train, y_train)\n",
    "\n",
    "start_time = time.time()\n",
    "importances = forest.feature_importances_\n",
    "std = np.std([\n",
    "    tree.feature_importances_ for tree in forest.estimators_], axis=0)\n",
    "elapsed_time = time.time() - start_time\n",
    "\n",
    "print(f\"Elapsed time to compute the importances: \"\n",
    "      f\"{elapsed_time:.3f} seconds\")\n",
    "\n",
    "feature_names = features_forest.columns\n",
    "forest_importances = pd.Series(importances, index=feature_names)\n",
    "\n",
    "fig, ax = plt.subplots()\n",
    "forest_importances.plot.bar(yerr=std, ax=ax, figsize=(12,8))\n",
    "ax.set_title(\"График важности признаков\\n\")\n",
    "fig.tight_layout()"
   ]
  },
  {
   "cell_type": "markdown",
   "metadata": {},
   "source": [
    "<div style=\"background: #cceeaa; padding: 5px; border: 1px solid green; border-radius: 5px;\">\n",
    "    <font color='green'> <b><u>КОММЕНТАРИЙ РЕВЬЮЕРА</u></b>\n",
    "</font>\n",
    "<font color='green'><br>\n",
    "ОТЛИЧНО, что удаляешь факторы-даты!!!!! Если у нас тема НЕ временные ряды, то такие факторы лучше не использовать. Они \"нагонят\" метрики, но бизнес-эффективность модели  - рухнет."
   ]
  },
  {
   "cell_type": "markdown",
   "metadata": {},
   "source": [
    "### Напишем функцию для модели 'случайный лес', чтобы выбрать лучшую модель"
   ]
  },
  {
   "cell_type": "code",
   "execution_count": 16,
   "metadata": {},
   "outputs": [
    {
     "name": "stdout",
     "output_type": "stream",
     "text": [
      "Fitting 3 folds for each of 100 candidates, totalling 300 fits\n"
     ]
    },
    {
     "name": "stderr",
     "output_type": "stream",
     "text": [
      "[Parallel(n_jobs=-1)]: Using backend SequentialBackend with 1 concurrent workers.\n",
      "[Parallel(n_jobs=-1)]: Done 300 out of 300 | elapsed:  3.9min finished\n"
     ]
    },
    {
     "data": {
      "text/plain": [
       "{'n_estimators': 556,\n",
       " 'min_samples_split': 23,\n",
       " 'min_samples_leaf': 2,\n",
       " 'max_features': 'sqrt',\n",
       " 'max_depth': 15,\n",
       " 'bootstrap': False}"
      ]
     },
     "execution_count": 16,
     "metadata": {},
     "output_type": "execute_result"
    }
   ],
   "source": [
    "# Напишем функцию для модели 'случайный лес', чтобы выбрать лучшую модель в зависимости от количества деревьев.\n",
    "rfc = RandomForestClassifier()\n",
    "n_estimators = [int(x) for x in np.linspace(start = 1, stop = 1000, num = 10)]\n",
    "max_features = ['log2', 'sqrt']\n",
    "max_depth = [int(x) for x in np.linspace(start = 1, stop = 15, num = 15)]\n",
    "min_samples_split = [int(x) for x in np.linspace(start = 2, stop = 50, num = 10)]\n",
    "min_samples_leaf = [int(x) for x in np.linspace(start = 2, stop = 50, num = 10)]\n",
    "bootstrap = [True, False]\n",
    "param_dist = {'n_estimators': n_estimators,\n",
    "               'max_features': max_features,\n",
    "               'max_depth': max_depth,\n",
    "               'min_samples_split': min_samples_split,\n",
    "               'min_samples_leaf': min_samples_leaf,\n",
    "               'bootstrap': bootstrap}\n",
    "rs = RandomizedSearchCV(rfc, \n",
    "                        param_dist, \n",
    "                        n_iter = 100, \n",
    "                        cv = 3, \n",
    "                        verbose = 1, \n",
    "                        n_jobs=-1, \n",
    "                        random_state=0)\n",
    "rs.fit(features_train_forest, target_train_forest)\n",
    "rs.best_params_"
   ]
  },
  {
   "cell_type": "markdown",
   "metadata": {},
   "source": [
    "### Вычислим AUC-ROC для модели Случайный лес"
   ]
  },
  {
   "cell_type": "code",
   "execution_count": 17,
   "metadata": {},
   "outputs": [
    {
     "name": "stdout",
     "output_type": "stream",
     "text": [
      "AUC-ROC модели случайный лес: 0.8194302790469973\n"
     ]
    }
   ],
   "source": [
    "#Вычислим AUC-ROC\n",
    "model = RandomForestClassifier(bootstrap = 'False', random_state=12345, max_depth=15, n_estimators=556, min_samples_split=23, min_samples_leaf=2, max_features = 'sqrt')\n",
    "model.fit(features_train_forest, target_train_forest)\n",
    "probabilities_valid = model.predict_proba(features_test_forest)\n",
    "probabilities_one_valid = probabilities_valid[:, 1]\n",
    "auc_roc = roc_auc_score(target_test_forest, probabilities_one_valid)\n",
    "print('AUC-ROC модели случайный лес:', auc_roc)"
   ]
  },
  {
   "cell_type": "markdown",
   "metadata": {},
   "source": [
    "### Построим график AUC-ROC для модели Случайный лес"
   ]
  },
  {
   "cell_type": "code",
   "execution_count": 18,
   "metadata": {},
   "outputs": [
    {
     "data": {
      "image/png": "[encoded data removed]",
      "text/plain": [
       "<Figure size 432x288 with 1 Axes>"
      ]
     },
     "metadata": {
      "needs_background": "light"
     },
     "output_type": "display_data"
    }
   ],
   "source": [
    "fpr, tpr, thresholds = roc_curve(target_test_forest, probabilities_one_valid) \n",
    "\n",
    "#Построим график AUC-ROC\n",
    "plt.figure()\n",
    "plt.plot(fpr, tpr)\n",
    "\n",
    "#ROC-кривая случайной модели (выглядит как прямая)\n",
    "plt.plot([0, 1], [0, 1], linestyle='--')\n",
    "\n",
    "#Примените функции plt.xlim() и plt.ylim(), чтобы установить границы осей от 0 до 1 \n",
    "plt.xlim([0.0, 1.0])\n",
    "plt.ylim([0.0, 1.0])\n",
    "\n",
    "#Примените функции plt.xlabel() и plt.ylabel(), чтобы одписать оси \"False Positive Rate\" и \"True Positive Rate\" \n",
    "plt.xlabel('False Positive Rate')\n",
    "plt.ylabel('True Positive Rate')\n",
    "\n",
    "#Добавим к графику заголовок \"ROC-кривая\" функцией plt.title()\n",
    "plt.title('ROC-кривая')\n",
    "plt.show()"
   ]
  },
  {
   "cell_type": "code",
   "execution_count": null,
   "metadata": {},
   "outputs": [],
   "source": []
  }
 ],
 "metadata": {
  "ExecuteTimeLog": [
   {
    "duration": 1117,
    "start_time": "2021-06-30T10:56:30.285Z"
   },
   {
    "duration": 74,
    "start_time": "2021-06-30T10:57:19.017Z"
   },
   {
    "duration": 56,
    "start_time": "2021-06-30T10:58:46.839Z"
   },
   {
    "duration": 473,
    "start_time": "2021-06-30T10:59:46.441Z"
   },
   {
    "duration": 58,
    "start_time": "2021-06-30T11:00:09.114Z"
   },
   {
    "duration": 46,
    "start_time": "2021-06-30T11:01:46.787Z"
   },
   {
    "duration": 69,
    "start_time": "2021-06-30T12:54:06.815Z"
   },
   {
    "duration": 828,
    "start_time": "2021-07-03T03:53:20.823Z"
   },
   {
    "duration": 60,
    "start_time": "2021-07-03T03:53:25.158Z"
   },
   {
    "duration": 70,
    "start_time": "2021-07-03T03:53:31.282Z"
   },
   {
    "duration": 54,
    "start_time": "2021-07-03T03:53:37.284Z"
   },
   {
    "duration": 47,
    "start_time": "2021-07-03T03:53:40.914Z"
   },
   {
    "duration": 74,
    "start_time": "2021-07-03T03:53:50.745Z"
   },
   {
    "duration": 58,
    "start_time": "2021-07-03T03:53:58.042Z"
   },
   {
    "duration": 64,
    "start_time": "2021-07-03T03:54:03.282Z"
   },
   {
    "duration": 48,
    "start_time": "2021-07-03T03:54:05.771Z"
   },
   {
    "duration": 43,
    "start_time": "2021-07-03T04:04:12.123Z"
   },
   {
    "duration": 17,
    "start_time": "2021-07-03T04:05:27.391Z"
   },
   {
    "duration": 44,
    "start_time": "2021-07-03T04:05:52.382Z"
   },
   {
    "duration": 31,
    "start_time": "2021-07-03T04:07:39.335Z"
   },
   {
    "duration": 43,
    "start_time": "2021-07-03T04:08:02.642Z"
   },
   {
    "duration": 53,
    "start_time": "2021-07-03T04:09:15.556Z"
   },
   {
    "duration": 61,
    "start_time": "2021-07-03T04:10:49.751Z"
   },
   {
    "duration": 5,
    "start_time": "2021-07-03T04:21:09.863Z"
   },
   {
    "duration": 7,
    "start_time": "2021-07-03T04:21:44.703Z"
   },
   {
    "duration": 65,
    "start_time": "2021-07-03T04:21:57.825Z"
   },
   {
    "duration": 6,
    "start_time": "2021-07-03T04:22:01.977Z"
   },
   {
    "duration": 6,
    "start_time": "2021-07-03T04:22:31.745Z"
   },
   {
    "duration": 63,
    "start_time": "2021-07-03T04:22:37.295Z"
   },
   {
    "duration": 5,
    "start_time": "2021-07-03T04:22:48.283Z"
   },
   {
    "duration": 7,
    "start_time": "2021-07-03T04:22:53.545Z"
   },
   {
    "duration": 47,
    "start_time": "2021-07-03T04:25:46.104Z"
   },
   {
    "duration": 5,
    "start_time": "2021-07-03T04:26:19.195Z"
   },
   {
    "duration": 15,
    "start_time": "2021-07-03T04:27:33.497Z"
   },
   {
    "duration": 81,
    "start_time": "2021-07-03T04:28:44.665Z"
   },
   {
    "duration": 77,
    "start_time": "2021-07-03T04:29:23.063Z"
   },
   {
    "duration": 71,
    "start_time": "2021-07-03T04:29:58.436Z"
   },
   {
    "duration": 73,
    "start_time": "2021-07-03T04:31:13.163Z"
   },
   {
    "duration": 14,
    "start_time": "2021-07-03T04:31:36.905Z"
   },
   {
    "duration": 14,
    "start_time": "2021-07-03T04:33:50.203Z"
   },
   {
    "duration": 7,
    "start_time": "2021-07-03T04:33:58.475Z"
   },
   {
    "duration": 18,
    "start_time": "2021-07-03T04:34:21.083Z"
   },
   {
    "duration": 841,
    "start_time": "2021-07-03T05:20:30.540Z"
   },
   {
    "duration": 60,
    "start_time": "2021-07-03T05:20:35.867Z"
   },
   {
    "duration": 61,
    "start_time": "2021-07-03T05:20:40.607Z"
   },
   {
    "duration": 49,
    "start_time": "2021-07-03T05:20:43.879Z"
   },
   {
    "duration": 74,
    "start_time": "2021-07-03T05:20:46.840Z"
   },
   {
    "duration": 15,
    "start_time": "2021-07-03T05:20:51.567Z"
   },
   {
    "duration": 18,
    "start_time": "2021-07-03T05:20:52.947Z"
   },
   {
    "duration": 13,
    "start_time": "2021-07-03T05:23:18.407Z"
   },
   {
    "duration": 36,
    "start_time": "2021-07-03T05:23:37.060Z"
   },
   {
    "duration": 51,
    "start_time": "2021-07-03T05:29:33.507Z"
   },
   {
    "duration": 5,
    "start_time": "2021-07-03T05:48:40.551Z"
   },
   {
    "duration": 4086,
    "start_time": "2021-07-03T05:48:57.143Z"
   },
   {
    "duration": 3937,
    "start_time": "2021-07-03T05:49:27.111Z"
   },
   {
    "duration": 53,
    "start_time": "2021-07-03T05:49:40.871Z"
   },
   {
    "duration": 28,
    "start_time": "2021-07-03T05:49:44.210Z"
   },
   {
    "duration": 328,
    "start_time": "2021-07-03T05:53:19.890Z"
   },
   {
    "duration": 284,
    "start_time": "2021-07-03T05:54:38.855Z"
   },
   {
    "duration": 8,
    "start_time": "2021-07-03T05:54:53.331Z"
   },
   {
    "duration": 17,
    "start_time": "2021-07-03T05:55:08.555Z"
   },
   {
    "duration": 20,
    "start_time": "2021-07-03T05:55:33.763Z"
   },
   {
    "duration": 23,
    "start_time": "2021-07-03T05:55:39.810Z"
   },
   {
    "duration": 45,
    "start_time": "2021-07-03T05:55:58.352Z"
   },
   {
    "duration": 49,
    "start_time": "2021-07-03T06:01:27.403Z"
   },
   {
    "duration": 50,
    "start_time": "2021-07-03T06:02:31.956Z"
   },
   {
    "duration": 59,
    "start_time": "2021-07-03T06:06:55.352Z"
   },
   {
    "duration": 52,
    "start_time": "2021-07-03T06:07:14.891Z"
   },
   {
    "duration": 380,
    "start_time": "2021-07-03T06:11:11.351Z"
   },
   {
    "duration": 57,
    "start_time": "2021-07-03T06:12:25.347Z"
   },
   {
    "duration": 863,
    "start_time": "2021-07-03T06:30:10.433Z"
   },
   {
    "duration": 821,
    "start_time": "2021-07-03T06:31:25.231Z"
   },
   {
    "duration": 623,
    "start_time": "2021-07-03T06:35:19.677Z"
   },
   {
    "duration": 815,
    "start_time": "2021-07-03T06:35:30.092Z"
   },
   {
    "duration": 734,
    "start_time": "2021-07-03T06:35:45.993Z"
   },
   {
    "duration": 18,
    "start_time": "2021-07-03T06:35:57.012Z"
   },
   {
    "duration": 55,
    "start_time": "2021-07-03T06:36:01.244Z"
   },
   {
    "duration": 33,
    "start_time": "2021-07-03T06:36:03.983Z"
   },
   {
    "duration": 455,
    "start_time": "2021-07-03T06:36:18.384Z"
   },
   {
    "duration": 421,
    "start_time": "2021-07-03T06:36:32.841Z"
   },
   {
    "duration": 465,
    "start_time": "2021-07-03T06:36:58.193Z"
   },
   {
    "duration": 494,
    "start_time": "2021-07-03T06:37:52.652Z"
   },
   {
    "duration": 469,
    "start_time": "2021-07-03T06:40:11.073Z"
   },
   {
    "duration": 52,
    "start_time": "2021-07-03T06:41:35.401Z"
   },
   {
    "duration": 25,
    "start_time": "2021-07-03T06:42:06.491Z"
   },
   {
    "duration": 5485,
    "start_time": "2021-07-03T06:42:17.311Z"
   },
   {
    "duration": 78,
    "start_time": "2021-07-03T06:42:31.112Z"
   },
   {
    "duration": 59,
    "start_time": "2021-07-03T06:42:35.251Z"
   },
   {
    "duration": 63,
    "start_time": "2021-07-03T06:42:38.110Z"
   },
   {
    "duration": 46,
    "start_time": "2021-07-03T06:42:41.651Z"
   },
   {
    "duration": 75,
    "start_time": "2021-07-03T06:42:44.122Z"
   },
   {
    "duration": 15,
    "start_time": "2021-07-03T06:42:47.242Z"
   },
   {
    "duration": 18,
    "start_time": "2021-07-03T06:42:49.170Z"
   },
   {
    "duration": 52,
    "start_time": "2021-07-03T06:42:51.950Z"
   },
   {
    "duration": 32,
    "start_time": "2021-07-03T06:42:56.784Z"
   },
   {
    "duration": 31,
    "start_time": "2021-07-03T06:42:59.993Z"
   },
   {
    "duration": 4014,
    "start_time": "2021-07-03T06:43:32.972Z"
   },
   {
    "duration": 76,
    "start_time": "2021-07-03T06:43:54.792Z"
   },
   {
    "duration": 17,
    "start_time": "2021-07-03T06:43:58.978Z"
   },
   {
    "duration": 19,
    "start_time": "2021-07-03T06:44:01.141Z"
   },
   {
    "duration": 54,
    "start_time": "2021-07-03T06:44:03.470Z"
   },
   {
    "duration": 31,
    "start_time": "2021-07-03T06:44:05.670Z"
   },
   {
    "duration": 49,
    "start_time": "2021-07-03T06:44:07.711Z"
   },
   {
    "duration": 768,
    "start_time": "2021-07-03T06:44:15.432Z"
   },
   {
    "duration": 319,
    "start_time": "2021-07-03T06:46:19.544Z"
   },
   {
    "duration": 61,
    "start_time": "2021-07-03T06:46:35.519Z"
   },
   {
    "duration": 47,
    "start_time": "2021-07-03T06:46:38.570Z"
   },
   {
    "duration": 80,
    "start_time": "2021-07-03T06:46:40.550Z"
   },
   {
    "duration": 14,
    "start_time": "2021-07-03T06:46:43.710Z"
   },
   {
    "duration": 18,
    "start_time": "2021-07-03T06:46:46.199Z"
   },
   {
    "duration": 55,
    "start_time": "2021-07-03T06:46:51.102Z"
   },
   {
    "duration": 31,
    "start_time": "2021-07-03T06:46:54.399Z"
   },
   {
    "duration": 379,
    "start_time": "2021-07-03T06:46:57.472Z"
   },
   {
    "duration": 55,
    "start_time": "2021-07-03T06:56:36.359Z"
   },
   {
    "duration": 32,
    "start_time": "2021-07-03T06:57:35.936Z"
   },
   {
    "duration": 313,
    "start_time": "2021-07-03T06:59:02.439Z"
   },
   {
    "duration": 480,
    "start_time": "2021-07-03T07:00:50.396Z"
   },
   {
    "duration": 1399,
    "start_time": "2021-07-03T07:01:11.187Z"
   },
   {
    "duration": 82,
    "start_time": "2021-07-03T07:01:46.930Z"
   },
   {
    "duration": 445,
    "start_time": "2021-07-03T07:02:16.703Z"
   },
   {
    "duration": 394,
    "start_time": "2021-07-03T07:02:49.941Z"
   },
   {
    "duration": 1679,
    "start_time": "2021-07-03T07:05:25.561Z"
   },
   {
    "duration": 579,
    "start_time": "2021-07-03T07:07:37.070Z"
   },
   {
    "duration": 381,
    "start_time": "2021-07-03T07:08:11.995Z"
   },
   {
    "duration": 105,
    "start_time": "2021-07-03T07:09:29.651Z"
   },
   {
    "duration": 395,
    "start_time": "2021-07-03T07:10:06.577Z"
   },
   {
    "duration": 1319,
    "start_time": "2021-07-03T07:11:22.367Z"
   },
   {
    "duration": 1475,
    "start_time": "2021-07-03T07:12:43.640Z"
   },
   {
    "duration": 1500,
    "start_time": "2021-07-03T07:12:55.318Z"
   },
   {
    "duration": 401,
    "start_time": "2021-07-03T07:13:10.049Z"
   },
   {
    "duration": 78,
    "start_time": "2021-07-03T07:27:04.957Z"
   },
   {
    "duration": 61,
    "start_time": "2021-07-03T07:27:07.867Z"
   },
   {
    "duration": 48,
    "start_time": "2021-07-03T07:27:10.875Z"
   },
   {
    "duration": 75,
    "start_time": "2021-07-03T07:27:13.076Z"
   },
   {
    "duration": 15,
    "start_time": "2021-07-03T07:27:15.756Z"
   },
   {
    "duration": 22,
    "start_time": "2021-07-03T07:27:17.435Z"
   },
   {
    "duration": 55,
    "start_time": "2021-07-03T07:27:19.635Z"
   },
   {
    "duration": 32,
    "start_time": "2021-07-03T07:27:21.548Z"
   },
   {
    "duration": 55,
    "start_time": "2021-07-03T07:27:23.836Z"
   },
   {
    "duration": 3,
    "start_time": "2021-07-03T07:27:40.836Z"
   },
   {
    "duration": 541,
    "start_time": "2021-07-03T07:27:49.455Z"
   },
   {
    "duration": 55,
    "start_time": "2021-07-03T07:30:23.466Z"
   },
   {
    "duration": 312,
    "start_time": "2021-07-03T07:31:02.836Z"
   },
   {
    "duration": 521,
    "start_time": "2021-07-03T07:31:28.306Z"
   },
   {
    "duration": 651,
    "start_time": "2021-07-03T08:05:00.227Z"
   },
   {
    "duration": 683,
    "start_time": "2021-07-03T08:06:02.780Z"
   },
   {
    "duration": 401,
    "start_time": "2021-07-03T08:06:13.472Z"
   },
   {
    "duration": 368,
    "start_time": "2021-07-03T08:06:41.113Z"
   },
   {
    "duration": 77,
    "start_time": "2021-07-03T08:07:34.611Z"
   },
   {
    "duration": 98,
    "start_time": "2021-07-03T08:09:19.940Z"
   },
   {
    "duration": 86,
    "start_time": "2021-07-03T08:10:19.191Z"
   },
   {
    "duration": 117,
    "start_time": "2021-07-03T08:10:59.937Z"
   },
   {
    "duration": 76,
    "start_time": "2021-07-03T08:12:49.651Z"
   },
   {
    "duration": 416,
    "start_time": "2021-07-03T08:13:01.152Z"
   },
   {
    "duration": 78,
    "start_time": "2021-07-03T08:13:20.636Z"
   },
   {
    "duration": 517,
    "start_time": "2021-07-03T08:18:44.859Z"
   },
   {
    "duration": 417,
    "start_time": "2021-07-03T08:18:58.540Z"
   },
   {
    "duration": 395,
    "start_time": "2021-07-03T08:19:58.252Z"
   },
   {
    "duration": 400,
    "start_time": "2021-07-03T08:22:11.712Z"
   },
   {
    "duration": 382,
    "start_time": "2021-07-03T08:22:32.711Z"
   },
   {
    "duration": 486,
    "start_time": "2021-07-03T08:22:40.272Z"
   },
   {
    "duration": 407,
    "start_time": "2021-07-03T08:22:58.974Z"
   },
   {
    "duration": 853,
    "start_time": "2021-07-03T08:23:18.211Z"
   },
   {
    "duration": 573,
    "start_time": "2021-07-03T08:23:54.952Z"
   },
   {
    "duration": 79,
    "start_time": "2021-07-03T08:24:07.027Z"
   },
   {
    "duration": 80,
    "start_time": "2021-07-03T08:24:26.812Z"
   },
   {
    "duration": 84,
    "start_time": "2021-07-03T08:24:35.973Z"
   },
   {
    "duration": 92,
    "start_time": "2021-07-03T08:26:08.099Z"
   },
   {
    "duration": 2152,
    "start_time": "2021-07-03T08:32:42.852Z"
   },
   {
    "duration": 79,
    "start_time": "2021-07-03T08:36:25.909Z"
   },
   {
    "duration": 85,
    "start_time": "2021-07-03T08:37:15.067Z"
   },
   {
    "duration": 73,
    "start_time": "2021-07-03T08:38:05.312Z"
   },
   {
    "duration": 61,
    "start_time": "2021-07-03T08:38:08.651Z"
   },
   {
    "duration": 48,
    "start_time": "2021-07-03T08:38:11.552Z"
   },
   {
    "duration": 78,
    "start_time": "2021-07-03T08:38:14.130Z"
   },
   {
    "duration": 14,
    "start_time": "2021-07-03T08:38:17.051Z"
   },
   {
    "duration": 18,
    "start_time": "2021-07-03T08:38:19.583Z"
   },
   {
    "duration": 53,
    "start_time": "2021-07-03T08:38:21.911Z"
   },
   {
    "duration": 30,
    "start_time": "2021-07-03T08:38:24.119Z"
   },
   {
    "duration": 57,
    "start_time": "2021-07-03T08:38:32.303Z"
   },
   {
    "duration": 24,
    "start_time": "2021-07-03T08:40:55.603Z"
   },
   {
    "duration": 6,
    "start_time": "2021-07-03T08:41:45.083Z"
   },
   {
    "duration": 231,
    "start_time": "2021-07-03T08:43:04.916Z"
   },
   {
    "duration": 256,
    "start_time": "2021-07-03T08:43:28.044Z"
   },
   {
    "duration": 259,
    "start_time": "2021-07-03T08:44:32.580Z"
   },
   {
    "duration": 75,
    "start_time": "2021-07-03T08:44:58.428Z"
   },
   {
    "duration": 61,
    "start_time": "2021-07-03T08:45:03.892Z"
   },
   {
    "duration": 62,
    "start_time": "2021-07-03T08:45:06.544Z"
   },
   {
    "duration": 47,
    "start_time": "2021-07-03T08:45:09.431Z"
   },
   {
    "duration": 78,
    "start_time": "2021-07-03T08:45:11.813Z"
   },
   {
    "duration": 15,
    "start_time": "2021-07-03T08:45:17.283Z"
   },
   {
    "duration": 20,
    "start_time": "2021-07-03T08:45:23.931Z"
   },
   {
    "duration": 53,
    "start_time": "2021-07-03T08:45:28.884Z"
   },
   {
    "duration": 31,
    "start_time": "2021-07-03T08:45:38.964Z"
   },
   {
    "duration": 48,
    "start_time": "2021-07-03T08:45:45.293Z"
   },
   {
    "duration": 21,
    "start_time": "2021-07-03T08:45:49.831Z"
   },
   {
    "duration": 256,
    "start_time": "2021-07-03T08:45:54.031Z"
   },
   {
    "duration": 74,
    "start_time": "2021-07-03T08:50:36.888Z"
   },
   {
    "duration": 56,
    "start_time": "2021-07-03T08:50:40.241Z"
   },
   {
    "duration": 61,
    "start_time": "2021-07-03T08:50:43.341Z"
   },
   {
    "duration": 49,
    "start_time": "2021-07-03T08:50:45.864Z"
   },
   {
    "duration": 81,
    "start_time": "2021-07-03T08:50:48.953Z"
   },
   {
    "duration": 16,
    "start_time": "2021-07-03T08:50:54.279Z"
   },
   {
    "duration": 18,
    "start_time": "2021-07-03T08:50:56.021Z"
   },
   {
    "duration": 84,
    "start_time": "2021-07-03T08:50:57.959Z"
   },
   {
    "duration": 28,
    "start_time": "2021-07-03T08:51:10.752Z"
   },
   {
    "duration": 48,
    "start_time": "2021-07-03T08:51:14.424Z"
   },
   {
    "duration": 21,
    "start_time": "2021-07-03T08:51:18.684Z"
   },
   {
    "duration": 253,
    "start_time": "2021-07-03T08:51:23.072Z"
   },
   {
    "duration": 8,
    "start_time": "2021-07-03T08:52:42.252Z"
   },
   {
    "duration": 16,
    "start_time": "2021-07-03T08:54:35.172Z"
   },
   {
    "duration": 395,
    "start_time": "2021-07-03T08:56:18.317Z"
   },
   {
    "duration": 348,
    "start_time": "2021-07-03T08:58:34.154Z"
   },
   {
    "duration": 457,
    "start_time": "2021-07-03T09:00:06.067Z"
   },
   {
    "duration": 260,
    "start_time": "2021-07-03T09:01:19.271Z"
   },
   {
    "duration": 258,
    "start_time": "2021-07-03T09:01:46.532Z"
   },
   {
    "duration": 277,
    "start_time": "2021-07-03T09:02:46.103Z"
   },
   {
    "duration": 135,
    "start_time": "2021-07-03T09:02:56.658Z"
   },
   {
    "duration": 38,
    "start_time": "2021-07-03T09:03:59.749Z"
   },
   {
    "duration": 108,
    "start_time": "2021-07-03T09:05:27.912Z"
   },
   {
    "duration": 450,
    "start_time": "2021-07-03T09:05:35.801Z"
   },
   {
    "duration": 325,
    "start_time": "2021-07-03T09:09:03.319Z"
   },
   {
    "duration": 66,
    "start_time": "2021-07-03T09:09:34.120Z"
   },
   {
    "duration": 389,
    "start_time": "2021-07-03T09:10:36.699Z"
   },
   {
    "duration": 391,
    "start_time": "2021-07-03T09:10:55.200Z"
   },
   {
    "duration": 73,
    "start_time": "2021-07-03T09:11:20.189Z"
   },
   {
    "duration": 54,
    "start_time": "2021-07-03T09:11:22.751Z"
   },
   {
    "duration": 62,
    "start_time": "2021-07-03T09:11:25.210Z"
   },
   {
    "duration": 53,
    "start_time": "2021-07-03T09:11:28.371Z"
   },
   {
    "duration": 156,
    "start_time": "2021-07-03T09:11:30.930Z"
   },
   {
    "duration": 14,
    "start_time": "2021-07-03T09:11:33.718Z"
   },
   {
    "duration": 18,
    "start_time": "2021-07-03T09:11:35.707Z"
   },
   {
    "duration": 56,
    "start_time": "2021-07-03T09:11:38.518Z"
   },
   {
    "duration": 6675,
    "start_time": "2021-07-03T09:11:41.371Z"
   },
   {
    "duration": 30,
    "start_time": "2021-07-03T09:12:13.799Z"
   },
   {
    "duration": 46,
    "start_time": "2021-07-03T09:12:16.106Z"
   },
   {
    "duration": 20,
    "start_time": "2021-07-03T09:12:19.599Z"
   },
   {
    "duration": 270,
    "start_time": "2021-07-03T09:12:23.850Z"
   },
   {
    "duration": 367,
    "start_time": "2021-07-03T09:12:32.439Z"
   },
   {
    "duration": 95,
    "start_time": "2021-07-03T09:13:22.191Z"
   },
   {
    "duration": 96,
    "start_time": "2021-07-03T09:55:29.694Z"
   },
   {
    "duration": 72,
    "start_time": "2021-07-03T09:59:04.177Z"
   },
   {
    "duration": 384,
    "start_time": "2021-07-03T09:59:23.007Z"
   },
   {
    "duration": 792,
    "start_time": "2021-07-03T10:01:03.843Z"
   },
   {
    "duration": 342,
    "start_time": "2021-07-03T10:02:47.781Z"
   },
   {
    "duration": 372,
    "start_time": "2021-07-03T10:03:19.282Z"
   },
   {
    "duration": 142,
    "start_time": "2021-07-03T10:03:45.172Z"
   },
   {
    "duration": 262,
    "start_time": "2021-07-03T10:14:29.036Z"
   },
   {
    "duration": 268,
    "start_time": "2021-07-03T10:15:59.295Z"
   },
   {
    "duration": 29,
    "start_time": "2021-07-04T08:12:40.222Z"
   },
   {
    "duration": 50,
    "start_time": "2021-07-04T08:13:38.378Z"
   },
   {
    "duration": 39,
    "start_time": "2021-07-04T08:13:47.469Z"
   },
   {
    "duration": 43,
    "start_time": "2021-07-04T08:13:51.044Z"
   },
   {
    "duration": 37,
    "start_time": "2021-07-04T08:13:56.843Z"
   },
   {
    "duration": 45,
    "start_time": "2021-07-04T08:14:00.215Z"
   },
   {
    "duration": 9,
    "start_time": "2021-07-04T08:14:03.552Z"
   },
   {
    "duration": 11,
    "start_time": "2021-07-04T08:14:11.636Z"
   },
   {
    "duration": 30,
    "start_time": "2021-07-04T08:14:21.914Z"
   },
   {
    "duration": 4466,
    "start_time": "2021-07-04T08:14:37.576Z"
   },
   {
    "duration": 17,
    "start_time": "2021-07-04T08:18:23.158Z"
   },
   {
    "duration": 30,
    "start_time": "2021-07-04T08:18:30.383Z"
   },
   {
    "duration": 17,
    "start_time": "2021-07-04T08:18:38.234Z"
   },
   {
    "duration": 118,
    "start_time": "2021-07-04T08:19:00.316Z"
   },
   {
    "duration": 85,
    "start_time": "2021-07-04T08:20:01.123Z"
   },
   {
    "duration": 101,
    "start_time": "2021-07-04T08:20:45.854Z"
   },
   {
    "duration": 252,
    "start_time": "2021-07-04T08:22:32.059Z"
   },
   {
    "duration": 91,
    "start_time": "2021-07-04T08:23:02.823Z"
   },
   {
    "duration": 62,
    "start_time": "2021-07-04T08:23:21.839Z"
   },
   {
    "duration": 65,
    "start_time": "2021-07-04T08:24:30.799Z"
   },
   {
    "duration": 65,
    "start_time": "2021-07-04T08:25:27.225Z"
   },
   {
    "duration": 286,
    "start_time": "2021-07-04T08:25:39.343Z"
   },
   {
    "duration": 66,
    "start_time": "2021-07-04T08:26:19.788Z"
   },
   {
    "duration": 273,
    "start_time": "2021-07-04T15:48:50.127Z"
   },
   {
    "duration": 1029,
    "start_time": "2021-07-04T15:48:54.895Z"
   },
   {
    "duration": 48,
    "start_time": "2021-07-04T15:49:00.125Z"
   },
   {
    "duration": 43,
    "start_time": "2021-07-04T15:49:02.361Z"
   },
   {
    "duration": 36,
    "start_time": "2021-07-04T15:49:05.217Z"
   },
   {
    "duration": 46,
    "start_time": "2021-07-04T15:49:08.167Z"
   },
   {
    "duration": 9,
    "start_time": "2021-07-04T15:49:14.356Z"
   },
   {
    "duration": 11,
    "start_time": "2021-07-04T15:49:17.199Z"
   },
   {
    "duration": 30,
    "start_time": "2021-07-04T15:49:20.272Z"
   },
   {
    "duration": 326,
    "start_time": "2021-07-04T15:49:22.738Z"
   },
   {
    "duration": 14,
    "start_time": "2021-07-04T15:50:51.468Z"
   },
   {
    "duration": 6452,
    "start_time": "2021-07-04T15:52:28.020Z"
   },
   {
    "duration": 17,
    "start_time": "2021-07-04T15:53:59.901Z"
   },
   {
    "duration": 50,
    "start_time": "2021-07-04T15:54:10.839Z"
   },
   {
    "duration": 40,
    "start_time": "2021-07-04T15:54:14.680Z"
   },
   {
    "duration": 43,
    "start_time": "2021-07-04T15:54:17.545Z"
   },
   {
    "duration": 34,
    "start_time": "2021-07-04T15:54:21.398Z"
   },
   {
    "duration": 42,
    "start_time": "2021-07-04T15:54:24.483Z"
   },
   {
    "duration": 10,
    "start_time": "2021-07-04T15:54:28.433Z"
   },
   {
    "duration": 12,
    "start_time": "2021-07-04T15:54:34.463Z"
   },
   {
    "duration": 16,
    "start_time": "2021-07-04T15:54:41.064Z"
   },
   {
    "duration": 14,
    "start_time": "2021-07-04T15:55:13.449Z"
   },
   {
    "duration": 50,
    "start_time": "2021-07-04T15:55:42.195Z"
   },
   {
    "duration": 42,
    "start_time": "2021-07-04T15:55:45.970Z"
   },
   {
    "duration": 45,
    "start_time": "2021-07-04T15:55:49.951Z"
   },
   {
    "duration": 37,
    "start_time": "2021-07-04T15:55:53.472Z"
   },
   {
    "duration": 41,
    "start_time": "2021-07-04T15:55:58.964Z"
   },
   {
    "duration": 9,
    "start_time": "2021-07-04T15:56:04.942Z"
   },
   {
    "duration": 12,
    "start_time": "2021-07-04T15:56:10.602Z"
   },
   {
    "duration": 29,
    "start_time": "2021-07-04T15:56:15.197Z"
   },
   {
    "duration": 16,
    "start_time": "2021-07-04T15:56:37.509Z"
   },
   {
    "duration": 24,
    "start_time": "2021-07-04T15:57:26.025Z"
   },
   {
    "duration": 4,
    "start_time": "2021-07-04T15:57:36.963Z"
   },
   {
    "duration": 18,
    "start_time": "2021-07-04T15:57:48.583Z"
   },
   {
    "duration": 241,
    "start_time": "2021-07-04T15:58:06.135Z"
   },
   {
    "duration": 25,
    "start_time": "2021-07-04T15:58:22.340Z"
   },
   {
    "duration": 13,
    "start_time": "2021-07-04T15:58:53.717Z"
   },
   {
    "duration": 3,
    "start_time": "2021-07-04T16:00:02.769Z"
   },
   {
    "duration": 130,
    "start_time": "2021-07-04T16:01:02.842Z"
   },
   {
    "duration": 1208,
    "start_time": "2021-07-04T16:01:30.590Z"
   },
   {
    "duration": 350,
    "start_time": "2021-07-04T16:02:17.852Z"
   },
   {
    "duration": 264,
    "start_time": "2021-07-04T16:07:58.782Z"
   },
   {
    "duration": 6,
    "start_time": "2021-07-04T16:09:20.067Z"
   },
   {
    "duration": 22,
    "start_time": "2021-07-04T16:10:00.439Z"
   },
   {
    "duration": 71,
    "start_time": "2021-07-04T16:10:40.020Z"
   },
   {
    "duration": 55951,
    "start_time": "2021-07-04T16:49:44.646Z"
   },
   {
    "duration": 17,
    "start_time": "2021-07-04T16:58:28.666Z"
   },
   {
    "duration": 17,
    "start_time": "2021-07-04T16:58:46.591Z"
   },
   {
    "duration": 25,
    "start_time": "2021-07-04T16:58:54.632Z"
   },
   {
    "duration": 14,
    "start_time": "2021-07-04T16:59:05.135Z"
   },
   {
    "duration": 22,
    "start_time": "2021-07-04T16:59:16.713Z"
   },
   {
    "duration": 129403,
    "start_time": "2021-07-04T17:00:28.963Z"
   },
   {
    "duration": 137322,
    "start_time": "2021-07-04T17:07:34.469Z"
   },
   {
    "duration": 356,
    "start_time": "2021-07-04T17:09:51.793Z"
   },
   {
    "duration": 126953,
    "start_time": "2021-07-04T17:10:45.247Z"
   },
   {
    "duration": 130059,
    "start_time": "2021-07-04T17:16:04.791Z"
   },
   {
    "duration": 270,
    "start_time": "2021-07-04T17:19:48.823Z"
   },
   {
    "duration": 316,
    "start_time": "2021-07-04T17:23:52.664Z"
   },
   {
    "duration": 324,
    "start_time": "2021-07-04T17:25:34.186Z"
   },
   {
    "duration": 295,
    "start_time": "2021-07-04T17:37:18.768Z"
   },
   {
    "duration": 251,
    "start_time": "2021-07-04T17:43:09.000Z"
   },
   {
    "duration": 377,
    "start_time": "2021-07-04T17:44:23.181Z"
   },
   {
    "duration": 432,
    "start_time": "2021-07-04T17:45:06.825Z"
   },
   {
    "duration": 306,
    "start_time": "2021-07-04T17:48:04.661Z"
   },
   {
    "duration": 275,
    "start_time": "2021-07-04T17:48:43.792Z"
   },
   {
    "duration": 249,
    "start_time": "2021-07-04T17:49:33.709Z"
   },
   {
    "duration": 260,
    "start_time": "2021-07-04T17:50:36.005Z"
   },
   {
    "duration": 301,
    "start_time": "2021-07-04T17:51:39.661Z"
   },
   {
    "duration": 20,
    "start_time": "2021-07-04T18:12:15.684Z"
   },
   {
    "duration": 22,
    "start_time": "2021-07-04T18:12:57.705Z"
   },
   {
    "duration": 56,
    "start_time": "2021-07-04T18:13:19.838Z"
   },
   {
    "duration": 46,
    "start_time": "2021-07-04T18:13:23.918Z"
   },
   {
    "duration": 44,
    "start_time": "2021-07-04T18:13:26.876Z"
   },
   {
    "duration": 35,
    "start_time": "2021-07-04T18:13:30.048Z"
   },
   {
    "duration": 48,
    "start_time": "2021-07-04T18:13:32.424Z"
   },
   {
    "duration": 9,
    "start_time": "2021-07-04T18:13:39.329Z"
   },
   {
    "duration": 11,
    "start_time": "2021-07-04T18:13:42.069Z"
   },
   {
    "duration": 31,
    "start_time": "2021-07-04T18:13:45.900Z"
   },
   {
    "duration": 16,
    "start_time": "2021-07-04T18:13:51.461Z"
   },
   {
    "duration": 26,
    "start_time": "2021-07-04T18:14:05.708Z"
   },
   {
    "duration": 15,
    "start_time": "2021-07-04T18:14:18.836Z"
   },
   {
    "duration": 25,
    "start_time": "2021-07-04T18:14:52.881Z"
   },
   {
    "duration": 122745,
    "start_time": "2021-07-04T18:15:24.304Z"
   },
   {
    "duration": 1278,
    "start_time": "2021-07-04T18:17:33.636Z"
   },
   {
    "duration": 255,
    "start_time": "2021-07-04T18:17:47.102Z"
   },
   {
    "duration": 448,
    "start_time": "2021-07-04T18:21:03.376Z"
   },
   {
    "duration": 949,
    "start_time": "2021-07-04T18:21:38.110Z"
   },
   {
    "duration": 1019,
    "start_time": "2021-07-04T18:21:55.263Z"
   },
   {
    "duration": 489,
    "start_time": "2021-07-04T18:22:14.672Z"
   },
   {
    "duration": 82,
    "start_time": "2021-07-04T18:22:28.280Z"
   },
   {
    "duration": 74,
    "start_time": "2021-07-04T18:22:42.967Z"
   },
   {
    "duration": 118,
    "start_time": "2021-07-04T18:23:49.475Z"
   },
   {
    "duration": 89,
    "start_time": "2021-07-04T18:24:06.485Z"
   },
   {
    "duration": 52,
    "start_time": "2021-07-04T18:26:14.272Z"
   },
   {
    "duration": 41,
    "start_time": "2021-07-04T18:26:18.103Z"
   },
   {
    "duration": 44,
    "start_time": "2021-07-04T18:26:21.394Z"
   },
   {
    "duration": 37,
    "start_time": "2021-07-04T18:26:24.312Z"
   },
   {
    "duration": 48,
    "start_time": "2021-07-04T18:26:27.531Z"
   },
   {
    "duration": 11,
    "start_time": "2021-07-04T18:26:30.742Z"
   },
   {
    "duration": 14,
    "start_time": "2021-07-04T18:26:36.031Z"
   },
   {
    "duration": 36,
    "start_time": "2021-07-04T18:26:39.942Z"
   },
   {
    "duration": 16,
    "start_time": "2021-07-04T18:26:53.171Z"
   },
   {
    "duration": 16,
    "start_time": "2021-07-04T18:27:09.455Z"
   },
   {
    "duration": 27,
    "start_time": "2021-07-04T18:27:14.430Z"
   },
   {
    "duration": 81,
    "start_time": "2021-07-04T18:27:40.587Z"
   },
   {
    "duration": 108,
    "start_time": "2021-07-04T18:27:51.071Z"
   },
   {
    "duration": 93,
    "start_time": "2021-07-04T18:28:56.101Z"
   },
   {
    "duration": 89,
    "start_time": "2021-07-04T18:29:30.790Z"
   },
   {
    "duration": 88,
    "start_time": "2021-07-04T18:33:44.989Z"
   },
   {
    "duration": 90,
    "start_time": "2021-07-04T18:33:54.982Z"
   },
   {
    "duration": 53,
    "start_time": "2021-07-04T18:34:09.302Z"
   },
   {
    "duration": 40,
    "start_time": "2021-07-04T18:34:17.940Z"
   },
   {
    "duration": 45,
    "start_time": "2021-07-04T18:34:22.157Z"
   },
   {
    "duration": 36,
    "start_time": "2021-07-04T18:34:25.461Z"
   },
   {
    "duration": 44,
    "start_time": "2021-07-04T18:34:28.310Z"
   },
   {
    "duration": 12,
    "start_time": "2021-07-04T18:34:32.643Z"
   },
   {
    "duration": 12,
    "start_time": "2021-07-04T18:34:35.076Z"
   },
   {
    "duration": 31,
    "start_time": "2021-07-04T18:34:37.900Z"
   },
   {
    "duration": 20,
    "start_time": "2021-07-04T18:34:40.942Z"
   },
   {
    "duration": 26,
    "start_time": "2021-07-04T18:34:44.909Z"
   },
   {
    "duration": 14,
    "start_time": "2021-07-04T18:34:48.864Z"
   },
   {
    "duration": 100,
    "start_time": "2021-07-04T18:34:54.615Z"
   },
   {
    "duration": 111,
    "start_time": "2021-07-04T18:35:00.350Z"
   },
   {
    "duration": 57,
    "start_time": "2021-07-04T18:36:16.029Z"
   },
   {
    "duration": 41,
    "start_time": "2021-07-04T18:36:19.074Z"
   },
   {
    "duration": 44,
    "start_time": "2021-07-04T18:36:21.761Z"
   },
   {
    "duration": 39,
    "start_time": "2021-07-04T18:36:24.713Z"
   },
   {
    "duration": 45,
    "start_time": "2021-07-04T18:36:27.069Z"
   },
   {
    "duration": 9,
    "start_time": "2021-07-04T18:36:29.602Z"
   },
   {
    "duration": 11,
    "start_time": "2021-07-04T18:36:31.282Z"
   },
   {
    "duration": 31,
    "start_time": "2021-07-04T18:36:33.275Z"
   },
   {
    "duration": 17,
    "start_time": "2021-07-04T18:36:35.068Z"
   },
   {
    "duration": 28,
    "start_time": "2021-07-04T18:36:38.391Z"
   },
   {
    "duration": 14,
    "start_time": "2021-07-04T18:36:44.103Z"
   },
   {
    "duration": 110,
    "start_time": "2021-07-04T18:36:50.732Z"
   },
   {
    "duration": 23,
    "start_time": "2021-07-04T18:37:25.581Z"
   },
   {
    "duration": 4,
    "start_time": "2021-07-04T18:37:40.460Z"
   },
   {
    "duration": 1121,
    "start_time": "2021-07-04T18:38:08.476Z"
   },
   {
    "duration": 266,
    "start_time": "2021-07-04T18:38:21.342Z"
   },
   {
    "duration": 268,
    "start_time": "2021-07-04T18:40:28.970Z"
   },
   {
    "duration": 269,
    "start_time": "2021-07-04T18:42:18.200Z"
   },
   {
    "duration": 261,
    "start_time": "2021-07-04T18:43:06.532Z"
   },
   {
    "duration": 42,
    "start_time": "2021-07-04T18:43:36.516Z"
   },
   {
    "duration": 112,
    "start_time": "2021-07-04T18:49:00.140Z"
   },
   {
    "duration": 105,
    "start_time": "2021-07-04T18:49:01.961Z"
   },
   {
    "duration": 105,
    "start_time": "2021-07-04T18:50:13.367Z"
   },
   {
    "duration": 102,
    "start_time": "2021-07-04T18:50:32.070Z"
   },
   {
    "duration": 297,
    "start_time": "2021-07-04T18:50:40.158Z"
   },
   {
    "duration": 292,
    "start_time": "2021-07-04T18:50:49.249Z"
   },
   {
    "duration": 265,
    "start_time": "2021-07-04T18:50:55.234Z"
   },
   {
    "duration": 225,
    "start_time": "2021-07-04T18:51:03.187Z"
   },
   {
    "duration": 182,
    "start_time": "2021-07-04T18:51:09.800Z"
   },
   {
    "duration": 1136,
    "start_time": "2021-07-04T18:52:30.679Z"
   },
   {
    "duration": 228,
    "start_time": "2021-07-04T18:52:38.866Z"
   },
   {
    "duration": 33661,
    "start_time": "2021-07-04T19:06:16.241Z"
   },
   {
    "duration": 89273,
    "start_time": "2021-07-04T19:07:58.613Z"
   },
   {
    "duration": 417505,
    "start_time": "2021-07-04T19:10:31.364Z"
   },
   {
    "duration": 20,
    "start_time": "2021-07-04T19:18:31.158Z"
   },
   {
    "duration": 20,
    "start_time": "2021-07-04T19:18:32.506Z"
   },
   {
    "duration": 20,
    "start_time": "2021-07-04T19:20:03.009Z"
   },
   {
    "duration": 19,
    "start_time": "2021-07-04T19:21:38.634Z"
   },
   {
    "duration": 244,
    "start_time": "2021-07-04T19:21:49.740Z"
   },
   {
    "duration": 154,
    "start_time": "2021-07-04T19:21:59.324Z"
   },
   {
    "duration": 158,
    "start_time": "2021-07-04T19:22:18.488Z"
   },
   {
    "duration": 1165,
    "start_time": "2021-07-05T09:49:19.452Z"
   },
   {
    "duration": 39,
    "start_time": "2021-07-05T09:49:25.687Z"
   },
   {
    "duration": 42,
    "start_time": "2021-07-05T09:49:28.646Z"
   },
   {
    "duration": 35,
    "start_time": "2021-07-05T09:49:31.733Z"
   },
   {
    "duration": 44,
    "start_time": "2021-07-05T09:49:34.911Z"
   },
   {
    "duration": 9,
    "start_time": "2021-07-05T09:49:38.127Z"
   },
   {
    "duration": 11,
    "start_time": "2021-07-05T09:49:41.703Z"
   },
   {
    "duration": 29,
    "start_time": "2021-07-05T09:49:45.263Z"
   },
   {
    "duration": 18,
    "start_time": "2021-07-05T09:49:47.288Z"
   },
   {
    "duration": 26,
    "start_time": "2021-07-05T09:49:49.214Z"
   },
   {
    "duration": 16,
    "start_time": "2021-07-05T09:49:52.131Z"
   },
   {
    "duration": 97,
    "start_time": "2021-07-05T09:49:55.294Z"
   },
   {
    "duration": 22,
    "start_time": "2021-07-05T09:49:59.827Z"
   },
   {
    "duration": 2,
    "start_time": "2021-07-05T09:50:02.621Z"
   },
   {
    "duration": 401517,
    "start_time": "2021-07-05T09:50:04.479Z"
   },
   {
    "duration": 20,
    "start_time": "2021-07-05T09:57:47.112Z"
   },
   {
    "duration": 143,
    "start_time": "2021-07-05T10:02:21.821Z"
   },
   {
    "duration": 430,
    "start_time": "2021-07-05T10:02:43.919Z"
   },
   {
    "duration": 670,
    "start_time": "2021-07-05T10:03:16.095Z"
   },
   {
    "duration": 270,
    "start_time": "2021-07-05T10:04:36.791Z"
   },
   {
    "duration": 1709,
    "start_time": "2021-07-05T10:05:01.016Z"
   },
   {
    "duration": 2311,
    "start_time": "2021-07-05T10:05:20.984Z"
   },
   {
    "duration": 116,
    "start_time": "2021-07-05T10:10:51.547Z"
   },
   {
    "duration": 3124,
    "start_time": "2021-07-05T10:11:10.612Z"
   },
   {
    "duration": 3418,
    "start_time": "2021-07-05T10:11:34.599Z"
   },
   {
    "duration": 2517,
    "start_time": "2021-07-05T10:12:43.677Z"
   },
   {
    "duration": 18,
    "start_time": "2021-07-05T10:24:39.273Z"
   },
   {
    "duration": 23,
    "start_time": "2021-07-05T10:24:40.281Z"
   },
   {
    "duration": 19,
    "start_time": "2021-07-05T10:24:46.190Z"
   },
   {
    "duration": 252,
    "start_time": "2021-07-05T10:24:52.704Z"
   },
   {
    "duration": 18,
    "start_time": "2021-07-05T10:25:07.388Z"
   },
   {
    "duration": 19,
    "start_time": "2021-07-05T10:25:15.800Z"
   },
   {
    "duration": 20,
    "start_time": "2021-07-05T10:25:22.716Z"
   },
   {
    "duration": 290,
    "start_time": "2021-07-05T10:26:08.768Z"
   },
   {
    "duration": 20,
    "start_time": "2021-07-05T10:29:16.981Z"
   },
   {
    "duration": 18,
    "start_time": "2021-07-05T10:29:29.661Z"
   },
   {
    "duration": 19,
    "start_time": "2021-07-05T10:29:36.223Z"
   },
   {
    "duration": 18,
    "start_time": "2021-07-05T10:29:50.763Z"
   },
   {
    "duration": 226,
    "start_time": "2021-07-05T10:31:44.455Z"
   },
   {
    "duration": 383101,
    "start_time": "2021-07-05T10:31:53.676Z"
   },
   {
    "duration": 21,
    "start_time": "2021-07-05T10:38:16.778Z"
   },
   {
    "duration": 229,
    "start_time": "2021-07-05T10:44:59.309Z"
   },
   {
    "duration": 3066,
    "start_time": "2021-07-05T10:45:27.362Z"
   },
   {
    "duration": 3020,
    "start_time": "2021-07-05T10:45:55.983Z"
   },
   {
    "duration": 9351,
    "start_time": "2021-07-05T10:46:51.678Z"
   },
   {
    "duration": 11897,
    "start_time": "2021-07-05T10:56:22.892Z"
   },
   {
    "duration": 9418,
    "start_time": "2021-07-05T10:57:41.595Z"
   },
   {
    "duration": 9483,
    "start_time": "2021-07-05T10:58:20.534Z"
   },
   {
    "duration": 47,
    "start_time": "2021-07-05T13:31:51.916Z"
   },
   {
    "duration": 49,
    "start_time": "2021-07-05T13:32:17.088Z"
   },
   {
    "duration": 1312,
    "start_time": "2021-07-05T13:57:06.519Z"
   },
   {
    "duration": 47,
    "start_time": "2021-07-05T13:57:11.311Z"
   },
   {
    "duration": 52,
    "start_time": "2021-07-05T13:57:15.574Z"
   },
   {
    "duration": 36,
    "start_time": "2021-07-05T13:57:18.425Z"
   },
   {
    "duration": 44,
    "start_time": "2021-07-05T13:57:21.107Z"
   },
   {
    "duration": 12,
    "start_time": "2021-07-05T13:57:23.305Z"
   },
   {
    "duration": 20,
    "start_time": "2021-07-05T13:57:25.397Z"
   },
   {
    "duration": 29,
    "start_time": "2021-07-05T13:57:27.537Z"
   },
   {
    "duration": 18,
    "start_time": "2021-07-05T13:57:29.933Z"
   },
   {
    "duration": 31,
    "start_time": "2021-07-05T13:57:33.227Z"
   },
   {
    "duration": 17,
    "start_time": "2021-07-05T13:57:36.078Z"
   },
   {
    "duration": 104,
    "start_time": "2021-07-05T13:57:39.306Z"
   },
   {
    "duration": 95,
    "start_time": "2021-07-05T13:57:51.996Z"
   },
   {
    "duration": 311,
    "start_time": "2021-07-05T14:01:06.640Z"
   },
   {
    "duration": 10,
    "start_time": "2021-07-05T14:03:08.868Z"
   },
   {
    "duration": 137446,
    "start_time": "2021-07-05T14:03:41.056Z"
   },
   {
    "duration": 1110,
    "start_time": "2021-07-05T14:07:42.903Z"
   },
   {
    "duration": 41,
    "start_time": "2021-07-05T14:07:47.107Z"
   },
   {
    "duration": 48,
    "start_time": "2021-07-05T14:07:51.540Z"
   },
   {
    "duration": 36,
    "start_time": "2021-07-05T14:07:54.201Z"
   },
   {
    "duration": 49,
    "start_time": "2021-07-05T14:07:56.583Z"
   },
   {
    "duration": 10,
    "start_time": "2021-07-05T14:07:59.453Z"
   },
   {
    "duration": 13,
    "start_time": "2021-07-05T14:08:02.082Z"
   },
   {
    "duration": 33,
    "start_time": "2021-07-05T14:08:04.771Z"
   },
   {
    "duration": 20,
    "start_time": "2021-07-05T14:08:09.396Z"
   },
   {
    "duration": 26,
    "start_time": "2021-07-05T14:08:21.132Z"
   },
   {
    "duration": 25,
    "start_time": "2021-07-05T14:08:27.022Z"
   },
   {
    "duration": 107,
    "start_time": "2021-07-05T14:08:39.542Z"
   },
   {
    "duration": 11,
    "start_time": "2021-07-05T14:08:44.529Z"
   },
   {
    "duration": 343691,
    "start_time": "2021-07-05T14:08:46.596Z"
   },
   {
    "duration": 583,
    "start_time": "2021-07-05T14:14:30.296Z"
   },
   {
    "duration": 816,
    "start_time": "2021-07-05T14:14:30.065Z"
   },
   {
    "duration": 222,
    "start_time": "2021-07-05T14:16:57.608Z"
   },
   {
    "duration": 19,
    "start_time": "2021-07-05T14:17:15.674Z"
   },
   {
    "duration": 222,
    "start_time": "2021-07-05T14:17:37.523Z"
   },
   {
    "duration": 224,
    "start_time": "2021-07-05T14:17:42.254Z"
   },
   {
    "duration": 17,
    "start_time": "2021-07-05T14:17:51.070Z"
   },
   {
    "duration": 191,
    "start_time": "2021-07-05T14:18:14.739Z"
   },
   {
    "duration": 361741,
    "start_time": "2021-07-05T14:20:40.754Z"
   },
   {
    "duration": 38,
    "start_time": "2021-07-05T14:29:42.696Z"
   },
   {
    "duration": 34,
    "start_time": "2021-07-05T14:30:00.955Z"
   },
   {
    "duration": 407949,
    "start_time": "2021-07-05T14:30:44.204Z"
   },
   {
    "duration": 289,
    "start_time": "2021-07-05T14:38:50.802Z"
   },
   {
    "duration": 300,
    "start_time": "2021-07-05T14:40:32.257Z"
   },
   {
    "duration": 18,
    "start_time": "2021-07-05T14:40:44.235Z"
   },
   {
    "duration": 144,
    "start_time": "2021-07-05T14:41:02.239Z"
   },
   {
    "duration": 201,
    "start_time": "2021-07-05T14:41:09.239Z"
   },
   {
    "duration": 174,
    "start_time": "2021-07-05T14:41:16.142Z"
   },
   {
    "duration": 292,
    "start_time": "2021-07-05T14:41:51.412Z"
   },
   {
    "duration": 19,
    "start_time": "2021-07-05T14:42:09.268Z"
   },
   {
    "duration": 275,
    "start_time": "2021-07-05T14:42:30.471Z"
   },
   {
    "duration": 228,
    "start_time": "2021-07-05T14:42:59.769Z"
   },
   {
    "duration": 227,
    "start_time": "2021-07-05T14:43:18.601Z"
   },
   {
    "duration": 227,
    "start_time": "2021-07-05T14:43:36.199Z"
   },
   {
    "duration": 377102,
    "start_time": "2021-07-05T14:43:47.500Z"
   },
   {
    "duration": 232,
    "start_time": "2021-07-05T14:50:04.604Z"
   },
   {
    "duration": 230,
    "start_time": "2021-07-05T14:52:58.984Z"
   },
   {
    "duration": 26698,
    "start_time": "2021-07-05T14:53:38.727Z"
   },
   {
    "duration": 118,
    "start_time": "2021-07-05T14:55:26.750Z"
   },
   {
    "duration": 1052,
    "start_time": "2021-07-05T14:55:41.336Z"
   },
   {
    "duration": 17,
    "start_time": "2021-07-05T14:56:03.468Z"
   },
   {
    "duration": 18,
    "start_time": "2021-07-05T14:56:17.452Z"
   },
   {
    "duration": 17,
    "start_time": "2021-07-05T14:56:22.784Z"
   },
   {
    "duration": 18,
    "start_time": "2021-07-05T14:56:28.351Z"
   },
   {
    "duration": 19,
    "start_time": "2021-07-05T14:56:33.450Z"
   },
   {
    "duration": 8988,
    "start_time": "2021-07-05T14:56:47.760Z"
   },
   {
    "duration": 18,
    "start_time": "2021-07-05T14:57:15.278Z"
   },
   {
    "duration": 17277,
    "start_time": "2021-07-05T14:57:29.365Z"
   },
   {
    "duration": 18,
    "start_time": "2021-07-05T14:57:46.643Z"
   },
   {
    "duration": 18,
    "start_time": "2021-07-05T14:59:02.294Z"
   },
   {
    "duration": 19,
    "start_time": "2021-07-05T14:59:09.814Z"
   },
   {
    "duration": 59823,
    "start_time": "2021-07-05T14:59:18.353Z"
   },
   {
    "duration": 47,
    "start_time": "2021-07-05T15:05:45.468Z"
   },
   {
    "duration": 48,
    "start_time": "2021-07-05T15:05:49.297Z"
   },
   {
    "duration": 1889,
    "start_time": "2021-07-05T19:26:53.188Z"
   },
   {
    "duration": 64,
    "start_time": "2021-07-05T19:26:58.860Z"
   },
   {
    "duration": 181,
    "start_time": "2021-07-05T19:27:01.786Z"
   },
   {
    "duration": 59,
    "start_time": "2021-07-05T19:27:05.853Z"
   },
   {
    "duration": 96,
    "start_time": "2021-07-05T19:27:08.780Z"
   },
   {
    "duration": 17,
    "start_time": "2021-07-05T19:27:13.216Z"
   },
   {
    "duration": 24,
    "start_time": "2021-07-05T19:27:15.493Z"
   },
   {
    "duration": 65,
    "start_time": "2021-07-05T19:27:19.349Z"
   },
   {
    "duration": 36,
    "start_time": "2021-07-05T19:27:24.613Z"
   },
   {
    "duration": 47,
    "start_time": "2021-07-05T19:27:38.936Z"
   },
   {
    "duration": 45,
    "start_time": "2021-07-05T19:27:42.210Z"
   },
   {
    "duration": 200,
    "start_time": "2021-07-05T19:27:45.302Z"
   },
   {
    "duration": 19,
    "start_time": "2021-07-05T19:27:48.307Z"
   },
   {
    "duration": 119145,
    "start_time": "2021-07-05T19:27:53.057Z"
   },
   {
    "duration": 113,
    "start_time": "2021-07-05T19:29:52.205Z"
   },
   {
    "duration": 327,
    "start_time": "2021-07-05T19:29:52.321Z"
   },
   {
    "duration": 552,
    "start_time": "2021-07-05T19:32:09.014Z"
   },
   {
    "duration": 391,
    "start_time": "2021-07-05T19:36:11.730Z"
   },
   {
    "duration": 5055,
    "start_time": "2021-07-05T19:37:48.416Z"
   },
   {
    "duration": 4645,
    "start_time": "2021-07-05T19:40:04.038Z"
   },
   {
    "duration": 5992,
    "start_time": "2021-07-05T19:48:13.811Z"
   },
   {
    "duration": 6173,
    "start_time": "2021-07-05T19:48:42.713Z"
   },
   {
    "duration": 5525,
    "start_time": "2021-07-05T19:49:16.595Z"
   },
   {
    "duration": 5916,
    "start_time": "2021-07-05T19:49:40.280Z"
   },
   {
    "duration": 5654,
    "start_time": "2021-07-05T19:51:42.927Z"
   },
   {
    "duration": 9742,
    "start_time": "2021-07-05T19:52:49.723Z"
   },
   {
    "duration": 12125,
    "start_time": "2021-07-05T19:54:53.498Z"
   },
   {
    "duration": 12001,
    "start_time": "2021-07-05T19:56:34.113Z"
   },
   {
    "duration": 14185,
    "start_time": "2021-07-05T19:57:14.614Z"
   },
   {
    "duration": 11965,
    "start_time": "2021-07-05T19:58:32.152Z"
   },
   {
    "duration": 12796,
    "start_time": "2021-07-05T19:59:54.640Z"
   },
   {
    "duration": 14266,
    "start_time": "2021-07-05T20:02:24.107Z"
   },
   {
    "duration": 19820,
    "start_time": "2021-07-05T20:04:09.836Z"
   },
   {
    "duration": 20352,
    "start_time": "2021-07-05T20:05:25.317Z"
   },
   {
    "duration": 19778,
    "start_time": "2021-07-05T20:06:01.762Z"
   },
   {
    "duration": 22851,
    "start_time": "2021-07-05T20:06:39.552Z"
   },
   {
    "duration": 23333,
    "start_time": "2021-07-05T20:07:23.235Z"
   },
   {
    "duration": 6,
    "start_time": "2021-07-05T20:16:11.970Z"
   },
   {
    "duration": 301,
    "start_time": "2021-07-05T20:21:11.651Z"
   },
   {
    "duration": 281,
    "start_time": "2021-07-05T20:21:39.708Z"
   },
   {
    "duration": 10,
    "start_time": "2021-07-05T20:21:55.691Z"
   },
   {
    "duration": 9,
    "start_time": "2021-07-05T20:22:33.061Z"
   },
   {
    "duration": 306,
    "start_time": "2021-07-05T20:27:51.740Z"
   },
   {
    "duration": 132779,
    "start_time": "2021-07-05T20:28:23.894Z"
   },
   {
    "duration": 108,
    "start_time": "2021-07-05T20:30:36.676Z"
   },
   {
    "duration": 390,
    "start_time": "2021-07-05T20:33:01.651Z"
   },
   {
    "duration": 17,
    "start_time": "2021-07-05T20:34:55.291Z"
   },
   {
    "duration": 292069,
    "start_time": "2021-07-05T20:42:34.139Z"
   },
   {
    "duration": 442377,
    "start_time": "2021-07-05T20:50:14.206Z"
   },
   {
    "duration": 304520,
    "start_time": "2021-07-05T20:58:35.920Z"
   },
   {
    "duration": 305,
    "start_time": "2021-07-05T21:08:07.023Z"
   },
   {
    "duration": 310095,
    "start_time": "2021-07-05T21:08:37.698Z"
   },
   {
    "duration": 341,
    "start_time": "2021-07-05T21:14:14.019Z"
   },
   {
    "duration": 280,
    "start_time": "2021-07-05T21:14:33.051Z"
   },
   {
    "duration": 30486,
    "start_time": "2021-07-05T21:20:03.174Z"
   },
   {
    "duration": 322,
    "start_time": "2021-07-05T21:26:48.012Z"
   },
   {
    "duration": 745,
    "start_time": "2021-07-05T21:27:48.728Z"
   },
   {
    "duration": 327,
    "start_time": "2021-07-05T21:29:06.144Z"
   },
   {
    "duration": 400,
    "start_time": "2021-07-05T21:30:02.380Z"
   },
   {
    "duration": 648,
    "start_time": "2021-07-05T21:30:27.936Z"
   },
   {
    "duration": 840,
    "start_time": "2021-07-05T21:33:07.178Z"
   },
   {
    "duration": 948,
    "start_time": "2021-07-05T21:34:18.989Z"
   },
   {
    "duration": 932,
    "start_time": "2021-07-05T21:34:41.058Z"
   },
   {
    "duration": 653,
    "start_time": "2021-07-05T21:35:03.877Z"
   },
   {
    "duration": 330,
    "start_time": "2021-07-05T21:36:29.821Z"
   },
   {
    "duration": 283,
    "start_time": "2021-07-05T21:36:46.259Z"
   },
   {
    "duration": 347,
    "start_time": "2021-07-05T21:37:30.905Z"
   },
   {
    "duration": 155037,
    "start_time": "2021-07-05T21:38:59.892Z"
   },
   {
    "duration": 2403,
    "start_time": "2021-07-05T21:43:03.944Z"
   },
   {
    "duration": 136,
    "start_time": "2021-07-05T21:48:17.449Z"
   },
   {
    "duration": 128,
    "start_time": "2021-07-05T21:48:30.091Z"
   },
   {
    "duration": 105,
    "start_time": "2021-07-05T21:54:01.013Z"
   },
   {
    "duration": 93,
    "start_time": "2021-07-05T21:54:04.746Z"
   },
   {
    "duration": 104,
    "start_time": "2021-07-05T21:54:57.732Z"
   },
   {
    "duration": 110,
    "start_time": "2021-07-05T21:55:07.571Z"
   },
   {
    "duration": 108,
    "start_time": "2021-07-05T21:55:13.318Z"
   },
   {
    "duration": 190,
    "start_time": "2021-07-05T21:55:43.821Z"
   },
   {
    "duration": 107,
    "start_time": "2021-07-05T21:55:51.691Z"
   },
   {
    "duration": 102,
    "start_time": "2021-07-05T21:55:59.700Z"
   },
   {
    "duration": 103,
    "start_time": "2021-07-05T21:56:06.016Z"
   },
   {
    "duration": 114,
    "start_time": "2021-07-05T21:56:11.532Z"
   },
   {
    "duration": 338,
    "start_time": "2021-07-05T21:58:02.453Z"
   },
   {
    "duration": 270,
    "start_time": "2021-07-05T21:59:55.186Z"
   },
   {
    "duration": 492392,
    "start_time": "2021-07-05T22:00:36.662Z"
   },
   {
    "duration": 1961,
    "start_time": "2021-07-05T22:11:58.250Z"
   },
   {
    "duration": 1930,
    "start_time": "2021-07-05T22:12:10.366Z"
   },
   {
    "duration": 100,
    "start_time": "2021-07-05T22:12:46.093Z"
   },
   {
    "duration": 118,
    "start_time": "2021-07-05T22:12:48.378Z"
   },
   {
    "duration": 87,
    "start_time": "2021-07-05T22:13:39.736Z"
   },
   {
    "duration": 90,
    "start_time": "2021-07-05T22:14:22.652Z"
   },
   {
    "duration": 2766,
    "start_time": "2021-07-05T22:15:10.099Z"
   },
   {
    "duration": 2766,
    "start_time": "2021-07-05T22:15:24.062Z"
   },
   {
    "duration": 34000,
    "start_time": "2021-07-05T22:16:15.455Z"
   },
   {
    "duration": 491110,
    "start_time": "2021-07-05T22:22:27.016Z"
   },
   {
    "duration": 2387,
    "start_time": "2021-07-05T22:31:42.292Z"
   },
   {
    "duration": 3330,
    "start_time": "2021-07-05T22:33:16.212Z"
   },
   {
    "duration": 272239,
    "start_time": "2021-07-05T22:34:50.580Z"
   },
   {
    "duration": 1847,
    "start_time": "2021-07-05T22:40:44.948Z"
   },
   {
    "duration": 467074,
    "start_time": "2021-07-05T22:42:29.828Z"
   },
   {
    "duration": 25,
    "start_time": "2021-07-05T22:50:27.577Z"
   },
   {
    "duration": 88,
    "start_time": "2021-07-05T22:50:34.651Z"
   },
   {
    "duration": 113,
    "start_time": "2021-07-05T22:51:24.336Z"
   },
   {
    "duration": 368,
    "start_time": "2021-07-05T22:51:28.725Z"
   },
   {
    "duration": 2222928,
    "start_time": "2021-07-05T22:52:00.482Z"
   },
   {
    "duration": 768,
    "start_time": "2021-07-05T23:29:03.412Z"
   },
   {
    "duration": 1105,
    "start_time": "2021-07-06T06:07:52.828Z"
   },
   {
    "duration": 43,
    "start_time": "2021-07-06T06:07:58.048Z"
   },
   {
    "duration": 45,
    "start_time": "2021-07-06T06:08:03.265Z"
   },
   {
    "duration": 37,
    "start_time": "2021-07-06T06:08:06.256Z"
   },
   {
    "duration": 43,
    "start_time": "2021-07-06T06:08:09.450Z"
   },
   {
    "duration": 9,
    "start_time": "2021-07-06T06:08:12.528Z"
   },
   {
    "duration": 12,
    "start_time": "2021-07-06T06:08:15.101Z"
   },
   {
    "duration": 30,
    "start_time": "2021-07-06T06:08:19.296Z"
   },
   {
    "duration": 16,
    "start_time": "2021-07-06T06:08:21.818Z"
   },
   {
    "duration": 26,
    "start_time": "2021-07-06T06:08:24.565Z"
   },
   {
    "duration": 17,
    "start_time": "2021-07-06T06:08:27.842Z"
   },
   {
    "duration": 95,
    "start_time": "2021-07-06T06:08:30.832Z"
   },
   {
    "duration": 9,
    "start_time": "2021-07-06T06:08:34.286Z"
   },
   {
    "duration": 59517,
    "start_time": "2021-07-06T06:08:36.639Z"
   },
   {
    "duration": 48,
    "start_time": "2021-07-06T06:09:36.157Z"
   },
   {
    "duration": 441,
    "start_time": "2021-07-06T06:10:01.737Z"
   },
   {
    "duration": 407,
    "start_time": "2021-07-06T06:10:34.553Z"
   },
   {
    "duration": 638,
    "start_time": "2021-07-06T06:11:33.635Z"
   },
   {
    "duration": 988,
    "start_time": "2021-07-06T06:13:00.613Z"
   },
   {
    "duration": 45,
    "start_time": "2021-07-06T06:16:23.063Z"
   },
   {
    "duration": 45,
    "start_time": "2021-07-06T06:16:36.247Z"
   },
   {
    "duration": 49,
    "start_time": "2021-07-06T06:16:50.032Z"
   },
   {
    "duration": 401,
    "start_time": "2021-07-06T06:17:42.856Z"
   },
   {
    "duration": 437,
    "start_time": "2021-07-06T06:19:00.557Z"
   },
   {
    "duration": 401,
    "start_time": "2021-07-06T06:19:18.876Z"
   },
   {
    "duration": 11,
    "start_time": "2021-07-06T06:19:47.597Z"
   },
   {
    "duration": 57136,
    "start_time": "2021-07-06T06:19:50.136Z"
   },
   {
    "duration": 412,
    "start_time": "2021-07-06T06:20:47.274Z"
   },
   {
    "duration": 409,
    "start_time": "2021-07-06T06:23:00.542Z"
   },
   {
    "duration": 12,
    "start_time": "2021-07-06T06:23:15.417Z"
   },
   {
    "duration": 415,
    "start_time": "2021-07-06T06:23:19.613Z"
   },
   {
    "duration": 10,
    "start_time": "2021-07-06T06:25:29.521Z"
   },
   {
    "duration": 10,
    "start_time": "2021-07-06T06:26:05.097Z"
   },
   {
    "duration": 31,
    "start_time": "2021-07-06T06:30:16.974Z"
   },
   {
    "duration": 48,
    "start_time": "2021-07-06T06:30:27.493Z"
   },
   {
    "duration": 48,
    "start_time": "2021-07-06T06:30:41.717Z"
   },
   {
    "duration": 48,
    "start_time": "2021-07-06T06:30:48.368Z"
   },
   {
    "duration": 51,
    "start_time": "2021-07-06T06:35:54.634Z"
   },
   {
    "duration": 384,
    "start_time": "2021-07-06T06:36:17.667Z"
   },
   {
    "duration": 280,
    "start_time": "2021-07-06T06:36:29.415Z"
   },
   {
    "duration": 202223,
    "start_time": "2021-07-06T06:37:43.516Z"
   },
   {
    "duration": 479,
    "start_time": "2021-07-06T06:45:10.346Z"
   },
   {
    "duration": 493,
    "start_time": "2021-07-06T06:45:25.643Z"
   },
   {
    "duration": 8,
    "start_time": "2021-07-06T06:48:06.974Z"
   },
   {
    "duration": 549,
    "start_time": "2021-07-06T06:48:16.313Z"
   },
   {
    "duration": 1108,
    "start_time": "2021-07-06T06:49:21.309Z"
   },
   {
    "duration": 42,
    "start_time": "2021-07-06T06:49:26.917Z"
   },
   {
    "duration": 44,
    "start_time": "2021-07-06T06:49:29.227Z"
   },
   {
    "duration": 36,
    "start_time": "2021-07-06T06:49:31.750Z"
   },
   {
    "duration": 42,
    "start_time": "2021-07-06T06:49:34.260Z"
   },
   {
    "duration": 10,
    "start_time": "2021-07-06T06:49:42.707Z"
   },
   {
    "duration": 11,
    "start_time": "2021-07-06T06:49:45.749Z"
   },
   {
    "duration": 32,
    "start_time": "2021-07-06T06:49:48.994Z"
   },
   {
    "duration": 16,
    "start_time": "2021-07-06T06:49:51.740Z"
   },
   {
    "duration": 27,
    "start_time": "2021-07-06T06:49:54.514Z"
   },
   {
    "duration": 17,
    "start_time": "2021-07-06T06:49:58.003Z"
   },
   {
    "duration": 94,
    "start_time": "2021-07-06T06:50:01.229Z"
   },
   {
    "duration": 8,
    "start_time": "2021-07-06T06:50:05.789Z"
   },
   {
    "duration": 209614,
    "start_time": "2021-07-06T06:50:10.485Z"
   },
   {
    "duration": 490,
    "start_time": "2021-07-06T06:53:40.101Z"
   },
   {
    "duration": 151,
    "start_time": "2021-07-06T06:53:40.593Z"
   },
   {
    "duration": 1744,
    "start_time": "2021-07-06T18:03:05.023Z"
   },
   {
    "duration": 44,
    "start_time": "2021-07-06T18:03:07.113Z"
   },
   {
    "duration": 59,
    "start_time": "2021-07-06T18:03:08.071Z"
   },
   {
    "duration": 42,
    "start_time": "2021-07-06T18:03:09.184Z"
   },
   {
    "duration": 78,
    "start_time": "2021-07-06T18:04:23.098Z"
   },
   {
    "duration": 15,
    "start_time": "2021-07-06T18:04:24.092Z"
   },
   {
    "duration": 20,
    "start_time": "2021-07-06T18:04:26.370Z"
   },
   {
    "duration": 59,
    "start_time": "2021-07-06T18:06:05.320Z"
   },
   {
    "duration": 29,
    "start_time": "2021-07-06T18:06:24.126Z"
   },
   {
    "duration": 49,
    "start_time": "2021-07-06T18:06:46.258Z"
   },
   {
    "duration": 30,
    "start_time": "2021-07-06T18:06:47.458Z"
   },
   {
    "duration": 21,
    "start_time": "2021-07-06T18:06:58.288Z"
   },
   {
    "duration": 178,
    "start_time": "2021-07-06T18:07:42.691Z"
   },
   {
    "duration": 14,
    "start_time": "2021-07-06T18:08:17.292Z"
   },
   {
    "duration": 28,
    "start_time": "2021-07-06T18:08:36.875Z"
   },
   {
    "duration": 1526,
    "start_time": "2021-07-07T17:31:09.143Z"
   },
   {
    "duration": 49,
    "start_time": "2021-07-07T17:31:20.254Z"
   },
   {
    "duration": 61,
    "start_time": "2021-07-07T17:31:25.636Z"
   },
   {
    "duration": 41,
    "start_time": "2021-07-07T17:31:37.914Z"
   },
   {
    "duration": 83,
    "start_time": "2021-07-07T17:31:57.262Z"
   },
   {
    "duration": 16,
    "start_time": "2021-07-07T17:40:39.573Z"
   },
   {
    "duration": 15,
    "start_time": "2021-07-07T17:43:33.969Z"
   },
   {
    "duration": 160,
    "start_time": "2021-07-07T17:48:08.397Z"
   },
   {
    "duration": 34,
    "start_time": "2021-07-07T17:48:33.839Z"
   },
   {
    "duration": 40,
    "start_time": "2021-07-07T17:49:34.734Z"
   },
   {
    "duration": 65,
    "start_time": "2021-07-07T17:50:06.518Z"
   },
   {
    "duration": 52,
    "start_time": "2021-07-07T17:50:09.776Z"
   },
   {
    "duration": 59,
    "start_time": "2021-07-07T17:50:13.575Z"
   },
   {
    "duration": 43,
    "start_time": "2021-07-07T17:50:16.898Z"
   },
   {
    "duration": 96,
    "start_time": "2021-07-07T17:50:24.056Z"
   },
   {
    "duration": 43,
    "start_time": "2021-07-07T17:50:29.966Z"
   },
   {
    "duration": 3,
    "start_time": "2021-07-07T17:52:50.241Z"
   },
   {
    "duration": 56,
    "start_time": "2021-07-07T17:52:59.757Z"
   },
   {
    "duration": 29,
    "start_time": "2021-07-07T17:53:10.072Z"
   },
   {
    "duration": 54,
    "start_time": "2021-07-07T17:53:13.171Z"
   },
   {
    "duration": 27,
    "start_time": "2021-07-07T17:53:19.021Z"
   },
   {
    "duration": 249,
    "start_time": "2021-07-07T17:53:32.594Z"
   },
   {
    "duration": 16,
    "start_time": "2021-07-07T17:53:38.264Z"
   },
   {
    "duration": 32,
    "start_time": "2021-07-07T17:54:13.140Z"
   },
   {
    "duration": 473903,
    "start_time": "2021-07-07T17:54:30.093Z"
   },
   {
    "duration": 1113,
    "start_time": "2021-07-07T18:02:23.999Z"
   },
   {
    "duration": 288,
    "start_time": "2021-07-07T18:02:25.117Z"
   },
   {
    "duration": 1699,
    "start_time": "2021-07-07T18:06:38.361Z"
   },
   {
    "duration": 466,
    "start_time": "2021-07-07T18:09:44.063Z"
   },
   {
    "duration": 381,
    "start_time": "2021-07-07T18:11:59.645Z"
   },
   {
    "duration": 376,
    "start_time": "2021-07-07T18:14:39.257Z"
   },
   {
    "duration": 675,
    "start_time": "2021-07-07T18:14:48.495Z"
   },
   {
    "duration": 389,
    "start_time": "2021-07-07T18:20:29.101Z"
   },
   {
    "duration": 12282,
    "start_time": "2021-07-07T18:28:44.236Z"
   },
   {
    "duration": 70,
    "start_time": "2021-07-07T18:35:32.590Z"
   },
   {
    "duration": 67,
    "start_time": "2021-07-07T18:37:18.362Z"
   },
   {
    "duration": 16207,
    "start_time": "2021-07-07T18:37:56.816Z"
   },
   {
    "duration": 16,
    "start_time": "2021-07-07T18:42:10.214Z"
   },
   {
    "duration": 26,
    "start_time": "2021-07-07T18:42:14.254Z"
   },
   {
    "duration": 411621,
    "start_time": "2021-07-07T18:42:18.239Z"
   },
   {
    "duration": 1585,
    "start_time": "2021-07-07T18:49:09.864Z"
   },
   {
    "duration": 430,
    "start_time": "2021-07-07T18:49:11.452Z"
   },
   {
    "duration": 272,
    "start_time": "2021-07-07T18:57:21.101Z"
   },
   {
    "duration": 1258,
    "start_time": "2021-07-08T12:47:02.388Z"
   },
   {
    "duration": 43,
    "start_time": "2021-07-08T12:47:07.319Z"
   },
   {
    "duration": 68,
    "start_time": "2021-07-08T12:47:10.644Z"
   },
   {
    "duration": 41,
    "start_time": "2021-07-08T12:47:13.346Z"
   },
   {
    "duration": 48,
    "start_time": "2021-07-08T12:47:15.925Z"
   },
   {
    "duration": 31,
    "start_time": "2021-07-08T12:47:19.708Z"
   },
   {
    "duration": 37,
    "start_time": "2021-07-08T12:48:08.160Z"
   },
   {
    "duration": 28,
    "start_time": "2021-07-08T12:48:11.574Z"
   },
   {
    "duration": 31,
    "start_time": "2021-07-08T12:48:19.860Z"
   },
   {
    "duration": 19,
    "start_time": "2021-07-08T12:48:24.309Z"
   },
   {
    "duration": 142,
    "start_time": "2021-07-08T12:48:27.664Z"
   },
   {
    "duration": 14259,
    "start_time": "2021-07-08T12:48:31.842Z"
   },
   {
    "duration": 90,
    "start_time": "2021-07-08T12:48:46.108Z"
   },
   {
    "duration": 98,
    "start_time": "2021-07-08T12:48:46.202Z"
   },
   {
    "duration": 257969,
    "start_time": "2021-07-08T12:48:46.302Z"
   },
   {
    "duration": 1021,
    "start_time": "2021-07-08T12:53:04.273Z"
   },
   {
    "duration": 180,
    "start_time": "2021-07-08T12:53:05.296Z"
   },
   {
    "duration": 281,
    "start_time": "2021-07-08T12:55:16.157Z"
   },
   {
    "duration": 192,
    "start_time": "2021-07-08T12:56:18.990Z"
   },
   {
    "duration": 639,
    "start_time": "2021-07-08T13:04:48.668Z"
   },
   {
    "duration": 386,
    "start_time": "2021-07-08T13:06:01.520Z"
   },
   {
    "duration": 509,
    "start_time": "2021-07-08T13:08:32.651Z"
   },
   {
    "duration": 244,
    "start_time": "2021-07-08T13:27:18.112Z"
   },
   {
    "duration": 519,
    "start_time": "2021-07-08T13:31:48.780Z"
   },
   {
    "duration": 502,
    "start_time": "2021-07-08T13:34:44.461Z"
   },
   {
    "duration": 604,
    "start_time": "2021-07-08T13:39:15.212Z"
   },
   {
    "duration": 671,
    "start_time": "2021-07-08T13:39:26.208Z"
   },
   {
    "duration": 663,
    "start_time": "2021-07-08T13:43:05.679Z"
   },
   {
    "duration": 575,
    "start_time": "2021-07-08T13:57:16.736Z"
   },
   {
    "duration": 54,
    "start_time": "2021-07-08T13:58:53.470Z"
   },
   {
    "duration": 528,
    "start_time": "2021-07-08T14:00:03.007Z"
   },
   {
    "duration": 1085,
    "start_time": "2021-07-08T14:16:45.530Z"
   },
   {
    "duration": 42,
    "start_time": "2021-07-08T14:16:50.586Z"
   },
   {
    "duration": 51,
    "start_time": "2021-07-08T14:16:54.253Z"
   },
   {
    "duration": 39,
    "start_time": "2021-07-08T14:16:57.159Z"
   },
   {
    "duration": 53,
    "start_time": "2021-07-08T14:17:00.545Z"
   },
   {
    "duration": 31,
    "start_time": "2021-07-08T14:17:06.360Z"
   },
   {
    "duration": 43,
    "start_time": "2021-07-08T14:17:17.798Z"
   },
   {
    "duration": 19,
    "start_time": "2021-07-08T14:17:21.437Z"
   },
   {
    "duration": 32,
    "start_time": "2021-07-08T14:17:24.661Z"
   },
   {
    "duration": 16,
    "start_time": "2021-07-08T14:17:28.447Z"
   },
   {
    "duration": 131,
    "start_time": "2021-07-08T14:18:01.867Z"
   },
   {
    "duration": 8420,
    "start_time": "2021-07-08T14:18:10.869Z"
   },
   {
    "duration": 11,
    "start_time": "2021-07-08T14:18:31.495Z"
   },
   {
    "duration": 18,
    "start_time": "2021-07-08T14:18:33.937Z"
   },
   {
    "duration": 587,
    "start_time": "2021-07-08T14:18:37.569Z"
   },
   {
    "duration": 236006,
    "start_time": "2021-07-08T14:18:45.012Z"
   },
   {
    "duration": 1467,
    "start_time": "2021-07-08T14:23:17.449Z"
   },
   {
    "duration": 174,
    "start_time": "2021-07-08T14:23:26.083Z"
   }
  ],
  "kernelspec": {
   "display_name": "Python 3",
   "language": "python",
   "name": "python3"
  },
  "language_info": {
   "codemirror_mode": {
    "name": "ipython",
    "version": 3
   },
   "file_extension": ".py",
   "mimetype": "text/x-python",
   "name": "python",
   "nbconvert_exporter": "python",
   "pygments_lexer": "ipython3",
   "version": "3.7.8"
  },
  "toc": {
   "base_numbering": 1,
   "nav_menu": {},
   "number_sections": true,
   "sideBar": true,
   "skip_h1_title": true,
   "title_cell": "Table of Contents",
   "title_sidebar": "Contents",
   "toc_cell": false,
   "toc_position": {},
   "toc_section_display": true,
   "toc_window_display": false
  }
 },
 "nbformat": 4,
 "nbformat_minor": 2
}
