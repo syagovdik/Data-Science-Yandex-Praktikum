{
 "cells": [
  {
   "cell_type": "markdown",
   "metadata": {},
   "source": [
    "# Описание проекта"
   ]
  },
  {
   "cell_type": "markdown",
   "metadata": {},
   "source": [
    "Оператор мобильной связи «Мегалайн» выяснил: многие клиенты пользуются архивными тарифами. Они хотят построить систему, способную проанализировать поведение клиентов и предложить пользователям новый тариф: «Смарт» или «Ультра».\n",
    "В вашем распоряжении данные о поведении клиентов, которые уже перешли на эти тарифы (из проекта курса «Статистический анализ данных»). Нужно построить модель для задачи классификации, которая выберет подходящий тариф. Предобработка данных не понадобится — вы её уже сделали.\n",
    "Постройте модель с максимально большим значением accuracy. Чтобы сдать проект успешно, нужно довести долю правильных ответов по крайней мере до 0.75. Проверьте accuracy на тестовой выборке самостоятельно."
   ]
  },
  {
   "cell_type": "markdown",
   "metadata": {},
   "source": [
    "# Рекомендация тарифов"
   ]
  },
  {
   "cell_type": "markdown",
   "metadata": {},
   "source": [
    "В вашем распоряжении данные о поведении клиентов, которые уже перешли на эти тарифы (из проекта курса «Статистический анализ данных»). Нужно построить модель для задачи классификации, которая выберет подходящий тариф. Предобработка данных не понадобится — вы её уже сделали.\n",
    "\n",
    "Постройте модель с максимально большим значением *accuracy*. Чтобы сдать проект успешно, нужно довести долю правильных ответов по крайней мере до 0.75. Проверьте *accuracy* на тестовой выборке самостоятельно."
   ]
  },
  {
   "cell_type": "markdown",
   "metadata": {},
   "source": [
    "## Описание данных"
   ]
  },
  {
   "cell_type": "markdown",
   "metadata": {},
   "source": [
    "сalls — количество звонков\n",
    "\n",
    "minutes — суммарная длительность звонков в минутах\n",
    "\n",
    "messages — количество sms-сообщений\n",
    "\n",
    "mb_used — израсходованный интернет-трафик в Мб\n",
    "\n",
    "is_ultra — каким тарифом пользовался в течение месяца («Ультра» — 1, «Смарт» — 0)"
   ]
  },
  {
   "cell_type": "markdown",
   "metadata": {},
   "source": []
  },
  {
   "cell_type": "markdown",
   "metadata": {},
   "source": []
  },
  {
   "cell_type": "markdown",
   "metadata": {},
   "source": []
  },
  {
   "cell_type": "markdown",
   "metadata": {},
   "source": []
  },
  {
   "cell_type": "markdown",
   "metadata": {},
   "source": [
    "## Изучим данные"
   ]
  },
  {
   "cell_type": "code",
   "execution_count": 1,
   "metadata": {
    "scrolled": true
   },
   "outputs": [
    {
     "data": {
      "text/html": [
       "<div>\n",
       "<style scoped>\n",
       "    .dataframe tbody tr th:only-of-type {\n",
       "        vertical-align: middle;\n",
       "    }\n",
       "\n",
       "    .dataframe tbody tr th {\n",
       "        vertical-align: top;\n",
       "    }\n",
       "\n",
       "    .dataframe thead th {\n",
       "        text-align: right;\n",
       "    }\n",
       "</style>\n",
       "<table border=\"1\" class=\"dataframe\">\n",
       "  <thead>\n",
       "    <tr style=\"text-align: right;\">\n",
       "      <th></th>\n",
       "      <th>calls</th>\n",
       "      <th>minutes</th>\n",
       "      <th>messages</th>\n",
       "      <th>mb_used</th>\n",
       "      <th>is_ultra</th>\n",
       "    </tr>\n",
       "  </thead>\n",
       "  <tbody>\n",
       "    <tr>\n",
       "      <td>0</td>\n",
       "      <td>40.0</td>\n",
       "      <td>311.90</td>\n",
       "      <td>83.0</td>\n",
       "      <td>19915.42</td>\n",
       "      <td>0</td>\n",
       "    </tr>\n",
       "    <tr>\n",
       "      <td>1</td>\n",
       "      <td>85.0</td>\n",
       "      <td>516.75</td>\n",
       "      <td>56.0</td>\n",
       "      <td>22696.96</td>\n",
       "      <td>0</td>\n",
       "    </tr>\n",
       "    <tr>\n",
       "      <td>2</td>\n",
       "      <td>77.0</td>\n",
       "      <td>467.66</td>\n",
       "      <td>86.0</td>\n",
       "      <td>21060.45</td>\n",
       "      <td>0</td>\n",
       "    </tr>\n",
       "    <tr>\n",
       "      <td>3</td>\n",
       "      <td>106.0</td>\n",
       "      <td>745.53</td>\n",
       "      <td>81.0</td>\n",
       "      <td>8437.39</td>\n",
       "      <td>1</td>\n",
       "    </tr>\n",
       "    <tr>\n",
       "      <td>4</td>\n",
       "      <td>66.0</td>\n",
       "      <td>418.74</td>\n",
       "      <td>1.0</td>\n",
       "      <td>14502.75</td>\n",
       "      <td>0</td>\n",
       "    </tr>\n",
       "  </tbody>\n",
       "</table>\n",
       "</div>"
      ],
      "text/plain": [
       "   calls  minutes  messages   mb_used  is_ultra\n",
       "0   40.0   311.90      83.0  19915.42         0\n",
       "1   85.0   516.75      56.0  22696.96         0\n",
       "2   77.0   467.66      86.0  21060.45         0\n",
       "3  106.0   745.53      81.0   8437.39         1\n",
       "4   66.0   418.74       1.0  14502.75         0"
      ]
     },
     "metadata": {},
     "output_type": "display_data"
    },
    {
     "name": "stdout",
     "output_type": "stream",
     "text": [
      "<class 'pandas.core.frame.DataFrame'>\n",
      "RangeIndex: 3214 entries, 0 to 3213\n",
      "Data columns (total 5 columns):\n",
      "calls       3214 non-null float64\n",
      "minutes     3214 non-null float64\n",
      "messages    3214 non-null float64\n",
      "mb_used     3214 non-null float64\n",
      "is_ultra    3214 non-null int64\n",
      "dtypes: float64(4), int64(1)\n",
      "memory usage: 125.7 KB\n"
     ]
    }
   ],
   "source": [
    "#Подключим библиотеки\n",
    "import pandas as pd\n",
    "from sklearn.tree import DecisionTreeClassifier\n",
    "from sklearn.metrics import accuracy_score\n",
    "from sklearn.model_selection import train_test_split\n",
    "from sklearn.ensemble import RandomForestClassifier\n",
    "from sklearn.linear_model import LogisticRegression\n",
    "from sklearn.metrics import roc_auc_score\n",
    "from sklearn.metrics import roc_curve\n",
    "import matplotlib.pyplot as plt\n",
    "\n",
    "#Откроем файл\n",
    "df = pd.read_csv('/datasets/users_behavior.csv')\n",
    "\n",
    "#Отобразим первые 5 строк таблицы\n",
    "display(df.head(5))\n",
    "\n",
    "##Просмотрим общую информации о таблице\n",
    "df.info()"
   ]
  },
  {
   "cell_type": "markdown",
   "metadata": {},
   "source": [
    "## Вывод:"
   ]
  },
  {
   "cell_type": "markdown",
   "metadata": {},
   "source": [
    "Таблица содержит 3214 строк и не имеет нулевых значений. В таблице 5 столбцов со следующим наименованием: calls, minutes, messages, mb_used, is_ultra. Столбец is_ultra в формате int64, все остальные столбцы в формате float64."
   ]
  },
  {
   "cell_type": "code",
   "execution_count": 2,
   "metadata": {},
   "outputs": [
    {
     "data": {
      "text/plain": [
       "0    2229\n",
       "1     985\n",
       "Name: is_ultra, dtype: int64"
      ]
     },
     "execution_count": 2,
     "metadata": {},
     "output_type": "execute_result"
    }
   ],
   "source": [
    "df.is_ultra.value_counts()"
   ]
  },
  {
   "cell_type": "markdown",
   "metadata": {},
   "source": [
    "# Разделим данные на выборки"
   ]
  },
  {
   "cell_type": "code",
   "execution_count": 3,
   "metadata": {},
   "outputs": [],
   "source": [
    "#Выделим признаки из общих данных. Это все столбцы за исключением столбца 'is_ultra'\n",
    "features = df.drop(['is_ultra'], axis=1)\n",
    "\n",
    "#Выделим целевой признак из общих данных. Это исключительно столбец 'is_ultra'.\n",
    "target = df['is_ultra']\n",
    "\n",
    "#Выделим 20% тестовых данных из всего объема данных\n",
    "features_df1, features_test, target_df1, target_test = train_test_split(features, target, test_size=0.20, random_state=12345)\n",
    "\n",
    "#Разделим отавшиеся 80% данных на тренировочные и валидационные(проверечное). Данные делим в пропорции: 75% от общего числа\n",
    "#данных - это тренировочные, 25% от общего числа - это валидационные.\n",
    "features_train, features_valid, target_train, target_valid = train_test_split(features_df1, target_df1, test_size=0.25, random_state=12345)"
   ]
  },
  {
   "cell_type": "markdown",
   "metadata": {},
   "source": [
    "## Вывод:"
   ]
  },
  {
   "cell_type": "markdown",
   "metadata": {},
   "source": [
    "Выделили признаки из общих данных, это все столбцы за исключением столбца 'is_ultra' и назвали их features. \n",
    "Выделили целевой признак из общих данных - это столбец 'is_ultra' и назвали его target.\n",
    "Далее от общего массива данных отделили 20% тестовых данных. Оставшийся массив разделили на тренировочне данные - это 75% данных и валидационные - это 25% данных. В итоге данные разделились в пропорции 60/20/20."
   ]
  },
  {
   "cell_type": "code",
   "execution_count": 4,
   "metadata": {},
   "outputs": [
    {
     "name": "stdout",
     "output_type": "stream",
     "text": [
      "Соотношение:\n",
      "--> тренировка 0.6\n",
      "--> валидация 0.2\n",
      "--> тест 0.2\n"
     ]
    }
   ],
   "source": [
    "print('Соотношение:')\n",
    "print('--> тренировка', round(features_train.shape[0] / df.shape[0], 2))\n",
    "print('--> валидация', round(features_valid.shape[0] / df.shape[0], 2))\n",
    "print('--> тест', round(features_test.shape[0] / df.shape[0], 2))"
   ]
  },
  {
   "cell_type": "markdown",
   "metadata": {},
   "source": [
    "# Исследуем модели"
   ]
  },
  {
   "cell_type": "markdown",
   "metadata": {},
   "source": [
    "## Модель 'дерево решений'"
   ]
  },
  {
   "cell_type": "code",
   "execution_count": 5,
   "metadata": {},
   "outputs": [
    {
     "name": "stdout",
     "output_type": "stream",
     "text": [
      "Accuracy_score модели дерево решений на тестовой выборке:\n",
      "max_depth = 1 : 0.7247278382581649\n",
      "max_depth = 2 : 0.7325038880248833\n",
      "max_depth = 3 : 0.7620528771384136\n",
      "max_depth = 4 : 0.7542768273716952\n",
      "max_depth = 5 : 0.7682737169517885\n",
      "max_depth = 6 : 0.7807153965785381\n",
      "max_depth = 7 : 0.7636080870917574\n",
      "max_depth = 8 : 0.776049766718507\n",
      "max_depth = 9 : 0.7698289269051322\n"
     ]
    }
   ],
   "source": [
    "#Напишем цикл для глубины дерева решиня равное 9 (depth от 1 до 10) \n",
    "#Установим энтропию, вместо критерия Джини и random_state равное 12345, число признаков для выбора расщепления auto (max_features='auto')\n",
    "print('Accuracy_score модели дерево решений на тестовой выборке:')\n",
    "for depth in range(1,10):\n",
    "    model = DecisionTreeClassifier(random_state=12345, max_depth=depth, max_features='auto', criterion = 'entropy')#установим гиперпараметры\n",
    "    model.fit(features_train, target_train) #обучим модель на тренировочной выборке \n",
    "    predictions_valid = model.predict(features_valid) #предскажем результат на валидационной выборке\n",
    "    print(\"max_depth =\", depth, \": \", end='')\n",
    "    print(accuracy_score(target_valid, predictions_valid)) #оценим качество модели"
   ]
  },
  {
   "cell_type": "markdown",
   "metadata": {},
   "source": [
    "## Вывод:"
   ]
  },
  {
   "cell_type": "markdown",
   "metadata": {},
   "source": [
    "Для модели 'дерево решений' написали цикл с переборкой глубины от 1 до 9 и вывели список результатов. Для улучшения качества модели установили следующие гиперпараметры:\n",
    "random_state=12345 \n",
    "max_depth=depth (глубина дерева решений будет изменяться в диапозоне от 1 до 9)\n",
    "max_features='auto' - число признаков для выбора расщепления\n",
    "criterion = 'entropy' - изменен критерий Джини, который установлен по умолчания, на энтропию.\n",
    "По полученным результатам можно сделать вывод, что максимальная доля правильных ответов модели наблюдается при глубине дерева равное 6 (max_depth = 6) и составляет 0.7807153965785381. "
   ]
  },
  {
   "cell_type": "markdown",
   "metadata": {},
   "source": [
    "## Модель 'случайный лес'"
   ]
  },
  {
   "cell_type": "code",
   "execution_count": 6,
   "metadata": {},
   "outputs": [
    {
     "name": "stdout",
     "output_type": "stream",
     "text": [
      "Accuracy наилучшей модели 'случайный лес' на валидационной выборке: 0.8087091757387247\n"
     ]
    }
   ],
   "source": [
    "# Напишем функцию для модели 'случайный лес', чтобы выбрать лучшую модель в зависимости от количества деревьев.\n",
    "best_model = None\n",
    "best_result = 0\n",
    "for est in range(1, 50):\n",
    "    for depth in range(1,30):\n",
    "        model = RandomForestClassifier(random_state=12345, max_depth=depth, n_estimators=est, criterion = 'entropy', min_samples_split=3, min_samples_leaf=1) #установим гиперпараметры\n",
    "        model.fit(features_train, target_train) # обучим модель на тренировочной выборке\n",
    "        result = model.score(features_valid, target_valid) # посчитаем качество модели на валидационной выборке\n",
    "        if result > best_result:\n",
    "            best_model = model\n",
    "            best_result = result\n",
    "\n",
    "print(\"Accuracy наилучшей модели 'случайный лес' на валидационной выборке:\", best_result)"
   ]
  },
  {
   "cell_type": "markdown",
   "metadata": {},
   "source": [
    "## Вывод:"
   ]
  },
  {
   "cell_type": "markdown",
   "metadata": {},
   "source": [
    "Для модели 'случайный лес' был написан двойной цикл с перебором количеством деревьев. Методом подбора максимального количества деревьев и глубины, пришли к выводу, что лучший результат наблюдается при количестве деревьев 30(n_estimators=30) и глубины 50(max_depth=50)  и составляет 0.8087091757387247. Для улучшения качества модели установили следующие гиперпараметры:\n",
    "random_state=12345\n",
    "max_depth=depth - глубина дерева (от 1 до 50)\n",
    "n_estimators=est - количество деревьев в модели (от 1 до 30)\n",
    "criterion = 'entropy' - изменен критерий Джини, который установлен по умолчания, на энтропию.\n",
    "min_samples_split=3 - минимальное количество выборок, необходимое для разделения внутреннего узла.\n",
    "min_samples_leaf=1 - минимальное количество образцов, которое должно быть в листовом узле.\n"
   ]
  },
  {
   "cell_type": "markdown",
   "metadata": {},
   "source": [
    "## Модель 'логистическая регрессия'"
   ]
  },
  {
   "cell_type": "code",
   "execution_count": 7,
   "metadata": {},
   "outputs": [
    {
     "name": "stdout",
     "output_type": "stream",
     "text": [
      "Accuracy модели логистической регрессии на валидационной выборке: 0.6967340590979783\n"
     ]
    },
    {
     "name": "stderr",
     "output_type": "stream",
     "text": [
      "/opt/conda/lib/python3.7/site-packages/sklearn/linear_model/logistic.py:432: FutureWarning: Default solver will be changed to 'lbfgs' in 0.22. Specify a solver to silence this warning.\n",
      "  FutureWarning)\n"
     ]
    }
   ],
   "source": [
    "model = LogisticRegression(random_state=12345)#создадим модель и установим гиперпараметры\n",
    "model.fit(features_train, target_train) #обучим модель на тренировочной выборке\n",
    "result = model.score(features_valid, target_valid) #посчитаем качество модели\n",
    "print(\"Accuracy модели логистической регрессии на валидационной выборке:\", result)"
   ]
  },
  {
   "cell_type": "markdown",
   "metadata": {},
   "source": [
    "## Вывод:"
   ]
  },
  {
   "cell_type": "markdown",
   "metadata": {},
   "source": [
    "Для модели 'логистическая регрессия' установили гиперпараметр random_state=12345 и получили долю правильных ответов модели равное accuracy =  0.6967340590979783"
   ]
  },
  {
   "cell_type": "markdown",
   "metadata": {},
   "source": [
    "## Общий вывод:"
   ]
  },
  {
   "cell_type": "markdown",
   "metadata": {},
   "source": [
    "Было обучено на тренировочной выборке и проверено 3 модели ('дерево решений', 'случайный лес', 'логистическая регрессия') на валидационной выборки. Лучший качество было достигнуто на модели 'случайный лес', здесь accuracy = 0.8087091757387247 при количестве деревьев равной 30 и глубине равной 50. \n",
    "На втором месте это 'дерево решений', здесь accuracy = 0.7807153965785381 при глубине дерева равное 6. \n",
    "На последнем месте 'логистическая регрессия', здесь accuracy = 0.6967340590979783"
   ]
  },
  {
   "cell_type": "markdown",
   "metadata": {},
   "source": [
    "# Проверим модели на тестовой выборке"
   ]
  },
  {
   "cell_type": "markdown",
   "metadata": {},
   "source": [
    "## Проверка модели 'дерево решений' на тестовой выборке"
   ]
  },
  {
   "cell_type": "code",
   "execution_count": 8,
   "metadata": {},
   "outputs": [
    {
     "name": "stdout",
     "output_type": "stream",
     "text": [
      "Accuracy_score модели дерево решений на тестовой выборке: 0.7916018662519441\n"
     ]
    }
   ],
   "source": [
    "model = DecisionTreeClassifier(random_state=12345, max_depth=6, max_features='auto', criterion = 'entropy') #установим гиперпараметры\n",
    "model.fit(features_train, target_train)#обучим модель на тренировочной выборке \n",
    "predictions_test = model.predict(features_test)#предскажем результат на тестовой выборке\n",
    "print('Accuracy_score модели дерево решений на тестовой выборке:', accuracy_score(target_test, predictions_test))#оценим качество модели"
   ]
  },
  {
   "cell_type": "markdown",
   "metadata": {},
   "source": [
    "## Проверка модели 'случайный лес' на тестовой выборке"
   ]
  },
  {
   "cell_type": "code",
   "execution_count": 9,
   "metadata": {},
   "outputs": [
    {
     "name": "stdout",
     "output_type": "stream",
     "text": [
      "Accuracy наилучшей модели 'случайный лес' на тестовой выборке: 0.7916018662519441\n"
     ]
    }
   ],
   "source": [
    "model = RandomForestClassifier(random_state=12345, n_estimators=50, max_depth=30, criterion = 'entropy', min_samples_split=3,min_samples_leaf=1)#установим гиперпараметры \n",
    "model.fit(features_train, target_train) #обучим модель на тренировочной выборке\n",
    "result = model.score(features_test, target_test) #посчитаем качество модели на тестовой выборке\n",
    "print(\"Accuracy наилучшей модели 'случайный лес' на тестовой выборке:\", result)"
   ]
  },
  {
   "cell_type": "markdown",
   "metadata": {},
   "source": [
    "## Проверка модели 'логистическая регрессия' на тестовой выборке"
   ]
  },
  {
   "cell_type": "code",
   "execution_count": 10,
   "metadata": {},
   "outputs": [
    {
     "name": "stdout",
     "output_type": "stream",
     "text": [
      "Accuracy модели логистической регрессии на тестовой выборке: 0.702954898911353\n"
     ]
    },
    {
     "name": "stderr",
     "output_type": "stream",
     "text": [
      "/opt/conda/lib/python3.7/site-packages/sklearn/linear_model/logistic.py:432: FutureWarning: Default solver will be changed to 'lbfgs' in 0.22. Specify a solver to silence this warning.\n",
      "  FutureWarning)\n"
     ]
    }
   ],
   "source": [
    "model = LogisticRegression(random_state=12345, penalty='l2') #создадим модель и установим гиперпараметры\n",
    "model.fit(features_train, target_train) #обучим модель на тренировочной выборке\n",
    "result = model.score(features_test, target_test) #посчитаем качество модели\n",
    "print(\"Accuracy модели логистической регрессии на тестовой выборке:\", result)"
   ]
  },
  {
   "cell_type": "markdown",
   "metadata": {},
   "source": [
    "## Вывод:"
   ]
  },
  {
   "cell_type": "markdown",
   "metadata": {},
   "source": [
    "При проверке 3-х моделей на тестовой выборке доля правильных ответов у моделей 'дерево решений' и 'логистической регрессии' возросло, а у 'модели' случайный лес чуть уменьшилось. Самый высокая доля правильных ответов получилась у двух моделей - это \"дерево решений\" и \"случайный лес\", здесь доля правильных ответов одинаковая и составляет 0.7916018662519441, а у модели \"логистическая регрессия\" accuracy = 0.702954898911353."
   ]
  },
  {
   "cell_type": "markdown",
   "metadata": {},
   "source": [
    "# Проверка модели на адекватность"
   ]
  },
  {
   "cell_type": "markdown",
   "metadata": {},
   "source": [
    "## Выделим из общего массива данных только строки с тарифом ultra."
   ]
  },
  {
   "cell_type": "code",
   "execution_count": 11,
   "metadata": {},
   "outputs": [
    {
     "data": {
      "text/html": [
       "<div>\n",
       "<style scoped>\n",
       "    .dataframe tbody tr th:only-of-type {\n",
       "        vertical-align: middle;\n",
       "    }\n",
       "\n",
       "    .dataframe tbody tr th {\n",
       "        vertical-align: top;\n",
       "    }\n",
       "\n",
       "    .dataframe thead th {\n",
       "        text-align: right;\n",
       "    }\n",
       "</style>\n",
       "<table border=\"1\" class=\"dataframe\">\n",
       "  <thead>\n",
       "    <tr style=\"text-align: right;\">\n",
       "      <th></th>\n",
       "      <th>calls</th>\n",
       "      <th>minutes</th>\n",
       "      <th>messages</th>\n",
       "      <th>mb_used</th>\n",
       "      <th>is_ultra</th>\n",
       "    </tr>\n",
       "  </thead>\n",
       "  <tbody>\n",
       "    <tr>\n",
       "      <td>3</td>\n",
       "      <td>106.0</td>\n",
       "      <td>745.53</td>\n",
       "      <td>81.0</td>\n",
       "      <td>8437.39</td>\n",
       "      <td>1</td>\n",
       "    </tr>\n",
       "    <tr>\n",
       "      <td>6</td>\n",
       "      <td>57.0</td>\n",
       "      <td>431.64</td>\n",
       "      <td>20.0</td>\n",
       "      <td>3738.90</td>\n",
       "      <td>1</td>\n",
       "    </tr>\n",
       "    <tr>\n",
       "      <td>8</td>\n",
       "      <td>7.0</td>\n",
       "      <td>43.39</td>\n",
       "      <td>3.0</td>\n",
       "      <td>2538.67</td>\n",
       "      <td>1</td>\n",
       "    </tr>\n",
       "    <tr>\n",
       "      <td>10</td>\n",
       "      <td>82.0</td>\n",
       "      <td>560.51</td>\n",
       "      <td>20.0</td>\n",
       "      <td>9619.53</td>\n",
       "      <td>1</td>\n",
       "    </tr>\n",
       "    <tr>\n",
       "      <td>14</td>\n",
       "      <td>108.0</td>\n",
       "      <td>587.90</td>\n",
       "      <td>0.0</td>\n",
       "      <td>14406.50</td>\n",
       "      <td>1</td>\n",
       "    </tr>\n",
       "  </tbody>\n",
       "</table>\n",
       "</div>"
      ],
      "text/plain": [
       "    calls  minutes  messages   mb_used  is_ultra\n",
       "3   106.0   745.53      81.0   8437.39         1\n",
       "6    57.0   431.64      20.0   3738.90         1\n",
       "8     7.0    43.39       3.0   2538.67         1\n",
       "10   82.0   560.51      20.0   9619.53         1\n",
       "14  108.0   587.90       0.0  14406.50         1"
      ]
     },
     "metadata": {},
     "output_type": "display_data"
    },
    {
     "name": "stdout",
     "output_type": "stream",
     "text": [
      "<class 'pandas.core.frame.DataFrame'>\n",
      "Int64Index: 985 entries, 3 to 3213\n",
      "Data columns (total 5 columns):\n",
      "calls       985 non-null float64\n",
      "minutes     985 non-null float64\n",
      "messages    985 non-null float64\n",
      "mb_used     985 non-null float64\n",
      "is_ultra    985 non-null int64\n",
      "dtypes: float64(4), int64(1)\n",
      "memory usage: 46.2 KB\n"
     ]
    }
   ],
   "source": [
    "#Выделим из общего массива данных только строки с тарифом ultra и поместим эти данные в таблицу df_test2\n",
    "df_test2 = df.query('is_ultra == 1')\n",
    "\n",
    "#Отобразим первые 5 строк таблицы df_test2\n",
    "display(df_test2.head(5))\n",
    "\n",
    "#Отобразим информацию о таблице df_test2\n",
    "df_test2.info()"
   ]
  },
  {
   "cell_type": "markdown",
   "metadata": {},
   "source": [
    "## Создадим заведомо некорректную таблицу. В столбце 'is_ultra' заменим 1 на 0. "
   ]
  },
  {
   "cell_type": "code",
   "execution_count": 12,
   "metadata": {},
   "outputs": [
    {
     "data": {
      "text/html": [
       "<div>\n",
       "<style scoped>\n",
       "    .dataframe tbody tr th:only-of-type {\n",
       "        vertical-align: middle;\n",
       "    }\n",
       "\n",
       "    .dataframe tbody tr th {\n",
       "        vertical-align: top;\n",
       "    }\n",
       "\n",
       "    .dataframe thead th {\n",
       "        text-align: right;\n",
       "    }\n",
       "</style>\n",
       "<table border=\"1\" class=\"dataframe\">\n",
       "  <thead>\n",
       "    <tr style=\"text-align: right;\">\n",
       "      <th></th>\n",
       "      <th>calls</th>\n",
       "      <th>minutes</th>\n",
       "      <th>messages</th>\n",
       "      <th>mb_used</th>\n",
       "      <th>is_ultra</th>\n",
       "    </tr>\n",
       "  </thead>\n",
       "  <tbody>\n",
       "    <tr>\n",
       "      <td>3</td>\n",
       "      <td>106.0</td>\n",
       "      <td>745.53</td>\n",
       "      <td>81.0</td>\n",
       "      <td>8437.39</td>\n",
       "      <td>0</td>\n",
       "    </tr>\n",
       "    <tr>\n",
       "      <td>6</td>\n",
       "      <td>57.0</td>\n",
       "      <td>431.64</td>\n",
       "      <td>20.0</td>\n",
       "      <td>3738.90</td>\n",
       "      <td>0</td>\n",
       "    </tr>\n",
       "    <tr>\n",
       "      <td>8</td>\n",
       "      <td>7.0</td>\n",
       "      <td>43.39</td>\n",
       "      <td>3.0</td>\n",
       "      <td>2538.67</td>\n",
       "      <td>0</td>\n",
       "    </tr>\n",
       "    <tr>\n",
       "      <td>10</td>\n",
       "      <td>82.0</td>\n",
       "      <td>560.51</td>\n",
       "      <td>20.0</td>\n",
       "      <td>9619.53</td>\n",
       "      <td>0</td>\n",
       "    </tr>\n",
       "    <tr>\n",
       "      <td>14</td>\n",
       "      <td>108.0</td>\n",
       "      <td>587.90</td>\n",
       "      <td>0.0</td>\n",
       "      <td>14406.50</td>\n",
       "      <td>0</td>\n",
       "    </tr>\n",
       "  </tbody>\n",
       "</table>\n",
       "</div>"
      ],
      "text/plain": [
       "    calls  minutes  messages   mb_used  is_ultra\n",
       "3   106.0   745.53      81.0   8437.39         0\n",
       "6    57.0   431.64      20.0   3738.90         0\n",
       "8     7.0    43.39       3.0   2538.67         0\n",
       "10   82.0   560.51      20.0   9619.53         0\n",
       "14  108.0   587.90       0.0  14406.50         0"
      ]
     },
     "metadata": {},
     "output_type": "display_data"
    }
   ],
   "source": [
    "df_zero = df_test2.replace(1,0)\n",
    "display(df_zero.head(5))"
   ]
  },
  {
   "cell_type": "markdown",
   "metadata": {},
   "source": [
    "## Выделим признаки и целевой признак из некорректных данных таблицы df_zero"
   ]
  },
  {
   "cell_type": "code",
   "execution_count": 13,
   "metadata": {},
   "outputs": [],
   "source": [
    "features_test_zero = df_zero.drop(['is_ultra'], axis=1)\n",
    "target_test_zero = df_zero['is_ultra']"
   ]
  },
  {
   "cell_type": "markdown",
   "metadata": {},
   "source": [
    "## Проверим 3 модели на адекватность на некорректных данных"
   ]
  },
  {
   "cell_type": "markdown",
   "metadata": {},
   "source": [
    "### Проверка модели 'дерево решений' на адекватность"
   ]
  },
  {
   "cell_type": "code",
   "execution_count": 14,
   "metadata": {},
   "outputs": [
    {
     "name": "stdout",
     "output_type": "stream",
     "text": [
      "Accuracy_score модели дерево решений на некорректной выборке: 0.1918781725888325\n"
     ]
    }
   ],
   "source": [
    "model = DecisionTreeClassifier(random_state=12345, max_depth=depth, max_features='auto', criterion = 'entropy')\n",
    "model.fit(features_train, target_train)\n",
    "predictions_test = model.predict(features_test_zero) #предскажем результат на некорректной выборке\n",
    "print('Accuracy_score модели дерево решений на некорректной выборке:', accuracy_score(target_test_zero, predictions_test)) "
   ]
  },
  {
   "cell_type": "markdown",
   "metadata": {},
   "source": [
    "###  Проверка модели 'случайный лес' на адекватность"
   ]
  },
  {
   "cell_type": "code",
   "execution_count": 15,
   "metadata": {},
   "outputs": [
    {
     "name": "stdout",
     "output_type": "stream",
     "text": [
      "Accuracy наилучшей модели на некорректной выборке: 0.19289340101522842\n"
     ]
    }
   ],
   "source": [
    "model = RandomForestClassifier(random_state=12345, n_estimators=50, max_depth=30, criterion = 'entropy', min_samples_split=3,min_samples_leaf=1) \n",
    "model.fit(features_train, target_train) \n",
    "result = model.score(features_test_zero, target_test_zero) # посчитаем качество модели на некорректной выборке\n",
    "print(\"Accuracy наилучшей модели на некорректной выборке:\", result)"
   ]
  },
  {
   "cell_type": "markdown",
   "metadata": {},
   "source": [
    "###  Проверка модели 'логистическая регрессия' на адекватность"
   ]
  },
  {
   "cell_type": "code",
   "execution_count": 16,
   "metadata": {
    "scrolled": true
   },
   "outputs": [
    {
     "name": "stdout",
     "output_type": "stream",
     "text": [
      "Accuracy модели логистической регрессии на некорректной выборке: 0.9532994923857868\n"
     ]
    },
    {
     "name": "stderr",
     "output_type": "stream",
     "text": [
      "/opt/conda/lib/python3.7/site-packages/sklearn/linear_model/logistic.py:432: FutureWarning: Default solver will be changed to 'lbfgs' in 0.22. Specify a solver to silence this warning.\n",
      "  FutureWarning)\n"
     ]
    }
   ],
   "source": [
    "model = LogisticRegression(random_state=12345)\n",
    "model.fit(features_train, target_train) \n",
    "result = model.score(features_test_zero, target_test_zero) \n",
    "print(\"Accuracy модели логистической регрессии на некорректной выборке:\", result)"
   ]
  },
  {
   "cell_type": "markdown",
   "metadata": {},
   "source": [
    "## Вывод:"
   ]
  },
  {
   "cell_type": "markdown",
   "metadata": {},
   "source": [
    "Для проберки адекватности моделей, был сделан срез данных только по тарифу ultra, т.е. в столбце is_ultra все значения равнялись еденице. Для того чтобы проверить адекватность моделей еденицы были заменены на нули, таким образом мы создали срез не корректных данных. Далее протестировали все три модели на некоректной выборке. Т.е. указали вместо тестовой выборки, выборку некорректную. \n",
    "Модель 'дерево решений' при глубине max_dept=6 ведет себя адекватно, т.е. количество правильных ответов становится равной 0.4436548223350254.  \n",
    "Модель 'случайны лес' ведет себя адекватно и показывает accuracy = 0.19289340101522842.\n",
    "Модель 'логистическая регрессия' ведет себя не адекватно и показывает высокий accuracy = 0.9532994923857868"
   ]
  },
  {
   "cell_type": "code",
   "execution_count": 17,
   "metadata": {},
   "outputs": [
    {
     "data": {
      "text/plain": [
       "0    0.695179\n",
       "1    0.304821\n",
       "Name: is_ultra, dtype: float64"
      ]
     },
     "execution_count": 17,
     "metadata": {},
     "output_type": "execute_result"
    }
   ],
   "source": [
    "target_test.value_counts() / features_test.shape[0]"
   ]
  },
  {
   "cell_type": "code",
   "execution_count": 18,
   "metadata": {},
   "outputs": [
    {
     "name": "stdout",
     "output_type": "stream",
     "text": [
      "AUC best_tree test 0.728147970597635\n",
      "Гиперпараметры forest_rev DecisionTreeClassifier(class_weight=None, criterion='gini', max_depth=7,\n",
      "                       max_features=None, max_leaf_nodes=None,\n",
      "                       min_impurity_decrease=0.0, min_impurity_split=None,\n",
      "                       min_samples_leaf=1, min_samples_split=2,\n",
      "                       min_weight_fraction_leaf=0.0, presort=False,\n",
      "                       random_state=500, splitter='best')\n"
     ]
    }
   ],
   "source": [
    "best_model_tree = DecisionTreeClassifier(random_state = 500, max_depth = 7)\n",
    "best_model_tree.fit(features_train, target_train) # обучаем на тренировке\n",
    "\n",
    "# сформируем предсказания на тесте\n",
    "prob = best_model_tree.predict_proba(features_test)[:, 1]\n",
    "\n",
    "print('AUC best_tree test', roc_auc_score(target_test, prob))\n",
    "print('Гиперпараметры forest_rev', best_model_tree)"
   ]
  },
  {
   "cell_type": "markdown",
   "metadata": {},
   "source": [
    "# Чек-лист готовности проекта"
   ]
  },
  {
   "cell_type": "markdown",
   "metadata": {},
   "source": [
    "- [x] Jupyter Notebook открыт\n",
    "- [x] Весь код исполняется без ошибок\n",
    "- [x] Ячейки с кодом расположены в порядке исполнения\n",
    "- [x] Выполнено задание 1: данные загружены и изучены\n",
    "- [x] Выполнено задание 2: данные разбиты на три выборки\n",
    "- [x] Выполнено задание 3: проведено исследование моделей\n",
    "    - [x] Рассмотрено больше одной модели\n",
    "    - [x] Рассмотрено хотя бы 3 значения гипепараметров для какой-нибудь модели\n",
    "    - [x] Написаны выводы по результатам исследования\n",
    "- [x] Выполнено задание 3: Проведено тестирование\n",
    "- [x] Удалось достичь accuracy не меньше 0.75\n"
   ]
  }
 ],
 "metadata": {
  "ExecuteTimeLog": [
   {
    "duration": 1542,
    "start_time": "2021-07-30T12:08:42.818Z"
   }
  ],
  "kernelspec": {
   "display_name": "Python 3",
   "language": "python",
   "name": "python3"
  },
  "language_info": {
   "codemirror_mode": {
    "name": "ipython",
    "version": 3
   },
   "file_extension": ".py",
   "mimetype": "text/x-python",
   "name": "python",
   "nbconvert_exporter": "python",
   "pygments_lexer": "ipython3",
   "version": "3.7.8"
  },
  "toc": {
   "base_numbering": 1,
   "nav_menu": {},
   "number_sections": true,
   "sideBar": true,
   "skip_h1_title": false,
   "title_cell": "Table of Contents",
   "title_sidebar": "Contents",
   "toc_cell": false,
   "toc_position": {},
   "toc_section_display": true,
   "toc_window_display": false
  }
 },
 "nbformat": 4,
 "nbformat_minor": 2
}
