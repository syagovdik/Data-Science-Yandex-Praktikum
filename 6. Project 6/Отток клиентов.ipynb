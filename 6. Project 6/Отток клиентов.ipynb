{
 "cells": [
  {
   "cell_type": "markdown",
   "metadata": {},
   "source": [
    "# Отток клиентов"
   ]
  },
  {
   "cell_type": "markdown",
   "metadata": {},
   "source": [
    "Из «Бета-Банка» стали уходить клиенты. Каждый месяц. Немного, но заметно. Банковские маркетологи посчитали: сохранять текущих клиентов дешевле, чем привлекать новых.\n",
    "\n",
    "Нужно спрогнозировать, уйдёт клиент из банка в ближайшее время или нет. Вам предоставлены исторические данные о поведении клиентов и расторжении договоров с банком. \n",
    "\n",
    "Постройте модель с предельно большим значением *F1*-меры. Чтобы сдать проект успешно, нужно довести метрику до 0.59. Проверьте *F1*-меру на тестовой выборке самостоятельно.\n",
    "\n",
    "Дополнительно измеряйте *AUC-ROC*, сравнивайте её значение с *F1*-мерой.\n",
    "\n",
    "Источник данных: [https://www.kaggle.com/barelydedicated/bank-customer-churn-modeling](https://www.kaggle.com/barelydedicated/bank-customer-churn-modeling)"
   ]
  },
  {
   "cell_type": "markdown",
   "metadata": {},
   "source": [
    "# Описание данных"
   ]
  },
  {
   "cell_type": "markdown",
   "metadata": {},
   "source": [
    "Признаки:\n",
    "\n",
    "RowNumber — индекс строки в данных\n",
    "\n",
    "CustomerId — уникальный идентификатор клиента\n",
    "\n",
    "Surname — фамилия\n",
    "\n",
    "CreditScore — кредитный рейтинг\n",
    "\n",
    "Geography — страна проживания\n",
    "\n",
    "Gender — пол\n",
    "\n",
    "Age — возраст\n",
    "\n",
    "Tenure — количество недвижимости у клиента\n",
    "\n",
    "Balance — баланс на счёте\n",
    "\n",
    "NumOfProducts — количество продуктов банка, используемых клиентом\n",
    "\n",
    "HasCrCard — наличие кредитной карты\n",
    "\n",
    "IsActiveMember — активность клиента\n",
    "\n",
    "EstimatedSalary — предполагаемая зарплата\n",
    "\n",
    "\n",
    "Целевой признак:\n",
    "\n",
    "Exited — факт ухода клиента"
   ]
  },
  {
   "cell_type": "markdown",
   "metadata": {},
   "source": [
    "# 1. Подготовка данных"
   ]
  },
  {
   "cell_type": "markdown",
   "metadata": {},
   "source": [
    "# 1.1 Загрузка данных"
   ]
  },
  {
   "cell_type": "code",
   "execution_count": 1,
   "metadata": {
    "scrolled": true
   },
   "outputs": [
    {
     "data": {
      "text/html": [
       "<div>\n",
       "<style scoped>\n",
       "    .dataframe tbody tr th:only-of-type {\n",
       "        vertical-align: middle;\n",
       "    }\n",
       "\n",
       "    .dataframe tbody tr th {\n",
       "        vertical-align: top;\n",
       "    }\n",
       "\n",
       "    .dataframe thead th {\n",
       "        text-align: right;\n",
       "    }\n",
       "</style>\n",
       "<table border=\"1\" class=\"dataframe\">\n",
       "  <thead>\n",
       "    <tr style=\"text-align: right;\">\n",
       "      <th></th>\n",
       "      <th>RowNumber</th>\n",
       "      <th>CustomerId</th>\n",
       "      <th>Surname</th>\n",
       "      <th>CreditScore</th>\n",
       "      <th>Geography</th>\n",
       "      <th>Gender</th>\n",
       "      <th>Age</th>\n",
       "      <th>Tenure</th>\n",
       "      <th>Balance</th>\n",
       "      <th>NumOfProducts</th>\n",
       "      <th>HasCrCard</th>\n",
       "      <th>IsActiveMember</th>\n",
       "      <th>EstimatedSalary</th>\n",
       "      <th>Exited</th>\n",
       "    </tr>\n",
       "  </thead>\n",
       "  <tbody>\n",
       "    <tr>\n",
       "      <td>0</td>\n",
       "      <td>1</td>\n",
       "      <td>15634602</td>\n",
       "      <td>Hargrave</td>\n",
       "      <td>619</td>\n",
       "      <td>France</td>\n",
       "      <td>Female</td>\n",
       "      <td>42</td>\n",
       "      <td>2.0</td>\n",
       "      <td>0.00</td>\n",
       "      <td>1</td>\n",
       "      <td>1</td>\n",
       "      <td>1</td>\n",
       "      <td>101348.88</td>\n",
       "      <td>1</td>\n",
       "    </tr>\n",
       "    <tr>\n",
       "      <td>1</td>\n",
       "      <td>2</td>\n",
       "      <td>15647311</td>\n",
       "      <td>Hill</td>\n",
       "      <td>608</td>\n",
       "      <td>Spain</td>\n",
       "      <td>Female</td>\n",
       "      <td>41</td>\n",
       "      <td>1.0</td>\n",
       "      <td>83807.86</td>\n",
       "      <td>1</td>\n",
       "      <td>0</td>\n",
       "      <td>1</td>\n",
       "      <td>112542.58</td>\n",
       "      <td>0</td>\n",
       "    </tr>\n",
       "    <tr>\n",
       "      <td>2</td>\n",
       "      <td>3</td>\n",
       "      <td>15619304</td>\n",
       "      <td>Onio</td>\n",
       "      <td>502</td>\n",
       "      <td>France</td>\n",
       "      <td>Female</td>\n",
       "      <td>42</td>\n",
       "      <td>8.0</td>\n",
       "      <td>159660.80</td>\n",
       "      <td>3</td>\n",
       "      <td>1</td>\n",
       "      <td>0</td>\n",
       "      <td>113931.57</td>\n",
       "      <td>1</td>\n",
       "    </tr>\n",
       "    <tr>\n",
       "      <td>3</td>\n",
       "      <td>4</td>\n",
       "      <td>15701354</td>\n",
       "      <td>Boni</td>\n",
       "      <td>699</td>\n",
       "      <td>France</td>\n",
       "      <td>Female</td>\n",
       "      <td>39</td>\n",
       "      <td>1.0</td>\n",
       "      <td>0.00</td>\n",
       "      <td>2</td>\n",
       "      <td>0</td>\n",
       "      <td>0</td>\n",
       "      <td>93826.63</td>\n",
       "      <td>0</td>\n",
       "    </tr>\n",
       "    <tr>\n",
       "      <td>4</td>\n",
       "      <td>5</td>\n",
       "      <td>15737888</td>\n",
       "      <td>Mitchell</td>\n",
       "      <td>850</td>\n",
       "      <td>Spain</td>\n",
       "      <td>Female</td>\n",
       "      <td>43</td>\n",
       "      <td>2.0</td>\n",
       "      <td>125510.82</td>\n",
       "      <td>1</td>\n",
       "      <td>1</td>\n",
       "      <td>1</td>\n",
       "      <td>79084.10</td>\n",
       "      <td>0</td>\n",
       "    </tr>\n",
       "  </tbody>\n",
       "</table>\n",
       "</div>"
      ],
      "text/plain": [
       "   RowNumber  CustomerId   Surname  CreditScore Geography  Gender  Age  \\\n",
       "0          1    15634602  Hargrave          619    France  Female   42   \n",
       "1          2    15647311      Hill          608     Spain  Female   41   \n",
       "2          3    15619304      Onio          502    France  Female   42   \n",
       "3          4    15701354      Boni          699    France  Female   39   \n",
       "4          5    15737888  Mitchell          850     Spain  Female   43   \n",
       "\n",
       "   Tenure    Balance  NumOfProducts  HasCrCard  IsActiveMember  \\\n",
       "0     2.0       0.00              1          1               1   \n",
       "1     1.0   83807.86              1          0               1   \n",
       "2     8.0  159660.80              3          1               0   \n",
       "3     1.0       0.00              2          0               0   \n",
       "4     2.0  125510.82              1          1               1   \n",
       "\n",
       "   EstimatedSalary  Exited  \n",
       "0        101348.88       1  \n",
       "1        112542.58       0  \n",
       "2        113931.57       1  \n",
       "3         93826.63       0  \n",
       "4         79084.10       0  "
      ]
     },
     "metadata": {},
     "output_type": "display_data"
    },
    {
     "name": "stdout",
     "output_type": "stream",
     "text": [
      "Размер таблицы:\n"
     ]
    },
    {
     "data": {
      "text/plain": [
       "(10000, 14)"
      ]
     },
     "metadata": {},
     "output_type": "display_data"
    },
    {
     "name": "stdout",
     "output_type": "stream",
     "text": [
      "Общая информация о таблице:\n",
      "<class 'pandas.core.frame.DataFrame'>\n",
      "RangeIndex: 10000 entries, 0 to 9999\n",
      "Data columns (total 14 columns):\n",
      "RowNumber          10000 non-null int64\n",
      "CustomerId         10000 non-null int64\n",
      "Surname            10000 non-null object\n",
      "CreditScore        10000 non-null int64\n",
      "Geography          10000 non-null object\n",
      "Gender             10000 non-null object\n",
      "Age                10000 non-null int64\n",
      "Tenure             9091 non-null float64\n",
      "Balance            10000 non-null float64\n",
      "NumOfProducts      10000 non-null int64\n",
      "HasCrCard          10000 non-null int64\n",
      "IsActiveMember     10000 non-null int64\n",
      "EstimatedSalary    10000 non-null float64\n",
      "Exited             10000 non-null int64\n",
      "dtypes: float64(3), int64(8), object(3)\n",
      "memory usage: 1.1+ MB\n"
     ]
    }
   ],
   "source": [
    "#Подключим библиотеки\n",
    "import pandas as pd\n",
    "from sklearn.model_selection import train_test_split\n",
    "from sklearn.linear_model import LogisticRegression\n",
    "import matplotlib.pyplot as plt\n",
    "import numpy as np\n",
    "import scipy.stats as st\n",
    "from sklearn.preprocessing import OrdinalEncoder \n",
    "from sklearn.tree import DecisionTreeClassifier\n",
    "from sklearn.preprocessing import StandardScaler \n",
    "from sklearn.metrics import accuracy_score\n",
    "from sklearn.ensemble import RandomForestClassifier\n",
    "from sklearn.metrics import f1_score\n",
    "from sklearn.utils import shuffle\n",
    "from sklearn.metrics import roc_auc_score\n",
    "from sklearn.metrics import roc_curve \n",
    "\n",
    "\n",
    "#Откроем файл\n",
    "data = pd.read_csv('/datasets/Churn.csv')\n",
    "\n",
    "#Отобразим первые 5 строк таблицы\n",
    "display(data.head(5))\n",
    "\n",
    "#Отобразим размер таблицы\n",
    "print('Размер таблицы:')\n",
    "display(data.shape)\n",
    "\n",
    "#Просмотрим общую информации о таблице\n",
    "print('Общая информация о таблице:')\n",
    "data.info()"
   ]
  },
  {
   "cell_type": "markdown",
   "metadata": {},
   "source": [
    "# 1.2 Заменим значения 'nan' в столбце 'Tenure' на медианые значения"
   ]
  },
  {
   "cell_type": "code",
   "execution_count": 2,
   "metadata": {
    "scrolled": true
   },
   "outputs": [
    {
     "name": "stdout",
     "output_type": "stream",
     "text": [
      "До замены nan:\n"
     ]
    },
    {
     "data": {
      "text/plain": [
       "array([ 2.,  1.,  8.,  7.,  4.,  6.,  3., 10.,  5.,  9.,  0., nan])"
      ]
     },
     "metadata": {},
     "output_type": "display_data"
    },
    {
     "data": {
      "text/plain": [
       "1.0     952\n",
       "2.0     950\n",
       "8.0     933\n",
       "3.0     928\n",
       "5.0     927\n",
       "7.0     925\n",
       "4.0     885\n",
       "9.0     882\n",
       "6.0     881\n",
       "10.0    446\n",
       "0.0     382\n",
       "Name: Tenure, dtype: int64"
      ]
     },
     "metadata": {},
     "output_type": "display_data"
    },
    {
     "name": "stdout",
     "output_type": "stream",
     "text": [
      "После замены nan:\n"
     ]
    },
    {
     "data": {
      "text/plain": [
       "array([ 2.,  1.,  8.,  7.,  4.,  6.,  3., 10.,  5.,  9.,  0.])"
      ]
     },
     "metadata": {},
     "output_type": "display_data"
    },
    {
     "data": {
      "text/plain": [
       "5.0     1836\n",
       "1.0      952\n",
       "2.0      950\n",
       "8.0      933\n",
       "3.0      928\n",
       "7.0      925\n",
       "4.0      885\n",
       "9.0      882\n",
       "6.0      881\n",
       "10.0     446\n",
       "0.0      382\n",
       "Name: Tenure, dtype: int64"
      ]
     },
     "metadata": {},
     "output_type": "display_data"
    }
   ],
   "source": [
    "#Так в столбце 'Tenure' есть значения 'nan', то их необходимо заполнить\n",
    "#Так как таких значений порядка 900 шт. и это 9% данных, то заменить их на ноль будет не корректно.\n",
    "#Поэтому будем заменять их на значение медианы. \n",
    "print(\"До замены nan:\")\n",
    "display(data['Tenure'].unique())\n",
    "display(data['Tenure'].sort_values(ascending=True).value_counts())\n",
    "\n",
    "mediana_tenure = data['Tenure'].median() #вычислим медиану\n",
    "data['Tenure'] = data['Tenure'].fillna(mediana_tenure) #заменим 'nan' на медианные значения.\n",
    "\n",
    "print(\"После замены nan:\")\n",
    "display(data['Tenure'].unique())\n",
    "display(data['Tenure'].sort_values(ascending=True).value_counts())"
   ]
  },
  {
   "cell_type": "markdown",
   "metadata": {},
   "source": [
    "# 1.3 Удалим столбец 'Surname'"
   ]
  },
  {
   "cell_type": "code",
   "execution_count": 3,
   "metadata": {
    "scrolled": true
   },
   "outputs": [
    {
     "name": "stdout",
     "output_type": "stream",
     "text": [
      "RowNumber            int64\n",
      "CustomerId           int64\n",
      "Surname             object\n",
      "CreditScore          int64\n",
      "Geography           object\n",
      "Gender              object\n",
      "Age                  int64\n",
      "Tenure             float64\n",
      "Balance            float64\n",
      "NumOfProducts        int64\n",
      "HasCrCard            int64\n",
      "IsActiveMember       int64\n",
      "EstimatedSalary    float64\n",
      "Exited               int64\n",
      "dtype: object\n"
     ]
    }
   ],
   "source": [
    "#Удалим столбец Surname, так как он объектоного типа и не относится к признакам.\n",
    "print(data.dtypes)\n",
    "data.drop('Surname', axis=1, inplace=True)"
   ]
  },
  {
   "cell_type": "markdown",
   "metadata": {},
   "source": [
    "# 1.4 Вывод:"
   ]
  },
  {
   "cell_type": "markdown",
   "metadata": {},
   "source": [
    "Таблица содержит 1000 строк и 14 столбцов. Столбец 'Tenure' содержад пропуски, в связи с чем, пропуски были заменены на медианные значения. Столбец Surname был удален, так как он объектоного типа и не относится к признакам."
   ]
  },
  {
   "cell_type": "markdown",
   "metadata": {},
   "source": [
    "# 2. Исследование задачи"
   ]
  },
  {
   "cell_type": "markdown",
   "metadata": {},
   "source": [
    "# 2.1 Исследуем баланс классов"
   ]
  },
  {
   "cell_type": "code",
   "execution_count": 4,
   "metadata": {},
   "outputs": [
    {
     "name": "stdout",
     "output_type": "stream",
     "text": [
      "0    0.7963\n",
      "1    0.2037\n",
      "Name: Exited, dtype: float64\n"
     ]
    },
    {
     "data": {
      "text/plain": [
       "<matplotlib.axes._subplots.AxesSubplot at 0x7f9bab4e9110>"
      ]
     },
     "execution_count": 4,
     "metadata": {},
     "output_type": "execute_result"
    },
    {
     "data": {
      "image/png": "[encoded data removed]",
      "text/plain": [
       "<Figure size 432x288 with 1 Axes>"
      ]
     },
     "metadata": {
      "needs_background": "light"
     },
     "output_type": "display_data"
    }
   ],
   "source": [
    "## Исследуем баланс классов и построим график\n",
    "class_frequency = data['Exited'].value_counts(normalize = True)\n",
    "print(class_frequency)\n",
    "\n",
    "#Построим график\n",
    "class_frequency.plot(kind='bar')"
   ]
  },
  {
   "cell_type": "markdown",
   "metadata": {},
   "source": [
    "# 2.2 Вывод:"
   ]
  },
  {
   "cell_type": "markdown",
   "metadata": {},
   "source": [
    "Наблюдается дисбаланс классов, значений 1 - 20%, в значений 0 - 80%. В связи с чем, пользоваться Accuracy для оценки модели не представляется возможным. Для оценки модели будем использовать параметр f1. "
   ]
  },
  {
   "cell_type": "markdown",
   "metadata": {},
   "source": [
    "# 2.3 Изучим модели без учета дисбаланса"
   ]
  },
  {
   "cell_type": "markdown",
   "metadata": {},
   "source": [
    "# 2.3.1 Линейная регрессия без учета дисбаланса"
   ]
  },
  {
   "cell_type": "code",
   "execution_count": 5,
   "metadata": {},
   "outputs": [
    {
     "name": "stdout",
     "output_type": "stream",
     "text": [
      "f1_score: 0.25301204819277107\n"
     ]
    }
   ],
   "source": [
    "pd.options.mode.chained_assignment = None #отключим warning\n",
    "\n",
    "#Преобразуем категориальный признак техникой OHE\n",
    "data_ohe = pd.get_dummies(data, drop_first=True)\n",
    "\n",
    "#Определим признаки и целевой признак для модели линейная регрессия\n",
    "target_ohe = data_ohe['Exited']\n",
    "features_ohe = data_ohe.drop(['RowNumber', 'CustomerId', 'Exited'], axis=1)\n",
    "\n",
    "#Выделим 20% тестовых данных из всего объема данных\n",
    "features_df1, features_test_ohe, target_df1, target_test_ohe = train_test_split(features_ohe, target_ohe, test_size=0.20, random_state=12345)\n",
    "\n",
    "#Разделим отавшиеся 80% данных на тренировочные и валидационные(проверечное). Данные делим в пропорции: 75% от общего числа\n",
    "#данных - это тренировочные, 25% от общего числа - это валидационные.\n",
    "features_train_ohe, features_valid_ohe, target_train_ohe, target_valid_ohe = train_test_split(features_df1, target_df1, test_size=0.25, random_state=12345)\n",
    "\n",
    "#Выполним масштабирование для модели линейная регрессия\n",
    "numeric = ['CreditScore', 'Age', 'Tenure', 'Balance', 'NumOfProducts', 'HasCrCard', 'IsActiveMember', 'EstimatedSalary'] #определим столбцы, которые будем масштабировать\n",
    "scaler = StandardScaler()\n",
    "scaler.fit(features_train_ohe[numeric]) \n",
    "features_train_ohe[numeric] = scaler.transform(features_train_ohe[numeric])\n",
    "features_valid_ohe[numeric] = scaler.transform(features_valid_ohe[numeric]) \n",
    "features_test_ohe[numeric] = scaler.transform(features_test_ohe[numeric]) \n",
    "\n",
    "#Проверим модель линейная регрессии\n",
    "model = LogisticRegression(random_state=12345, solver='liblinear')#создадим модель и установим гиперпараметры\n",
    "model.fit(features_train_ohe[numeric], target_train_ohe) #обучим модель на тренировочной выборке\n",
    "predicted_valid_ohe = model.predict(features_valid_ohe[numeric]) #предскажем на валидационной выборке\n",
    "print('f1_score:', f1_score(target_valid_ohe, predicted_valid_ohe)) #вычислим f1"
   ]
  },
  {
   "cell_type": "markdown",
   "metadata": {},
   "source": [
    "# 2.3.2 AUC-ROC для логистической регрессия без учета дисбаланса"
   ]
  },
  {
   "cell_type": "code",
   "execution_count": 6,
   "metadata": {},
   "outputs": [
    {
     "name": "stdout",
     "output_type": "stream",
     "text": [
      "AUC-ROC логистической регрессии: 0.748329012476177\n"
     ]
    },
    {
     "data": {
      "image/png": "[encoded data removed]",
      "text/plain": [
       "<Figure size 432x288 with 1 Axes>"
      ]
     },
     "metadata": {
      "needs_background": "light"
     },
     "output_type": "display_data"
    }
   ],
   "source": [
    "#Вычислим AUC-ROC\n",
    "probabilities_valid_ohe = model.predict_proba(features_valid_ohe[numeric])\n",
    "probabilities_one_valid_ohe = probabilities_valid_ohe[:, 1]\n",
    "auc_roc = roc_auc_score(target_valid_ohe, probabilities_one_valid_ohe)\n",
    "print('AUC-ROC логистической регрессии:', auc_roc)\n",
    "\n",
    "fpr, tpr, thresholds = roc_curve(target_valid_ohe, probabilities_one_valid_ohe) \n",
    "\n",
    "#Построим график AUC-ROC\n",
    "plt.figure()\n",
    "plt.plot(fpr, tpr)\n",
    "\n",
    "#ROC-кривая случайной модели (выглядит как прямая)\n",
    "plt.plot([0, 1], [0, 1], linestyle='--')\n",
    "\n",
    "#Примените функции plt.xlim() и plt.ylim(), чтобы установить границы осей от 0 до 1 \n",
    "plt.xlim([0.0, 1.0])\n",
    "plt.ylim([0.0, 1.0])\n",
    "\n",
    "#Примените функции plt.xlabel() и plt.ylabel(), чтобы одписать оси \"False Positive Rate\" и \"True Positive Rate\" \n",
    "plt.xlabel('False Positive Rate')\n",
    "plt.ylabel('True Positive Rate')\n",
    "\n",
    "#Добавим к графику заголовок \"ROC-кривая\" функцией plt.title() >\n",
    "plt.title('ROC-кривая')\n",
    "plt.show()"
   ]
  },
  {
   "cell_type": "markdown",
   "metadata": {},
   "source": [
    "# 2.3.3 Случайный лес без учета дисбаланса"
   ]
  },
  {
   "cell_type": "code",
   "execution_count": 7,
   "metadata": {},
   "outputs": [
    {
     "name": "stdout",
     "output_type": "stream",
     "text": [
      "Accuracy наилучшей модели 'случайный лес' на валидационной выборке: 0.8615\n",
      "Лучшая модели 'случайный лес' на валидационной выборке: RandomForestClassifier(bootstrap=True, class_weight=None, criterion='entropy',\n",
      "                       max_depth=11, max_features='auto', max_leaf_nodes=None,\n",
      "                       min_impurity_decrease=0.0, min_impurity_split=None,\n",
      "                       min_samples_leaf=1, min_samples_split=3,\n",
      "                       min_weight_fraction_leaf=0.0, n_estimators=27,\n",
      "                       n_jobs=None, oob_score=False, random_state=12345,\n",
      "                       verbose=0, warm_start=False)\n",
      "F1_score: 0.534453781512605\n"
     ]
    }
   ],
   "source": [
    "#Определим признаки и целевой признак для модели случайный лес\n",
    "target= data['Exited'] \n",
    "features = data.drop(['RowNumber', 'CustomerId', 'Exited'], axis=1) #исключим из признаков 'RowNumber', 'CustomerId', 'Exited'\n",
    "\n",
    "#Выделим 20% тестовых данных из всего объема данных\n",
    "features_df1, features_test, target_df1, target_test = train_test_split(features, target, test_size=0.20, random_state=12345)\n",
    "\n",
    "#Разделим отавшиеся 80% данных на тренировочные и валидационные(проверечное). Данные делим в пропорции: 75% от общего числа\n",
    "#данных - это тренировочные, 25% от общего числа - это валидационные.\n",
    "features_train, features_valid, target_train, target_valid = train_test_split(features_df1, target_df1, test_size=0.25, random_state=12345)\n",
    "\n",
    "#Выполним масштабирование для модели случайный лес\n",
    "numeric = ['CreditScore', 'Age', 'Tenure', 'Balance', 'NumOfProducts', 'HasCrCard', 'IsActiveMember', 'EstimatedSalary'] #определим столбцы, которые будем масштабировать\n",
    "scaler = StandardScaler()\n",
    "scaler.fit(features_train[numeric]) \n",
    "features_train[numeric] = scaler.transform(features_train[numeric])\n",
    "features_valid[numeric] = scaler.transform(features_valid[numeric]) \n",
    "features_test[numeric] = scaler.transform(features_test[numeric]) \n",
    "\n",
    "#Напишем функцию для модели 'случайный лес', чтобы выбрать лучшую модель в зависимости от количества деревьев и глубины.\n",
    "best_model = None\n",
    "best_result = 0\n",
    "for est in range(1, 50):\n",
    "    for depth in range(1,50):\n",
    "        model = RandomForestClassifier(random_state=12345, max_depth=depth, n_estimators=est, criterion = 'entropy', min_samples_split=3, min_samples_leaf=1) #установим гиперпараметры\n",
    "        model.fit(features_train[numeric], target_train) # обучим модель на тренировочной выборке\n",
    "        result = model.score(features_valid[numeric], target_valid) # посчитаем accuracy модели на валидационной выборке\n",
    "        if result > best_result:\n",
    "            best_model = model\n",
    "            best_result = result\n",
    "            \n",
    "print(\"Accuracy наилучшей модели 'случайный лес' на валидационной выборке:\", best_result)\n",
    "print(\"Лучшая модели 'случайный лес' на валидационной выборке:\", best_model)\n",
    "\n",
    "#Вычислим f1 для лучшей модели 'случайный лес'\n",
    "model = RandomForestClassifier(random_state=12345, max_depth=11, n_estimators=27, criterion = 'entropy', min_samples_split=3, min_samples_leaf=1) #установим гиперпараметры\n",
    "model.fit(features_train[numeric], target_train) # обучим модель на тренировочной выборке\n",
    "predicted_valid = model.predict(features_valid[numeric]) #предскажем на масштабированной валидационной выборке\n",
    "print(\"F1_score:\", f1_score(target_valid, predicted_valid))"
   ]
  },
  {
   "cell_type": "markdown",
   "metadata": {},
   "source": [
    "# 2.3.4 AUC-ROC для модели случайный лес без учета дисбаланса"
   ]
  },
  {
   "cell_type": "code",
   "execution_count": 8,
   "metadata": {},
   "outputs": [
    {
     "name": "stdout",
     "output_type": "stream",
     "text": [
      "AUC-ROC модели случайный лес: 0.8334957297427037\n"
     ]
    },
    {
     "data": {
      "image/png": "[encoded data removed]",
      "text/plain": [
       "<Figure size 432x288 with 1 Axes>"
      ]
     },
     "metadata": {
      "needs_background": "light"
     },
     "output_type": "display_data"
    }
   ],
   "source": [
    "#AUC-ROC\n",
    "probabilities_valid = model.predict_proba(features_valid[numeric])\n",
    "probabilities_one_valid = probabilities_valid[:, 1]\n",
    "auc_roc = roc_auc_score(target_valid, probabilities_one_valid)\n",
    "print('AUC-ROC модели случайный лес:', auc_roc)\n",
    "\n",
    "#Построим график AUC-ROC\n",
    "plt.figure()\n",
    "plt.plot(fpr, tpr)\n",
    "\n",
    "#ROC-кривая случайной модели (выглядит как прямая)\n",
    "plt.plot([0, 1], [0, 1], linestyle='--')\n",
    "\n",
    "#Примените функции plt.xlim() и plt.ylim(), чтобы установить границы осей от 0 до 1 \n",
    "plt.xlim([0.0, 1.0])\n",
    "plt.ylim([0.0, 1.0])\n",
    "\n",
    "#Примените функции plt.xlabel() и plt.ylabel(), чтобы одписать оси \"False Positive Rate\" и \"True Positive Rate\" \n",
    "plt.xlabel('False Positive Rate')\n",
    "plt.ylabel('True Positive Rate')\n",
    "\n",
    "#Добавим к графику заголовок \"ROC-кривая\" функцией plt.title() >\n",
    "plt.title('ROC-кривая')\n",
    "plt.show()"
   ]
  },
  {
   "cell_type": "markdown",
   "metadata": {},
   "source": [
    "# 2.4 Вывод:"
   ]
  },
  {
   "cell_type": "markdown",
   "metadata": {},
   "source": [
    "Были исследованы модели 'линейная регрессия' и 'случайный лес' без учета дисбаланса. Для линейной регрессии преобразовали категориальные признаки в численные с помощью техника прямого кодирования One-Hot Encoding (OHE) и чтобы не попасть в дамми-ловушку было указан аргумент drop_first = True и применен метод масштабирования.\n",
    "Для модели 'случайный лес' была примененена функция порядковое кодирование, в результате категориальные признаки были преобразованы в цифры и применен метод масштабирования.\n",
    "Если не бороться с дисбалансом, то f1 у линейной регрессии очень низкий и равен 0.25301204819277107. У модели случайный лес f1, гораздо выше и составляет F1_score: 0.534453781512605, но необходимо достичь 0,59. Лучшего результата у модели случайный лес достигается с использованием гиперпараметров max_depth=11, n_estimators=27, criterion = 'entropy'."
   ]
  },
  {
   "cell_type": "markdown",
   "metadata": {},
   "source": [
    "# 3. Борьба с дисбалансом"
   ]
  },
  {
   "cell_type": "markdown",
   "metadata": {},
   "source": [
    "# 3.1 Взвешивание классов для логистической регрессии "
   ]
  },
  {
   "cell_type": "code",
   "execution_count": 9,
   "metadata": {},
   "outputs": [
    {
     "name": "stdout",
     "output_type": "stream",
     "text": [
      "f1_score: 0.45654082528533807\n",
      "AUC-ROC логистической регрессии: 0.7525205883147703\n"
     ]
    },
    {
     "data": {
      "image/png": "[encoded data removed]",
      "text/plain": [
       "<Figure size 432x288 with 1 Axes>"
      ]
     },
     "metadata": {
      "needs_background": "light"
     },
     "output_type": "display_data"
    }
   ],
   "source": [
    "#Установим гиперпараметр class_weight='balanced' для балансировки классов и проверим модель на валидационной выборке\n",
    "model = LogisticRegression(random_state=12345, solver='liblinear', class_weight='balanced')#создадим модель и установим гиперпараметры\n",
    "model.fit(features_train_ohe[numeric], target_train_ohe) #обучим модель на тренировочной выборке\n",
    "predicted_valid_ohe = model.predict(features_valid_ohe[numeric]) #предскажем на валидационной выборке\n",
    "print('f1_score:', f1_score(target_valid_ohe, predicted_valid_ohe)) #вычислим f1\n",
    "\n",
    "\n",
    "#Вычислим AUC-ROC\n",
    "probabilities_valid_ohe = model.predict_proba(features_valid_ohe[numeric])\n",
    "probabilities_one_valid_ohe = probabilities_valid_ohe[:, 1]\n",
    "auc_roc = roc_auc_score(target_valid_ohe, probabilities_one_valid_ohe)\n",
    "print('AUC-ROC логистической регрессии:', auc_roc)\n",
    "\n",
    "fpr, tpr, thresholds = roc_curve(target_valid_ohe, probabilities_one_valid) \n",
    "\n",
    "#Построим график AUC-ROC\n",
    "plt.figure()\n",
    "plt.plot(fpr, tpr)\n",
    "\n",
    "#ROC-кривая случайной модели (выглядит как прямая)\n",
    "plt.plot([0, 1], [0, 1], linestyle='--')\n",
    "\n",
    "#Примените функции plt.xlim() и plt.ylim(), чтобы установить границы осей от 0 до 1 \n",
    "plt.xlim([0.0, 1.0])\n",
    "plt.ylim([0.0, 1.0])\n",
    "\n",
    "#Примените функции plt.xlabel() и plt.ylabel(), чтобы одписать оси \"False Positive Rate\" и \"True Positive Rate\" \n",
    "plt.xlabel('False Positive Rate')\n",
    "plt.ylabel('True Positive Rate')\n",
    "\n",
    "#Добавим к графику заголовок \"ROC-кривая\" функцией plt.title() >\n",
    "plt.title('ROC-кривая')\n",
    "plt.show()"
   ]
  },
  {
   "cell_type": "markdown",
   "metadata": {},
   "source": [
    "# 3.2 Взвешивание классов для модели случайный лес"
   ]
  },
  {
   "cell_type": "code",
   "execution_count": 10,
   "metadata": {},
   "outputs": [
    {
     "name": "stdout",
     "output_type": "stream",
     "text": [
      "F1_score: 0.5431472081218274\n",
      "AUC-ROC модели случайный лес: 0.8264811585725436\n"
     ]
    },
    {
     "data": {
      "image/png": "[encoded data removed]",
      "text/plain": [
       "<Figure size 432x288 with 1 Axes>"
      ]
     },
     "metadata": {
      "needs_background": "light"
     },
     "output_type": "display_data"
    }
   ],
   "source": [
    "#Установим гиперпараметр class_weight='balanced' для балансировки классов и проверим модель на валидационной выборке\n",
    "model = RandomForestClassifier(random_state=12345, max_depth=11, n_estimators=27, criterion = 'entropy', min_samples_split=3, min_samples_leaf=1, class_weight='balanced') #установим гиперпараметры\n",
    "model.fit(features_train[numeric], target_train) # обучим модель на тренировочной выборке\n",
    "predicted_valid = model.predict(features_valid[numeric]) #предскажем на масштабированной валидационной выборке\n",
    "print(\"F1_score:\", f1_score(target_valid, predicted_valid))#вычислим f1 для лучшей модели 'случайный лес'\n",
    "\n",
    "#AUC-ROC\n",
    "probabilities_valid = model.predict_proba(features_valid[numeric])\n",
    "probabilities_one_valid = probabilities_valid[:, 1]\n",
    "auc_roc = roc_auc_score(target_valid, probabilities_one_valid)\n",
    "print('AUC-ROC модели случайный лес:', auc_roc)\n",
    "\n",
    "#Построим график AUC-ROC\n",
    "plt.figure()\n",
    "plt.plot(fpr, tpr)\n",
    "\n",
    "#ROC-кривая случайной модели (выглядит как прямая)\n",
    "plt.plot([0, 1], [0, 1], linestyle='--')\n",
    "\n",
    "#Примените функции plt.xlim() и plt.ylim(), чтобы установить границы осей от 0 до 1 \n",
    "plt.xlim([0.0, 1.0])\n",
    "plt.ylim([0.0, 1.0])\n",
    "\n",
    "#Примените функции plt.xlabel() и plt.ylabel(), чтобы одписать оси \"False Positive Rate\" и \"True Positive Rate\" \n",
    "plt.xlabel('False Positive Rate')\n",
    "plt.ylabel('True Positive Rate')\n",
    "\n",
    "#Добавим к графику заголовок \"ROC-кривая\" функцией plt.title() >\n",
    "plt.title('ROC-кривая')\n",
    "plt.show()"
   ]
  },
  {
   "cell_type": "markdown",
   "metadata": {},
   "source": [
    "# 3.3 Увелечение выборки для логистической регрессии"
   ]
  },
  {
   "cell_type": "code",
   "execution_count": 11,
   "metadata": {},
   "outputs": [],
   "source": [
    "#Увеличим выборку с помощью техники upsampling \n",
    "def upsample(features_ohe, target_ohe, repeat):\n",
    "    features_zeros_ohe = features_ohe[target_ohe == 0]\n",
    "    features_ones_ohe = features_ohe[target_ohe == 1]\n",
    "    target_zeros_ohe = target_ohe[target_ohe == 0]\n",
    "    target_ones_ohe = target_ohe[target_ohe == 1]\n",
    "\n",
    "    features_upsampled_ohe = pd.concat([features_zeros_ohe] + [features_ones_ohe] * repeat)\n",
    "    target_upsampled_ohe = pd.concat([target_zeros_ohe] + [target_ones_ohe] * repeat)\n",
    "    \n",
    "    features_upsampled_ohe, target_upsampled_ohe = shuffle(\n",
    "        features_upsampled_ohe, target_upsampled_ohe, random_state=12345)\n",
    "    \n",
    "    return features_upsampled_ohe, target_upsampled_ohe\n",
    "\n",
    "features_upsampled_ohe, target_upsampled_ohe = upsample(features_train_ohe[numeric], target_train_ohe, 10)"
   ]
  },
  {
   "cell_type": "markdown",
   "metadata": {},
   "source": [
    "# 3.4 Проверка модели логистическая регрессии на увеличенной выборке"
   ]
  },
  {
   "cell_type": "code",
   "execution_count": 12,
   "metadata": {},
   "outputs": [
    {
     "name": "stdout",
     "output_type": "stream",
     "text": [
      "f1_score на увеличенной выборке логистической регрессии: 0.39300847457627114\n",
      "AUC-ROC логистической регрессии: 0.754192767981892\n"
     ]
    },
    {
     "data": {
      "image/png": "[encoded data removed]",
      "text/plain": [
       "<Figure size 432x288 with 1 Axes>"
      ]
     },
     "metadata": {
      "needs_background": "light"
     },
     "output_type": "display_data"
    }
   ],
   "source": [
    "#Проверим модель логистической регрессии на увеличенной выборке\n",
    "model = LogisticRegression(random_state=12345, solver='liblinear')#создадим модель и установим гиперпараметры\n",
    "model.fit(features_upsampled_ohe, target_upsampled_ohe) #обучим модель на увеличенной выборке\n",
    "predicted_valid_ohe = model.predict(features_valid_ohe[numeric]) #предскажем на валидационной выборке\n",
    "print('f1_score на увеличенной выборке логистической регрессии:', f1_score(target_valid_ohe, predicted_valid_ohe)) #вычислим f1\n",
    "\n",
    "#Вычислим AUC-ROC\n",
    "probabilities_valid_ohe = model.predict_proba(features_valid_ohe[numeric])\n",
    "probabilities_one_valid_ohe = probabilities_valid_ohe[:, 1]\n",
    "auc_roc = roc_auc_score(target_valid_ohe, probabilities_one_valid_ohe)\n",
    "print('AUC-ROC логистической регрессии:', auc_roc)\n",
    "\n",
    "fpr, tpr, thresholds = roc_curve(target_valid_ohe, probabilities_one_valid) \n",
    "\n",
    "#Построим график AUC-ROC\n",
    "plt.figure()\n",
    "plt.plot(fpr, tpr)\n",
    "\n",
    "#ROC-кривая случайной модели (выглядит как прямая)\n",
    "plt.plot([0, 1], [0, 1], linestyle='--')\n",
    "\n",
    "#Примените функции plt.xlim() и plt.ylim(), чтобы установить границы осей от 0 до 1 \n",
    "plt.xlim([0.0, 1.0])\n",
    "plt.ylim([0.0, 1.0])\n",
    "\n",
    "#Примените функции plt.xlabel() и plt.ylabel(), чтобы одписать оси \"False Positive Rate\" и \"True Positive Rate\" \n",
    "plt.xlabel('False Positive Rate')\n",
    "plt.ylabel('True Positive Rate')\n",
    "\n",
    "#Добавим к графику заголовок \"ROC-кривая\" функцией plt.title() >\n",
    "plt.title('ROC-кривая')\n",
    "plt.show()"
   ]
  },
  {
   "cell_type": "markdown",
   "metadata": {},
   "source": [
    "# 3.5 Проверка модель логистической регрессии на увеличенной выборке и взвешанных классах"
   ]
  },
  {
   "cell_type": "code",
   "execution_count": 13,
   "metadata": {},
   "outputs": [
    {
     "name": "stdout",
     "output_type": "stream",
     "text": [
      "f1_score на увеличенной выборке и взвешанных классах логистической регрессии: 0.45654082528533807\n",
      "AUC-ROC логистической регрессии: 0.7525126406927783\n"
     ]
    },
    {
     "data": {
      "image/png": "[encoded data removed]",
      "text/plain": [
       "<Figure size 432x288 with 1 Axes>"
      ]
     },
     "metadata": {
      "needs_background": "light"
     },
     "output_type": "display_data"
    }
   ],
   "source": [
    "#Проверим модель логистической регрессии на увеличенной выборке\n",
    "model = LogisticRegression(random_state=12345, solver='liblinear', class_weight='balanced')#создадим модель и установим гиперпараметры\n",
    "model.fit(features_upsampled_ohe, target_upsampled_ohe) #обучим модель на увеличенной выборке\n",
    "predicted_valid_ohe = model.predict(features_valid_ohe[numeric]) #предскажем на валидационной выборке\n",
    "print('f1_score на увеличенной выборке и взвешанных классах логистической регрессии:', f1_score(target_valid_ohe, predicted_valid_ohe)) #вычислим f1\n",
    "\n",
    "#Вычислим AUC-ROC\n",
    "probabilities_valid_ohe = model.predict_proba(features_valid_ohe[numeric])\n",
    "probabilities_one_valid_ohe = probabilities_valid_ohe[:, 1]\n",
    "auc_roc = roc_auc_score(target_valid_ohe, probabilities_one_valid_ohe)\n",
    "print('AUC-ROC логистической регрессии:', auc_roc)\n",
    "\n",
    "fpr, tpr, thresholds = roc_curve(target_valid_ohe, probabilities_one_valid) \n",
    "\n",
    "#Построим график AUC-ROC\n",
    "plt.figure()\n",
    "plt.plot(fpr, tpr)\n",
    "\n",
    "#ROC-кривая случайной модели (выглядит как прямая)\n",
    "plt.plot([0, 1], [0, 1], linestyle='--')\n",
    "\n",
    "#Примените функции plt.xlim() и plt.ylim(), чтобы установить границы осей от 0 до 1 \n",
    "plt.xlim([0.0, 1.0])\n",
    "plt.ylim([0.0, 1.0])\n",
    "\n",
    "#Примените функции plt.xlabel() и plt.ylabel(), чтобы одписать оси \"False Positive Rate\" и \"True Positive Rate\" \n",
    "plt.xlabel('False Positive Rate')\n",
    "plt.ylabel('True Positive Rate')\n",
    "\n",
    "#Добавим к графику заголовок \"ROC-кривая\" функцией plt.title() >\n",
    "plt.title('ROC-кривая')\n",
    "plt.show()"
   ]
  },
  {
   "cell_type": "markdown",
   "metadata": {},
   "source": [
    "# 3.6 Увелечение выборки для модели случайный лес"
   ]
  },
  {
   "cell_type": "code",
   "execution_count": 14,
   "metadata": {},
   "outputs": [],
   "source": [
    "#Увеличим выборку с помощью техники upsampling \n",
    "def upsample(features, target, repeat):\n",
    "    features_zeros = features[target == 0]\n",
    "    features_ones = features[target == 1]\n",
    "    target_zeros = target[target == 0]\n",
    "    target_ones = target[target == 1]\n",
    "\n",
    "    features_upsampled = pd.concat([features_zeros] + [features_ones] * repeat)\n",
    "    target_upsampled = pd.concat([target_zeros] + [target_ones] * repeat)\n",
    "    \n",
    "    features_upsampled, target_upsampled = shuffle(\n",
    "        features_upsampled, target_upsampled, random_state=12345)\n",
    "    \n",
    "    return features_upsampled, target_upsampled\n",
    "\n",
    "features_upsampled, target_upsampled = upsample(features_train[numeric], target_train, 10)"
   ]
  },
  {
   "cell_type": "markdown",
   "metadata": {},
   "source": [
    "# 3.7 Проверка модели случайный лес на увеличенной выборке"
   ]
  },
  {
   "cell_type": "code",
   "execution_count": 15,
   "metadata": {},
   "outputs": [
    {
     "name": "stdout",
     "output_type": "stream",
     "text": [
      "f1_score на увеличенной выборке модели случайный лес: 0.4907183212267958\n",
      "AUC-ROC модели случайный лес: 0.8238616223639725\n"
     ]
    },
    {
     "data": {
      "image/png": "[encoded data removed]",
      "text/plain": [
       "<Figure size 432x288 with 1 Axes>"
      ]
     },
     "metadata": {
      "needs_background": "light"
     },
     "output_type": "display_data"
    }
   ],
   "source": [
    "#Проверим модель случайный лес на увеличенной выборке\n",
    "model = RandomForestClassifier(random_state=12345, max_depth=11, n_estimators=27, criterion = 'entropy', min_samples_split=3, min_samples_leaf=1) #установим гиперпараметры\n",
    "model.fit(features_upsampled, target_upsampled) # обучим модель на увеличенной выборке\n",
    "predicted_valid = model.predict(features_valid[numeric])#предскажем на валидационной выборке\n",
    "print(\"f1_score на увеличенной выборке модели случайный лес:\", f1_score(target_valid, predicted_valid)) #вычислим f1\n",
    "\n",
    "#AUC-ROC\n",
    "probabilities_valid = model.predict_proba(features_valid[numeric])\n",
    "probabilities_one_valid = probabilities_valid[:, 1]\n",
    "auc_roc = roc_auc_score(target_valid, probabilities_one_valid)\n",
    "print('AUC-ROC модели случайный лес:', auc_roc)\n",
    "\n",
    "#Построим график AUC-ROC\n",
    "plt.figure()\n",
    "plt.plot(fpr, tpr)\n",
    "\n",
    "#ROC-кривая случайной модели (выглядит как прямая)\n",
    "plt.plot([0, 1], [0, 1], linestyle='--')\n",
    "\n",
    "#Примените функции plt.xlim() и plt.ylim(), чтобы установить границы осей от 0 до 1 \n",
    "plt.xlim([0.0, 1.0])\n",
    "plt.ylim([0.0, 1.0])\n",
    "\n",
    "#Примените функции plt.xlabel() и plt.ylabel(), чтобы одписать оси \"False Positive Rate\" и \"True Positive Rate\" \n",
    "plt.xlabel('False Positive Rate')\n",
    "plt.ylabel('True Positive Rate')\n",
    "\n",
    "#Добавим к графику заголовок \"ROC-кривая\" функцией plt.title() >\n",
    "plt.title('ROC-кривая')\n",
    "plt.show()"
   ]
  },
  {
   "cell_type": "markdown",
   "metadata": {},
   "source": [
    "# 3.8 Проверка модели случайный лес на увеличенной выборке и взвешанных классах"
   ]
  },
  {
   "cell_type": "code",
   "execution_count": 16,
   "metadata": {},
   "outputs": [
    {
     "name": "stdout",
     "output_type": "stream",
     "text": [
      "f1_score на увеличенной выборке и взвешанных классах модели случайный лес: 0.5519630484988453\n",
      "AUC-ROC модели случайный лес: 0.832561884158641\n"
     ]
    },
    {
     "data": {
      "image/png": "[encoded data removed]",
      "text/plain": [
       "<Figure size 432x288 with 1 Axes>"
      ]
     },
     "metadata": {
      "needs_background": "light"
     },
     "output_type": "display_data"
    }
   ],
   "source": [
    "#Проверим модель случайный лес на увеличенной выборке и взвешанных классах (class_weight='balanced')\n",
    "model = RandomForestClassifier(random_state=12345, max_depth=11, n_estimators=27, criterion = 'entropy', min_samples_split=3, min_samples_leaf=1, class_weight='balanced') #установим гиперпараметры\n",
    "model.fit(features_upsampled, target_upsampled) # обучим модель на увеличенной выборке\n",
    "predicted_valid = model.predict(features_valid[numeric])#предскажем на валидационной выборке\n",
    "print(\"f1_score на увеличенной выборке и взвешанных классах модели случайный лес:\", f1_score(target_valid, predicted_valid)) #вычислим f1\n",
    "\n",
    "#AUC-ROC\n",
    "probabilities_valid = model.predict_proba(features_valid[numeric])\n",
    "probabilities_one_valid = probabilities_valid[:, 1]\n",
    "auc_roc = roc_auc_score(target_valid, probabilities_one_valid)\n",
    "print('AUC-ROC модели случайный лес:', auc_roc)\n",
    "\n",
    "#Построим график AUC-ROC\n",
    "plt.figure()\n",
    "plt.plot(fpr, tpr)\n",
    "\n",
    "#ROC-кривая случайной модели (выглядит как прямая)\n",
    "plt.plot([0, 1], [0, 1], linestyle='--')\n",
    "\n",
    "#Примените функции plt.xlim() и plt.ylim(), чтобы установить границы осей от 0 до 1 \n",
    "plt.xlim([0.0, 1.0])\n",
    "plt.ylim([0.0, 1.0])\n",
    "\n",
    "#Примените функции plt.xlabel() и plt.ylabel(), чтобы одписать оси \"False Positive Rate\" и \"True Positive Rate\" \n",
    "plt.xlabel('False Positive Rate')\n",
    "plt.ylabel('True Positive Rate')\n",
    "\n",
    "#Добавим к графику заголовок \"ROC-кривая\" функцией plt.title() >\n",
    "plt.title('ROC-кривая')\n",
    "plt.show()"
   ]
  },
  {
   "cell_type": "markdown",
   "metadata": {},
   "source": [
    "# 3.9 Вывод:"
   ]
  },
  {
   "cell_type": "markdown",
   "metadata": {},
   "source": [
    "Для борьбы с дисбалансом были применены методы взешивание классов и увеличение выборки. \n",
    "\n",
    "Для модели логистическая регрессия получили следущие результаты f1:\n",
    "\n",
    "Взвешивание классов - 0.45654082528533807\n",
    "\n",
    "Увеличение выборки - 0.39300847457627114\n",
    "\n",
    "Взвешиваение классов совместно с увеличением выборки - 0.45654082528533807\n",
    "\n",
    "Для модели случайный лес получили следущие результаты:\n",
    "\n",
    "Взвешивание классов - 0.5431472081218274\n",
    "\n",
    "Увеличение выборки - 0.4907183212267958\n",
    "\n",
    "Взвешиваение классов совместно с увеличением выборки - 0.5519630484988453\n",
    "\n",
    "Для логистической регрессии и случайного леса взвешивание классов дает больший прирост значения f1. Но еще больший прирост дает совместное использование методов взвешивания классов и увеличение выборки."
   ]
  },
  {
   "cell_type": "markdown",
   "metadata": {},
   "source": [
    "# 4. Тестирование модели"
   ]
  },
  {
   "cell_type": "markdown",
   "metadata": {},
   "source": [
    "# 4.1 Тестирование логистической регрессии с использованием увеличенной выборки и взвешанных классов"
   ]
  },
  {
   "cell_type": "code",
   "execution_count": 17,
   "metadata": {},
   "outputs": [
    {
     "name": "stdout",
     "output_type": "stream",
     "text": [
      "f1_score на увеличенной выборке и взвешанных классах логистической регрессии: 0.46829268292682924\n"
     ]
    }
   ],
   "source": [
    "#Проверим модель линейной регрессии с увеличенной выборкой и взвешаных классах на тестовой выборке\n",
    "model = LogisticRegression(random_state = 12345, solver='liblinear', class_weight='balanced')\n",
    "model.fit(features_upsampled_ohe, target_upsampled_ohe) #обучим модель на увеличенной выборке\n",
    "predicted_test_ohe = model.predict(features_test_ohe[numeric]) #предскажем на валидационной выборке\n",
    "print('f1_score на увеличенной выборке и взвешанных классах логистической регрессии:', f1_score(target_test_ohe, predicted_test_ohe)) #вычислим f1"
   ]
  },
  {
   "cell_type": "markdown",
   "metadata": {},
   "source": [
    "# 4.2 AUC-ROC для логистической регрессии"
   ]
  },
  {
   "cell_type": "code",
   "execution_count": 18,
   "metadata": {},
   "outputs": [
    {
     "name": "stdout",
     "output_type": "stream",
     "text": [
      "AUC-ROC логистической регрессии: 0.7525126406927783\n"
     ]
    },
    {
     "data": {
      "image/png": "[encoded data removed]",
      "text/plain": [
       "<Figure size 432x288 with 1 Axes>"
      ]
     },
     "metadata": {
      "needs_background": "light"
     },
     "output_type": "display_data"
    }
   ],
   "source": [
    "#Вычисллим AUC-ROC\n",
    "probabilities_valid_ohe = model.predict_proba(features_valid_ohe[numeric])\n",
    "probabilities_one_valid_ohe = probabilities_valid_ohe[:, 1]\n",
    "auc_roc = roc_auc_score(target_valid_ohe, probabilities_one_valid_ohe)\n",
    "print('AUC-ROC логистической регрессии:', auc_roc)\n",
    "\n",
    "fpr, tpr, thresholds = roc_curve(target_valid_ohe, probabilities_one_valid) \n",
    "\n",
    "#Построим график AUC-ROC\n",
    "plt.figure()\n",
    "plt.plot(fpr, tpr)\n",
    "\n",
    "#ROC-кривая случайной модели (выглядит как прямая)\n",
    "plt.plot([0, 1], [0, 1], linestyle='--')\n",
    "\n",
    "#Примените функции plt.xlim() и plt.ylim(), чтобы установить границы осей от 0 до 1 \n",
    "plt.xlim([0.0, 1.0])\n",
    "plt.ylim([0.0, 1.0])\n",
    "\n",
    "#Примените функции plt.xlabel() и plt.ylabel(), чтобы одписать оси \"False Positive Rate\" и \"True Positive Rate\" \n",
    "plt.xlabel('False Positive Rate')\n",
    "plt.ylabel('True Positive Rate')\n",
    "\n",
    "#Добавим к графику заголовок \"ROC-кривая\" функцией plt.title() >\n",
    "plt.title('ROC-кривая')\n",
    "plt.show()"
   ]
  },
  {
   "cell_type": "markdown",
   "metadata": {},
   "source": [
    "# 4.3 Тестирование модели случайный лес с использованием увеличенной выборки и взвешанных классов."
   ]
  },
  {
   "cell_type": "code",
   "execution_count": 19,
   "metadata": {},
   "outputs": [
    {
     "name": "stdout",
     "output_type": "stream",
     "text": [
      "F1_score модели случайный лес на тестовой выборке: 0.6091586794462195\n"
     ]
    }
   ],
   "source": [
    "#Проверим модель случайный лес с увеличенной выборкой и взвешаных классах на тестовой выборке\n",
    "model = RandomForestClassifier(random_state=12345, max_depth=11, n_estimators=27, criterion = 'entropy', min_samples_split=3, min_samples_leaf=1, class_weight='balanced') #установим гиперпараметры\n",
    "model.fit(features_upsampled, target_upsampled) #обучим модель на тренировочной выборке\n",
    "predicted_test = model.predict(features_test[numeric]) #предскажем на тестовой выборке\n",
    "print(\"F1_score модели случайный лес на тестовой выборке:\", f1_score(target_test, predicted_test)) #вычислим f1"
   ]
  },
  {
   "cell_type": "markdown",
   "metadata": {},
   "source": [
    "# 4.4 AUC-ROC для модели случайный лес"
   ]
  },
  {
   "cell_type": "code",
   "execution_count": 20,
   "metadata": {},
   "outputs": [
    {
     "name": "stdout",
     "output_type": "stream",
     "text": [
      "AUC-ROC модели случайный лес: 0.832561884158641\n"
     ]
    },
    {
     "data": {
      "image/png": "[encoded data removed]",
      "text/plain": [
       "<Figure size 432x288 with 1 Axes>"
      ]
     },
     "metadata": {
      "needs_background": "light"
     },
     "output_type": "display_data"
    }
   ],
   "source": [
    "#AUC-ROC\n",
    "probabilities_valid = model.predict_proba(features_valid[numeric])\n",
    "probabilities_one_valid = probabilities_valid[:, 1]\n",
    "auc_roc = roc_auc_score(target_valid, probabilities_one_valid)\n",
    "print('AUC-ROC модели случайный лес:', auc_roc)\n",
    "\n",
    "#Построим график AUC-ROC\n",
    "plt.figure()\n",
    "plt.plot(fpr, tpr)\n",
    "\n",
    "#ROC-кривая случайной модели (выглядит как прямая)\n",
    "plt.plot([0, 1], [0, 1], linestyle='--')\n",
    "\n",
    "#Примените функции plt.xlim() и plt.ylim(), чтобы установить границы осей от 0 до 1 \n",
    "plt.xlim([0.0, 1.0])\n",
    "plt.ylim([0.0, 1.0])\n",
    "\n",
    "#Примените функции plt.xlabel() и plt.ylabel(), чтобы одписать оси \"False Positive Rate\" и \"True Positive Rate\" \n",
    "plt.xlabel('False Positive Rate')\n",
    "plt.ylabel('True Positive Rate')\n",
    "\n",
    "#Добавим к графику заголовок \"ROC-кривая\" функцией plt.title() >\n",
    "plt.title('ROC-кривая')\n",
    "plt.show()"
   ]
  },
  {
   "cell_type": "markdown",
   "metadata": {},
   "source": [
    "# 4.5 Вывод:"
   ]
  },
  {
   "cell_type": "markdown",
   "metadata": {},
   "source": [
    "С помощью модели случаный лес с использованием масштабирования, увеличения выборки и взвешивания классов при max_depth=11 и  n_estimators=27 удалось достичь значения f1 равное 0.6091586794462195 и AUC-ROC = 0.832561884158641. При тестирование модели логистической регрессии с использованием увеличенной выборки и взвешанных классов удалось достичь значения f1=0.46829268292682924 и AUC-ROC = 0.7525126406927783. Делаем вывод, что для решения текущего задчи логистическая регрессия не подходит."
   ]
  },
  {
   "cell_type": "markdown",
   "metadata": {},
   "source": [
    "# Чек-лист готовности проекта"
   ]
  },
  {
   "cell_type": "markdown",
   "metadata": {},
   "source": [
    "Поставьте 'x' в выполненных пунктах. Далее нажмите Shift+Enter."
   ]
  },
  {
   "cell_type": "markdown",
   "metadata": {},
   "source": [
    "- [x]  Jupyter Notebook открыт\n",
    "- [x]  Весь код выполняется без ошибок\n",
    "- [x]  Ячейки с кодом расположены в порядке исполнения\n",
    "- [x]  Выполнен шаг 1: данные подготовлены\n",
    "- [x]  Выполнен шаг 2: задача исследована\n",
    "    - [x]  Исследован баланс классов\n",
    "    - [x]  Изучены модели без учёта дисбаланса\n",
    "    - [x]  Написаны выводы по результатам исследования\n",
    "- [x]  Выполнен шаг 3: учтён дисбаланс\n",
    "    - [x]  Применено несколько способов борьбы с дисбалансом\n",
    "    - [x]  Написаны выводы по результатам исследования\n",
    "- [x]  Выполнен шаг 4: проведено тестирование\n",
    "- [x]  Удалось достичь *F1*-меры не менее 0.59\n",
    "- [x]  Исследована метрика *AUC-ROC*"
   ]
  },
  {
   "cell_type": "code",
   "execution_count": null,
   "metadata": {},
   "outputs": [],
   "source": []
  }
 ],
 "metadata": {
  "kernelspec": {
   "display_name": "Python 3",
   "language": "python",
   "name": "python3"
  },
  "language_info": {
   "codemirror_mode": {
    "name": "ipython",
    "version": 3
   },
   "file_extension": ".py",
   "mimetype": "text/x-python",
   "name": "python",
   "nbconvert_exporter": "python",
   "pygments_lexer": "ipython3",
   "version": "3.7.8"
  },
  "toc": {
   "base_numbering": 1,
   "nav_menu": {},
   "number_sections": true,
   "sideBar": true,
   "skip_h1_title": true,
   "title_cell": "Table of Contents",
   "title_sidebar": "Contents",
   "toc_cell": false,
   "toc_position": {},
   "toc_section_display": true,
   "toc_window_display": false
  }
 },
 "nbformat": 4,
 "nbformat_minor": 2
}
